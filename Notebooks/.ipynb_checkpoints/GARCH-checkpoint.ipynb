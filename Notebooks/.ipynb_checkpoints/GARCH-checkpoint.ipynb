{
 "cells": [
  {
   "cell_type": "markdown",
   "metadata": {},
   "source": [
    "# 2. MODELOS GARCH UNIVARIANTES"
   ]
  },
  {
   "cell_type": "code",
   "execution_count": 8,
   "metadata": {},
   "outputs": [],
   "source": [
    "setwd(\"C:/Users/oscar/OneDrive/Escritorio/AST\")"
   ]
  },
  {
   "cell_type": "markdown",
   "metadata": {},
   "source": [
    "Muchas veces no nos interesa solamente pronostícar una serie de tiempo en sí, sino su volatilidad también. Un gran ejemplo de ello es el retorno de un activo financiero. Los inversionistas no sólo están interesados en pronosticar el retorno del activo sino tambien su volatilidad que es una medida de riesgo. En este capitulo estudiaremos modelos que nos permiten pronosticar esta volatilidad."
   ]
  },
  {
   "cell_type": "markdown",
   "metadata": {},
   "source": [
    "### 2.1 Modelo ARCH(m)\n",
    "\n",
    "Sea el modelo AR(1):\n",
    "\n",
    "$$Y_t = c + \\phi Y_{t - 1} + u_t$$\n",
    "\n",
    "donde $u_t$ es el error de pronóstico para $t$ y es ruido blanco; es decir:\n",
    "\n",
    "$$u_t = Y_t - E_{t - 1}[Y_t]$$\n",
    "\n",
    "$E_{t - 1}[Y_t] = c + \\phi Y_{t - 1}$ es la media condicional de $Y_t$ en base a información hasta $t - 1$ y es el pronóstico que tenemos de la variable.\n",
    "\n",
    "Habiámos mencionado que si $|\\phi| < 1$ el modelo AR(1) es estacionario con media no-condicional $\\mu = \\frac{c}{1 - \\phi}$ y varianza no condicional $\\gamma_0 = \\frac{\\sigma^2}{1 - \\phi^2}$. Si bien estos dos términos son constantes para el proceso AR(1), la  media y varianza condicional no lo son (ya lo vimos en el caso de la media condicional). La varianza condicional vendría dada por:\n",
    "\n",
    "$$Var_{t - 1}(Y_t) = E_{t - 1}[Y_t - c - Y_{t - 1}]^2 = E_{t - 1}(u^2_t)$$\n",
    "\n",
    "Si asumimos que $u^2_t$ sigue un proceso AR(m):\n",
    "\n",
    "$$u^2_t = \\zeta + \\alpha_1 u^2_{t - 1} + \\alpha_2 u^2_{t - 2} + \\dots + \\alpha_m u^2_{t - m} + w_t$$\n",
    "\n",
    "donde $w_t$ es otro proceso ruido blanco. La varianza condicional de $Y_t$ vendría dada por:\n",
    "\n",
    "$$Var_{t - 1}(Y_t) = \\zeta + \\alpha_1 u^2_{t - 1} + \\alpha_2 u^2_{t - 2} + \\dots + \\alpha_m u^2_{t - m}$$\n",
    "\n",
    "como la varianza condicional no es constante decimos que es heteroscedástica y que sigue un proceso AR(m). En resumen, la varianza condicional sigue un proceso ARCH(m).\n",
    "\n"
   ]
  },
  {
   "cell_type": "markdown",
   "metadata": {},
   "source": [
    "Para que el proceso $u^2_t$ sea estacionario, todas las raices del polinomio $1 - \\alpha_1 z - \\alpha_2 z^2 - \\dots - \\alpha_m z^m = 0$ deben estar fuera del círculo unitario. Adicionalmente la varianza condicional debe ser positiva por lo que se requiere que $\\zeta > 0$ y $\\alpha_i \\geq 0$ para $i = 1, \\dots, m$. Esto último es equivalente a que:\n",
    "\n",
    "$$\\alpha_1 + \\alpha_2 + \\dots + \\alpha_m < 1$$. Con esto, la varianza incondicional de $u_t$ está dada por:\n",
    "\n",
    "$$\\sigma^2 = E(u^2_t) = \\frac{\\zeta}{1 - \\alpha_1 - \\alpha_2 - \\alpha_m}$$\n",
    "\n",
    "y la varianza incondicional de $Y_t$ sería:\n",
    "\n",
    "$$\\gamma_0 = \\frac{\\zeta}{(1 - \\phi^2)(1 - \\alpha_1 - \\alpha_2 -\\dots - \\alpha_m)}$$.\n",
    "\n",
    "Engle(1982) propuso la siguiente especificación para el proceso $u_t$:\n",
    "\n",
    "$$u_t = \\nu_t\\sqrt{h_t}$$\n",
    "\n",
    "donde $\\nu_t$ es un proceso i.i.d con $E(\\nu_t) = 0$ y $E(\\nu^2_t) = 1$. Además:\n",
    "\n",
    "$$h_t = \\zeta + \\alpha_1 u^2_{t - 1} + \\alpha_2 u^2_{t - 2} + \\dots + \\alpha_m u^2_{t - m}$$\n",
    "\n",
    "Esta es la manera en que se representa el modelo ARCH(m).\n",
    "\n",
    "Podemos comparar la diferencia entre un modelo AR(1) y un modelo AR(1) - ARCH(1).\n",
    "\n",
    "Sea el modelo AR(1):\n",
    "\n",
    "$$Y_t = 0.85 Y_{t - 1} + u_t$$\n",
    "\n",
    "Sea el modelo AR(1) - ARCH(1):\n",
    "\n",
    "$$Y_t = 0.85 Y_{t - 1} + u_t$$\n",
    "\n",
    "$$u_t = \\nu_t \\sqrt{h_t}$$\n",
    "\n",
    "$$h_t = 1.5 + 0.4 u^2_{t - 1}$$\n",
    "\n",
    "Empezamos con el modelo AR(1):"
   ]
  },
  {
   "cell_type": "code",
   "execution_count": 9,
   "metadata": {},
   "outputs": [],
   "source": [
    "set.seed(12345)\n",
    "u_1 <- rnorm(500)\n",
    "y_1 <- rep(0, 500)\n",
    "y_1[1] <- 1\n",
    "for (i in 2:500) {\n",
    "    y_1[i] <- 0.85 * y_1[i - 1] + u_1[i] \n",
    "}"
   ]
  },
  {
   "cell_type": "markdown",
   "metadata": {},
   "source": [
    "Ahora el modelo AR(1)-ARCH(1):"
   ]
  },
  {
   "cell_type": "code",
   "execution_count": 10,
   "metadata": {},
   "outputs": [],
   "source": [
    "u_2 <- rep(0, 500)\n",
    "u_2[i] <- rnorm(1)\n",
    "v <- rnorm(500)\n",
    "h <- rep(0, 500)\n",
    "y_2 <- rep(0, 500)\n",
    "y_2[1] <- 1\n",
    "for (i in 2:500) {\n",
    "    h[i] <- 1.5 + 0.4 * u_2[i - 1]^2\n",
    "    u_2[i] <- v[i] * sqrt(h[i])\n",
    "    y_2[i] <- 0.85 * y_2[i - 1] + u_2[i]\n",
    "}"
   ]
  },
  {
   "cell_type": "markdown",
   "metadata": {},
   "source": [
    "Comparamos ambos procesos:"
   ]
  },
  {
   "cell_type": "code",
   "execution_count": 11,
   "metadata": {},
   "outputs": [
    {
     "data": {
      "image/png": "[encoded data removed]",
      "text/plain": [
       "plot without title"
      ]
     },
     "metadata": {
      "image/png": {
       "height": 420,
       "width": 420
      }
     },
     "output_type": "display_data"
    }
   ],
   "source": [
    "datos_sim <- data.frame(t = 1:100, y_1 = y_1[401:500], y_2 = y_2[401:500])\n",
    "library(ggplot2)\n",
    "g <- ggplot(data = datos_sim, aes(x = t))\n",
    "g + geom_line(aes(y = y_1)) + geom_line(aes(y = y_2), color = \"red\")"
   ]
  },
  {
   "cell_type": "markdown",
   "metadata": {},
   "source": [
    "Hay diferencia entre ambos procesos, siendo el proceso AR(1) - ARCH(1) el más volátil."
   ]
  },
  {
   "cell_type": "markdown",
   "metadata": {},
   "source": [
    "### 2.2 Modelo GARCH(r, m)\n",
    "\n",
    "Supongamos que $Y_t$ tiene un proceso ARCH($\\infty$), entonces:\n",
    "\n",
    "$$h_t = \\zeta + \\sum^\\infty_{j = 1}\\pi_j L^j u^2_t$$"
   ]
  },
  {
   "cell_type": "markdown",
   "metadata": {},
   "source": [
    "Sabemos por el estudio de los modelos MA($\\infty$) que el polinomio $\\pi(L) = \\sum^\\infty_{j = 1}\\pi_j L^j$ puede ser escrito por el cociente de dos polinomios de orden finito, entonces:\n",
    "\n",
    "$$\\pi(L) = \\frac{\\alpha(L)}{\\delta(L)} = \\frac{\\alpha_1 L + \\alpha_2 L^2 + \\dots + \\alpha_m L^m}{1 - \\delta_1 L - \\delta_2 L^2 - \\dots - \\delta_r L^r}$$ "
   ]
  },
  {
   "cell_type": "markdown",
   "metadata": {},
   "source": [
    "Así tendríamos que:\n",
    "\n",
    "$$h_t = \\kappa + \\delta_1 h_{t - 1} + \\delta_2 h_{t - 2} + \\dots + \\delta_r h_{t - r} + \\alpha_1 u^2_{t - 1} + \\alpha_2 u^2_{t - 2} + \\dots + \\alpha_m u^2_{t - m}$$\n",
    "\n",
    "donde $\\kappa = \\zeta(1 - \\delta_1 - \\delta_2 - \\dots - \\delta_r)$. Si la varianza condicional de $Y_t$ sigue este proceso se dice que sigue el proceso GARCH(r, m)."
   ]
  },
  {
   "cell_type": "markdown",
   "metadata": {},
   "source": [
    "Uno estaría tentado a ver la analogía directa del proceso GARCH(r, m) con un ARMA(r, m) pero no es tanto así porque $u^2_t$ no es un proceso ruido blanco. Para ver la representación ARMA hay que añadir $u^2_t$ a ambos lados de la ecuación y reescribirla:\n",
    "\n",
    "$$h_t + u^2_t = \\kappa - \\delta_1(u^2_{t - 1} - h_{t - 1}) - \\delta_2(u^2_{t - 2} - h_{t - 2}) - \\dots - \\delta_r(u^2_{t - r} - h_{t - r} + (\\alpha_1 + \\delta_1) u^2_{t - 1} + (\\alpha_2 + \\delta_2) u^2_{t - 2} + \\dots + (\\alpha_p + \\delta_p) u^2_{t - p} + u^2_t$$"
   ]
  },
  {
   "cell_type": "markdown",
   "metadata": {},
   "source": [
    "donde $p = \\max(m, r)$. Los valores entre paréntesis son ruido blanco ya que es la diferencia entre la varianza condicional observada y su pronóstico. Por lo tanto:\n",
    "\n",
    "$$u^2_t = \\kappa + (\\alpha_1 + \\delta_1) u^2_{t - 1} + (\\alpha_2 + \\delta_2)u^2_{t - 2} + \\dots + (\\alpha_p + \\delta_p) u^2_{t - p} + w_t - \\delta_1 w_{t - 1} - \\delta_2 w_{t - 2} - \\dots - \\delta_r w_{t - r}$$ "
   ]
  },
  {
   "cell_type": "markdown",
   "metadata": {},
   "source": [
    "Entonces hemos reescrito el proceso GARCH(r.m) como un proceso ARMA(p, r). La varianza condicional será positiva siempre y cuando $\\kappa > 0$ y $\\alpha_i \\geq 0$ y $\\delta_i \\geq 0$ para $i = 1, \\dots, p$. Observando el proceso ARMA(p, r), la estacionariedad está garantizada si las raíces del polinomio carcaterístico:\n",
    "\n",
    "$$ 1 - (\\alpha_1 + \\delta_1)z - (\\alpha_2 + \\delta_2)z^2 - \\dots - (\\alpha_p + \\delta_p)z^p = 0 $$\n",
    "\n",
    "están fuera del círculo unitario. Con la no-negatividad de los coeficientes, la condición de estacionariedad se resume a:\n",
    "\n",
    "$$(\\alpha_1 + \\delta_1) + (\\alpha_2 + \\delta_2) + \\dots + (\\alpha_p + \\delta_p) < 1$$"
   ]
  },
  {
   "cell_type": "markdown",
   "metadata": {},
   "source": [
    "Dado que el proceso GARCH(r, m) puede ser representado por un proceso ARMA(p, r) podemos utilizar la ACF para identificar el orden r y la PACF para identificar el orden m si $m \\geq r$.\n"
   ]
  },
  {
   "cell_type": "markdown",
   "metadata": {},
   "source": [
    "Adicionalmente podemos utilizar el siguiente procedimiento para identificar el orden m:\n",
    "\n",
    "1. Estimar el model ARMA más idóneo para $Y_t$ y obtener los residuos $\\hat{u}_t$.\n",
    "2. Efectuar la regresión:\n",
    "$$\\hat{u}^2_t = \\alpha_0 + \\alpha_1 \\hat{u}^2_{t - 1} + \\alpha_2 \\hat{u}^2_{t - 2} + \\dots + \\alpha_m \\hat{u}^2_{t - m} + v_t$$\n",
    "3. Calcular el estadístico $TR^2$ que sigue una distribución $\\chi^2$ con $m$ grados de libertad. La hipótesis nula es que no hay componente $m$ en el modelo GARCH."
   ]
  },
  {
   "cell_type": "markdown",
   "metadata": {},
   "source": [
    "Podemos ilustrar esto con un modelo AR(1) - GARCH(1, 1):\n",
    "\n",
    "$$Y_t = 0.75 Y_{t - 1} + u_t$$\n",
    "$$u_t = \\nu_t \\sqrt{h_t} $$\n",
    "$$h_t = 1.3 + 0.3 h_{t - 1} + 0.4 u^2_{t - 1}$$\n"
   ]
  },
  {
   "cell_type": "code",
   "execution_count": 12,
   "metadata": {},
   "outputs": [],
   "source": [
    "set.seed(12345)\n",
    "u <- rep(0, 500)\n",
    "u[1] <- rnorm(1)\n",
    "v <- rnorm(500)\n",
    "h <- rep(0, 500)\n",
    "h[1] <- 1\n",
    "y <- rep(0, 500)\n",
    "y[1] <- 1\n",
    "for (i in 2:500) {\n",
    "    h[i] <- 1.3 + 0.3 * h[i - 1] + 0.4 * u[i - 1]^2\n",
    "    u[i] <- v[i] * sqrt(h[i])\n",
    "    y[i] <- 0.75 * y[i - 1] + u[i]\n",
    "}"
   ]
  },
  {
   "cell_type": "markdown",
   "metadata": {},
   "source": [
    "Analizamos si $\\hat{u}^2_t$ siguen un modelo GARCH(1, 1):"
   ]
  },
  {
   "cell_type": "code",
   "execution_count": 13,
   "metadata": {},
   "outputs": [
    {
     "data": {
      "image/png": "[encoded data removed]",
      "text/plain": [
       "Plot with title \"ACF u^2_t Modelo AR(1)\""
      ]
     },
     "metadata": {
      "image/png": {
       "height": 420,
       "width": 420
      }
     },
     "output_type": "display_data"
    }
   ],
   "source": [
    "ar1_mod <- arima(y[401:500], order = c(1, 0, 0), method = \"CSS\", include.mean = FALSE)\n",
    "acf(ar1_mod$residuals^2, lag.max = 20, main = \"ACF u^2_t Modelo AR(1)\")"
   ]
  },
  {
   "cell_type": "code",
   "execution_count": 14,
   "metadata": {},
   "outputs": [
    {
     "data": {
      "image/png": "[encoded data removed]",
      "text/plain": [
       "Plot with title \"PACF de u^2_t del modelo AR(1)\""
      ]
     },
     "metadata": {
      "image/png": {
       "height": 420,
       "width": 420
      }
     },
     "output_type": "display_data"
    }
   ],
   "source": [
    "pacf(ar1_mod$residuals^2, lag.max = 20, main = \"PACF de u^2_t del modelo AR(1)\")"
   ]
  },
  {
   "cell_type": "markdown",
   "metadata": {},
   "source": [
    "La ACF y PACF apuntan a un modelo GARCH(2, 2) lo cual muestra que los métodos ACF y PACF no son perfectos en la detección del verdadero orden de un modelo GARCH y también ARMA; sin embargo, el resultado tampoco está muy alejado del deseado GARCH(1, 1)."
   ]
  },
  {
   "cell_type": "markdown",
   "metadata": {},
   "source": [
    "### 3.3 Estimación"
   ]
  },
  {
   "cell_type": "markdown",
   "metadata": {},
   "source": [
    "La estimación de los modelos ARMA(p, q) - GARCH(r, m) es en forma conjunta. No se estima primero el componente ARMA y luego el GARCH. La estimación es a través de maxima verosimilitud. Consideramos el ejemplo de un modelo AR(1) - GARCH(1, 1):\n",
    "\n",
    "$$Y_t = c + \\phi Y_{t - 1} + u_t$$\n",
    "$$u_t = \\nu_t \\sqrt{h_t}$$\n",
    "$$h_t = \\kappa + \\delta_1 h_{t - 1} + \\alpha_1 u^2_{t - 1}$$\n",
    "\n",
    "Se considera que $\\nu_t \\sim N(0, 1)$ entonces $u_t$ tambien sigue una distribución normal y tambien $Y_t$. Tomemos el caso de la observación $y_2$:\n",
    "\n",
    "$$f_{Y_2 | Y_1}(y_2 | y_1; \\Theta) = \\frac{1}{\\sqrt{2 \\pi h_2}} \\exp\\left(-\\frac{(y_2 - c - \\phi y_1)^2}{2 h_2} \\right)$$\n",
    "\n",
    "Si consideramos la observarción $y_3$; entonces la función de densidad conjunta viene dada:\n",
    "\n",
    "$$f_{Y_3, Y_2 | Y_1}(y_3, y_2 | y_1; \\Theta) = f_{Y_3 | Y_2}(y_3 | y_2; \\Theta) \\times f_{Y_2 | Y_1}(y_2 | y_1; \\Theta)$$"
   ]
  },
  {
   "cell_type": "markdown",
   "metadata": {},
   "source": [
    "Para el caso más general:\n",
    "\n",
    "$$f_{Y_t | Y_{t - 1}}(y_t | y_{t - 1}; \\Theta) = \\frac{1}{\\sqrt{2 \\pi h_t}}\\exp\\left(-\\frac{y_t - c - \\phi y_{t - 1}}{2 h_t}\\right)$$\n",
    "\n",
    "La función de verosimilitud sería:\n",
    "$$f_{Y_T, Y_{T - 1}, \\dots, Y_2 | Y_1}(y_T, y_{T - 1}, \\dots, y_2 | y_1; \\Theta) = \\prod^T_{t = 2} f_{Y_t | Y_{t - 1}}(y_t | y_{t - 1}; \\Theta)$$\n",
    "\n",
    "Finalmente la función de verosimilitud en logaritmos sería:\n",
    "\n",
    "$$\\log f_{Y_T, Y_{T - 1}, \\dots, Y_2 | Y_1}(y_T, y_{T - 1}, \\dots, y_2 | y_1; \\Theta) = -\\frac{T - 1}{2}\\log(2 \\pi) - \\frac{1}{2}\\sum^T_{t = 2}\\log(h_t) - \\frac{1}{2}\\sum^T_{t = 2}\\left(\\frac{(y_t - c - \\phi y_{t - 1})}{h_t}\\right)$$"
   ]
  },
  {
   "cell_type": "markdown",
   "metadata": {},
   "source": [
    "Esta es la función que se busca maximizar. Es necesario incluir la restricción que $\\kappa > 0$ y $0 \\leq \\alpha_1 + \\delta_1 < 1$. \n",
    "\n",
    "Tambien pude darse el caso que no se desee utilizar la distribución normal sino una donde los eventos extremos sean más probables. Es posible por ejemplo asumir que $\\nu_t$ sigue una distribución $t$ con $\\nu$ grados de libertad. Esto ya lo veremos en seguida en el ejemplo.\n",
    "\n",
    "Consideremos para el ejemplo un modelo AR(1) - GARCH(1, 1):\n",
    "\n",
    "$$Y_t = 0.55 Y_{t - 1} + u_t$$\n",
    "$$u_t = \\nu_t\\sqrt{h_t}$$\n",
    "$$h_t = 1.1 + 0.2 h_{t - 1} + 0.7 u^2_{t - 1}$$"
   ]
  },
  {
   "cell_type": "code",
   "execution_count": 15,
   "metadata": {},
   "outputs": [],
   "source": [
    "set.seed(12345)\n",
    "u <- rep(0, 500)\n",
    "u[1] <- rnorm(1); v <- rnorm(500); h <- rep(0, 500)\n",
    "h[1] <- 1; y <- rep(0, 500); y[1] <- 1\n",
    "for (i in 2:500) {\n",
    "    h[i] <- 1.1 + 0.2 * h[i - 1] + 0.7 * u[i - 1]^2\n",
    "    u[i] <- v[i] * sqrt(h[i])\n",
    "    y[i] <- 0.55 * y[i - 1] + u[i]\n",
    "}"
   ]
  },
  {
   "cell_type": "code",
   "execution_count": 16,
   "metadata": {},
   "outputs": [],
   "source": [
    "# install.packages(\"rugarch\")"
   ]
  },
  {
   "cell_type": "code",
   "execution_count": 17,
   "metadata": {},
   "outputs": [
    {
     "name": "stderr",
     "output_type": "stream",
     "text": [
      "Loading required package: parallel\n",
      "\n",
      "\n",
      "Attaching package: 'rugarch'\n",
      "\n",
      "\n",
      "The following object is masked from 'package:stats':\n",
      "\n",
      "    sigma\n",
      "\n",
      "\n"
     ]
    }
   ],
   "source": [
    "library(rugarch)"
   ]
  },
  {
   "cell_type": "code",
   "execution_count": 18,
   "metadata": {},
   "outputs": [],
   "source": [
    "mod_spec <- ugarchspec(variance.model = list(model = \"sGARCH\", garchOrder = c(1, 1)), \n",
    "                       mean.model = list(armaOrder = c(1, 0), include.mean = FALSE), distribution.model = \"norm\")"
   ]
  },
  {
   "cell_type": "code",
   "execution_count": 19,
   "metadata": {},
   "outputs": [],
   "source": [
    "argarch_mod <- ugarchfit(spec = mod_spec, data = y[401:500], fit.control = list(stationarity = 1))"
   ]
  },
  {
   "cell_type": "code",
   "execution_count": 20,
   "metadata": {},
   "outputs": [
    {
     "name": "stdout",
     "output_type": "stream",
     "text": [
      "\n",
      "*---------------------------------*\n",
      "*          GARCH Model Fit        *\n",
      "*---------------------------------*\n",
      "\n",
      "Conditional Variance Dynamics \t\n",
      "-----------------------------------\n",
      "GARCH Model\t: sGARCH(1,1)\n",
      "Mean Model\t: ARFIMA(1,0,0)\n",
      "Distribution\t: norm \n",
      "\n",
      "Optimal Parameters\n",
      "------------------------------------\n",
      "        Estimate  Std. Error  t value Pr(>|t|)\n",
      "ar1      0.69810    0.089396   7.8091 0.000000\n",
      "omega    0.70439    0.380741   1.8501 0.064305\n",
      "alpha1   0.31163    0.210443   1.4808 0.138650\n",
      "beta1    0.42014    0.194268   2.1627 0.030566\n",
      "\n",
      "Robust Standard Errors:\n",
      "        Estimate  Std. Error  t value Pr(>|t|)\n",
      "ar1      0.69810     0.11224   6.2200 0.000000\n",
      "omega    0.70439     0.24303   2.8983 0.003751\n",
      "alpha1   0.31163     0.18105   1.7213 0.085205\n",
      "beta1    0.42014     0.11970   3.5100 0.000448\n",
      "\n",
      "LogLikelihood : -181.6978 \n",
      "\n",
      "Information Criteria\n",
      "------------------------------------\n",
      "                   \n",
      "Akaike       3.7140\n",
      "Bayes        3.8182\n",
      "Shibata      3.7109\n",
      "Hannan-Quinn 3.7561\n",
      "\n",
      "Weighted Ljung-Box Test on Standardized Residuals\n",
      "------------------------------------\n",
      "                        statistic p-value\n",
      "Lag[1]                     0.4573  0.4989\n",
      "Lag[2*(p+q)+(p+q)-1][2]    1.6220  0.3726\n",
      "Lag[4*(p+q)+(p+q)-1][5]    3.0100  0.4288\n",
      "d.o.f=1\n",
      "H0 : No serial correlation\n",
      "\n",
      "Weighted Ljung-Box Test on Standardized Squared Residuals\n",
      "------------------------------------\n",
      "                        statistic p-value\n",
      "Lag[1]                      1.030  0.3101\n",
      "Lag[2*(p+q)+(p+q)-1][5]     2.507  0.5043\n",
      "Lag[4*(p+q)+(p+q)-1][9]     4.572  0.4948\n",
      "d.o.f=2\n",
      "\n",
      "Weighted ARCH LM Tests\n",
      "------------------------------------\n",
      "            Statistic Shape Scale P-Value\n",
      "ARCH Lag[3]    0.2808 0.500 2.000  0.5962\n",
      "ARCH Lag[5]    1.2947 1.440 1.667  0.6479\n",
      "ARCH Lag[7]    2.7040 2.315 1.543  0.5711\n",
      "\n",
      "Nyblom stability test\n",
      "------------------------------------\n",
      "Joint Statistic:  0.345\n",
      "Individual Statistics:              \n",
      "ar1    0.09329\n",
      "omega  0.14898\n",
      "alpha1 0.07575\n",
      "beta1  0.11030\n",
      "\n",
      "Asymptotic Critical Values (10% 5% 1%)\n",
      "Joint Statistic:     \t 1.07 1.24 1.6\n",
      "Individual Statistic:\t 0.35 0.47 0.75\n",
      "\n",
      "Sign Bias Test\n",
      "------------------------------------\n",
      "                   t-value   prob sig\n",
      "Sign Bias          0.08323 0.9338    \n",
      "Negative Sign Bias 0.23599 0.8140    \n",
      "Positive Sign Bias 0.68034 0.4979    \n",
      "Joint Effect       0.55285 0.9071    \n",
      "\n",
      "\n",
      "Adjusted Pearson Goodness-of-Fit Test:\n",
      "------------------------------------\n",
      "  group statistic p-value(g-1)\n",
      "1    20      12.8       0.8487\n",
      "2    30      23.6       0.7484\n",
      "3    40      32.8       0.7474\n",
      "4    50      37.0       0.8960\n",
      "\n",
      "\n",
      "Elapsed time : 0.39869 \n",
      "\n"
     ]
    }
   ],
   "source": [
    "show(argarch_mod)"
   ]
  },
  {
   "cell_type": "markdown",
   "metadata": {},
   "source": [
    "Los coeficientes estimados están cerca de los valores asumidos. Podemos efectuar el mismo análisis pero considerando una distribución $t$ para las innovaciones $\\nu_t$."
   ]
  },
  {
   "cell_type": "code",
   "execution_count": 21,
   "metadata": {},
   "outputs": [],
   "source": [
    "mod_spec <- ugarchspec(variance.model = list(model = \"sGARCH\", garchOrder = c(1, 1)), \n",
    "                       mean.model = list(armaOrder = c(1, 0), include.mean = FALSE), distribution.model = \"std\")"
   ]
  },
  {
   "cell_type": "code",
   "execution_count": 22,
   "metadata": {},
   "outputs": [],
   "source": [
    "argarch_mod <- ugarchfit(spec = mod_spec, data = y[401:500], fit.control = list(stationarity = 1))"
   ]
  },
  {
   "cell_type": "code",
   "execution_count": 23,
   "metadata": {},
   "outputs": [
    {
     "name": "stdout",
     "output_type": "stream",
     "text": [
      "\n",
      "*---------------------------------*\n",
      "*          GARCH Model Fit        *\n",
      "*---------------------------------*\n",
      "\n",
      "Conditional Variance Dynamics \t\n",
      "-----------------------------------\n",
      "GARCH Model\t: sGARCH(1,1)\n",
      "Mean Model\t: ARFIMA(1,0,0)\n",
      "Distribution\t: std \n",
      "\n",
      "Optimal Parameters\n",
      "------------------------------------\n",
      "        Estimate  Std. Error  t value Pr(>|t|)\n",
      "ar1      0.69682    0.089567   7.7799 0.000000\n",
      "omega    0.70596    0.386086   1.8285 0.067475\n",
      "alpha1   0.31015    0.211510   1.4664 0.142547\n",
      "beta1    0.42211    0.197308   2.1393 0.032409\n",
      "shape   99.99160  283.582154   0.3526 0.724387\n",
      "\n",
      "Robust Standard Errors:\n",
      "        Estimate  Std. Error  t value Pr(>|t|)\n",
      "ar1      0.69682     0.11333   6.1487 0.000000\n",
      "omega    0.70596     0.24339   2.9005 0.003726\n",
      "alpha1   0.31015     0.17964   1.7265 0.084264\n",
      "beta1    0.42211     0.12026   3.5099 0.000448\n",
      "shape   99.99160    44.72871   2.2355 0.025384\n",
      "\n",
      "LogLikelihood : -181.7524 \n",
      "\n",
      "Information Criteria\n",
      "------------------------------------\n",
      "                   \n",
      "Akaike       3.7350\n",
      "Bayes        3.8653\n",
      "Shibata      3.7304\n",
      "Hannan-Quinn 3.7878\n",
      "\n",
      "Weighted Ljung-Box Test on Standardized Residuals\n",
      "------------------------------------\n",
      "                        statistic p-value\n",
      "Lag[1]                     0.4689  0.4935\n",
      "Lag[2*(p+q)+(p+q)-1][2]    1.6169  0.3752\n",
      "Lag[4*(p+q)+(p+q)-1][5]    3.0016  0.4309\n",
      "d.o.f=1\n",
      "H0 : No serial correlation\n",
      "\n",
      "Weighted Ljung-Box Test on Standardized Squared Residuals\n",
      "------------------------------------\n",
      "                        statistic p-value\n",
      "Lag[1]                      1.014  0.3140\n",
      "Lag[2*(p+q)+(p+q)-1][5]     2.488  0.5085\n",
      "Lag[4*(p+q)+(p+q)-1][9]     4.558  0.4970\n",
      "d.o.f=2\n",
      "\n",
      "Weighted ARCH LM Tests\n",
      "------------------------------------\n",
      "            Statistic Shape Scale P-Value\n",
      "ARCH Lag[3]    0.2773 0.500 2.000  0.5985\n",
      "ARCH Lag[5]    1.2860 1.440 1.667  0.6504\n",
      "ARCH Lag[7]    2.6981 2.315 1.543  0.5723\n",
      "\n",
      "Nyblom stability test\n",
      "------------------------------------\n",
      "Joint Statistic:  1.223\n",
      "Individual Statistics:              \n",
      "ar1    0.09273\n",
      "omega  0.15256\n",
      "alpha1 0.07671\n",
      "beta1  0.11301\n",
      "shape  0.75269\n",
      "\n",
      "Asymptotic Critical Values (10% 5% 1%)\n",
      "Joint Statistic:     \t 1.28 1.47 1.88\n",
      "Individual Statistic:\t 0.35 0.47 0.75\n",
      "\n",
      "Sign Bias Test\n",
      "------------------------------------\n",
      "                   t-value   prob sig\n",
      "Sign Bias          0.07523 0.9402    \n",
      "Negative Sign Bias 0.23441 0.8152    \n",
      "Positive Sign Bias 0.66782 0.5059    \n",
      "Joint Effect       0.53683 0.9107    \n",
      "\n",
      "\n",
      "Adjusted Pearson Goodness-of-Fit Test:\n",
      "------------------------------------\n",
      "  group statistic p-value(g-1)\n",
      "1    20      13.6       0.8065\n",
      "2    30      22.4       0.8033\n",
      "3    40      32.0       0.7790\n",
      "4    50      41.0       0.7848\n",
      "\n",
      "\n",
      "Elapsed time : 0.2084472 \n",
      "\n"
     ]
    }
   ],
   "source": [
    "show(argarch_mod)"
   ]
  },
  {
   "cell_type": "markdown",
   "metadata": {},
   "source": [
    "Estima 99 grados de libertad lo cual es mayor que los 30 que generalmente se considera para que la distribución $t$ sea una buena aproximación de la normal. En otras palabras, el supuesto de normalidad de las innovaciones está justificado."
   ]
  },
  {
   "cell_type": "markdown",
   "metadata": {},
   "source": [
    "Una etapa importante después de la estimación del modelo es el diagnóstico de los residuos. Comenzamos verificando si el modelo AR(1) es el adecuado. Lo verificamos con al ACF de los residuos."
   ]
  },
  {
   "cell_type": "code",
   "execution_count": 24,
   "metadata": {},
   "outputs": [
    {
     "data": {
      "image/png": "[encoded data removed]",
      "text/plain": [
       "Plot with title \"ACF residuos AR(1)\""
      ]
     },
     "metadata": {
      "image/png": {
       "height": 420,
       "width": 420
      }
     },
     "output_type": "display_data"
    }
   ],
   "source": [
    "acf(argarch_mod@fit$residuals, lag.max = 20, main = \"ACF residuos AR(1)\")"
   ]
  },
  {
   "cell_type": "markdown",
   "metadata": {},
   "source": [
    "Para evaluar el componente GARCH(1, 1) se obtiene la ACF y PACF de los residuos estandarizados $\\frac{u_t}{\\sqrt{h_t}}$. "
   ]
  },
  {
   "cell_type": "code",
   "execution_count": 25,
   "metadata": {},
   "outputs": [],
   "source": [
    "stand_res <- argarch_mod@fit$residuals / argarch_mod@fit$sigma"
   ]
  },
  {
   "cell_type": "code",
   "execution_count": 26,
   "metadata": {},
   "outputs": [
    {
     "data": {
      "image/png": "[encoded data removed]",
      "text/plain": [
       "Plot with title \"ACF de los residuos estandarizados\""
      ]
     },
     "metadata": {
      "image/png": {
       "height": 420,
       "width": 420
      }
     },
     "output_type": "display_data"
    }
   ],
   "source": [
    "acf(stand_res, lag.max = 20, main = \"ACF de los residuos estandarizados\")"
   ]
  },
  {
   "cell_type": "code",
   "execution_count": 27,
   "metadata": {},
   "outputs": [
    {
     "data": {
      "image/png": "[encoded data removed]",
      "text/plain": [
       "Plot with title \"PACF de los residuos estandarizados\""
      ]
     },
     "metadata": {
      "image/png": {
       "height": 420,
       "width": 420
      }
     },
     "output_type": "display_data"
    }
   ],
   "source": [
    "pacf(stand_res, lag.max = 20, main = \"PACF de los residuos estandarizados\")"
   ]
  },
  {
   "cell_type": "markdown",
   "metadata": {},
   "source": [
    "Estas pruebas pueden complementarse con los Test de Portmanteau."
   ]
  },
  {
   "cell_type": "markdown",
   "metadata": {},
   "source": [
    "### 3.4 Pronóstico con modelos GARCH"
   ]
  },
  {
   "cell_type": "markdown",
   "metadata": {},
   "source": [
    "Tanto los modelos GARCH(r, m) como los modelos ARCH(m) estacionarios, sus pronósticos convergen a la media del proceso. Tomemos como ejemplo el caso de un modelo AR(1) - GARCH(1, 1):\n",
    "\n",
    "$$Y_t = c + \\phi Y_{t - 1} + u_t$$\n",
    "$$u_t = \\nu_t \\sqrt{h_t}$$\n",
    "$$h_t = \\kappa + \\delta_1 h_{t - 1} + \\alpha_1 u^2_{t - 1}$$\n",
    "\n",
    "Entonces el pronóstico $Var_{t + j - 1}(Y_{t + j}) = \\frac{\\kappa}{(1 - \\phi^2)(1 - (\\alpha_1 + \\delta_1))}$ a medida que $j \\to \\infty$. Ilutremos esto con un ejemplo. Sea el modelo AR(1) - GARCH(1, 1):\n",
    "\n",
    "$$Y_t = 1.2 + 0.4 Y_{t - 1} + u_t$$\n",
    "$$u_t = \\nu_t \\sqrt{h_t}$$\n",
    "$$h_t = 0.6 + 0.3 h_{t - 1} + 0.6 u^2_{t - 1}$$"
   ]
  },
  {
   "cell_type": "code",
   "execution_count": 28,
   "metadata": {},
   "outputs": [],
   "source": [
    "set.seed(12345)\n",
    "u <- rep(0, 500)\n",
    "u[1] <- rnorm(1); h <- rep(0, 500); h[1] <- 1\n",
    "v <- rnorm(500); y <- rep(0, 500); y[1] <- 1\n",
    "for (i in 2:500) {\n",
    "    h[i] <- 0.6 + 0.3 * h[i - 1] + 0.6 * u[i - 1]^2\n",
    "    u[i] <- v[i] * sqrt(h[i])\n",
    "    y[i] <- 1.2 + 0.4 * y[i - 1] + u[i]\n",
    "}"
   ]
  },
  {
   "cell_type": "code",
   "execution_count": 29,
   "metadata": {},
   "outputs": [],
   "source": [
    "mod_spec <- ugarchspec(variance.model = list(model = \"sGARCH\", garchOrder = c(1, 1)), \n",
    "                       mean.model = list(armaOrder = c(1, 0), include.mean = TRUE), distribution.model = \"norm\")\n",
    "argarch_mod <- ugarchfit(spec = mod_spec, data = y[401:500], fit.control = list(stationarity = 1))"
   ]
  },
  {
   "cell_type": "code",
   "execution_count": 30,
   "metadata": {},
   "outputs": [
    {
     "data": {
      "text/plain": [
       "\n",
       "*------------------------------------*\n",
       "*       GARCH Model Forecast         *\n",
       "*------------------------------------*\n",
       "Model: sGARCH\n",
       "Horizon: 50\n",
       "Roll Steps: 0\n",
       "Out of Sample: 0\n",
       "\n",
       "0-roll forecast [T0=1970-04-10 20:00:00]:\n",
       "     Series Sigma\n",
       "T+1   1.024 1.111\n",
       "T+2   1.383 1.159\n",
       "T+3   1.574 1.195\n",
       "T+4   1.675 1.223\n",
       "T+5   1.728 1.244\n",
       "T+6   1.757 1.260\n",
       "T+7   1.772 1.272\n",
       "T+8   1.780 1.282\n",
       "T+9   1.784 1.289\n",
       "T+10  1.786 1.295\n",
       "T+11  1.787 1.299\n",
       "T+12  1.788 1.303\n",
       "T+13  1.788 1.305\n",
       "T+14  1.789 1.307\n",
       "T+15  1.789 1.309\n",
       "T+16  1.789 1.310\n",
       "T+17  1.789 1.311\n",
       "T+18  1.789 1.312\n",
       "T+19  1.789 1.313\n",
       "T+20  1.789 1.313\n",
       "T+21  1.789 1.313\n",
       "T+22  1.789 1.314\n",
       "T+23  1.789 1.314\n",
       "T+24  1.789 1.314\n",
       "T+25  1.789 1.314\n",
       "T+26  1.789 1.314\n",
       "T+27  1.789 1.314\n",
       "T+28  1.789 1.314\n",
       "T+29  1.789 1.315\n",
       "T+30  1.789 1.315\n",
       "T+31  1.789 1.315\n",
       "T+32  1.789 1.315\n",
       "T+33  1.789 1.315\n",
       "T+34  1.789 1.315\n",
       "T+35  1.789 1.315\n",
       "T+36  1.789 1.315\n",
       "T+37  1.789 1.315\n",
       "T+38  1.789 1.315\n",
       "T+39  1.789 1.315\n",
       "T+40  1.789 1.315\n",
       "T+41  1.789 1.315\n",
       "T+42  1.789 1.315\n",
       "T+43  1.789 1.315\n",
       "T+44  1.789 1.315\n",
       "T+45  1.789 1.315\n",
       "T+46  1.789 1.315\n",
       "T+47  1.789 1.315\n",
       "T+48  1.789 1.315\n",
       "T+49  1.789 1.315\n",
       "T+50  1.789 1.315\n",
       "\n"
      ]
     },
     "metadata": {},
     "output_type": "display_data"
    }
   ],
   "source": [
    "argarch_for <- ugarchforecast(argarch_mod, n.ahead = 50)\n",
    "argarch_for"
   ]
  },
  {
   "cell_type": "markdown",
   "metadata": {},
   "source": [
    "### 3.5 Modelo GARCH Integrado"
   ]
  },
  {
   "cell_type": "markdown",
   "metadata": {},
   "source": [
    "Mencionamos que el requisito para que el modelo GARCH(r, m) sea estacionario es que:\n",
    "\n",
    "$$\\sum^r_{j = 1} \\delta_j + \\sum^m_{j = 1} \\alpha_m < 1$$\n",
    "\n",
    "Sin embargo, al estimar modelos GARCH es series de tiempo financieras muchas veces esta suma es cercana a 1. Engle y Bollerslev (1986) consideraron un modelo donde se imponga la restricción que:\n",
    "\n",
    "$$\\sum^r_{j = 1} \\delta_j + \\sum^m_{j = 1} \\alpha_m = 1$$\n",
    "\n",
    "LLamando a estos modelos GARCH integrados. Una de las propiedades más importantes de los modelos GARCH integrados es que la varianza no condicional de $u_t$ es infinita, así que ni $u_t$ ni $u^2_t$ satisfacen la definición de procesos estacionarios. Sin embargo, Nelson (1990) mostró que es posible que $u_t$ provenga de un proceso estrictamente estacionario en el sentido que la función de densidad no condicional de $u_t$ es la misma para todo $t$."
   ]
  },
  {
   "cell_type": "markdown",
   "metadata": {},
   "source": [
    "### 3.6 El modelo GARCH exponencial"
   ]
  },
  {
   "cell_type": "markdown",
   "metadata": {},
   "source": [
    "Nelson (1991) propuso el siguiente modelo GARCH exponencial:\n",
    "\n",
    "$$\\log(h_t) = \\zeta + \\sum^\\infty_{j = 1}\\pi_j[|\\nu_{t - j}| - E|\\nu_{t - j}| + \\aleph \\nu_{t - j}]$$"
   ]
  },
  {
   "cell_type": "markdown",
   "metadata": {},
   "source": [
    "Si $\\pi_j < 0$, el modelo de Nelson implica que una desviación de $|\\nu_{t - j}|$ de su valor esperado ocasiona que la varianza de $u_t$ sea mayor (efecto tamaño). El parámetro $\\aleph$ ocasiona que este efecto sea asimétrico. Si $\\aleph = 0$, entonces una sorpresa positiva ($\\nu_{t - j} > 0$) tiene el mismo efecto que una sorpresa negativa de la misma magnitud. Si $-1 < \\aleph < 0$, una sorpresa positiva incrementa la volatilidad menos que una sorpresa negativa. Si $\\aleph < -1$, una sorpresa positiva reduce la volatilidad mientras que una sorpresa negativa incrementa la volatilidad.\n",
    "\n",
    "Mucha investigación en los retornos de acciones a mostrado que sorpresas negativas tienden a incrementar la volatilidad más que las sorpresas positivas. Ya que una cáida en el valor de las acciones incrementa el valor del ratio de apalancamiento, a este efecto de $\\aleph < 0$ se lo conoce como el efecto apalancamiento.\n",
    "\n",
    "Una de las grandes ventajas de este modelo GARCH exponencial o EGARCH como se lo conoce es que no hay que imponer restricciones en los coeficientes estimados para que la varianza condicional sea positiva. El modelo es estacionario siempre y cuando $\\sum^\\infty_{j = 1}\\pi^2_j < \\infty$. \n",
    "\n",
    "Podemos expresar el polinomio $\\sum^\\infty_{j = 1} \\pi_j L^j$ como un ratio de dos polinomios finitos $\\alpha(L)$ y $\\delta(L)$ con lo que el modelo EGARCH quedaría representado por:\n",
    "\n",
    "$$log(h_t) = \\kappa + \\delta_1 \\log(h_{t - 1}) + \\delta_2 \\log(h_{t - 2}) + \\dots + \\delta_r \\log(h_{t - r}) + \\alpha_1[|\\nu_{t - 1}| - E|\\nu_{t - 1}| + \\aleph \\nu_{t - 1}] + \\alpha_2[|\\nu_{t - 2}| - E|\\nu_{t - 2}| + \\aleph \\nu_{t - 2}] + \\dots + \\alpha_m[|\\nu_{t - m}| - E|\\nu_{t - m}| + \\aleph \\nu_{t - m}]$$"
   ]
  },
  {
   "cell_type": "markdown",
   "metadata": {},
   "source": [
    "### 3.7 El modelo GJR-GARCH"
   ]
  },
  {
   "cell_type": "markdown",
   "metadata": {},
   "source": [
    "El modelo GJR-GARCH fue propuesto pro Glosten, Jagannathan y Runkle (1993). Estipula el siguiente modelo:\n",
    "\n",
    "$$h_t = \\kappa + \\delta_1 h_{t - 1} + \\alpha_1 u^2_{t - 1} + \\aleph u^2_{t - 1}I_{t - 1}$$\n",
    "\n",
    "Aqui $I_{t - 1} = 1$ si $u_{t - 1} \\geq 0$ y $I_{t - 1} = 0$ si $u_{t - 1} < 0$. El efecto apalancamiento se manifiesta si $\\aleph < 0$. La condición de varianza condicional positiva se cumple si $\\delta_1 \\geq 0$ y si $\\alpha_1 + \\aleph \\geq 0$."
   ]
  },
  {
   "cell_type": "markdown",
   "metadata": {},
   "source": [
    "### 3.8 Caso de Estudio: Pronóstico para 5 días del retorno del S&P500"
   ]
  },
  {
   "cell_type": "code",
   "execution_count": 31,
   "metadata": {},
   "outputs": [
    {
     "data": {
      "text/html": [
       "<table>\n",
       "<caption>A data.frame: 6 × 9</caption>\n",
       "<thead>\n",
       "\t<tr><th></th><th scope=col>X</th><th scope=col>symbol</th><th scope=col>date</th><th scope=col>open</th><th scope=col>high</th><th scope=col>low</th><th scope=col>close</th><th scope=col>volume</th><th scope=col>adjusted</th></tr>\n",
       "\t<tr><th></th><th scope=col>&lt;int&gt;</th><th scope=col>&lt;chr&gt;</th><th scope=col>&lt;chr&gt;</th><th scope=col>&lt;dbl&gt;</th><th scope=col>&lt;dbl&gt;</th><th scope=col>&lt;dbl&gt;</th><th scope=col>&lt;dbl&gt;</th><th scope=col>&lt;dbl&gt;</th><th scope=col>&lt;dbl&gt;</th></tr>\n",
       "</thead>\n",
       "<tbody>\n",
       "\t<tr><th scope=row>1</th><td>1</td><td>^GSPC</td><td>2011-01-03</td><td>1257.62</td><td>1276.17</td><td>1257.62</td><td>1271.87</td><td>4286670000</td><td>1271.87</td></tr>\n",
       "\t<tr><th scope=row>2</th><td>2</td><td>^GSPC</td><td>2011-01-04</td><td>1272.95</td><td>1274.12</td><td>1262.66</td><td>1270.20</td><td>4796420000</td><td>1270.20</td></tr>\n",
       "\t<tr><th scope=row>3</th><td>3</td><td>^GSPC</td><td>2011-01-05</td><td>1268.78</td><td>1277.63</td><td>1265.36</td><td>1276.56</td><td>4764920000</td><td>1276.56</td></tr>\n",
       "\t<tr><th scope=row>4</th><td>4</td><td>^GSPC</td><td>2011-01-06</td><td>1276.29</td><td>1278.17</td><td>1270.43</td><td>1273.85</td><td>4844100000</td><td>1273.85</td></tr>\n",
       "\t<tr><th scope=row>5</th><td>5</td><td>^GSPC</td><td>2011-01-07</td><td>1274.41</td><td>1276.83</td><td>1261.70</td><td>1271.50</td><td>4963110000</td><td>1271.50</td></tr>\n",
       "\t<tr><th scope=row>6</th><td>6</td><td>^GSPC</td><td>2011-01-10</td><td>1270.84</td><td>1271.52</td><td>1262.18</td><td>1269.75</td><td>4036450000</td><td>1269.75</td></tr>\n",
       "</tbody>\n",
       "</table>\n"
      ],
      "text/latex": [
       "A data.frame: 6 × 9\n",
       "\\begin{tabular}{r|lllllllll}\n",
       "  & X & symbol & date & open & high & low & close & volume & adjusted\\\\\n",
       "  & <int> & <chr> & <chr> & <dbl> & <dbl> & <dbl> & <dbl> & <dbl> & <dbl>\\\\\n",
       "\\hline\n",
       "\t1 & 1 & \\textasciicircum{}GSPC & 2011-01-03 & 1257.62 & 1276.17 & 1257.62 & 1271.87 & 4286670000 & 1271.87\\\\\n",
       "\t2 & 2 & \\textasciicircum{}GSPC & 2011-01-04 & 1272.95 & 1274.12 & 1262.66 & 1270.20 & 4796420000 & 1270.20\\\\\n",
       "\t3 & 3 & \\textasciicircum{}GSPC & 2011-01-05 & 1268.78 & 1277.63 & 1265.36 & 1276.56 & 4764920000 & 1276.56\\\\\n",
       "\t4 & 4 & \\textasciicircum{}GSPC & 2011-01-06 & 1276.29 & 1278.17 & 1270.43 & 1273.85 & 4844100000 & 1273.85\\\\\n",
       "\t5 & 5 & \\textasciicircum{}GSPC & 2011-01-07 & 1274.41 & 1276.83 & 1261.70 & 1271.50 & 4963110000 & 1271.50\\\\\n",
       "\t6 & 6 & \\textasciicircum{}GSPC & 2011-01-10 & 1270.84 & 1271.52 & 1262.18 & 1269.75 & 4036450000 & 1269.75\\\\\n",
       "\\end{tabular}\n"
      ],
      "text/markdown": [
       "\n",
       "A data.frame: 6 × 9\n",
       "\n",
       "| <!--/--> | X &lt;int&gt; | symbol &lt;chr&gt; | date &lt;chr&gt; | open &lt;dbl&gt; | high &lt;dbl&gt; | low &lt;dbl&gt; | close &lt;dbl&gt; | volume &lt;dbl&gt; | adjusted &lt;dbl&gt; |\n",
       "|---|---|---|---|---|---|---|---|---|---|\n",
       "| 1 | 1 | ^GSPC | 2011-01-03 | 1257.62 | 1276.17 | 1257.62 | 1271.87 | 4286670000 | 1271.87 |\n",
       "| 2 | 2 | ^GSPC | 2011-01-04 | 1272.95 | 1274.12 | 1262.66 | 1270.20 | 4796420000 | 1270.20 |\n",
       "| 3 | 3 | ^GSPC | 2011-01-05 | 1268.78 | 1277.63 | 1265.36 | 1276.56 | 4764920000 | 1276.56 |\n",
       "| 4 | 4 | ^GSPC | 2011-01-06 | 1276.29 | 1278.17 | 1270.43 | 1273.85 | 4844100000 | 1273.85 |\n",
       "| 5 | 5 | ^GSPC | 2011-01-07 | 1274.41 | 1276.83 | 1261.70 | 1271.50 | 4963110000 | 1271.50 |\n",
       "| 6 | 6 | ^GSPC | 2011-01-10 | 1270.84 | 1271.52 | 1262.18 | 1269.75 | 4036450000 | 1269.75 |\n",
       "\n"
      ],
      "text/plain": [
       "  X symbol date       open    high    low     close   volume     adjusted\n",
       "1 1 ^GSPC  2011-01-03 1257.62 1276.17 1257.62 1271.87 4286670000 1271.87 \n",
       "2 2 ^GSPC  2011-01-04 1272.95 1274.12 1262.66 1270.20 4796420000 1270.20 \n",
       "3 3 ^GSPC  2011-01-05 1268.78 1277.63 1265.36 1276.56 4764920000 1276.56 \n",
       "4 4 ^GSPC  2011-01-06 1276.29 1278.17 1270.43 1273.85 4844100000 1273.85 \n",
       "5 5 ^GSPC  2011-01-07 1274.41 1276.83 1261.70 1271.50 4963110000 1271.50 \n",
       "6 6 ^GSPC  2011-01-10 1270.84 1271.52 1262.18 1269.75 4036450000 1269.75 "
      ]
     },
     "metadata": {},
     "output_type": "display_data"
    }
   ],
   "source": [
    "sp_datos <- read.csv(\"./Datos/SP.csv\")\n",
    "head(sp_datos)"
   ]
  },
  {
   "cell_type": "code",
   "execution_count": 32,
   "metadata": {},
   "outputs": [],
   "source": [
    "n <- nrow(sp_datos)\n",
    "ret_sp <- sp_datos$close[2:n] / sp_datos$close[1:(n - 1)] - 1\n",
    "sp_datos$ret <- c(NA, ret_sp)"
   ]
  },
  {
   "cell_type": "code",
   "execution_count": 33,
   "metadata": {},
   "outputs": [
    {
     "data": {
      "text/html": [
       "'Date'"
      ],
      "text/latex": [
       "'Date'"
      ],
      "text/markdown": [
       "'Date'"
      ],
      "text/plain": [
       "[1] \"Date\""
      ]
     },
     "metadata": {},
     "output_type": "display_data"
    }
   ],
   "source": [
    "sp_datos$date <- as.Date(as.character(sp_datos$date), \"%Y-%m-%d\")\n",
    "class(sp_datos$date)"
   ]
  },
  {
   "cell_type": "code",
   "execution_count": 35,
   "metadata": {},
   "outputs": [
    {
     "data": {
      "image/png": "[encoded data removed]",
      "text/plain": [
       "plot without title"
      ]
     },
     "metadata": {
      "image/png": {
       "height": 420,
       "width": 420
      }
     },
     "output_type": "display_data"
    }
   ],
   "source": [
    "# library(ggplot2)\n",
    "g <- ggplot(data = sp_datos[2:n,], aes(x = date, y = ret))\n",
    "g + geom_line() + labs(x = \"Fecha\", y = \"Retorno Diario\")"
   ]
  },
  {
   "cell_type": "markdown",
   "metadata": {},
   "source": [
    "Como mencionamos anteriormente, en el mercado de acciones se observan periodos de moderada y de alta volatilidad. No observamos ninguna tendencia ni estacionalidad por lo que podemos proceder a modelar la media del proceso."
   ]
  },
  {
   "cell_type": "code",
   "execution_count": 47,
   "metadata": {},
   "outputs": [
    {
     "data": {
      "image/png": "[encoded data removed]",
      "text/plain": [
       "Plot with title \"ACF Retornos Diaros S&P500\""
      ]
     },
     "metadata": {
      "image/png": {
       "height": 420,
       "width": 420
      }
     },
     "output_type": "display_data"
    }
   ],
   "source": [
    "acf(sp_datos$ret[2:(n - 4)], lag.max = 20, main = \"ACF Retornos Diaros S&P500\")"
   ]
  },
  {
   "cell_type": "code",
   "execution_count": 48,
   "metadata": {},
   "outputs": [
    {
     "data": {
      "image/png": "[encoded data removed]",
      "text/plain": [
       "Plot with title \"PACF Retornos Diarios S&P500\""
      ]
     },
     "metadata": {
      "image/png": {
       "height": 420,
       "width": 420
      }
     },
     "output_type": "display_data"
    }
   ],
   "source": [
    "pacf(sp_datos$ret[2:(n - 4)], lag.max = 20, main = \"PACF Retornos Diarios S&P500\")"
   ]
  },
  {
   "cell_type": "markdown",
   "metadata": {},
   "source": [
    "Las opciones de modelado son: AR(1), AR(3), AR(5), MA(5), ARMA(1, 5), ARMA(3, 5) y ARMA(5, 5). Seleccionaremos el modelo más idóneo revisando los criterios de AKaike y Schwartz."
   ]
  },
  {
   "cell_type": "code",
   "execution_count": 49,
   "metadata": {},
   "outputs": [
    {
     "name": "stdout",
     "output_type": "stream",
     "text": [
      "[1] \"Para el modelo ARMA(0,0) tenemos un AIC de -14833.8400116759 y un BIC de-14822.3955421865\"\n",
      "[1] \"Para el modelo ARMA(0,5) tenemos un AIC de -14852.32633434 y un BIC de-14812.270691127\"\n",
      "[1] \"Para el modelo ARMA(1,0) tenemos un AIC de -14836.7969203022 y un BIC de-14819.6302160681\"\n",
      "[1] \"Para el modelo ARMA(1,5) tenemos un AIC de -14850.6069179777 y un BIC de-14804.82904002\"\n",
      "[1] \"Para el modelo ARMA(3,0) tenemos un AIC de -14837.4896894321 y un BIC de-14808.8785157086\"\n",
      "[1] \"Para el modelo ARMA(3,5) tenemos un AIC de -14863.3187064138 y un BIC de-14806.0963589667\"\n",
      "[1] \"Para el modelo ARMA(5,0) tenemos un AIC de -14852.3233314475 y un BIC de-14812.2676882345\"\n",
      "[1] \"Para el modelo ARMA(5,5) tenemos un AIC de -14864.0438596798 y un BIC de-14795.3770427433\"\n"
     ]
    }
   ],
   "source": [
    "for (i in c(0, 1, 3, 5)) {\n",
    "    for (j in c(0, 5)) {\n",
    "        arma_mod <- arima(sp_datos$ret[2:(n - 4)], order = c(i, 0, j), method = \"ML\", include.mean = TRUE)\n",
    "        AIC_val <- AIC(arma_mod)\n",
    "        BIC_val <- BIC(arma_mod)\n",
    "        res <- paste(\"Para el modelo ARMA(\", i, \",\", j, \") tenemos un AIC de \", AIC_val, \n",
    "                     \" y un BIC de\", BIC_val, sep = \"\")\n",
    "        print(res)\n",
    "    }\n",
    "}"
   ]
  },
  {
   "cell_type": "markdown",
   "metadata": {},
   "source": [
    "De acuerdo al criterio de Schwartz escogemos para la media un modelo AR(1). Ahora evaluamos el cuadrado de los residuos para determinar el orden GARCH(r, m)."
   ]
  },
  {
   "cell_type": "code",
   "execution_count": 65,
   "metadata": {},
   "outputs": [],
   "source": [
    "ar1_mod <- arima(sp_datos$ret[2:(n - 4)], order = c(5, 0, 0), method = \"ML\", include.mean = TRUE)"
   ]
  },
  {
   "cell_type": "code",
   "execution_count": 66,
   "metadata": {},
   "outputs": [
    {
     "data": {
      "image/png": "[encoded data removed]",
      "text/plain": [
       "Plot with title \"ACF Residuos al cuadrado\""
      ]
     },
     "metadata": {
      "image/png": {
       "height": 420,
       "width": 420
      }
     },
     "output_type": "display_data"
    }
   ],
   "source": [
    "acf(ar1_mod$residuals^2, lag.max = 20, main = \"ACF Residuos al cuadrado\")"
   ]
  },
  {
   "cell_type": "code",
   "execution_count": 67,
   "metadata": {},
   "outputs": [
    {
     "data": {
      "image/png": "[encoded data removed]",
      "text/plain": [
       "Plot with title \"PACF Residuos al cuadrado\""
      ]
     },
     "metadata": {
      "image/png": {
       "height": 420,
       "width": 420
      }
     },
     "output_type": "display_data"
    }
   ],
   "source": [
    "pacf(ar1_mod$residual^2, lag.max = 20, main = \"PACF Residuos al cuadrado\")"
   ]
  },
  {
   "cell_type": "markdown",
   "metadata": {},
   "source": [
    "Hay muchas opciones para el modelo GARCH, nos dejaremos llevar por un enfoque parsimonioso y escogeremos un GARCH(1, 1), un IGARCH(1, 1), un EGARCH(1, 1) y un GJR-GARCH(1, 1). Empecemos con el modelo GARCH(1, 1)."
   ]
  },
  {
   "cell_type": "code",
   "execution_count": 60,
   "metadata": {},
   "outputs": [],
   "source": [
    "garch_spec <- ugarchspec(variance.model = list(model = \"sGARCH\", garchOrder = c(1, 1)), \n",
    "                       mean.model = list(armaOrder = c(5, 0), include.mean = TRUE), distribution.model = \"std\")\n",
    "garch_mod <- ugarchfit(spec = garch_spec, data = sp_datos$ret[2:(n - 4)], fit.control = list(stationarity = 1))"
   ]
  },
  {
   "cell_type": "code",
   "execution_count": 61,
   "metadata": {},
   "outputs": [
    {
     "name": "stdout",
     "output_type": "stream",
     "text": [
      "\n",
      "*---------------------------------*\n",
      "*          GARCH Model Fit        *\n",
      "*---------------------------------*\n",
      "\n",
      "Conditional Variance Dynamics \t\n",
      "-----------------------------------\n",
      "GARCH Model\t: sGARCH(1,1)\n",
      "Mean Model\t: ARFIMA(5,0,0)\n",
      "Distribution\t: std \n",
      "\n",
      "Optimal Parameters\n",
      "------------------------------------\n",
      "        Estimate  Std. Error  t value Pr(>|t|)\n",
      "mu      0.000863    0.000109  7.93773 0.000000\n",
      "ar1    -0.053810    0.021730 -2.47625 0.013277\n",
      "ar2    -0.019431    0.021865 -0.88869 0.374169\n",
      "ar3    -0.026499    0.021459 -1.23484 0.216889\n",
      "ar4    -0.030362    0.021207 -1.43171 0.152226\n",
      "ar5    -0.046633    0.020567 -2.26733 0.023370\n",
      "omega   0.000003    0.000002  1.68623 0.091751\n",
      "alpha1  0.178200    0.029770  5.98583 0.000000\n",
      "beta1   0.806193    0.028279 28.50860 0.000000\n",
      "shape   5.134505    0.594648  8.63453 0.000000\n",
      "\n",
      "Robust Standard Errors:\n",
      "        Estimate  Std. Error  t value Pr(>|t|)\n",
      "mu      0.000863    0.000101  8.54170 0.000000\n",
      "ar1    -0.053810    0.019665 -2.73630 0.006213\n",
      "ar2    -0.019431    0.022775 -0.85318 0.393562\n",
      "ar3    -0.026499    0.021259 -1.24647 0.212591\n",
      "ar4    -0.030362    0.023265 -1.30505 0.191877\n",
      "ar5    -0.046633    0.019765 -2.35935 0.018307\n",
      "omega   0.000003    0.000005  0.48644 0.626656\n",
      "alpha1  0.178200    0.065792  2.70852 0.006758\n",
      "beta1   0.806193    0.076353 10.55881 0.000000\n",
      "shape   5.134505    0.679793  7.55305 0.000000\n",
      "\n",
      "LogLikelihood : 7848.218 \n",
      "\n",
      "Information Criteria\n",
      "------------------------------------\n",
      "                    \n",
      "Akaike       -6.9426\n",
      "Bayes        -6.9173\n",
      "Shibata      -6.9427\n",
      "Hannan-Quinn -6.9334\n",
      "\n",
      "Weighted Ljung-Box Test on Standardized Residuals\n",
      "------------------------------------\n",
      "                         statistic p-value\n",
      "Lag[1]                      0.9681  0.3252\n",
      "Lag[2*(p+q)+(p+q)-1][14]    4.2945  1.0000\n",
      "Lag[4*(p+q)+(p+q)-1][24]   12.9438  0.4067\n",
      "d.o.f=5\n",
      "H0 : No serial correlation\n",
      "\n",
      "Weighted Ljung-Box Test on Standardized Squared Residuals\n",
      "------------------------------------\n",
      "                        statistic p-value\n",
      "Lag[1]                      0.019  0.8904\n",
      "Lag[2*(p+q)+(p+q)-1][5]     1.347  0.7774\n",
      "Lag[4*(p+q)+(p+q)-1][9]     3.416  0.6888\n",
      "d.o.f=2\n",
      "\n",
      "Weighted ARCH LM Tests\n",
      "------------------------------------\n",
      "            Statistic Shape Scale P-Value\n",
      "ARCH Lag[3]    0.1938 0.500 2.000  0.6598\n",
      "ARCH Lag[5]    2.0063 1.440 1.667  0.4698\n",
      "ARCH Lag[7]    3.6201 2.315 1.543  0.4047\n",
      "\n",
      "Nyblom stability test\n",
      "------------------------------------\n",
      "Joint Statistic:  18.6309\n",
      "Individual Statistics:              \n",
      "mu     0.09562\n",
      "ar1    0.07117\n",
      "ar2    0.03380\n",
      "ar3    0.04946\n",
      "ar4    0.05681\n",
      "ar5    0.06980\n",
      "omega  2.32502\n",
      "alpha1 0.52064\n",
      "beta1  0.87457\n",
      "shape  0.67573\n",
      "\n",
      "Asymptotic Critical Values (10% 5% 1%)\n",
      "Joint Statistic:     \t 2.29 2.54 3.05\n",
      "Individual Statistic:\t 0.35 0.47 0.75\n",
      "\n",
      "Sign Bias Test\n",
      "------------------------------------\n",
      "                   t-value      prob sig\n",
      "Sign Bias           2.6944 0.0071033 ***\n",
      "Negative Sign Bias  0.8626 0.3884608    \n",
      "Positive Sign Bias  1.4168 0.1566844    \n",
      "Joint Effect       21.0302 0.0001038 ***\n",
      "\n",
      "\n",
      "Adjusted Pearson Goodness-of-Fit Test:\n",
      "------------------------------------\n",
      "  group statistic p-value(g-1)\n",
      "1    20     53.99    3.311e-05\n",
      "2    30     61.38    4.147e-04\n",
      "3    40     72.17    9.714e-04\n",
      "4    50     80.53    3.025e-03\n",
      "\n",
      "\n",
      "Elapsed time : 1.266617 \n",
      "\n"
     ]
    }
   ],
   "source": [
    "show(garch_mod)"
   ]
  },
  {
   "cell_type": "markdown",
   "metadata": {},
   "source": [
    "Evaluemos el modelo AR(1)-GARCH(1, 1)."
   ]
  },
  {
   "cell_type": "code",
   "execution_count": 62,
   "metadata": {},
   "outputs": [
    {
     "data": {
      "image/png": "[encoded data removed]",
      "text/plain": [
       "Plot with title \"ACF residuos GARCH(1, 1)\""
      ]
     },
     "metadata": {
      "image/png": {
       "height": 420,
       "width": 420
      }
     },
     "output_type": "display_data"
    }
   ],
   "source": [
    "acf(garch_mod@fit$residuals, lag.max = 20, main = \"ACF residuos GARCH(1, 1)\")"
   ]
  },
  {
   "cell_type": "code",
   "execution_count": 63,
   "metadata": {},
   "outputs": [
    {
     "name": "stdout",
     "output_type": "stream",
     "text": [
      "[1] \"Para los  5 primeros rezagos el p.value es  0.217425782606262\"\n",
      "[1] \"Para los  10 primeros rezagos el p.value es  0.257693048121389\"\n",
      "[1] \"Para los  15 primeros rezagos el p.value es  0.111942590486279\"\n"
     ]
    }
   ],
   "source": [
    "for (i in c(5, 10, 15)) {\n",
    "    port_test <- Box.test(garch_mod@fit$residuals, lag = i, type = \"Ljung-Box\")\n",
    "    res <- paste(\"Para los \", i, \"primeros rezagos el p.value es \", port_test$p.value)\n",
    "    print(res)\n",
    "}"
   ]
  },
  {
   "cell_type": "code",
   "execution_count": 68,
   "metadata": {},
   "outputs": [],
   "source": [
    "stan_res1 <- garch_mod@fit$residuals / garch_mod@fit$sigma"
   ]
  },
  {
   "cell_type": "code",
   "execution_count": 69,
   "metadata": {},
   "outputs": [
    {
     "data": {
      "image/png": "[encoded data removed]",
      "text/plain": [
       "Plot with title \"ACF Residuos Estandarizados GARCH(1, 1)\""
      ]
     },
     "metadata": {
      "image/png": {
       "height": 420,
       "width": 420
      }
     },
     "output_type": "display_data"
    }
   ],
   "source": [
    "acf(stan_res1, lag.max = 20, main = \"ACF Residuos Estandarizados GARCH(1, 1)\")"
   ]
  },
  {
   "cell_type": "code",
   "execution_count": 73,
   "metadata": {},
   "outputs": [
    {
     "name": "stdout",
     "output_type": "stream",
     "text": [
      "[1] \"Para los  5 primeros rezagos el p.value es  0.784744489628702\"\n",
      "[1] \"Para los  10 primeros rezagos el p.value es  0.791734145211792\"\n",
      "[1] \"Para los  15 primeros rezagos el p.value es  0.386375830011102\"\n",
      "[1] \"Para los  20 primeros rezagos el p.value es  0.156692031869607\"\n"
     ]
    }
   ],
   "source": [
    "for (i in c(5, 10, 15, 20)) {\n",
    "    port_test <- Box.test(stan_res1, lag = i, type = \"Ljung-Box\")\n",
    "    res <- paste(\"Para los \", i, \"primeros rezagos el p.value es \", port_test$p.value)\n",
    "    print(res)\n",
    "}"
   ]
  },
  {
   "cell_type": "markdown",
   "metadata": {},
   "source": [
    "El modelo AR(5)-GARCH(1, 1) cumple con todos los requisitos de evaluación y ahora evaluamos su pronóstico."
   ]
  },
  {
   "cell_type": "code",
   "execution_count": 74,
   "metadata": {},
   "outputs": [],
   "source": [
    "garch_for <- ugarchforecast(garch_mod, n.ahead = 5)"
   ]
  },
  {
   "cell_type": "code",
   "execution_count": 76,
   "metadata": {},
   "outputs": [],
   "source": [
    "eval_for <- data.frame(Fecha = sp_datos$date[(n - 4):n], ret_obs = sp_datos$ret[(n - 4):n],\n",
    "                      Ret_for1 = garch_for@forecast$seriesFor, \n",
    "                       Vol_for1 = garch_for@forecast$sigmaFor)"
   ]
  },
  {
   "cell_type": "code",
   "execution_count": 79,
   "metadata": {},
   "outputs": [
    {
     "data": {
      "text/html": [
       "<table>\n",
       "<caption>A data.frame: 5 × 4</caption>\n",
       "<thead>\n",
       "\t<tr><th></th><th scope=col>Fecha</th><th scope=col>ret_obs</th><th scope=col>Ret_for1</th><th scope=col>Vol_for1</th></tr>\n",
       "\t<tr><th></th><th scope=col>&lt;date&gt;</th><th scope=col>&lt;dbl&gt;</th><th scope=col>&lt;dbl&gt;</th><th scope=col>&lt;dbl&gt;</th></tr>\n",
       "</thead>\n",
       "<tbody>\n",
       "\t<tr><th scope=row>T+1</th><td>2019-12-23</td><td> 0.0008661436</td><td>0.0007522098</td><td>0.005117676</td></tr>\n",
       "\t<tr><th scope=row>T+2</th><td>2019-12-24</td><td>-0.0001954482</td><td>0.0007120031</td><td>0.005322703</td></tr>\n",
       "\t<tr><th scope=row>T+3</th><td>2019-12-26</td><td> 0.0051281666</td><td>0.0005816119</td><td>0.005517094</td></tr>\n",
       "\t<tr><th scope=row>T+4</th><td>2019-12-27</td><td> 0.0000339849</td><td>0.0006936246</td><td>0.005701982</td></tr>\n",
       "\t<tr><th scope=row>T+5</th><td>2019-12-30</td><td>-0.0057808226</td><td>0.0008848532</td><td>0.005878308</td></tr>\n",
       "</tbody>\n",
       "</table>\n"
      ],
      "text/latex": [
       "A data.frame: 5 × 4\n",
       "\\begin{tabular}{r|llll}\n",
       "  & Fecha & ret\\_obs & Ret\\_for1 & Vol\\_for1\\\\\n",
       "  & <date> & <dbl> & <dbl> & <dbl>\\\\\n",
       "\\hline\n",
       "\tT+1 & 2019-12-23 &  0.0008661436 & 0.0007522098 & 0.005117676\\\\\n",
       "\tT+2 & 2019-12-24 & -0.0001954482 & 0.0007120031 & 0.005322703\\\\\n",
       "\tT+3 & 2019-12-26 &  0.0051281666 & 0.0005816119 & 0.005517094\\\\\n",
       "\tT+4 & 2019-12-27 &  0.0000339849 & 0.0006936246 & 0.005701982\\\\\n",
       "\tT+5 & 2019-12-30 & -0.0057808226 & 0.0008848532 & 0.005878308\\\\\n",
       "\\end{tabular}\n"
      ],
      "text/markdown": [
       "\n",
       "A data.frame: 5 × 4\n",
       "\n",
       "| <!--/--> | Fecha &lt;date&gt; | ret_obs &lt;dbl&gt; | Ret_for1 &lt;dbl&gt; | Vol_for1 &lt;dbl&gt; |\n",
       "|---|---|---|---|---|\n",
       "| T+1 | 2019-12-23 |  0.0008661436 | 0.0007522098 | 0.005117676 |\n",
       "| T+2 | 2019-12-24 | -0.0001954482 | 0.0007120031 | 0.005322703 |\n",
       "| T+3 | 2019-12-26 |  0.0051281666 | 0.0005816119 | 0.005517094 |\n",
       "| T+4 | 2019-12-27 |  0.0000339849 | 0.0006936246 | 0.005701982 |\n",
       "| T+5 | 2019-12-30 | -0.0057808226 | 0.0008848532 | 0.005878308 |\n",
       "\n"
      ],
      "text/plain": [
       "    Fecha      ret_obs       Ret_for1     Vol_for1   \n",
       "T+1 2019-12-23  0.0008661436 0.0007522098 0.005117676\n",
       "T+2 2019-12-24 -0.0001954482 0.0007120031 0.005322703\n",
       "T+3 2019-12-26  0.0051281666 0.0005816119 0.005517094\n",
       "T+4 2019-12-27  0.0000339849 0.0006936246 0.005701982\n",
       "T+5 2019-12-30 -0.0057808226 0.0008848532 0.005878308"
      ]
     },
     "metadata": {},
     "output_type": "display_data"
    }
   ],
   "source": [
    "colnames(eval_for)[3:4] <- c(\"Ret_for1\", \"Vol_for1\")\n",
    "eval_for"
   ]
  },
  {
   "cell_type": "code",
   "execution_count": 82,
   "metadata": {},
   "outputs": [
    {
     "data": {
      "text/html": [
       "0.00364345899680813"
      ],
      "text/latex": [
       "0.00364345899680813"
      ],
      "text/markdown": [
       "0.00364345899680813"
      ],
      "text/plain": [
       "[1] 0.003643459"
      ]
     },
     "metadata": {},
     "output_type": "display_data"
    }
   ],
   "source": [
    "rmse1 <- sqrt(mean((eval_for$ret_obs - eval_for$Ret_for1)^2))\n",
    "rmse1"
   ]
  },
  {
   "cell_type": "markdown",
   "metadata": {},
   "source": [
    "Consideremos ahora el modelo AR(5)-IGARCH(1, 1)."
   ]
  },
  {
   "cell_type": "code",
   "execution_count": 83,
   "metadata": {},
   "outputs": [],
   "source": [
    "igarch_spec <- ugarchspec(variance.model = list(model = \"iGARCH\", garchOrder = c(1, 1)), \n",
    "                       mean.model = list(armaOrder = c(5, 0), include.mean = TRUE), distribution.model = \"std\")\n",
    "igarch_mod <- ugarchfit(spec = igarch_spec, data = sp_datos$ret[2:(n - 4)])"
   ]
  },
  {
   "cell_type": "code",
   "execution_count": 84,
   "metadata": {},
   "outputs": [
    {
     "name": "stdout",
     "output_type": "stream",
     "text": [
      "\n",
      "*---------------------------------*\n",
      "*          GARCH Model Fit        *\n",
      "*---------------------------------*\n",
      "\n",
      "Conditional Variance Dynamics \t\n",
      "-----------------------------------\n",
      "GARCH Model\t: iGARCH(1,1)\n",
      "Mean Model\t: ARFIMA(5,0,0)\n",
      "Distribution\t: std \n",
      "\n",
      "Optimal Parameters\n",
      "------------------------------------\n",
      "        Estimate  Std. Error  t value Pr(>|t|)\n",
      "mu      0.000862    0.000108  7.96502 0.000000\n",
      "ar1    -0.054129    0.021714 -2.49282 0.012673\n",
      "ar2    -0.019513    0.021855 -0.89281 0.371959\n",
      "ar3    -0.026485    0.021453 -1.23459 0.216985\n",
      "ar4    -0.030458    0.021223 -1.43514 0.151247\n",
      "ar5    -0.046316    0.020557 -2.25310 0.024253\n",
      "omega   0.000002    0.000002  1.38007 0.167567\n",
      "alpha1  0.191990    0.030600  6.27423 0.000000\n",
      "beta1   0.808010          NA       NA       NA\n",
      "shape   4.822974    0.474720 10.15963 0.000000\n",
      "\n",
      "Robust Standard Errors:\n",
      "        Estimate  Std. Error  t value Pr(>|t|)\n",
      "mu      0.000862    0.000113   7.6381 0.000000\n",
      "ar1    -0.054129    0.020984  -2.5795 0.009893\n",
      "ar2    -0.019513    0.022731  -0.8584 0.390670\n",
      "ar3    -0.026485    0.021853  -1.2120 0.225520\n",
      "ar4    -0.030458    0.022196  -1.3723 0.169983\n",
      "ar5    -0.046316    0.020648  -2.2431 0.024891\n",
      "omega   0.000002    0.000007   0.3474 0.728292\n",
      "alpha1  0.191990    0.098392   1.9513 0.051023\n",
      "beta1   0.808010          NA       NA       NA\n",
      "shape   4.822974    0.860138   5.6072 0.000000\n",
      "\n",
      "LogLikelihood : 7847.697 \n",
      "\n",
      "Information Criteria\n",
      "------------------------------------\n",
      "                    \n",
      "Akaike       -6.9430\n",
      "Bayes        -6.9202\n",
      "Shibata      -6.9431\n",
      "Hannan-Quinn -6.9347\n",
      "\n",
      "Weighted Ljung-Box Test on Standardized Residuals\n",
      "------------------------------------\n",
      "                         statistic p-value\n",
      "Lag[1]                      0.9134  0.3392\n",
      "Lag[2*(p+q)+(p+q)-1][14]    4.1838  1.0000\n",
      "Lag[4*(p+q)+(p+q)-1][24]   12.8157  0.4251\n",
      "d.o.f=5\n",
      "H0 : No serial correlation\n",
      "\n",
      "Weighted Ljung-Box Test on Standardized Squared Residuals\n",
      "------------------------------------\n",
      "                        statistic p-value\n",
      "Lag[1]                   0.001052  0.9741\n",
      "Lag[2*(p+q)+(p+q)-1][5]  1.132373  0.8290\n",
      "Lag[4*(p+q)+(p+q)-1][9]  3.247232  0.7175\n",
      "d.o.f=2\n",
      "\n",
      "Weighted ARCH LM Tests\n",
      "------------------------------------\n",
      "            Statistic Shape Scale P-Value\n",
      "ARCH Lag[3]    0.2989 0.500 2.000  0.5846\n",
      "ARCH Lag[5]    1.9999 1.440 1.667  0.4713\n",
      "ARCH Lag[7]    3.6822 2.315 1.543  0.3947\n",
      "\n",
      "Nyblom stability test\n",
      "------------------------------------\n",
      "Joint Statistic:  18.5289\n",
      "Individual Statistics:              \n",
      "mu     0.09614\n",
      "ar1    0.07282\n",
      "ar2    0.03475\n",
      "ar3    0.05110\n",
      "ar4    0.05808\n",
      "ar5    0.07152\n",
      "omega  3.76820\n",
      "alpha1 0.82952\n",
      "shape  0.60861\n",
      "\n",
      "Asymptotic Critical Values (10% 5% 1%)\n",
      "Joint Statistic:     \t 2.1 2.32 2.82\n",
      "Individual Statistic:\t 0.35 0.47 0.75\n",
      "\n",
      "Sign Bias Test\n",
      "------------------------------------\n",
      "                   t-value      prob sig\n",
      "Sign Bias            2.806 5.066e-03 ***\n",
      "Negative Sign Bias   1.140 2.542e-01    \n",
      "Positive Sign Bias   1.498 1.343e-01    \n",
      "Joint Effect        22.151 6.068e-05 ***\n",
      "\n",
      "\n",
      "Adjusted Pearson Goodness-of-Fit Test:\n",
      "------------------------------------\n",
      "  group statistic p-value(g-1)\n",
      "1    20     52.20    6.167e-05\n",
      "2    30     59.52    7.084e-04\n",
      "3    40     70.61    1.442e-03\n",
      "4    50     75.57    8.754e-03\n",
      "\n",
      "\n",
      "Elapsed time : 0.9903169 \n",
      "\n"
     ]
    }
   ],
   "source": [
    "show(igarch_mod)"
   ]
  },
  {
   "cell_type": "markdown",
   "metadata": {},
   "source": [
    "Evaluemos el modelo AR(5)-IGARCH(1, 1):"
   ]
  },
  {
   "cell_type": "code",
   "execution_count": 85,
   "metadata": {},
   "outputs": [
    {
     "data": {
      "image/png": "[encoded data removed]",
      "text/plain": [
       "Plot with title \"ACF residuos IGARCH(1, 1)\""
      ]
     },
     "metadata": {
      "image/png": {
       "height": 420,
       "width": 420
      }
     },
     "output_type": "display_data"
    }
   ],
   "source": [
    "acf(igarch_mod@fit$residuals, lag.max = 20, main = \"ACF residuos IGARCH(1, 1)\")"
   ]
  },
  {
   "cell_type": "code",
   "execution_count": 86,
   "metadata": {},
   "outputs": [
    {
     "name": "stdout",
     "output_type": "stream",
     "text": [
      "[1] \"Para los  5 primeros rezagos el p.value es  0.211027026172196\"\n",
      "[1] \"Para los  10 primeros rezagos el p.value es  0.252372292604913\"\n",
      "[1] \"Para los  15 primeros rezagos el p.value es  0.109654907227084\"\n"
     ]
    }
   ],
   "source": [
    "for (i in c(5, 10, 15)) {\n",
    "    port_test <- Box.test(igarch_mod@fit$residuals, lag = i, type = \"Ljung-Box\")\n",
    "    res <- paste(\"Para los \", i, \"primeros rezagos el p.value es \", port_test$p.value)\n",
    "    print(res)\n",
    "}"
   ]
  },
  {
   "cell_type": "code",
   "execution_count": 87,
   "metadata": {},
   "outputs": [],
   "source": [
    "stan_res2 <- igarch_mod@fit$residuals / igarch_mod@fit$sigma"
   ]
  },
  {
   "cell_type": "code",
   "execution_count": 88,
   "metadata": {},
   "outputs": [
    {
     "data": {
      "image/png": "[encoded data removed]",
      "text/plain": [
       "Plot with title \"ACF Residuos Estandarizados IGARCH(1, 1)\""
      ]
     },
     "metadata": {
      "image/png": {
       "height": 420,
       "width": 420
      }
     },
     "output_type": "display_data"
    }
   ],
   "source": [
    "acf(stan_res2, lag.max = 20, main = \"ACF Residuos Estandarizados IGARCH(1, 1)\")"
   ]
  },
  {
   "cell_type": "code",
   "execution_count": 89,
   "metadata": {},
   "outputs": [
    {
     "name": "stdout",
     "output_type": "stream",
     "text": [
      "[1] \"Para los  5 primeros rezagos el p.value es  0.800164729767959\"\n",
      "[1] \"Para los  10 primeros rezagos el p.value es  0.803137935408115\"\n",
      "[1] \"Para los  15 primeros rezagos el p.value es  0.3976956181596\"\n",
      "[1] \"Para los  20 primeros rezagos el p.value es  0.161454458302111\"\n"
     ]
    }
   ],
   "source": [
    "for (i in c(5, 10, 15, 20)) {\n",
    "    port_test <- Box.test(stan_res2, lag = i, type = \"Ljung-Box\")\n",
    "    res <- paste(\"Para los \", i, \"primeros rezagos el p.value es \", port_test$p.value)\n",
    "    print(res)\n",
    "}"
   ]
  },
  {
   "cell_type": "markdown",
   "metadata": {},
   "source": [
    "El modelo AR(5)-IGARCH(1, 1) cumple con todos los criterios de evaluación; ahora veremos sus pronósticos."
   ]
  },
  {
   "cell_type": "code",
   "execution_count": 90,
   "metadata": {},
   "outputs": [
    {
     "name": "stderr",
     "output_type": "stream",
     "text": [
      "Warning message in `setfixed<-`(`*tmp*`, value = as.list(pars)):\n",
      "\"Unrecognized Parameter in Fixed Values: beta1...Ignored\"\n"
     ]
    }
   ],
   "source": [
    "igarch_for <- ugarchforecast(igarch_mod, n.ahead = 5)"
   ]
  },
  {
   "cell_type": "code",
   "execution_count": 91,
   "metadata": {},
   "outputs": [],
   "source": [
    "eval_for$Ret_for2 <- igarch_for@forecast$seriesFor\n",
    "eval_for$Vol_for2 <- igarch_for@forecast$sigmaFor"
   ]
  },
  {
   "cell_type": "code",
   "execution_count": 92,
   "metadata": {},
   "outputs": [
    {
     "data": {
      "text/html": [
       "<table>\n",
       "<caption>A data.frame: 5 × 6</caption>\n",
       "<thead>\n",
       "\t<tr><th></th><th scope=col>Fecha</th><th scope=col>ret_obs</th><th scope=col>Ret_for1</th><th scope=col>Vol_for1</th><th scope=col>Ret_for2</th><th scope=col>Vol_for2</th></tr>\n",
       "\t<tr><th></th><th scope=col>&lt;date&gt;</th><th scope=col>&lt;dbl&gt;</th><th scope=col>&lt;dbl&gt;</th><th scope=col>&lt;dbl&gt;</th><th scope=col>&lt;dbl[,1]&gt;</th><th scope=col>&lt;dbl[,1]&gt;</th></tr>\n",
       "</thead>\n",
       "<tbody>\n",
       "\t<tr><th scope=row>T+1</th><td>2019-12-23</td><td> 0.0008661436</td><td>0.0007522098</td><td>0.005117676</td><td>0.0007501601</td><td>0.005118779</td></tr>\n",
       "\t<tr><th scope=row>T+2</th><td>2019-12-24</td><td>-0.0001954482</td><td>0.0007120031</td><td>0.005322703</td><td>0.0007097278</td><td>0.005338201</td></tr>\n",
       "\t<tr><th scope=row>T+3</th><td>2019-12-26</td><td> 0.0051281666</td><td>0.0005816119</td><td>0.005517094</td><td>0.0005808568</td><td>0.005548953</td></tr>\n",
       "\t<tr><th scope=row>T+4</th><td>2019-12-27</td><td> 0.0000339849</td><td>0.0006936246</td><td>0.005701982</td><td>0.0006934353</td><td>0.005751989</td></tr>\n",
       "\t<tr><th scope=row>T+5</th><td>2019-12-30</td><td>-0.0057808226</td><td>0.0008848532</td><td>0.005878308</td><td>0.0008833666</td><td>0.005948098</td></tr>\n",
       "</tbody>\n",
       "</table>\n"
      ],
      "text/latex": [
       "A data.frame: 5 × 6\n",
       "\\begin{tabular}{r|llllll}\n",
       "  & Fecha & ret\\_obs & Ret\\_for1 & Vol\\_for1 & Ret\\_for2 & Vol\\_for2\\\\\n",
       "  & <date> & <dbl> & <dbl> & <dbl> & <dbl{[},1{]}> & <dbl{[},1{]}>\\\\\n",
       "\\hline\n",
       "\tT+1 & 2019-12-23 &  0.0008661436 & 0.0007522098 & 0.005117676 & 0.0007501601 & 0.005118779\\\\\n",
       "\tT+2 & 2019-12-24 & -0.0001954482 & 0.0007120031 & 0.005322703 & 0.0007097278 & 0.005338201\\\\\n",
       "\tT+3 & 2019-12-26 &  0.0051281666 & 0.0005816119 & 0.005517094 & 0.0005808568 & 0.005548953\\\\\n",
       "\tT+4 & 2019-12-27 &  0.0000339849 & 0.0006936246 & 0.005701982 & 0.0006934353 & 0.005751989\\\\\n",
       "\tT+5 & 2019-12-30 & -0.0057808226 & 0.0008848532 & 0.005878308 & 0.0008833666 & 0.005948098\\\\\n",
       "\\end{tabular}\n"
      ],
      "text/markdown": [
       "\n",
       "A data.frame: 5 × 6\n",
       "\n",
       "| <!--/--> | Fecha &lt;date&gt; | ret_obs &lt;dbl&gt; | Ret_for1 &lt;dbl&gt; | Vol_for1 &lt;dbl&gt; | Ret_for2 &lt;dbl[,1]&gt; | Vol_for2 &lt;dbl[,1]&gt; |\n",
       "|---|---|---|---|---|---|---|\n",
       "| T+1 | 2019-12-23 |  0.0008661436 | 0.0007522098 | 0.005117676 | 0.0007501601 | 0.005118779 |\n",
       "| T+2 | 2019-12-24 | -0.0001954482 | 0.0007120031 | 0.005322703 | 0.0007097278 | 0.005338201 |\n",
       "| T+3 | 2019-12-26 |  0.0051281666 | 0.0005816119 | 0.005517094 | 0.0005808568 | 0.005548953 |\n",
       "| T+4 | 2019-12-27 |  0.0000339849 | 0.0006936246 | 0.005701982 | 0.0006934353 | 0.005751989 |\n",
       "| T+5 | 2019-12-30 | -0.0057808226 | 0.0008848532 | 0.005878308 | 0.0008833666 | 0.005948098 |\n",
       "\n"
      ],
      "text/plain": [
       "    Fecha      ret_obs       Ret_for1     Vol_for1    Ret_for2     Vol_for2   \n",
       "T+1 2019-12-23  0.0008661436 0.0007522098 0.005117676 0.0007501601 0.005118779\n",
       "T+2 2019-12-24 -0.0001954482 0.0007120031 0.005322703 0.0007097278 0.005338201\n",
       "T+3 2019-12-26  0.0051281666 0.0005816119 0.005517094 0.0005808568 0.005548953\n",
       "T+4 2019-12-27  0.0000339849 0.0006936246 0.005701982 0.0006934353 0.005751989\n",
       "T+5 2019-12-30 -0.0057808226 0.0008848532 0.005878308 0.0008833666 0.005948098"
      ]
     },
     "metadata": {},
     "output_type": "display_data"
    }
   ],
   "source": [
    "eval_for"
   ]
  },
  {
   "cell_type": "code",
   "execution_count": 93,
   "metadata": {},
   "outputs": [
    {
     "data": {
      "text/html": [
       "0.00364299644431229"
      ],
      "text/latex": [
       "0.00364299644431229"
      ],
      "text/markdown": [
       "0.00364299644431229"
      ],
      "text/plain": [
       "[1] 0.003642996"
      ]
     },
     "metadata": {},
     "output_type": "display_data"
    }
   ],
   "source": [
    "rmse2 <- sqrt(mean((eval_for$ret_obs - eval_for$Ret_for2)^2))\n",
    "rmse2"
   ]
  },
  {
   "cell_type": "markdown",
   "metadata": {},
   "source": [
    "Ahora consideremos el modelo AR(5)-EGARCH(1, 1):"
   ]
  },
  {
   "cell_type": "code",
   "execution_count": 95,
   "metadata": {},
   "outputs": [],
   "source": [
    "egarch_spec <- ugarchspec(variance.model = list(model = \"eGARCH\", garchOrder = c(1, 1)), \n",
    "                       mean.model = list(armaOrder = c(5, 0), include.mean = TRUE), distribution.model = \"std\")\n",
    "egarch_mod <- ugarchfit(spec = egarch_spec, data = sp_datos$ret[2:(n - 4)])"
   ]
  },
  {
   "cell_type": "code",
   "execution_count": 96,
   "metadata": {},
   "outputs": [
    {
     "name": "stdout",
     "output_type": "stream",
     "text": [
      "\n",
      "*---------------------------------*\n",
      "*          GARCH Model Fit        *\n",
      "*---------------------------------*\n",
      "\n",
      "Conditional Variance Dynamics \t\n",
      "-----------------------------------\n",
      "GARCH Model\t: eGARCH(1,1)\n",
      "Mean Model\t: ARFIMA(5,0,0)\n",
      "Distribution\t: std \n",
      "\n",
      "Optimal Parameters\n",
      "------------------------------------\n",
      "        Estimate  Std. Error    t value Pr(>|t|)\n",
      "mu      0.000578    0.000114    5.06282  0.00000\n",
      "ar1    -0.045664    0.020955   -2.17916  0.02932\n",
      "ar2    -0.004406    0.020898   -0.21084  0.83301\n",
      "ar3    -0.005830    0.020315   -0.28698  0.77413\n",
      "ar4    -0.006890    0.020450   -0.33692  0.73617\n",
      "ar5    -0.030720    0.018861   -1.62874  0.10337\n",
      "omega  -0.466087    0.003824 -121.88398  0.00000\n",
      "alpha1 -0.227674    0.016912  -13.46209  0.00000\n",
      "beta1   0.953136    0.000620 1536.42938  0.00000\n",
      "gamma1  0.181097    0.014419   12.55970  0.00000\n",
      "shape   6.083142    0.785824    7.74110  0.00000\n",
      "\n",
      "Robust Standard Errors:\n",
      "        Estimate  Std. Error    t value Pr(>|t|)\n",
      "mu      0.000578    0.000130    4.46626 0.000008\n",
      "ar1    -0.045664    0.019201   -2.37821 0.017397\n",
      "ar2    -0.004406    0.021741   -0.20267 0.839397\n",
      "ar3    -0.005830    0.020567   -0.28346 0.776822\n",
      "ar4    -0.006890    0.022790   -0.30234 0.762394\n",
      "ar5    -0.030720    0.018263   -1.68206 0.092557\n",
      "omega  -0.466087    0.009357  -49.81275 0.000000\n",
      "alpha1 -0.227674    0.016867  -13.49847 0.000000\n",
      "beta1   0.953136    0.000825 1155.32165 0.000000\n",
      "gamma1  0.181097    0.013803   13.11979 0.000000\n",
      "shape   6.083142    0.806841    7.53945 0.000000\n",
      "\n",
      "LogLikelihood : 7909.037 \n",
      "\n",
      "Information Criteria\n",
      "------------------------------------\n",
      "                    \n",
      "Akaike       -6.9956\n",
      "Bayes        -6.9677\n",
      "Shibata      -6.9957\n",
      "Hannan-Quinn -6.9854\n",
      "\n",
      "Weighted Ljung-Box Test on Standardized Residuals\n",
      "------------------------------------\n",
      "                         statistic p-value\n",
      "Lag[1]                     0.07034  0.7908\n",
      "Lag[2*(p+q)+(p+q)-1][14]   3.18152  1.0000\n",
      "Lag[4*(p+q)+(p+q)-1][24]  12.63508  0.4517\n",
      "d.o.f=5\n",
      "H0 : No serial correlation\n",
      "\n",
      "Weighted Ljung-Box Test on Standardized Squared Residuals\n",
      "------------------------------------\n",
      "                        statistic p-value\n",
      "Lag[1]                   0.008703  0.9257\n",
      "Lag[2*(p+q)+(p+q)-1][5]  0.652611  0.9318\n",
      "Lag[4*(p+q)+(p+q)-1][9]  1.725713  0.9351\n",
      "d.o.f=2\n",
      "\n",
      "Weighted ARCH LM Tests\n",
      "------------------------------------\n",
      "            Statistic Shape Scale P-Value\n",
      "ARCH Lag[3]    0.6026 0.500 2.000  0.4376\n",
      "ARCH Lag[5]    1.0938 1.440 1.667  0.7053\n",
      "ARCH Lag[7]    2.0245 2.315 1.543  0.7121\n",
      "\n",
      "Nyblom stability test\n",
      "------------------------------------\n",
      "Joint Statistic:  2.3841\n",
      "Individual Statistics:              \n",
      "mu     0.25911\n",
      "ar1    0.12077\n",
      "ar2    0.03618\n",
      "ar3    0.04714\n",
      "ar4    0.06830\n",
      "ar5    0.08060\n",
      "omega  0.76497\n",
      "alpha1 0.24243\n",
      "beta1  0.69036\n",
      "gamma1 0.30433\n",
      "shape  0.51060\n",
      "\n",
      "Asymptotic Critical Values (10% 5% 1%)\n",
      "Joint Statistic:     \t 2.49 2.75 3.27\n",
      "Individual Statistic:\t 0.35 0.47 0.75\n",
      "\n",
      "Sign Bias Test\n",
      "------------------------------------\n",
      "                   t-value    prob sig\n",
      "Sign Bias           2.0984 0.03598  **\n",
      "Negative Sign Bias  2.0711 0.03847  **\n",
      "Positive Sign Bias  0.1799 0.85722    \n",
      "Joint Effect        7.3324 0.06202   *\n",
      "\n",
      "\n",
      "Adjusted Pearson Goodness-of-Fit Test:\n",
      "------------------------------------\n",
      "  group statistic p-value(g-1)\n",
      "1    20     47.24    0.0003296\n",
      "2    30     55.00    0.0024759\n",
      "3    40     69.90    0.0017209\n",
      "4    50     77.34    0.0060456\n",
      "\n",
      "\n",
      "Elapsed time : 1.606706 \n",
      "\n"
     ]
    }
   ],
   "source": [
    "show(egarch_mod)"
   ]
  },
  {
   "cell_type": "markdown",
   "metadata": {},
   "source": [
    "El coeficiente $\\aleph = -\\frac{0.22}{0.18} = -1.22$ por lo que una sorpresa negativa tiende a incrementar la volatilidad y una sorpresa positiva tiende a reducir la volatilidad. Evaluemos el modelo AR(5)-EGARCH(1, 1)."
   ]
  },
  {
   "cell_type": "code",
   "execution_count": 110,
   "metadata": {},
   "outputs": [
    {
     "data": {
      "image/png": "[encoded data removed]",
      "text/plain": [
       "Plot with title \"ACF residuos EGARCH(1, 1)\""
      ]
     },
     "metadata": {
      "image/png": {
       "height": 420,
       "width": 420
      }
     },
     "output_type": "display_data"
    }
   ],
   "source": [
    "acf(egarch_mod@fit$residuals, lag.max = 20, main = \"ACF residuos EGARCH(1, 1)\")"
   ]
  },
  {
   "cell_type": "code",
   "execution_count": 98,
   "metadata": {},
   "outputs": [
    {
     "name": "stdout",
     "output_type": "stream",
     "text": [
      "[1] \"Para los  5 primeros rezagos el p.value es  0.0340655657851293\"\n",
      "[1] \"Para los  10 primeros rezagos el p.value es  0.0675553136372556\"\n",
      "[1] \"Para los  15 primeros rezagos el p.value es  0.0321729843397048\"\n"
     ]
    }
   ],
   "source": [
    "for (i in c(5, 10, 15)) {\n",
    "    port_test <- Box.test(egarch_mod@fit$residuals, lag = i, type = \"Ljung-Box\")\n",
    "    res <- paste(\"Para los \", i, \"primeros rezagos el p.value es \", port_test$p.value)\n",
    "    print(res)\n",
    "}"
   ]
  },
  {
   "cell_type": "code",
   "execution_count": 99,
   "metadata": {},
   "outputs": [],
   "source": [
    "stan_res3 <- egarch_mod@fit$residuals / egarch_mod@fit$sigma"
   ]
  },
  {
   "cell_type": "code",
   "execution_count": 100,
   "metadata": {},
   "outputs": [
    {
     "data": {
      "image/png": "[encoded data removed]",
      "text/plain": [
       "Plot with title \"ACF Residuos Estandarizados EGARCH(1, 1)\""
      ]
     },
     "metadata": {
      "image/png": {
       "height": 420,
       "width": 420
      }
     },
     "output_type": "display_data"
    }
   ],
   "source": [
    "acf(stan_res3, lag.max = 20, main = \"ACF Residuos Estandarizados EGARCH(1, 1)\")"
   ]
  },
  {
   "cell_type": "code",
   "execution_count": 101,
   "metadata": {},
   "outputs": [
    {
     "name": "stdout",
     "output_type": "stream",
     "text": [
      "[1] \"Para los  5 primeros rezagos el p.value es  0.888831885264978\"\n",
      "[1] \"Para los  10 primeros rezagos el p.value es  0.889898002397182\"\n",
      "[1] \"Para los  15 primeros rezagos el p.value es  0.470836834659117\"\n",
      "[1] \"Para los  20 primeros rezagos el p.value es  0.121815802271289\"\n"
     ]
    }
   ],
   "source": [
    "for (i in c(5, 10, 15, 20)) {\n",
    "    port_test <- Box.test(stan_res3, lag = i, type = \"Ljung-Box\")\n",
    "    res <- paste(\"Para los \", i, \"primeros rezagos el p.value es \", port_test$p.value)\n",
    "    print(res)\n",
    "}"
   ]
  },
  {
   "cell_type": "markdown",
   "metadata": {},
   "source": [
    "El modelo AR(5)-EGARCH(1, 1) cumple con los criterios de evaluación. Ahora analicemos los pronósticos:"
   ]
  },
  {
   "cell_type": "code",
   "execution_count": 102,
   "metadata": {},
   "outputs": [],
   "source": [
    "egarch_for <- ugarchforecast(egarch_mod, n.ahead = 5)"
   ]
  },
  {
   "cell_type": "code",
   "execution_count": 103,
   "metadata": {},
   "outputs": [],
   "source": [
    "eval_for$Ret_for3 <- egarch_for@forecast$seriesFor\n",
    "eval_for$Vol_for3 <- egarch_for@forecast$sigmaFor"
   ]
  },
  {
   "cell_type": "code",
   "execution_count": 104,
   "metadata": {},
   "outputs": [
    {
     "data": {
      "text/html": [
       "<table>\n",
       "<caption>A data.frame: 5 × 8</caption>\n",
       "<thead>\n",
       "\t<tr><th></th><th scope=col>Fecha</th><th scope=col>ret_obs</th><th scope=col>Ret_for1</th><th scope=col>Vol_for1</th><th scope=col>Ret_for2</th><th scope=col>Vol_for2</th><th scope=col>Ret_for3</th><th scope=col>Vol_for3</th></tr>\n",
       "\t<tr><th></th><th scope=col>&lt;date&gt;</th><th scope=col>&lt;dbl&gt;</th><th scope=col>&lt;dbl&gt;</th><th scope=col>&lt;dbl&gt;</th><th scope=col>&lt;dbl[,1]&gt;</th><th scope=col>&lt;dbl[,1]&gt;</th><th scope=col>&lt;dbl[,1]&gt;</th><th scope=col>&lt;dbl[,1]&gt;</th></tr>\n",
       "</thead>\n",
       "<tbody>\n",
       "\t<tr><th scope=row>T+1</th><td>2019-12-23</td><td> 0.0008661436</td><td>0.0007522098</td><td>0.005117676</td><td>0.0007501601</td><td>0.005118779</td><td>0.0005379323</td><td>0.003673242</td></tr>\n",
       "\t<tr><th scope=row>T+2</th><td>2019-12-24</td><td>-0.0001954482</td><td>0.0007120031</td><td>0.005322703</td><td>0.0007097278</td><td>0.005338201</td><td>0.0005579362</td><td>0.003783996</td></tr>\n",
       "\t<tr><th scope=row>T+3</th><td>2019-12-26</td><td> 0.0051281666</td><td>0.0005816119</td><td>0.005517094</td><td>0.0005808568</td><td>0.005548953</td><td>0.0004286332</td><td>0.003892666</td></tr>\n",
       "\t<tr><th scope=row>T+4</th><td>2019-12-27</td><td> 0.0000339849</td><td>0.0006936246</td><td>0.005701982</td><td>0.0006934353</td><td>0.005751989</td><td>0.0004495517</td><td>0.003999147</td></tr>\n",
       "\t<tr><th scope=row>T+5</th><td>2019-12-30</td><td>-0.0057808226</td><td>0.0008848532</td><td>0.005878308</td><td>0.0008833666</td><td>0.005948098</td><td>0.0005766062</td><td>0.004103348</td></tr>\n",
       "</tbody>\n",
       "</table>\n"
      ],
      "text/latex": [
       "A data.frame: 5 × 8\n",
       "\\begin{tabular}{r|llllllll}\n",
       "  & Fecha & ret\\_obs & Ret\\_for1 & Vol\\_for1 & Ret\\_for2 & Vol\\_for2 & Ret\\_for3 & Vol\\_for3\\\\\n",
       "  & <date> & <dbl> & <dbl> & <dbl> & <dbl{[},1{]}> & <dbl{[},1{]}> & <dbl{[},1{]}> & <dbl{[},1{]}>\\\\\n",
       "\\hline\n",
       "\tT+1 & 2019-12-23 &  0.0008661436 & 0.0007522098 & 0.005117676 & 0.0007501601 & 0.005118779 & 0.0005379323 & 0.003673242\\\\\n",
       "\tT+2 & 2019-12-24 & -0.0001954482 & 0.0007120031 & 0.005322703 & 0.0007097278 & 0.005338201 & 0.0005579362 & 0.003783996\\\\\n",
       "\tT+3 & 2019-12-26 &  0.0051281666 & 0.0005816119 & 0.005517094 & 0.0005808568 & 0.005548953 & 0.0004286332 & 0.003892666\\\\\n",
       "\tT+4 & 2019-12-27 &  0.0000339849 & 0.0006936246 & 0.005701982 & 0.0006934353 & 0.005751989 & 0.0004495517 & 0.003999147\\\\\n",
       "\tT+5 & 2019-12-30 & -0.0057808226 & 0.0008848532 & 0.005878308 & 0.0008833666 & 0.005948098 & 0.0005766062 & 0.004103348\\\\\n",
       "\\end{tabular}\n"
      ],
      "text/markdown": [
       "\n",
       "A data.frame: 5 × 8\n",
       "\n",
       "| <!--/--> | Fecha &lt;date&gt; | ret_obs &lt;dbl&gt; | Ret_for1 &lt;dbl&gt; | Vol_for1 &lt;dbl&gt; | Ret_for2 &lt;dbl[,1]&gt; | Vol_for2 &lt;dbl[,1]&gt; | Ret_for3 &lt;dbl[,1]&gt; | Vol_for3 &lt;dbl[,1]&gt; |\n",
       "|---|---|---|---|---|---|---|---|---|\n",
       "| T+1 | 2019-12-23 |  0.0008661436 | 0.0007522098 | 0.005117676 | 0.0007501601 | 0.005118779 | 0.0005379323 | 0.003673242 |\n",
       "| T+2 | 2019-12-24 | -0.0001954482 | 0.0007120031 | 0.005322703 | 0.0007097278 | 0.005338201 | 0.0005579362 | 0.003783996 |\n",
       "| T+3 | 2019-12-26 |  0.0051281666 | 0.0005816119 | 0.005517094 | 0.0005808568 | 0.005548953 | 0.0004286332 | 0.003892666 |\n",
       "| T+4 | 2019-12-27 |  0.0000339849 | 0.0006936246 | 0.005701982 | 0.0006934353 | 0.005751989 | 0.0004495517 | 0.003999147 |\n",
       "| T+5 | 2019-12-30 | -0.0057808226 | 0.0008848532 | 0.005878308 | 0.0008833666 | 0.005948098 | 0.0005766062 | 0.004103348 |\n",
       "\n"
      ],
      "text/plain": [
       "    Fecha      ret_obs       Ret_for1     Vol_for1    Ret_for2     Vol_for2   \n",
       "T+1 2019-12-23  0.0008661436 0.0007522098 0.005117676 0.0007501601 0.005118779\n",
       "T+2 2019-12-24 -0.0001954482 0.0007120031 0.005322703 0.0007097278 0.005338201\n",
       "T+3 2019-12-26  0.0051281666 0.0005816119 0.005517094 0.0005808568 0.005548953\n",
       "T+4 2019-12-27  0.0000339849 0.0006936246 0.005701982 0.0006934353 0.005751989\n",
       "T+5 2019-12-30 -0.0057808226 0.0008848532 0.005878308 0.0008833666 0.005948098\n",
       "    Ret_for3     Vol_for3   \n",
       "T+1 0.0005379323 0.003673242\n",
       "T+2 0.0005579362 0.003783996\n",
       "T+3 0.0004286332 0.003892666\n",
       "T+4 0.0004495517 0.003999147\n",
       "T+5 0.0005766062 0.004103348"
      ]
     },
     "metadata": {},
     "output_type": "display_data"
    }
   ],
   "source": [
    "eval_for"
   ]
  },
  {
   "cell_type": "code",
   "execution_count": 105,
   "metadata": {},
   "outputs": [
    {
     "data": {
      "text/html": [
       "0.00355950901959512"
      ],
      "text/latex": [
       "0.00355950901959512"
      ],
      "text/markdown": [
       "0.00355950901959512"
      ],
      "text/plain": [
       "[1] 0.003559509"
      ]
     },
     "metadata": {},
     "output_type": "display_data"
    }
   ],
   "source": [
    "rmse3 <- sqrt(mean((eval_for$ret_obs - eval_for$Ret_for3)^2))\n",
    "rmse3"
   ]
  },
  {
   "cell_type": "markdown",
   "metadata": {},
   "source": [
    "Finalmente consideremos el modelo AR(5)-GJR-GARCH(1,1)."
   ]
  },
  {
   "cell_type": "code",
   "execution_count": 106,
   "metadata": {},
   "outputs": [],
   "source": [
    "gjrgarch_spec <- ugarchspec(variance.model = list(model = \"gjrGARCH\", garchOrder = c(1, 1)), \n",
    "                       mean.model = list(armaOrder = c(5, 0), include.mean = TRUE), distribution.model = \"std\")\n",
    "gjrgarch_mod <- ugarchfit(spec = gjrgarch_spec, data = sp_datos$ret[2:(n - 4)])"
   ]
  },
  {
   "cell_type": "code",
   "execution_count": 107,
   "metadata": {},
   "outputs": [
    {
     "name": "stdout",
     "output_type": "stream",
     "text": [
      "\n",
      "*---------------------------------*\n",
      "*          GARCH Model Fit        *\n",
      "*---------------------------------*\n",
      "\n",
      "Conditional Variance Dynamics \t\n",
      "-----------------------------------\n",
      "GARCH Model\t: gjrGARCH(1,1)\n",
      "Mean Model\t: ARFIMA(5,0,0)\n",
      "Distribution\t: std \n",
      "\n",
      "Optimal Parameters\n",
      "------------------------------------\n",
      "        Estimate  Std. Error   t value Pr(>|t|)\n",
      "mu      0.000637    0.000111  5.724654 0.000000\n",
      "ar1    -0.042609    0.021259 -2.004255 0.045043\n",
      "ar2    -0.007047    0.021496 -0.327835 0.743036\n",
      "ar3    -0.016841    0.020950 -0.803880 0.421466\n",
      "ar4    -0.014618    0.020382 -0.717194 0.473254\n",
      "ar5    -0.037914    0.019720 -1.922642 0.054525\n",
      "omega   0.000003    0.000000  6.308612 0.000000\n",
      "alpha1  0.000000    0.003367  0.000023 0.999981\n",
      "beta1   0.809382    0.015866 51.012665 0.000000\n",
      "gamma1  0.318861    0.037145  8.584224 0.000000\n",
      "shape   5.784013    0.691934  8.359192 0.000000\n",
      "\n",
      "Robust Standard Errors:\n",
      "        Estimate  Std. Error   t value Pr(>|t|)\n",
      "mu      0.000637    0.000114  5.582236 0.000000\n",
      "ar1    -0.042609    0.019098 -2.231102 0.025674\n",
      "ar2    -0.007047    0.022119 -0.318598 0.750031\n",
      "ar3    -0.016841    0.020093 -0.838147 0.401948\n",
      "ar4    -0.014618    0.022097 -0.661529 0.508273\n",
      "ar5    -0.037914    0.018430 -2.057154 0.039671\n",
      "omega   0.000003    0.000001  3.544715 0.000393\n",
      "alpha1  0.000000    0.028280  0.000003 0.999998\n",
      "beta1   0.809382    0.014426 56.107551 0.000000\n",
      "gamma1  0.318861    0.051477  6.194283 0.000000\n",
      "shape   5.784013    0.697083  8.297454 0.000000\n",
      "\n",
      "LogLikelihood : 7898.666 \n",
      "\n",
      "Information Criteria\n",
      "------------------------------------\n",
      "                    \n",
      "Akaike       -6.9864\n",
      "Bayes        -6.9585\n",
      "Shibata      -6.9865\n",
      "Hannan-Quinn -6.9762\n",
      "\n",
      "Weighted Ljung-Box Test on Standardized Residuals\n",
      "------------------------------------\n",
      "                         statistic p-value\n",
      "Lag[1]                      0.1775  0.6735\n",
      "Lag[2*(p+q)+(p+q)-1][14]    2.6741  1.0000\n",
      "Lag[4*(p+q)+(p+q)-1][24]   11.4196  0.6365\n",
      "d.o.f=5\n",
      "H0 : No serial correlation\n",
      "\n",
      "Weighted Ljung-Box Test on Standardized Squared Residuals\n",
      "------------------------------------\n",
      "                        statistic p-value\n",
      "Lag[1]                     0.5606  0.4540\n",
      "Lag[2*(p+q)+(p+q)-1][5]    2.1957  0.5729\n",
      "Lag[4*(p+q)+(p+q)-1][9]    3.9353  0.5998\n",
      "d.o.f=2\n",
      "\n",
      "Weighted ARCH LM Tests\n",
      "------------------------------------\n",
      "            Statistic Shape Scale P-Value\n",
      "ARCH Lag[3]     1.394 0.500 2.000  0.2378\n",
      "ARCH Lag[5]     2.054 1.440 1.667  0.4594\n",
      "ARCH Lag[7]     3.449 2.315 1.543  0.4330\n",
      "\n",
      "Nyblom stability test\n",
      "------------------------------------\n",
      "Joint Statistic:  5.7462\n",
      "Individual Statistics:              \n",
      "mu     0.19336\n",
      "ar1    0.12486\n",
      "ar2    0.03802\n",
      "ar3    0.04528\n",
      "ar4    0.05820\n",
      "ar5    0.06208\n",
      "omega  0.20305\n",
      "alpha1 0.26054\n",
      "beta1  0.93922\n",
      "gamma1 0.66251\n",
      "shape  0.70278\n",
      "\n",
      "Asymptotic Critical Values (10% 5% 1%)\n",
      "Joint Statistic:     \t 2.49 2.75 3.27\n",
      "Individual Statistic:\t 0.35 0.47 0.75\n",
      "\n",
      "Sign Bias Test\n",
      "------------------------------------\n",
      "                   t-value     prob sig\n",
      "Sign Bias           2.5326 0.011391  **\n",
      "Negative Sign Bias  2.6652 0.007750 ***\n",
      "Positive Sign Bias  0.6182 0.536487    \n",
      "Joint Effect       12.7828 0.005131 ***\n",
      "\n",
      "\n",
      "Adjusted Pearson Goodness-of-Fit Test:\n",
      "------------------------------------\n",
      "  group statistic p-value(g-1)\n",
      "1    20     45.61    0.0005620\n",
      "2    30     63.64    0.0002133\n",
      "3    40     80.10    0.0001163\n",
      "4    50     80.80    0.0028510\n",
      "\n",
      "\n",
      "Elapsed time : 2.368663 \n",
      "\n"
     ]
    }
   ],
   "source": [
    "show(gjrgarch_mod)"
   ]
  },
  {
   "cell_type": "markdown",
   "metadata": {},
   "source": [
    "Evaluemos el modelo AR(5)-GJR-GARCH(1, 1)."
   ]
  },
  {
   "cell_type": "code",
   "execution_count": 109,
   "metadata": {},
   "outputs": [
    {
     "data": {
      "image/png": "[encoded data removed]",
      "text/plain": [
       "Plot with title \"ACF residuos GJR-GARCH(1, 1)\""
      ]
     },
     "metadata": {
      "image/png": {
       "height": 420,
       "width": 420
      }
     },
     "output_type": "display_data"
    }
   ],
   "source": [
    "acf(gjrgarch_mod@fit$residuals, lag.max = 20, main = \"ACF residuos GJR-GARCH(1, 1)\")"
   ]
  },
  {
   "cell_type": "code",
   "execution_count": 111,
   "metadata": {},
   "outputs": [
    {
     "name": "stdout",
     "output_type": "stream",
     "text": [
      "[1] \"Para los  5 primeros rezagos el p.value es  0.12696407590487\"\n",
      "[1] \"Para los  10 primeros rezagos el p.value es  0.174811822290789\"\n",
      "[1] \"Para los  15 primeros rezagos el p.value es  0.0783834172873897\"\n"
     ]
    }
   ],
   "source": [
    "for (i in c(5, 10, 15)) {\n",
    "    port_test <- Box.test(gjrgarch_mod@fit$residuals, lag = i, type = \"Ljung-Box\")\n",
    "    res <- paste(\"Para los \", i, \"primeros rezagos el p.value es \", port_test$p.value)\n",
    "    print(res)\n",
    "}"
   ]
  },
  {
   "cell_type": "code",
   "execution_count": 112,
   "metadata": {},
   "outputs": [],
   "source": [
    "stan_res4 <- gjrgarch_mod@fit$residuals / gjrgarch_mod@fit$sigma"
   ]
  },
  {
   "cell_type": "code",
   "execution_count": 113,
   "metadata": {},
   "outputs": [
    {
     "data": {
      "image/png": "[encoded data removed]",
      "text/plain": [
       "Plot with title \"ACF Residuos Estandarizados GJR-GARCH(1, 1)\""
      ]
     },
     "metadata": {
      "image/png": {
       "height": 420,
       "width": 420
      }
     },
     "output_type": "display_data"
    }
   ],
   "source": [
    "acf(stan_res4, lag.max = 20, main = \"ACF Residuos Estandarizados GJR-GARCH(1, 1)\")"
   ]
  },
  {
   "cell_type": "code",
   "execution_count": 114,
   "metadata": {},
   "outputs": [
    {
     "name": "stdout",
     "output_type": "stream",
     "text": [
      "[1] \"Para los  5 primeros rezagos el p.value es  0.946295858577633\"\n",
      "[1] \"Para los  10 primeros rezagos el p.value es  0.933039688618426\"\n",
      "[1] \"Para los  15 primeros rezagos el p.value es  0.555408305200816\"\n",
      "[1] \"Para los  20 primeros rezagos el p.value es  0.195949080394453\"\n"
     ]
    }
   ],
   "source": [
    "for (i in c(5, 10, 15, 20)) {\n",
    "    port_test <- Box.test(stan_res4, lag = i, type = \"Ljung-Box\")\n",
    "    res <- paste(\"Para los \", i, \"primeros rezagos el p.value es \", port_test$p.value)\n",
    "    print(res)\n",
    "}"
   ]
  },
  {
   "cell_type": "markdown",
   "metadata": {},
   "source": [
    "El modelo AR(5)-GJR-GARCH(1, 1) aprueba los criterios de evaluación. Ahora analicemos los pronósticos:"
   ]
  },
  {
   "cell_type": "code",
   "execution_count": 115,
   "metadata": {},
   "outputs": [],
   "source": [
    "gjrgarch_for <- ugarchforecast(gjrgarch_mod, n.ahead = 5)"
   ]
  },
  {
   "cell_type": "code",
   "execution_count": 116,
   "metadata": {},
   "outputs": [],
   "source": [
    "eval_for$Ret_for4 <- gjrgarch_for@forecast$seriesFor\n",
    "eval_for$Vol_for4 <- gjrgarch_for@forecast$sigmaFor"
   ]
  },
  {
   "cell_type": "code",
   "execution_count": 117,
   "metadata": {},
   "outputs": [
    {
     "data": {
      "text/html": [
       "<table>\n",
       "<caption>A data.frame: 5 × 10</caption>\n",
       "<thead>\n",
       "\t<tr><th></th><th scope=col>Fecha</th><th scope=col>ret_obs</th><th scope=col>Ret_for1</th><th scope=col>Vol_for1</th><th scope=col>Ret_for2</th><th scope=col>Vol_for2</th><th scope=col>Ret_for3</th><th scope=col>Vol_for3</th><th scope=col>Ret_for4</th><th scope=col>Vol_for4</th></tr>\n",
       "\t<tr><th></th><th scope=col>&lt;date&gt;</th><th scope=col>&lt;dbl&gt;</th><th scope=col>&lt;dbl&gt;</th><th scope=col>&lt;dbl&gt;</th><th scope=col>&lt;dbl[,1]&gt;</th><th scope=col>&lt;dbl[,1]&gt;</th><th scope=col>&lt;dbl[,1]&gt;</th><th scope=col>&lt;dbl[,1]&gt;</th><th scope=col>&lt;dbl[,1]&gt;</th><th scope=col>&lt;dbl[,1]&gt;</th></tr>\n",
       "</thead>\n",
       "<tbody>\n",
       "\t<tr><th scope=row>T+1</th><td>2019-12-23</td><td> 0.0008661436</td><td>0.0007522098</td><td>0.005117676</td><td>0.0007501601</td><td>0.005118779</td><td>0.0005379323</td><td>0.003673242</td><td>0.0005597989</td><td>0.004256971</td></tr>\n",
       "\t<tr><th scope=row>T+2</th><td>2019-12-24</td><td>-0.0001954482</td><td>0.0007120031</td><td>0.005322703</td><td>0.0007097278</td><td>0.005338201</td><td>0.0005579362</td><td>0.003783996</td><td>0.0005510173</td><td>0.004516556</td></tr>\n",
       "\t<tr><th scope=row>T+3</th><td>2019-12-26</td><td> 0.0051281666</td><td>0.0005816119</td><td>0.005517094</td><td>0.0005808568</td><td>0.005548953</td><td>0.0004286332</td><td>0.003892666</td><td>0.0004296817</td><td>0.004754548</td></tr>\n",
       "\t<tr><th scope=row>T+4</th><td>2019-12-27</td><td> 0.0000339849</td><td>0.0006936246</td><td>0.005701982</td><td>0.0006934353</td><td>0.005751989</td><td>0.0004495517</td><td>0.003999147</td><td>0.0004812859</td><td>0.004974270</td></tr>\n",
       "\t<tr><th scope=row>T+5</th><td>2019-12-30</td><td>-0.0057808226</td><td>0.0008848532</td><td>0.005878308</td><td>0.0008833666</td><td>0.005948098</td><td>0.0005766062</td><td>0.004103348</td><td>0.0006392063</td><td>0.005178256</td></tr>\n",
       "</tbody>\n",
       "</table>\n"
      ],
      "text/latex": [
       "A data.frame: 5 × 10\n",
       "\\begin{tabular}{r|llllllllll}\n",
       "  & Fecha & ret\\_obs & Ret\\_for1 & Vol\\_for1 & Ret\\_for2 & Vol\\_for2 & Ret\\_for3 & Vol\\_for3 & Ret\\_for4 & Vol\\_for4\\\\\n",
       "  & <date> & <dbl> & <dbl> & <dbl> & <dbl{[},1{]}> & <dbl{[},1{]}> & <dbl{[},1{]}> & <dbl{[},1{]}> & <dbl{[},1{]}> & <dbl{[},1{]}>\\\\\n",
       "\\hline\n",
       "\tT+1 & 2019-12-23 &  0.0008661436 & 0.0007522098 & 0.005117676 & 0.0007501601 & 0.005118779 & 0.0005379323 & 0.003673242 & 0.0005597989 & 0.004256971\\\\\n",
       "\tT+2 & 2019-12-24 & -0.0001954482 & 0.0007120031 & 0.005322703 & 0.0007097278 & 0.005338201 & 0.0005579362 & 0.003783996 & 0.0005510173 & 0.004516556\\\\\n",
       "\tT+3 & 2019-12-26 &  0.0051281666 & 0.0005816119 & 0.005517094 & 0.0005808568 & 0.005548953 & 0.0004286332 & 0.003892666 & 0.0004296817 & 0.004754548\\\\\n",
       "\tT+4 & 2019-12-27 &  0.0000339849 & 0.0006936246 & 0.005701982 & 0.0006934353 & 0.005751989 & 0.0004495517 & 0.003999147 & 0.0004812859 & 0.004974270\\\\\n",
       "\tT+5 & 2019-12-30 & -0.0057808226 & 0.0008848532 & 0.005878308 & 0.0008833666 & 0.005948098 & 0.0005766062 & 0.004103348 & 0.0006392063 & 0.005178256\\\\\n",
       "\\end{tabular}\n"
      ],
      "text/markdown": [
       "\n",
       "A data.frame: 5 × 10\n",
       "\n",
       "| <!--/--> | Fecha &lt;date&gt; | ret_obs &lt;dbl&gt; | Ret_for1 &lt;dbl&gt; | Vol_for1 &lt;dbl&gt; | Ret_for2 &lt;dbl[,1]&gt; | Vol_for2 &lt;dbl[,1]&gt; | Ret_for3 &lt;dbl[,1]&gt; | Vol_for3 &lt;dbl[,1]&gt; | Ret_for4 &lt;dbl[,1]&gt; | Vol_for4 &lt;dbl[,1]&gt; |\n",
       "|---|---|---|---|---|---|---|---|---|---|---|\n",
       "| T+1 | 2019-12-23 |  0.0008661436 | 0.0007522098 | 0.005117676 | 0.0007501601 | 0.005118779 | 0.0005379323 | 0.003673242 | 0.0005597989 | 0.004256971 |\n",
       "| T+2 | 2019-12-24 | -0.0001954482 | 0.0007120031 | 0.005322703 | 0.0007097278 | 0.005338201 | 0.0005579362 | 0.003783996 | 0.0005510173 | 0.004516556 |\n",
       "| T+3 | 2019-12-26 |  0.0051281666 | 0.0005816119 | 0.005517094 | 0.0005808568 | 0.005548953 | 0.0004286332 | 0.003892666 | 0.0004296817 | 0.004754548 |\n",
       "| T+4 | 2019-12-27 |  0.0000339849 | 0.0006936246 | 0.005701982 | 0.0006934353 | 0.005751989 | 0.0004495517 | 0.003999147 | 0.0004812859 | 0.004974270 |\n",
       "| T+5 | 2019-12-30 | -0.0057808226 | 0.0008848532 | 0.005878308 | 0.0008833666 | 0.005948098 | 0.0005766062 | 0.004103348 | 0.0006392063 | 0.005178256 |\n",
       "\n"
      ],
      "text/plain": [
       "    Fecha      ret_obs       Ret_for1     Vol_for1    Ret_for2     Vol_for2   \n",
       "T+1 2019-12-23  0.0008661436 0.0007522098 0.005117676 0.0007501601 0.005118779\n",
       "T+2 2019-12-24 -0.0001954482 0.0007120031 0.005322703 0.0007097278 0.005338201\n",
       "T+3 2019-12-26  0.0051281666 0.0005816119 0.005517094 0.0005808568 0.005548953\n",
       "T+4 2019-12-27  0.0000339849 0.0006936246 0.005701982 0.0006934353 0.005751989\n",
       "T+5 2019-12-30 -0.0057808226 0.0008848532 0.005878308 0.0008833666 0.005948098\n",
       "    Ret_for3     Vol_for3    Ret_for4     Vol_for4   \n",
       "T+1 0.0005379323 0.003673242 0.0005597989 0.004256971\n",
       "T+2 0.0005579362 0.003783996 0.0005510173 0.004516556\n",
       "T+3 0.0004286332 0.003892666 0.0004296817 0.004754548\n",
       "T+4 0.0004495517 0.003999147 0.0004812859 0.004974270\n",
       "T+5 0.0005766062 0.004103348 0.0006392063 0.005178256"
      ]
     },
     "metadata": {},
     "output_type": "display_data"
    }
   ],
   "source": [
    "eval_for"
   ]
  },
  {
   "cell_type": "code",
   "execution_count": 118,
   "metadata": {},
   "outputs": [
    {
     "data": {
      "text/html": [
       "0.0035817221614926"
      ],
      "text/latex": [
       "0.0035817221614926"
      ],
      "text/markdown": [
       "0.0035817221614926"
      ],
      "text/plain": [
       "[1] 0.003581722"
      ]
     },
     "metadata": {},
     "output_type": "display_data"
    }
   ],
   "source": [
    "rmse4 <- sqrt(mean((eval_for$ret_obs - eval_for$Ret_for4)^2))\n",
    "rmse4"
   ]
  },
  {
   "cell_type": "code",
   "execution_count": 119,
   "metadata": {},
   "outputs": [
    {
     "data": {
      "text/html": [
       "3"
      ],
      "text/latex": [
       "3"
      ],
      "text/markdown": [
       "3"
      ],
      "text/plain": [
       "[1] 3"
      ]
     },
     "metadata": {},
     "output_type": "display_data"
    }
   ],
   "source": [
    "rmse_all <- c(rmse1, rmse2, rmse3, rmse4)\n",
    "which.min(rmse_all)"
   ]
  },
  {
   "cell_type": "markdown",
   "metadata": {},
   "source": [
    "El modelo con el menor RMSE es el AR(5)-EGARCH(1, 1). Este sería el modelo que escogeríamos para realizar los pronósticos para 5 días del S&P500."
   ]
  },
  {
   "cell_type": "markdown",
   "metadata": {},
   "source": [
    "Hay muchas más opciones del paquete `rugarch`. Los interesados pueden ver toda la información [aqui.](https://cran.r-project.org/web/packages/rugarch/vignettes/Introduction_to_the_rugarch_package.pdf)"
   ]
  },
  {
   "cell_type": "code",
   "execution_count": null,
   "metadata": {},
   "outputs": [],
   "source": []
  }
 ],
 "metadata": {
  "kernelspec": {
   "display_name": "R",
   "language": "R",
   "name": "ir"
  },
  "language_info": {
   "codemirror_mode": "r",
   "file_extension": ".r",
   "mimetype": "text/x-r-source",
   "name": "R",
   "pygments_lexer": "r",
   "version": "4.0.2"
  }
 },
 "nbformat": 4,
 "nbformat_minor": 4
}
