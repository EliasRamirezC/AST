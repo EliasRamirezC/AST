{
 "cells": [
  {
   "cell_type": "markdown",
   "metadata": {},
   "source": [
    "# Modelos ARMA\n",
    "\n",
    "Antes de comenzar la lección es importante verificar que nuestro directorio de trabajo sea el indicado."
   ]
  },
  {
   "cell_type": "code",
   "execution_count": 112,
   "metadata": {},
   "outputs": [
    {
     "data": {
      "text/html": [
       "'C:/Users/oscar/OneDrive/Escritorio/AST'"
      ],
      "text/latex": [
       "'C:/Users/oscar/OneDrive/Escritorio/AST'"
      ],
      "text/markdown": [
       "'C:/Users/oscar/OneDrive/Escritorio/AST'"
      ],
      "text/plain": [
       "[1] \"C:/Users/oscar/OneDrive/Escritorio/AST\""
      ]
     },
     "metadata": {},
     "output_type": "display_data"
    }
   ],
   "source": [
    "setwd(\"C:/Users/oscar/OneDrive/Escritorio/AST\")\n",
    "getwd()"
   ]
  },
  {
   "cell_type": "markdown",
   "metadata": {},
   "source": [
    "Este curso trata sobre las herramientas econométricas utilizadas para el análisis de series de tiempo.\n",
    "\n",
    "¿Qué es una serie de tiempo? Pues formalmente es la realización de un proceso estocástico que no es más que una sucesión de variables aleatorias indexadas al tiempo. En términos un poco más informales diríamos que una serie de tiempo es una variable indexada al tiempo simplemente.\n",
    "\n",
    "Como ejemplo podemos considerar la serie de tiempo del PIB anual de Bolivia."
   ]
  },
  {
   "cell_type": "code",
   "execution_count": 113,
   "metadata": {},
   "outputs": [],
   "source": [
    "# Descargar datos del PIB Anual del INE\n",
    "if (!(file.exists(\"./Datos/PIB.xlsx\"))){\n",
    "        url1 <- \"https://www.ine.gob.bo/index.php/descarga/491/pib-segun-actividad-economica/46183/bolivia-producto-interno-bruto-a-precios-constantes-segun-actividad-economica-1988-2019.xlsx\"\n",
    "        download.file(url1, destfile = \"./Datos/PIB.xlsx\", mode = \"wb\")\n",
    "}"
   ]
  },
  {
   "cell_type": "code",
   "execution_count": 114,
   "metadata": {},
   "outputs": [],
   "source": [
    "# Instalar el conjunto de paquetes tidyverse\n",
    "# install.packages(\"tidyverse\")\n",
    "# Se procede a cargar los paquetes\n",
    "library(ggplot2)\n",
    "library(readxl)"
   ]
  },
  {
   "cell_type": "code",
   "execution_count": 115,
   "metadata": {},
   "outputs": [
    {
     "name": "stderr",
     "output_type": "stream",
     "text": [
      "New names:\n",
      "* `` -> ...1\n",
      "* `` -> ...2\n",
      "* `` -> ...3\n",
      "* `` -> ...4\n",
      "* `` -> ...5\n",
      "* ...\n"
     ]
    },
    {
     "data": {
      "text/html": [
       "<table>\n",
       "<thead><tr><th scope=col>Fecha</th><th scope=col>PIB</th></tr></thead>\n",
       "<tbody>\n",
       "\t<tr><td>    1988</td><td>14219987</td></tr>\n",
       "\t<tr><td>    1989</td><td>14758943</td></tr>\n",
       "\t<tr><td>    1990</td><td>15443136</td></tr>\n",
       "\t<tr><td>    1991</td><td>16256453</td></tr>\n",
       "\t<tr><td>    1992</td><td>16524115</td></tr>\n",
       "\t<tr><td>    1993</td><td>17229578</td></tr>\n",
       "</tbody>\n",
       "</table>\n"
      ],
      "text/latex": [
       "\\begin{tabular}{r|ll}\n",
       " Fecha & PIB\\\\\n",
       "\\hline\n",
       "\t     1988 & 14219987\\\\\n",
       "\t     1989 & 14758943\\\\\n",
       "\t     1990 & 15443136\\\\\n",
       "\t     1991 & 16256453\\\\\n",
       "\t     1992 & 16524115\\\\\n",
       "\t     1993 & 17229578\\\\\n",
       "\\end{tabular}\n"
      ],
      "text/markdown": [
       "\n",
       "| Fecha | PIB |\n",
       "|---|---|\n",
       "|     1988 | 14219987 |\n",
       "|     1989 | 14758943 |\n",
       "|     1990 | 15443136 |\n",
       "|     1991 | 16256453 |\n",
       "|     1992 | 16524115 |\n",
       "|     1993 | 17229578 |\n",
       "\n"
      ],
      "text/plain": [
       "  Fecha    PIB     \n",
       "1     1988 14219987\n",
       "2     1989 14758943\n",
       "3     1990 15443136\n",
       "4     1991 16256453\n",
       "5     1992 16524115\n",
       "6     1993 17229578"
      ]
     },
     "metadata": {},
     "output_type": "display_data"
    }
   ],
   "source": [
    "pib_raw <- read_xlsx(\"./Datos/PIB.xlsx\", sheet = 1, range = \"B10:AG11\", col_names = FALSE)\n",
    "pib_raw <- as.data.frame(t(pib_raw), stringAsFactors = FALSE)\n",
    "rownames(pib_raw) <- NULL\n",
    "colnames(pib_raw) <- c(\"Fecha\", \"PIB\")\n",
    "head(pib_raw)"
   ]
  },
  {
   "cell_type": "code",
   "execution_count": 116,
   "metadata": {},
   "outputs": [
    {
     "data": {
      "text/html": [
       "<table>\n",
       "<thead><tr><th></th><th scope=col>Fecha</th><th scope=col>PIB</th></tr></thead>\n",
       "<tbody>\n",
       "\t<tr><th scope=row>27</th><td>    2014          </td><td>40588156          </td></tr>\n",
       "\t<tr><th scope=row>28</th><td>    2015          </td><td>42559599          </td></tr>\n",
       "\t<tr><th scope=row>29</th><td>    2016          </td><td>44374306          </td></tr>\n",
       "\t<tr><th scope=row>30</th><td>2017(p)           </td><td>46235899.827093497</td></tr>\n",
       "\t<tr><th scope=row>31</th><td>2018(p)           </td><td>48188730.162800297</td></tr>\n",
       "\t<tr><th scope=row>32</th><td>2019(p)           </td><td>49256932.52842477 </td></tr>\n",
       "</tbody>\n",
       "</table>\n"
      ],
      "text/latex": [
       "\\begin{tabular}{r|ll}\n",
       "  & Fecha & PIB\\\\\n",
       "\\hline\n",
       "\t27 &     2014           & 40588156          \\\\\n",
       "\t28 &     2015           & 42559599          \\\\\n",
       "\t29 &     2016           & 44374306          \\\\\n",
       "\t30 & 2017(p)            & 46235899.827093497\\\\\n",
       "\t31 & 2018(p)            & 48188730.162800297\\\\\n",
       "\t32 & 2019(p)            & 49256932.52842477 \\\\\n",
       "\\end{tabular}\n"
      ],
      "text/markdown": [
       "\n",
       "| <!--/--> | Fecha | PIB |\n",
       "|---|---|---|\n",
       "| 27 |     2014           | 40588156           |\n",
       "| 28 |     2015           | 42559599           |\n",
       "| 29 |     2016           | 44374306           |\n",
       "| 30 | 2017(p)            | 46235899.827093497 |\n",
       "| 31 | 2018(p)            | 48188730.162800297 |\n",
       "| 32 | 2019(p)            | 49256932.52842477  |\n",
       "\n"
      ],
      "text/plain": [
       "   Fecha    PIB               \n",
       "27     2014 40588156          \n",
       "28     2015 42559599          \n",
       "29     2016 44374306          \n",
       "30 2017(p)  46235899.827093497\n",
       "31 2018(p)  48188730.162800297\n",
       "32 2019(p)  49256932.52842477 "
      ]
     },
     "metadata": {},
     "output_type": "display_data"
    }
   ],
   "source": [
    "tail(pib_raw)"
   ]
  },
  {
   "cell_type": "code",
   "execution_count": 117,
   "metadata": {},
   "outputs": [
    {
     "data": {
      "image/png": "[encoded data removed]",
      "text/plain": [
       "plot without title"
      ]
     },
     "metadata": {},
     "output_type": "display_data"
    }
   ],
   "source": [
    "# Procedemos a graficar el PIB Anual de Bolivia\n",
    "fecha <- seq(as.Date(\"01/01/1988\", \"%d/%m/%Y\"), as.Date(\"01/01/2019\", \"%d/%m/%Y\"), by = \"year\")\n",
    "pib_raw$Fecha <- fecha\n",
    "g <- ggplot(data = pib_raw, aes(x = Fecha, y = as.numeric(as.character(PIB))))\n",
    "g + geom_line() + labs(title = \"Evolución PIB Anual Bolivia\", x = \"Años\", y = \"PIB Anual\")"
   ]
  },
  {
   "cell_type": "markdown",
   "metadata": {},
   "source": [
    "Este es un ejemplo de una serie de tiempo. Antes de comenzar a estudiar las herramientas del análisis de las series de tiempo es importante conocer la matemática básica necesaria para el entendimiento de las series de tiempo.\n",
    "\n",
    "Esta herramienta básica son las ecuaciones en diferencia."
   ]
  },
  {
   "cell_type": "markdown",
   "metadata": {},
   "source": [
    "## 1. Ecuaciones en diferencia \n",
    "\n",
    "Una ecuación en diferencia no es más que una relacion dinámica de una variable determinística o aleatoria. Empezemos con el modelo determinístico. Sea $y_t$ una serie de tiempo que presenta la siguiente relación:\n",
    "\n",
    "$$y_t = \\phi y_{t - 1} + w_t$$"
   ]
  },
  {
   "cell_type": "markdown",
   "metadata": {},
   "source": [
    "Esta es una **ecuación en diferencia de primer orden**. Necesitamos saber tres cosas:\n",
    "- ¿Cuál es su solución?\n",
    "- ¿Cuál es la condición de estabilidad?\n",
    "- ¿Cuál es el impacto de una variación de $w_t$ en $y_{t + j}$ a medida que $j \\to \\infty$?"
   ]
  },
  {
   "cell_type": "markdown",
   "metadata": {},
   "source": [
    "Supongamos que conocemos el valor de $y_{t - 1}$ y conocemos los valores de $w_t$ de t a $j$. Entonces recursivamente podemos obtener los valores de $y_{t + j}$ de $j = 0$ a $j = \\infty$. Entonces:\n",
    "\n",
    "$$y_{t + 1} = \\phi y_t + w_{t + 1} = \\phi^2 y_{t - 1} + \\phi w_t + w_{t + 1}$$\n",
    "$$y_{t + 2} = \\phi y_{t + 1} + w_{t + 2} = \\phi^3 y_{t - 1} + \\phi^2 w_t + \\phi w_{t + 1} + w_{t + 2}$$\n",
    "$$\\vdots$$\n",
    "$$y_{t + j} = \\phi^{j + 1} y_{t - 1} + \\phi^j w_t + \\phi^{j - 1} w_{t + 1} + \\dots + w_{t + j}$$\n",
    "\n",
    "Esta última ecuación seria la solucion de la **ecuación en diferencia de primer orden**."
   ]
  },
  {
   "cell_type": "markdown",
   "metadata": {},
   "source": [
    "Veamos ahora el caso de una **ecuación en diferencia de orden p**.\n",
    "\n",
    "$$y_t = \\phi_1 y_{t - 1} + \\phi_2 y_{t - 2} + \\dots + \\phi_p y_{t - p} + w_t$$\n",
    "\n",
    "podemos expresar esta ecuación en forma matricial considerando:\n",
    "\n",
    "$$ Y_t = \\left[\\begin{array}{c}y_t \\\\\n",
    "                               y_{t - 1} \\\\\n",
    "                               \\vdots \\\\\n",
    "                               y_{t - p + 1}\\end{array}\\right]$$\n",
    "\n",
    "$$ F = \\left[\\begin{array}{cccc}\\phi_1 & \\phi_2 & \\dots & \\phi_p \\\\\n",
    "                                1 & 0 & \\dots & 0 \\\\\n",
    "                                0 & 1 & \\dots & 0 \\\\\n",
    "                                \\vdots & \\vdots & \\dots & \\vdots \\\\\n",
    "                                0 & 0 & \\dots & 0\\end{array}\\right]$$\n",
    "\n",
    "$$ v_t = \\left[\\begin{array}{c}w_t \\\\\n",
    "                               0 \\\\ \n",
    "                               0 \\\\\n",
    "                               \\vdots \\\\\n",
    "                               0\\end{array}\\right] $$\n",
    "                               \n",
    "Con esto, la **ecuación en diferencias de orden p** quedaría reescrita como una **ecuación en diferencias de primer orden**:\n",
    "\n",
    "$$ Y_t = F Y_{t - 1} + v_t $$\n",
    "\n",
    "La solución a esta ecuación vendría dada por:\n",
    "\n",
    "$$ Y_{t + j} = F^{j + 1} Y_{t - 1} + F^j v_t + F^{j - 1}v_{t + 1} + \\dots + v_{t + j} $$\n",
    "                           "
   ]
  },
  {
   "cell_type": "markdown",
   "metadata": {},
   "source": [
    "En el caso de la condición de estabilidad podemos ver que para el caso de la **ecuación en diferencia de primer order** es suficiente que $|\\phi| < 1$ para que la solución sea estable. Otros valores generarían una solución explosiva a medida que $j \\to \\infty$."
   ]
  },
  {
   "cell_type": "markdown",
   "metadata": {},
   "source": [
    "Para el caso de las **ecuaciones en diferencia de orden p** es necesario un poco más de análisis para establecer las condiciones de estabilidad. Hemos visto que estas ecuaciones pueden representarse como una **ecuación en diferencias de primer orden** en forma matricial, la solución de la **ecuación en diferencias de orden p** vendría dada por:\n",
    "\n",
    "$$ y_{t + j} = f_{11}^{(j + 1)} y_{t - 1} + f_{12}^{(j + 1)} y_{t - 2} + \\dots + f_{1p}^{(j + 1)} y_{t - p} + f_{11}^{(j)} w_t + f_{11}^{(j - 1)} w_{t + 1} + \\dots + w_{t + j} $$ "
   ]
  },
  {
   "cell_type": "markdown",
   "metadata": {},
   "source": [
    "Entonces la estabilidad de la **ecuación en diferencias de orden p** depende de los elementos $f_{1i}^{(j)}$ de la matriz $F^j$ a medida que $j \\to \\infty$.\n",
    "\n",
    "Si la matriz F posee $p$ distintos autovalores, para simplificar el análisis podemos descomponer la matriz $F$ de la siguiente forma:\n",
    "\n",
    "$$ F = T \\Lambda T^{-1} $$\n",
    "\n",
    "donde $\\Lambda$ es una matriz diagonal de distintos autovalores $\\lambda_i$:\n",
    "\n",
    "$$ \\left[\\begin{array}{ccccc} \\lambda_1 & 0 & 0 & \\dots & 0 \\\\\n",
    "                              0 & \\lambda_2 & 0 & \\dots & 0 \\\\\n",
    "                              \\vdots & \\vdots & \\vdots & \\dots & \\vdots \\\\\n",
    "                              0 & 0 & 0 & \\dots & \\lambda_p \\end{array}\\right] $$\n",
    "                              \n",
    "y $T$ es una matriz con cada vector columna siendo un autovector de la matriz $F$ con esto podemos reescribir:\n",
    "\n",
    "$$ F^j = T \\Lambda^j T^{-1} $$\n",
    "\n",
    "dado que los autovalores de una matriz pueden ser reales o imaginarios, a raíz de esta última relación podemos concluir que la **ecuación en diferencias de orden p** es estable si todos los autovalores de la matriz $F$ estan **dentro del [círculo unitario](https://en.wikipedia.org/wiki/Complex_number).**\n",
    "\n",
    "Puede verse Hamilton(1994) para comprobar que los autovalores de la matriz $F$ satisfacen la ecuación polinómica:\n",
    "\n",
    "$$ \\lambda^p - \\phi_1 \\lambda^{p - 1} - \\phi_2 \\lambda^{p - 2} - \\dots - \\phi_{p - 1} \\lambda - \\phi_p = 0 $$"
   ]
  },
  {
   "cell_type": "markdown",
   "metadata": {},
   "source": [
    "Finalmente, ¿cuál es la respuesta de $y_{t + j}$ ante una variación exógena de $w_t$? Esto se conoce como **impulso - respuesta**.\n",
    "\n",
    "Para el caso de la **ecuación en diferencia de primer orden** es sencillo responder esta pregunta:\n",
    "\n",
    "$$ \\frac{\\partial y_{t + j}}{\\partial w_t} = \\phi^j $$\n",
    "\n",
    "Podemos verificar que si se cumple la condicion de estabilidad, la respuesta se desvanece en el tiempo."
   ]
  },
  {
   "cell_type": "code",
   "execution_count": 118,
   "metadata": {},
   "outputs": [
    {
     "data": {
      "image/png": "[encoded data removed]",
      "text/plain": [
       "plot without title"
      ]
     },
     "metadata": {},
     "output_type": "display_data"
    }
   ],
   "source": [
    "phi <- 0.8\n",
    "j <- 1:100\n",
    "x <- phi ^ j\n",
    "datos <- data.frame(Periodo = j, Respuesta = x)\n",
    "g <- ggplot(data = datos, aes(x = Periodo, y = Respuesta))\n",
    "g + geom_line()"
   ]
  },
  {
   "cell_type": "code",
   "execution_count": 119,
   "metadata": {},
   "outputs": [
    {
     "data": {
      "image/png": "[encoded data removed]",
      "text/plain": [
       "plot without title"
      ]
     },
     "metadata": {},
     "output_type": "display_data"
    }
   ],
   "source": [
    "phi <- -0.8\n",
    "j <- 1:100\n",
    "x <- phi ^ j\n",
    "datos <- data.frame(Periodo = j, Respuesta = x)\n",
    "g <- ggplot(data = datos, aes(x = Periodo, y = Respuesta))\n",
    "g + geom_line()"
   ]
  },
  {
   "cell_type": "markdown",
   "metadata": {},
   "source": [
    "Analogamente para el caso de las **ecuaciones en diferencias de orden p**, la función impulso - respuesta viene dada por:\n",
    "\n",
    "$$ \\frac{\\partial y_{t + j}}{\\partial w_t} = f_{11}^{(j)} $$\n",
    "\n",
    "es el primer elemento de la matriz $F^j$. En Hamilton(1994) puede verse que:\n",
    "\n",
    "$$ \\frac{\\partial y_{t + j}}{\\partial w_t} = c_1 \\lambda_1^j + c_2 \\lambda_2^j + \\dots + c_p \\lambda_p^j $$\n",
    "\n",
    "donde $c_i = \\frac{\\lambda_i^{p - 1}}{\\prod_{k = 1, k \\neq i}^{p}(\\lambda_i - \\lambda_k)}$.\n",
    "\n",
    "Si todos los autovalores están dentro del círculo unitario, la solución es estable y la función impulso - respuesta tiende a desvanecerse en el tiempo."
   ]
  },
  {
   "cell_type": "markdown",
   "metadata": {},
   "source": [
    "## 2. Operadores de rezago\n",
    "\n",
    "Un operador solamente transforma una serie de tiempo en otra serie de tiempo. En este caso particular, el operador de rezago, como su nombre lo dice, transforma una serie de tiempo en su pasado inmediato, el periodo anterior. Es decir:\n",
    "\n",
    "$$ Lx_t = x_{t - 1} $$"
   ]
  },
  {
   "cell_type": "markdown",
   "metadata": {},
   "source": [
    "Podemos utilizar el operador de rezago para hallar la solución de una ecuación en diferencia. Tomemos el caso de la siguiente **ecuación en diferencias de primer orden**:\n",
    "\n",
    "$$ y_{t + j} = \\phi y_{t + j - 1} + w_{t + j} $$\n",
    "\n",
    "podemos reescribir la ecuación como:\n",
    "\n",
    "$$ (1 - \\phi L)y_{t + j} = w_{t + j} $$\n",
    "\n",
    "teniendo en cuenta que contamos con la informacion de $y_{t - 1}$ y de todos los $w_{t + j}$ para $j = 0, 1, \\dots$. Podemos multiplicar ambos lados de la ecuación por $(1 + \\phi L + \\phi^2 L^2 + \\dots + \\phi^j L^j)$. Entonces:\n",
    "\n",
    "$$ (1 - \\phi^{j + 1} L^{j + 1})y_{t + j} = (1 + \\phi L + \\phi^2 L^2 + \\dots + \\phi^j L^j)w_{t + j} $$\n",
    "\n",
    "$$ y_{t + j} = \\phi^{j + 1}y_{t - 1} + \\phi^j w_t + \\phi^{j - 1}w_{t + 1} + \\dots + w_{t + j} $$\n",
    "\n",
    "que es la misma solución obtenida en la sección anterior para el caso de una **ecuación en diferencia de primer orden**."
   ]
  },
  {
   "cell_type": "markdown",
   "metadata": {},
   "source": [
    "Los operadores de rezago no solo son útiles para hallar soluciones a ecuaciones en diferencia sino tambien para determinar la estabilidad de las mismas.\n",
    "\n",
    "Tomemos el caso de la **ecuación en diferencias de orden p**:\n",
    "\n",
    "$$ y_t = \\phi_1 y_{t - 1} + \\phi_2 y_{t - 2} + \\dots + \\phi_p y_{t - p} + w_{t} $$\n",
    "\n",
    "podemos reescribir la ecuación como:\n",
    "\n",
    "$$ (1 - \\phi_1 L - \\phi_2 L^2 - \\dots - \\phi_p L^p) y_t = w_t $$\n",
    "\n",
    "El término en la izquierda puede ser reescrito como:\n",
    "\n",
    "$$ (1 - \\phi_1 z - \\phi_2 z^2 - \\dots - \\phi_p z^p) = (1 - \\lambda_1 z)(1 - \\lambda_2 z) \\dots (1 - \\lambda_p z) $$\n",
    "\n",
    "Este polinomio se lo conoce como **el polinomio característico** y las raíces del mismo son $z_i = \\lambda^{-1}_i$. Es decir, son la inversa de los autovalores de la matriz $F$ vista en la sección anterior. \n",
    "\n",
    "Concluímos en la sección anterior que la estabilidad de una **ecuación en diferencia de orden p** era garantizada si todos los autovalores de la matriz $F$ están dentro del círculo unitario. Con el uso de los operadores de rezago, concluimos que la estabilidad está garantizada si todas las raíces del **polinomio característico** están fuera del círculo unitario.\n",
    "\n",
    "Cualquier afirmación es equivalente."
   ]
  },
  {
   "cell_type": "markdown",
   "metadata": {},
   "source": [
    "## 3. Modelos Estacionarios ARMA"
   ]
  },
  {
   "cell_type": "markdown",
   "metadata": {},
   "source": [
    "Hemos mencionado que un proceso estocástico no es más que una sucesión de variables aleatorias indexadas al tiempo:\n",
    "\n",
    "$$Y_{-\\infty}, \\dots, Y_{-1}, Y_{0}, Y_{1}, \\dots, Y_{\\infty}$$\n",
    "\n",
    "y una serie de tiempo sería una realización de ese proceso estocástico definido:\n",
    "\n",
    "$$ y_{-\\infty}, \\dots, y_{-1}, y_{0}, y_{1}, \\dots, y_{\\infty}$$"
   ]
  },
  {
   "cell_type": "markdown",
   "metadata": {},
   "source": [
    "Como un proceso estocástico es un conjunto de variables aleatorias, podemos definir para cada una de ellas los principales momentos. Empecemos con la esperanza, sea la variable aleatoria $Y_t$ perteneciente al proceso estocástico $\\{Y_t\\}^\\infty_{t = -\\infty}$. La esperanza vendría definida por:\n",
    "\n",
    "$$\\mu_t = E[Y_t] = \\int^\\infty_{-\\infty}y_t f_{Y_t}(y_t)dy_t$$\n",
    "\n",
    "donde $f_{Y_t}(y_t)$ es la función de densidad de la variable aleatoria $Y_t$. Imaginemos que contamos con $I$ computadoras que simulan la variable aleatoria $Y_t$ al mismo tiempo. Podríamos estimar la esperanza de la variable aleatoria $Y_t$ a través de:\n",
    "\n",
    "$$E[Y_t] = \\lim_{I \\to \\infty}\\frac{\\sum^I_{i = 1}Y^{(i)}_t}{I}$$\n",
    "\n",
    "Esto se cumple por la Ley de Grandes Números. De igual forma, podríamos definir el segundo momento que es la autocovarianza como:\n",
    "\n",
    "$$\\gamma_{jt} = E[(Y_t - \\mu_t)(Y_{t - j} - \\mu_{t - j})] = \\int^\\infty_{-\\infty}\\int^\\infty_{-\\infty}\\dots\\int^\\infty_{-\\infty}(y_t - \\mu_t)(y_{t - j} - \\mu_{t - j})f_{Y_t, Y_{t - 1}, \\dots, Y_{t - j}}(y_t, y_{t - 1}, \\dots, y_{t - j})dy_ydy_{t - 1}\\dots dy_{t - j}$$"
   ]
  },
  {
   "cell_type": "markdown",
   "metadata": {},
   "source": [
    "donde $f_{Y_t, Y_{t - 1}, \\dots, Y_{t - j}}(y_t, y_{t - 1}, \\dots, y_{t - j})$ es la función de densidad conjunta de las variables aleatorias $Y_t, Y_{t - 1}, \\dots, Y_{t - j}$. Se puede definir análogamente a la esperanza un estimador de $\\gamma_{jt}$:\n",
    "\n",
    "$$\\gamma_{jt} = \\lim_{I \\to \\infty}\\frac{\\sum^I_{i = 1}[Y^{(i)}_t - \\mu_t][Y^{(i)}_{t - j} - \\mu_{t - j}]}{I}$$"
   ]
  },
  {
   "cell_type": "markdown",
   "metadata": {},
   "source": [
    "Considerando cómo se calcula la autocovarianza, definiríamos a la varianza de la variable aleatoria $Y_t$ como $\\gamma_{0t}$. Tomando en cuenta esto, la autocorrelación se definiría como:\n",
    "\n",
    "$$\\rho_{jt} = \\frac{\\gamma_{jt}}{\\gamma_{0t}}$$.\n",
    "\n",
    "Estos son los principales momentos que se consideran al estudiar las series de tiempo."
   ]
  },
  {
   "cell_type": "markdown",
   "metadata": {},
   "source": [
    "### 3.1 Estacionariedad y Ergodicidad"
   ]
  },
  {
   "cell_type": "markdown",
   "metadata": {},
   "source": [
    "Si ni la esperanza, ni las autocovarianzas definidas anteriormente dependen del tiempo, entonces se dice que la serie de tiempo es estacionaria en el sentido débil. Es decir:\n",
    "\n",
    "$$E[Y_t] = \\mu $$\n",
    "$$E[(Y_t - \\mu)(Y_{t - j} - \\mu)] = \\gamma_j$$\n",
    "\n",
    "Ningún momento depende del tiempo. Sólo las autocovarianzas dependen del número de periodos $j$ que separa a las variables aleatorias $Y_t$ y $Y_{t - j}$. Adicionalmente, podemos ver que para una serie de tiempo estacionaria se cumple que:\n",
    "\n",
    "$$\\gamma_j = E[(Y_{t + j} - \\mu)(Y_{(t + j) - j} - \\mu)] = E[(Y_{t + j} - \\mu)(Y_t - \\mu)] = \\gamma_{-j}$$\n",
    "\n",
    "Es decir, las autocovarianzas con $j$ periodos hacia adelante o hacia atrás son idénticas.\n",
    "\n",
    "Hay un concepto de estacionariedad en el sentido fuerte. Esto nos dice que si la función de densidad conjunta $f_{Y_t, Y_{t + j_1}, Y_{t + j_2}, \\dots, Y_{t + j_n}}(y_t, y_{t + j_1}, y_{t + j_2}, \\dots, y_{t + j_n})$ depende sólo de los intervalos $j_1, j_2, \\dots, j_n$ separando las fechas y no así del tiempo $t$; entonces el proceso estocástico es estacionario en el sentido fuerte."
   ]
  },
  {
   "cell_type": "markdown",
   "metadata": {},
   "source": [
    "Ahora bien, se había considerado que para calcular la media de una variable aleatoria perteneciente a un proceso estacionario $\\{Y_t\\}^\\infty_{t = -\\infty}$ necesitamos $I$ realizaciones de este proceso estocástico; sin embargo, en la práctica sólo se cuenta con una realización finita del proceso estocástico bajo estudio. En este sentido, cabe preguntarse bajo qué condiciones:\n",
    "\n",
    "$$\\frac{\\sum^T_{t = 1}y^{(1)}_t}{T} \\to E[Y_t]$$\n",
    "\n",
    "es decir, como podemos asegurar que el simple promedio de la serie de tiempo que consideremos bajo análisis es un buen estimador de la esperanza de la variable aleatoria $Y_t$."
   ]
  },
  {
   "cell_type": "markdown",
   "metadata": {},
   "source": [
    "Si se cumple que para el proceso estocástico estacionario (ojo con esto, el proceso estocástico debe ser estacionario en el sentido débil) bajo estudio que:\n",
    "\n",
    "$$\\sum^{}_{j = 0}\\gamma_j < \\infty$$\n",
    "\n",
    "entonces el proceso estocástico estacionario es ergódico para la esperanza. Esto quiere decir que podemos usar el simple promedio de la serie de tiempo como un buen estimador de $E[Y_t]$. De igual forma existen condiciones (los interesados pueden ver el Capítulo 7 del libro de Hamilton(1994)) que nos aseguran que:\n",
    "\n",
    "$$\\frac{\\sum^T_{t = j + 1}(y^{(1)}_t - \\mu)(y^{(1)}_{t - j} - \\mu)}{T - j} \\to \\gamma_j$$\n",
    "\n",
    "cuando se cumple esto se dice que el proceso estocástico estacionario es ergódico para el segundo momento."
   ]
  },
  {
   "cell_type": "markdown",
   "metadata": {},
   "source": [
    "### 3.2 Ruido Blanco\n",
    "\n",
    "El proceso sobre el cual se construyen los procesos ARMA que veremos es el conocido como ruido blanco $\\{\\epsilon_t\\}^\\infty_{t = -\\infty}$ que debe cumplir tres condiciones:\n",
    "\n",
    "1. $E[\\epsilon_t] = 0 $.\n",
    "2. $E[\\epsilon^2_t] = \\sigma^2$.\n",
    "3. $E[\\epsilon_t \\epsilon_{\\tau}] = 0$ para $t \\neq \\tau$\n",
    "\n",
    "Es decir que el proceso ruido blanco es estacionario con autocovarianzas y autocorrelaciones de 0."
   ]
  },
  {
   "cell_type": "markdown",
   "metadata": {},
   "source": [
    "Podemos ver cómo luce un proceso ruido blanco gaussiano.\n"
   ]
  },
  {
   "cell_type": "code",
   "execution_count": 120,
   "metadata": {},
   "outputs": [
    {
     "data": {
      "image/png": "[encoded data removed]",
      "text/plain": [
       "plot without title"
      ]
     },
     "metadata": {},
     "output_type": "display_data"
    }
   ],
   "source": [
    "# Generar 100 números aleatorios normales estándar\n",
    "set.seed(12345)\n",
    "y <- rnorm(100)\n",
    "x <- 1:100\n",
    "datos <- data.frame(y = y, x = x)\n",
    "g <- ggplot(data = datos, aes(x = x, y = y))\n",
    "g + geom_line()"
   ]
  },
  {
   "cell_type": "markdown",
   "metadata": {},
   "source": [
    "### 3.3 Eliminación de tendencia y estacionalidad"
   ]
  },
  {
   "cell_type": "markdown",
   "metadata": {},
   "source": [
    "Los procesos ARMA que veremos son estacionarios y dos elementos que evitan la estacionariedad de una serie de tiempo son: la tendencia y la estacionalidad. La tendencia puede ser determinística o estocástica. Nos concentraremos en la tendencia determinística y dejaremos la tendencia estocástica para el capítulo de Raiz Unitaria. \n",
    "\n",
    "Estos dos componentes de tendencia y estacionalidad están generalmente presentes en las series de datos económicas y deben ser eliminados para poder aplicar la modelación ARMA. Por ejemplo consideremos la serie de Billetes y Monedas que circulan en la economía:"
   ]
  },
  {
   "cell_type": "code",
   "execution_count": 121,
   "metadata": {},
   "outputs": [
    {
     "data": {
      "image/png": "[encoded data removed]",
      "text/plain": [
       "plot without title"
      ]
     },
     "metadata": {},
     "output_type": "display_data"
    }
   ],
   "source": [
    "datos <- read.csv(\"./Datos/billetes.csv\") # Se procede a leer los datos\n",
    "fecha <- as.Date(datos$ï..fecha,\"%m/%d/%Y\")# Convertir en formato fecha la variable fecha de la base de datos\n",
    "datos2 <- data.frame(fecha=fecha,bm = datos$BM/1000000)\n",
    "g <- ggplot(data=datos2,aes(x=fecha, y=bm)) \n",
    "g + geom_line() + labs(x=\"Fecha\",y=\"Biletes y Monedas (millones Bs)\") + geom_hline(yintercept=0)"
   ]
  },
  {
   "cell_type": "markdown",
   "metadata": {},
   "source": [
    "Claramente se observa una tendencia positiva en la serie donde los Billetes y Monedas en circulación en la economía bolivianan han ido de 10 millones de Bs. a más de 40 millones de Bs. en 10 años. Adicionalmente, cada fin de año existen incrementos que se repiten por las fiestas de fin de año. Este es el factor estacional. Para poder modelar la serie de Billetes y Monedas en circulación bajo el enfoque ARMA, es necesario eliminar estos componentes de la serie. En general se tiene que para cualquier serie de tiempo $x_t$:\n",
    "\n",
    "$$ x_t = m_t + s_t + y_t $$\n",
    "\n",
    "donde $m_t$ es la tendencia, $s_t$ es el componente estacional y $y_t$ es el residuo estacionario susceptible a ser modelado bajo el enfoque ARMA."
   ]
  },
  {
   "cell_type": "markdown",
   "metadata": {},
   "source": [
    "La técnica más elemental y más intuitiva para eliminar la tendencia y la estacionalidad es aplicar el operador diferencia:\n",
    "\n",
    "1. Para el caso de la tendencia $\\Delta x_t = (1 - L)x_t = x_t - x_{t - 1}$.\n",
    "2. Para el caso de la estacionalidad, sea $d$ el factor de estacionalidad; entonces: $\\Delta_d x_t = (1 - L^d)x_t = x_t - x_{t - d}$"
   ]
  },
  {
   "cell_type": "markdown",
   "metadata": {},
   "source": [
    "Antes de eliminar la tendencia, cabe notar que el gráfico muestra cierta tendencia a incrementarse (mayores oscilaciones). Para facilitar el análisis, realizamos una transformación a los datos aplicando logaritmos `log`."
   ]
  },
  {
   "cell_type": "code",
   "execution_count": 122,
   "metadata": {},
   "outputs": [
    {
     "data": {
      "image/png": "[encoded data removed]",
      "text/plain": [
       "plot without title"
      ]
     },
     "metadata": {},
     "output_type": "display_data"
    }
   ],
   "source": [
    "datos2$lbm <- log(datos2$bm)\n",
    "g <- ggplot(data = datos2, aes(x = fecha, y = lbm))\n",
    "g + geom_line() + labs(x = \"Fecha\", y = \"Billetes y Monedas en Logaritmos\")"
   ]
  },
  {
   "cell_type": "markdown",
   "metadata": {},
   "source": [
    "Ahora se utiliza el comando `diff` para aplicar el operador diferencia y eliminar la tendencia:"
   ]
  },
  {
   "cell_type": "code",
   "execution_count": 123,
   "metadata": {},
   "outputs": [
    {
     "data": {
      "image/png": "[encoded data removed]",
      "text/plain": [
       "plot without title"
      ]
     },
     "metadata": {},
     "output_type": "display_data"
    }
   ],
   "source": [
    "datos2$lbm_nt <- c(NA, diff(datos2$lbm))\n",
    "n <- length(datos2$lbm)\n",
    "g <- ggplot(data = datos2[2:n,], aes(x = fecha, y = lbm_nt))\n",
    "g + geom_line()"
   ]
  },
  {
   "cell_type": "markdown",
   "metadata": {},
   "source": [
    "Como puede observarse, la tendencia se eliminó de la serie, solamente quedaría el componente estacional. Para ello, aplicamos el comando `diff` con la opcion `lag = 12` (ya que cada 12 meses existe un incremento en los Billetes y Monedas)."
   ]
  },
  {
   "cell_type": "code",
   "execution_count": 124,
   "metadata": {},
   "outputs": [
    {
     "data": {
      "image/png": "[encoded data removed]",
      "text/plain": [
       "plot without title"
      ]
     },
     "metadata": {},
     "output_type": "display_data"
    }
   ],
   "source": [
    "datos2$lbm_ntns <- c(rep(NA, 12), diff(datos2$lbm_nt, lag = 12))\n",
    "g <- ggplot(data = datos2[14:n,], aes(x = fecha, y = lbm_ntns))\n",
    "g + geom_line()"
   ]
  },
  {
   "cell_type": "markdown",
   "metadata": {},
   "source": [
    "Como puede observarse, se ha eliminado el componente estacional de las serie y ahora este residuo es susceptible a ser modelado bajo el enfoque ARMA.\n",
    "\n",
    "Existe tambien otro método que nos permite extraer los componentes de tendencia y estacionalidad a través del uso de la herramienta de regresión lineal y este método es útil cuando nuestro objetivo es el pronóstico.\n",
    "\n",
    "En el caso de la tendencia $m_t$, podemos asumir que está descrita por el siguiente polinomio:\n",
    "\n",
    "$$ m_t = \\sum^N_{i = 0}a_i n^i_t $$\n",
    "\n",
    "donde $n_t$ son generalente las fechas de la serie; entonces el problema se reduce a aplicar OLS a la series de Billetes y Monedas. El modelo sería:\n",
    "\n",
    "$$ x_t = \\sum^N_{i = 0}a_i n^i_t + e_t $$\n",
    "\n",
    "donde $e_t$ es el término error. Procedemos a estimar el modelo bajo la hipótesis de una tendencia cúbica:"
   ]
  },
  {
   "cell_type": "code",
   "execution_count": 125,
   "metadata": {},
   "outputs": [],
   "source": [
    "datos2$t <- 1:n\n",
    "datos2$t2 <- datos2$t^2\n",
    "datos2$t3 <- datos2$t^3"
   ]
  },
  {
   "cell_type": "code",
   "execution_count": 126,
   "metadata": {},
   "outputs": [
    {
     "data": {
      "text/plain": [
       "\n",
       "Call:\n",
       "lm(formula = lbm ~ t + t2 + t3, data = datos2)\n",
       "\n",
       "Residuals:\n",
       "      Min        1Q    Median        3Q       Max \n",
       "-0.149172 -0.032502 -0.004588  0.022928  0.189970 \n",
       "\n",
       "Coefficients:\n",
       "              Estimate Std. Error t value Pr(>|t|)    \n",
       "(Intercept)  2.120e+00  2.630e-02  80.593  < 2e-16 ***\n",
       "t            2.326e-02  1.706e-03  13.633  < 2e-16 ***\n",
       "t2          -1.041e-04  2.975e-05  -3.498 0.000645 ***\n",
       "t3           8.560e-08  1.471e-07   0.582 0.561584    \n",
       "---\n",
       "Signif. codes:  0 '***' 0.001 '**' 0.01 '*' 0.05 '.' 0.1 ' ' 1\n",
       "\n",
       "Residual standard error: 0.07342 on 128 degrees of freedom\n",
       "Multiple R-squared:  0.972,\tAdjusted R-squared:  0.9713 \n",
       "F-statistic:  1481 on 3 and 128 DF,  p-value: < 2.2e-16\n"
      ]
     },
     "metadata": {},
     "output_type": "display_data"
    }
   ],
   "source": [
    "mt_mod <- lm(lbm ~ t + t2 + t3, data = datos2) \n",
    "summary(mt_mod)"
   ]
  },
  {
   "cell_type": "markdown",
   "metadata": {},
   "source": [
    "Podemos verificar como queda la serie una vez extraida la tendencia:"
   ]
  },
  {
   "cell_type": "code",
   "execution_count": 127,
   "metadata": {},
   "outputs": [
    {
     "data": {
      "image/png": "[encoded data removed]",
      "text/plain": [
       "plot without title"
      ]
     },
     "metadata": {},
     "output_type": "display_data"
    }
   ],
   "source": [
    "datos2$lbm_nt2 <- mt_mod$residuals\n",
    "g <- ggplot(data = datos2, aes(x = fecha, y = lbm_nt2))\n",
    "g + geom_line()"
   ]
  },
  {
   "cell_type": "markdown",
   "metadata": {},
   "source": [
    "Podemos también graficar la tendencia estimada:"
   ]
  },
  {
   "cell_type": "code",
   "execution_count": 128,
   "metadata": {},
   "outputs": [
    {
     "data": {
      "image/png": "[encoded data removed]",
      "text/plain": [
       "plot without title"
      ]
     },
     "metadata": {},
     "output_type": "display_data"
    }
   ],
   "source": [
    "datos2$lbm_mt <- predict(mt_mod)\n",
    "g <- ggplot(data = datos2, aes(x = fecha, y = lbm_mt))\n",
    "g + geom_line()"
   ]
  },
  {
   "cell_type": "markdown",
   "metadata": {},
   "source": [
    "En el caso de la estacionalidad $s_t$ la estimamos a través de la regresión harmónica donde:\n",
    "\n",
    "$$ s_t = a_0 + \\sum^k_{j = 1}(a_j \\cos(2\\pi \\omega_j t) + b_j\\sin(2\\pi \\omega_j t))$$\n",
    "\n",
    "donde $\\omega_j$ es la fracción del ciclo que se completa en una unidad de tiempo y $-0.5 < \\omega_j \\leq 0.5$. Se la conoce como frecuencia. Definidas las frecuencias $\\omega_j$, es posible estimar el modelo a través de OLS:\n",
    "\n",
    "$$ x_t = a_0 + \\sum^k_{j = 1}(a_j \\cos(2\\pi \\omega_j t) + b_j\\sin(2\\pi \\omega_j t)) + e_t $$\n",
    "\n",
    "donde $e_t$ es el termino error. Cabe mencionar que la $x_t$ considerarda excluye ya el componente tendencia $m_t$.\n",
    "\n",
    "Procedemos a estimar el componente estacional. Para ello requerimos definir las frecuencias $\\omega_j$ requeridas. Esto lo hacemos con la ayuda del periodograma (en qué consiste el periodograma lo veremos en el capítulo de Análisis Espectral). "
   ]
  },
  {
   "cell_type": "code",
   "execution_count": 129,
   "metadata": {},
   "outputs": [
    {
     "data": {
      "image/png": "[encoded data removed]",
      "text/plain": [
       "plot without title"
      ]
     },
     "metadata": {},
     "output_type": "display_data"
    }
   ],
   "source": [
    "# Intalamos el paquete requerido \n",
    "# install.packages(\"TSA\")\n",
    "library(TSA)\n",
    "period <- periodogram(datos2$lbm_nt2)"
   ]
  },
  {
   "cell_type": "code",
   "execution_count": 130,
   "metadata": {},
   "outputs": [
    {
     "data": {
      "text/html": [
       "<table>\n",
       "<thead><tr><th scope=col>freq</th><th scope=col>spec</th></tr></thead>\n",
       "<tbody>\n",
       "\t<tr><td>0.007407407 </td><td>2.737966e-03</td></tr>\n",
       "\t<tr><td>0.014814815 </td><td>8.703495e-02</td></tr>\n",
       "\t<tr><td>0.022222222 </td><td>1.609705e-01</td></tr>\n",
       "\t<tr><td>0.029629630 </td><td>1.203366e-01</td></tr>\n",
       "\t<tr><td>0.037037037 </td><td>6.686480e-02</td></tr>\n",
       "\t<tr><td>0.044444444 </td><td>3.382361e-02</td></tr>\n",
       "\t<tr><td>0.051851852 </td><td>2.873166e-02</td></tr>\n",
       "\t<tr><td>0.059259259 </td><td>3.128557e-03</td></tr>\n",
       "\t<tr><td>0.066666667 </td><td>8.035796e-03</td></tr>\n",
       "\t<tr><td>0.074074074 </td><td>9.324148e-03</td></tr>\n",
       "\t<tr><td>0.081481481 </td><td>6.860172e-02</td></tr>\n",
       "\t<tr><td>0.088888889 </td><td>6.959030e-03</td></tr>\n",
       "\t<tr><td>0.096296296 </td><td>2.984924e-03</td></tr>\n",
       "\t<tr><td>0.103703704 </td><td>8.552799e-04</td></tr>\n",
       "\t<tr><td>0.111111111 </td><td>3.916821e-04</td></tr>\n",
       "\t<tr><td>0.118518519 </td><td>9.091229e-04</td></tr>\n",
       "\t<tr><td>0.125925926 </td><td>1.127125e-04</td></tr>\n",
       "\t<tr><td>0.133333333 </td><td>3.022786e-03</td></tr>\n",
       "\t<tr><td>0.140740741 </td><td>2.515692e-03</td></tr>\n",
       "\t<tr><td>0.148148148 </td><td>6.090680e-05</td></tr>\n",
       "\t<tr><td>0.155555556 </td><td>2.871333e-03</td></tr>\n",
       "\t<tr><td>0.162962963 </td><td>2.053644e-02</td></tr>\n",
       "\t<tr><td>0.170370370 </td><td>1.603795e-02</td></tr>\n",
       "\t<tr><td>0.177777778 </td><td>1.485292e-03</td></tr>\n",
       "\t<tr><td>0.185185185 </td><td>6.624783e-06</td></tr>\n",
       "\t<tr><td>0.192592593 </td><td>2.699993e-04</td></tr>\n",
       "\t<tr><td>0.200000000 </td><td>1.923496e-04</td></tr>\n",
       "\t<tr><td>0.207407407 </td><td>3.865798e-05</td></tr>\n",
       "\t<tr><td>0.214814815 </td><td>2.864618e-04</td></tr>\n",
       "\t<tr><td>0.222222222 </td><td>8.616191e-04</td></tr>\n",
       "\t<tr><td>0.229629630 </td><td>7.470259e-04</td></tr>\n",
       "\t<tr><td>0.237037037 </td><td>7.898893e-04</td></tr>\n",
       "\t<tr><td>0.244444444 </td><td>2.189299e-03</td></tr>\n",
       "\t<tr><td>0.251851852 </td><td>1.266262e-02</td></tr>\n",
       "\t<tr><td>0.259259259 </td><td>9.323575e-04</td></tr>\n",
       "\t<tr><td>0.266666667 </td><td>3.974617e-04</td></tr>\n",
       "\t<tr><td>0.274074074 </td><td>2.767460e-04</td></tr>\n",
       "\t<tr><td>0.281481481 </td><td>6.431295e-06</td></tr>\n",
       "\t<tr><td>0.288888889 </td><td>3.492555e-04</td></tr>\n",
       "\t<tr><td>0.296296296 </td><td>2.387986e-04</td></tr>\n",
       "</tbody>\n",
       "</table>\n"
      ],
      "text/latex": [
       "\\begin{tabular}{r|ll}\n",
       " freq & spec\\\\\n",
       "\\hline\n",
       "\t 0.007407407  & 2.737966e-03\\\\\n",
       "\t 0.014814815  & 8.703495e-02\\\\\n",
       "\t 0.022222222  & 1.609705e-01\\\\\n",
       "\t 0.029629630  & 1.203366e-01\\\\\n",
       "\t 0.037037037  & 6.686480e-02\\\\\n",
       "\t 0.044444444  & 3.382361e-02\\\\\n",
       "\t 0.051851852  & 2.873166e-02\\\\\n",
       "\t 0.059259259  & 3.128557e-03\\\\\n",
       "\t 0.066666667  & 8.035796e-03\\\\\n",
       "\t 0.074074074  & 9.324148e-03\\\\\n",
       "\t 0.081481481  & 6.860172e-02\\\\\n",
       "\t 0.088888889  & 6.959030e-03\\\\\n",
       "\t 0.096296296  & 2.984924e-03\\\\\n",
       "\t 0.103703704  & 8.552799e-04\\\\\n",
       "\t 0.111111111  & 3.916821e-04\\\\\n",
       "\t 0.118518519  & 9.091229e-04\\\\\n",
       "\t 0.125925926  & 1.127125e-04\\\\\n",
       "\t 0.133333333  & 3.022786e-03\\\\\n",
       "\t 0.140740741  & 2.515692e-03\\\\\n",
       "\t 0.148148148  & 6.090680e-05\\\\\n",
       "\t 0.155555556  & 2.871333e-03\\\\\n",
       "\t 0.162962963  & 2.053644e-02\\\\\n",
       "\t 0.170370370  & 1.603795e-02\\\\\n",
       "\t 0.177777778  & 1.485292e-03\\\\\n",
       "\t 0.185185185  & 6.624783e-06\\\\\n",
       "\t 0.192592593  & 2.699993e-04\\\\\n",
       "\t 0.200000000  & 1.923496e-04\\\\\n",
       "\t 0.207407407  & 3.865798e-05\\\\\n",
       "\t 0.214814815  & 2.864618e-04\\\\\n",
       "\t 0.222222222  & 8.616191e-04\\\\\n",
       "\t 0.229629630  & 7.470259e-04\\\\\n",
       "\t 0.237037037  & 7.898893e-04\\\\\n",
       "\t 0.244444444  & 2.189299e-03\\\\\n",
       "\t 0.251851852  & 1.266262e-02\\\\\n",
       "\t 0.259259259  & 9.323575e-04\\\\\n",
       "\t 0.266666667  & 3.974617e-04\\\\\n",
       "\t 0.274074074  & 2.767460e-04\\\\\n",
       "\t 0.281481481  & 6.431295e-06\\\\\n",
       "\t 0.288888889  & 3.492555e-04\\\\\n",
       "\t 0.296296296  & 2.387986e-04\\\\\n",
       "\\end{tabular}\n"
      ],
      "text/markdown": [
       "\n",
       "| freq | spec |\n",
       "|---|---|\n",
       "| 0.007407407  | 2.737966e-03 |\n",
       "| 0.014814815  | 8.703495e-02 |\n",
       "| 0.022222222  | 1.609705e-01 |\n",
       "| 0.029629630  | 1.203366e-01 |\n",
       "| 0.037037037  | 6.686480e-02 |\n",
       "| 0.044444444  | 3.382361e-02 |\n",
       "| 0.051851852  | 2.873166e-02 |\n",
       "| 0.059259259  | 3.128557e-03 |\n",
       "| 0.066666667  | 8.035796e-03 |\n",
       "| 0.074074074  | 9.324148e-03 |\n",
       "| 0.081481481  | 6.860172e-02 |\n",
       "| 0.088888889  | 6.959030e-03 |\n",
       "| 0.096296296  | 2.984924e-03 |\n",
       "| 0.103703704  | 8.552799e-04 |\n",
       "| 0.111111111  | 3.916821e-04 |\n",
       "| 0.118518519  | 9.091229e-04 |\n",
       "| 0.125925926  | 1.127125e-04 |\n",
       "| 0.133333333  | 3.022786e-03 |\n",
       "| 0.140740741  | 2.515692e-03 |\n",
       "| 0.148148148  | 6.090680e-05 |\n",
       "| 0.155555556  | 2.871333e-03 |\n",
       "| 0.162962963  | 2.053644e-02 |\n",
       "| 0.170370370  | 1.603795e-02 |\n",
       "| 0.177777778  | 1.485292e-03 |\n",
       "| 0.185185185  | 6.624783e-06 |\n",
       "| 0.192592593  | 2.699993e-04 |\n",
       "| 0.200000000  | 1.923496e-04 |\n",
       "| 0.207407407  | 3.865798e-05 |\n",
       "| 0.214814815  | 2.864618e-04 |\n",
       "| 0.222222222  | 8.616191e-04 |\n",
       "| 0.229629630  | 7.470259e-04 |\n",
       "| 0.237037037  | 7.898893e-04 |\n",
       "| 0.244444444  | 2.189299e-03 |\n",
       "| 0.251851852  | 1.266262e-02 |\n",
       "| 0.259259259  | 9.323575e-04 |\n",
       "| 0.266666667  | 3.974617e-04 |\n",
       "| 0.274074074  | 2.767460e-04 |\n",
       "| 0.281481481  | 6.431295e-06 |\n",
       "| 0.288888889  | 3.492555e-04 |\n",
       "| 0.296296296  | 2.387986e-04 |\n",
       "\n"
      ],
      "text/plain": [
       "   freq        spec        \n",
       "1  0.007407407 2.737966e-03\n",
       "2  0.014814815 8.703495e-02\n",
       "3  0.022222222 1.609705e-01\n",
       "4  0.029629630 1.203366e-01\n",
       "5  0.037037037 6.686480e-02\n",
       "6  0.044444444 3.382361e-02\n",
       "7  0.051851852 2.873166e-02\n",
       "8  0.059259259 3.128557e-03\n",
       "9  0.066666667 8.035796e-03\n",
       "10 0.074074074 9.324148e-03\n",
       "11 0.081481481 6.860172e-02\n",
       "12 0.088888889 6.959030e-03\n",
       "13 0.096296296 2.984924e-03\n",
       "14 0.103703704 8.552799e-04\n",
       "15 0.111111111 3.916821e-04\n",
       "16 0.118518519 9.091229e-04\n",
       "17 0.125925926 1.127125e-04\n",
       "18 0.133333333 3.022786e-03\n",
       "19 0.140740741 2.515692e-03\n",
       "20 0.148148148 6.090680e-05\n",
       "21 0.155555556 2.871333e-03\n",
       "22 0.162962963 2.053644e-02\n",
       "23 0.170370370 1.603795e-02\n",
       "24 0.177777778 1.485292e-03\n",
       "25 0.185185185 6.624783e-06\n",
       "26 0.192592593 2.699993e-04\n",
       "27 0.200000000 1.923496e-04\n",
       "28 0.207407407 3.865798e-05\n",
       "29 0.214814815 2.864618e-04\n",
       "30 0.222222222 8.616191e-04\n",
       "31 0.229629630 7.470259e-04\n",
       "32 0.237037037 7.898893e-04\n",
       "33 0.244444444 2.189299e-03\n",
       "34 0.251851852 1.266262e-02\n",
       "35 0.259259259 9.323575e-04\n",
       "36 0.266666667 3.974617e-04\n",
       "37 0.274074074 2.767460e-04\n",
       "38 0.281481481 6.431295e-06\n",
       "39 0.288888889 3.492555e-04\n",
       "40 0.296296296 2.387986e-04"
      ]
     },
     "metadata": {},
     "output_type": "display_data"
    }
   ],
   "source": [
    "period_datos <- data.frame(freq = period$freq, spec = period$spec)\n",
    "head(period_datos,40)"
   ]
  },
  {
   "cell_type": "code",
   "execution_count": 131,
   "metadata": {},
   "outputs": [
    {
     "data": {
      "text/html": [
       "<ol class=list-inline>\n",
       "\t<li>2.64</li>\n",
       "\t<li>11.88</li>\n",
       "\t<li>22.44</li>\n",
       "\t<li>33</li>\n",
       "</ol>\n"
      ],
      "text/latex": [
       "\\begin{enumerate*}\n",
       "\\item 2.64\n",
       "\\item 11.88\n",
       "\\item 22.44\n",
       "\\item 33\n",
       "\\end{enumerate*}\n"
      ],
      "text/markdown": [
       "1. 2.64\n",
       "2. 11.88\n",
       "3. 22.44\n",
       "4. 33\n",
       "\n",
       "\n"
      ],
      "text/plain": [
       "[1]  2.64 11.88 22.44 33.00"
      ]
     },
     "metadata": {},
     "output_type": "display_data"
    }
   ],
   "source": [
    "n * c(0.02, 0.09, 0.17, 0.25)"
   ]
  },
  {
   "cell_type": "markdown",
   "metadata": {},
   "source": [
    "Hay un ciclo corto de 2 meses, pero hay ciclos periódicos de 11, 22 y 33 meses y asi sucesivamente hasta completar la muestra."
   ]
  },
  {
   "cell_type": "code",
   "execution_count": 132,
   "metadata": {},
   "outputs": [],
   "source": [
    "omega_j <- c(0.02, 11 * (1:(n %/% 22)) / n)"
   ]
  },
  {
   "cell_type": "code",
   "execution_count": 133,
   "metadata": {},
   "outputs": [],
   "source": [
    "m <- ncol(datos2)\n",
    "for (i in 1:length(omega_j)) {\n",
    "     datos2[, m + i] <- cos(2*pi*omega_j[i]*datos2$t)\n",
    "}"
   ]
  },
  {
   "cell_type": "code",
   "execution_count": 134,
   "metadata": {},
   "outputs": [],
   "source": [
    "colnames(datos2)[11:17] <- paste(rep(\"W\", 7), 1:7, sep = \"\")"
   ]
  },
  {
   "cell_type": "code",
   "execution_count": 135,
   "metadata": {},
   "outputs": [],
   "source": [
    "m <- ncol(datos2)\n",
    "for (i in 1:length(omega_j)) {\n",
    "    datos2[, m + i] <- sin(2*pi*omega_j[i]*datos2$t)\n",
    "}"
   ]
  },
  {
   "cell_type": "code",
   "execution_count": 136,
   "metadata": {},
   "outputs": [],
   "source": [
    "colnames(datos2)[18:24] <- paste(rep(\"Z\", 7), 1:7, sep = \"\")"
   ]
  },
  {
   "cell_type": "code",
   "execution_count": 137,
   "metadata": {},
   "outputs": [
    {
     "data": {
      "text/plain": [
       "\n",
       "Call:\n",
       "lm(formula = lbm_nt2 ~ W1 + W2 + W3 + W4 + W5 + W6 + W7 + Z1 + \n",
       "    Z2 + Z3 + Z4 + Z5 + Z6 + Z7, data = datos2)\n",
       "\n",
       "Residuals:\n",
       "     Min       1Q   Median       3Q      Max \n",
       "-0.14017 -0.03680 -0.00701  0.03643  0.16885 \n",
       "\n",
       "Coefficients:\n",
       "              Estimate Std. Error t value Pr(>|t|)    \n",
       "(Intercept) -4.462e-03  5.415e-03  -0.824 0.411547    \n",
       "W1          -1.956e-02  7.516e-03  -2.602 0.010471 *  \n",
       "W2           2.892e-02  7.564e-03   3.823 0.000213 ***\n",
       "W3           2.360e-02  7.563e-03   3.120 0.002278 ** \n",
       "W4           1.530e-02  7.553e-03   2.025 0.045127 *  \n",
       "W5           1.363e-02  7.553e-03   1.804 0.073793 .  \n",
       "W6           1.386e-02  7.554e-03   1.834 0.069168 .  \n",
       "W7           8.512e-03  6.506e-03   1.308 0.193333    \n",
       "Z1           3.632e-02  7.745e-03   4.689 7.48e-06 ***\n",
       "Z2          -1.248e-03  7.563e-03  -0.165 0.869215    \n",
       "Z3           8.118e-03  7.581e-03   1.071 0.286419    \n",
       "Z4           5.220e-03  7.602e-03   0.687 0.493637    \n",
       "Z5           3.869e-03  7.568e-03   0.511 0.610146    \n",
       "Z6           1.200e-05  7.553e-03   0.002 0.998735    \n",
       "Z7           7.050e+10  4.380e+11   0.161 0.872409    \n",
       "---\n",
       "Signif. codes:  0 '***' 0.001 '**' 0.01 '*' 0.05 '.' 0.1 ' ' 1\n",
       "\n",
       "Residual standard error: 0.06136 on 117 degrees of freedom\n",
       "Multiple R-squared:  0.3616,\tAdjusted R-squared:  0.2852 \n",
       "F-statistic: 4.734 on 14 and 117 DF,  p-value: 8.418e-07\n"
      ]
     },
     "metadata": {},
     "output_type": "display_data"
    }
   ],
   "source": [
    "st_mod <- lm(lbm_nt2 ~ W1 + W2 + W3 + W4 + W5 + W6 + W7 + Z1 + Z2 + Z3 + Z4 + Z5 + Z6 + Z7, data = datos2)\n",
    "summary(st_mod)"
   ]
  },
  {
   "cell_type": "code",
   "execution_count": 138,
   "metadata": {},
   "outputs": [
    {
     "data": {
      "image/png": "[encoded data removed]",
      "text/plain": [
       "plot without title"
      ]
     },
     "metadata": {},
     "output_type": "display_data"
    }
   ],
   "source": [
    "datos2$lbm_ntns2 <- st_mod$residuals\n",
    "g <- ggplot(data = datos2, aes(x = fecha, y = lbm_ntns2))\n",
    "g + geom_line()"
   ]
  },
  {
   "cell_type": "code",
   "execution_count": 139,
   "metadata": {},
   "outputs": [
    {
     "data": {
      "image/png": "[encoded data removed]",
      "text/plain": [
       "plot without title"
      ]
     },
     "metadata": {},
     "output_type": "display_data"
    }
   ],
   "source": [
    "datos2$st <- predict(st_mod)\n",
    "g <- ggplot(data = datos2, aes(x = fecha, y = st))\n",
    "g + geom_line()"
   ]
  },
  {
   "cell_type": "code",
   "execution_count": 140,
   "metadata": {},
   "outputs": [
    {
     "name": "stderr",
     "output_type": "stream",
     "text": [
      "Warning message:\n",
      "\"Removed 13 row(s) containing missing values (geom_path).\""
     ]
    },
    {
     "data": {
      "image/png": "[encoded data removed]",
      "text/plain": [
       "plot without title"
      ]
     },
     "metadata": {},
     "output_type": "display_data"
    }
   ],
   "source": [
    "g <- ggplot(data = datos2, aes(x = fecha))\n",
    "g + geom_line(aes(y = lbm_ntns)) + geom_line(aes(y = lbm_ntns2, color = \"red\"))"
   ]
  },
  {
   "cell_type": "markdown",
   "metadata": {},
   "source": [
    "Existe un tercer método para extraer el componente de tendencia y estacionalidad de una serie de tiempo y es a través del método LOESS que estima varias regresiones móviles de la serie de tiempo de acuerdo a una ventana de datos establecida. Es parecido a una media móvil solo que se utiliza regresiones. En `R` ya viene implementado este método a través de la función `stl`. El método puede verse [aqui](https://www.scb.se/contentassets/ca21efb41fee47d293bbee5bf7be7fb3/stl-a-seasonal-trend-decomposition-procedure-based-on-loess.pdf).\n",
    "\n",
    "Primero que nada, tenemos que definir nuestra serie de tiempo como un objeto `ts`:"
   ]
  },
  {
   "cell_type": "code",
   "execution_count": 141,
   "metadata": {},
   "outputs": [],
   "source": [
    "lbm <- ts(datos2$lbm, start = c(2007, 1), end = c(2017, 12), frequency = 12)"
   ]
  },
  {
   "cell_type": "markdown",
   "metadata": {},
   "source": [
    "Luego, utilizaremos 15 datos en las ventánas móviles para las regresiones móviles del componente tendencia y el componente estacional (según el paper debería ser un número impar). Luego utilizaremos un polinomio de grado 1 para cada ventana (la función nos permite polinomios de grado 0 o 1)."
   ]
  },
  {
   "cell_type": "code",
   "execution_count": 142,
   "metadata": {},
   "outputs": [],
   "source": [
    "decomp <- stl(lbm, s.window = 15, t.window = 15, s.degree = 1, t.degree = 1)"
   ]
  },
  {
   "cell_type": "code",
   "execution_count": 143,
   "metadata": {},
   "outputs": [
    {
     "data": {
      "image/png": "[encoded data removed]",
      "text/plain": [
       "plot without title"
      ]
     },
     "metadata": {},
     "output_type": "display_data"
    }
   ],
   "source": [
    "plot(decomp)"
   ]
  },
  {
   "cell_type": "markdown",
   "metadata": {},
   "source": [
    "### 3.4 Funciones de Autocorrelación y Autocorrelación Parcial (ACF y PACF)"
   ]
  },
  {
   "cell_type": "markdown",
   "metadata": {},
   "source": [
    "Habíamos mencionado que la estimación de los momentos de una serie de tiempo son muy importantes y básicamente nos ayudan a identificar si la serie de tiempo es estacionaria o no. \n",
    "\n",
    "En el caso de los modelos ARMA, hay dos funciones que nos ayudan a identificar el orden de nuestro modelo ARMA. Éstas son: la Función de Autocorrelación (ACF) y la Función de Autocorrelación Parcial (PACF). En el primer caso, se define que la estimación de la autocorrelación $j$ de una serie de tiempo estacionaria viene dada por:\n",
    "\n",
    "$$\\hat{\\rho}_j = \\frac{\\hat{\\gamma}_j}{\\hat{\\gamma}_0} $$\n",
    "\n",
    "donde:\n",
    "\n",
    "$$\\hat{\\gamma}_j = \\frac{1}{T}\\sum^T_{t = j + 1}(y_t - \\bar{y})(y_{t - j} - \\bar{y})$$\n",
    "$$\\bar{y} = \\frac{1}{T}\\sum^T_{t = 1}y_t$$"
   ]
  },
  {
   "cell_type": "markdown",
   "metadata": {},
   "source": [
    "Se parte de la Hipótesis Nula $H_0$ que la serie de tiempo es ruido blanco. Si ello fuera cierto, entonces todas sus autocorrelaciones $\\hat{\\rho}_j$ deberían ser 0. Adicionalmente $Var(\\hat{\\rho}_j) = \\frac{1}{T}$ para una serie de tiempo ruido blanco; entonces, nuestra región de aceptación de $H_0$ con un 95% de probabilidad es $\\pm 1.96 \\frac{1}{\\sqrt{T}}$. La ACF es útil para determinar el componente MA de los modelos ARMA."
   ]
  },
  {
   "cell_type": "markdown",
   "metadata": {},
   "source": [
    "Por otro lado, la n-ésima autocorrelción parcial está definida como el último coeficiente de una regresión de $y_t$ y sus $n$ valores más recientes:\n",
    "\n",
    "$$y_t = c + \\alpha^{(n)}_1 y_{t - 1} + \\alpha^{(n)}_2 y_{t - 2} + \\dots + \\alpha^{(n)}_n y_{t - n} + e_t$$"
   ]
  },
  {
   "cell_type": "markdown",
   "metadata": {},
   "source": [
    "Suponiendo que la serie de tiempo haya sido generada por un proceso AR(p)(veremos más adelante este proceso) y si $n > p$ entonces $\\alpha^{(n)}_n = 0$ y todos los coeficientes de la regresion mayores a $p$. Por lo tanto, la hipótesis nula de la PACF es que la serie de tiempo no sigue un proceso AR(p) para $p = 1, \\dots, n$ donde $Var(\\hat{\\alpha}^{(p)}_p) = \\frac{1}{T}$; entonces nuestra región de aceptación de $H_0$ es de $\\pm 1.96 \\frac{1}{\\sqrt{T}}$. Como se observa, la PACF es útil para determinar el componente AR en los modelos ARMA. "
   ]
  },
  {
   "cell_type": "markdown",
   "metadata": {},
   "source": [
    "### 3.5 Modelo MA(1)"
   ]
  },
  {
   "cell_type": "markdown",
   "metadata": {},
   "source": [
    "El modelo MA(1) se define como:\n",
    "\n",
    "$$Y_t = \\mu + \\epsilon_t + \\theta \\epsilon_{t - 1}$$\n",
    "\n",
    "donde $\\epsilon_t$ es un proceso ruido blanco y $\\mu \\in R$ y $\\theta \\in R$. Este proceso es estacionario:\n",
    "\n",
    "1. $E[Y_t] = \\mu$\n",
    "2. $\\gamma_0 = (1 + \\theta^2)\\sigma^2$\n",
    "3. $\\gamma_1 = \\theta \\sigma^2$\n",
    "4. $\\gamma_j = 0$ para $j \\geq 2$\n",
    "\n",
    "Entonces el proceso MA(1) se caracteriza por que las autocorrelaciones son diferentes a 0 hasta el primer rezagos. Para rezagos mayores o iguales que 2, estas autocrorrelaciones son 0."
   ]
  },
  {
   "cell_type": "markdown",
   "metadata": {},
   "source": [
    "Podemos ilustrar esto con un ejemplo. Sea el proceso MA(1):\n",
    "\n",
    "$$ Y_t = 1.5 + \\epsilon_t + 0.8 \\epsilon_{t - 1} $$\n",
    "\n",
    "donde $\\epsilon_t$ es ruido blanco gaussiano."
   ]
  },
  {
   "cell_type": "code",
   "execution_count": 144,
   "metadata": {},
   "outputs": [],
   "source": [
    "set.seed(12345)\n",
    "epsilon <- rnorm(101)\n",
    "y <- rep(0, 101)\n",
    "for (i in 2:101) {\n",
    "    y[i] <- 1.5 + epsilon[i] + 0.8 * epsilon[i - 1]  \n",
    "}"
   ]
  },
  {
   "cell_type": "markdown",
   "metadata": {},
   "source": [
    "Así luciría esta serie de tiempo:"
   ]
  },
  {
   "cell_type": "code",
   "execution_count": 145,
   "metadata": {},
   "outputs": [
    {
     "data": {
      "image/png": "[encoded data removed]",
      "text/plain": [
       "plot without title"
      ]
     },
     "metadata": {},
     "output_type": "display_data"
    }
   ],
   "source": [
    "ma1_datos <- data.frame(t = 1:100, y = y[2:101])\n",
    "g <- ggplot(data = ma1_datos, aes(x = t, y = y))\n",
    "g + geom_line()"
   ]
  },
  {
   "cell_type": "markdown",
   "metadata": {},
   "source": [
    "Así luciría la ACF:"
   ]
  },
  {
   "cell_type": "code",
   "execution_count": 146,
   "metadata": {},
   "outputs": [
    {
     "data": {
      "image/png": "[encoded data removed]",
      "text/plain": [
       "Plot with title \"ACF MA(1)\""
      ]
     },
     "metadata": {},
     "output_type": "display_data"
    }
   ],
   "source": [
    "acf(ma1_datos$y, lag.max = 20, main = \"ACF MA(1)\")"
   ]
  },
  {
   "cell_type": "markdown",
   "metadata": {},
   "source": [
    "Puede verse claramente que la primera autocorrelación es distinta de 0, como lo sugiere la teoría. "
   ]
  },
  {
   "cell_type": "markdown",
   "metadata": {},
   "source": [
    "### 3.6 Modelo MA(q)"
   ]
  },
  {
   "cell_type": "markdown",
   "metadata": {},
   "source": [
    "El proceso MA(q) viene dado por:\n",
    "\n",
    "$$ Y_t = \\mu + \\epsilon_t + \\theta_1 \\epsilon_{t - 1} + \\theta_2 \\epsilon_{t - 2} + \\dots + \\theta_q \\epsilon_{t - q} $$\n",
    "\n",
    "donde $\\epsilon_t$ es un proceso ruido blanco y $\\mu, \\theta_1, \\theta_2, \\dots, \\theta_q \\in R$. Este proceso es estacionario ya que:\n",
    "\n",
    "1. $E[Y_t] = 0$\n",
    "2. $\\gamma_0 = (1 + \\theta^2_1 + \\theta^2_2 + \\dots + \\theta^2_q)\\sigma^2$\n",
    "3. $\\gamma_j = (\\theta_j + \\theta_{j + 1}\\theta_1 + \\theta_{j + 2}\\theta_2 + \\dots + \\theta_q\\theta_{q-j})\\sigma^2$ para $j = 1, 2, \\dots, q$\n",
    "4. $\\gamma_j = 0$ para $j > q$"
   ]
  },
  {
   "cell_type": "markdown",
   "metadata": {},
   "source": [
    "La característica esencial del proceso MA(q) es que sus autocorrelaciones son 0 para rezagos $j > q$. Podemos ilustrar todo esto con un MA(3):\n",
    "\n",
    "$$ Y_t = 2.3 + \\epsilon_t + 1.3 \\epsilon_{t - 1} + 0.1 \\epsilon_{t - 2} - 3.6 \\epsilon_{t - 3} $$\n",
    "\n",
    "donde $\\epsilon_t$ es un proceso ruido balnco gaussiano."
   ]
  },
  {
   "cell_type": "code",
   "execution_count": 147,
   "metadata": {},
   "outputs": [],
   "source": [
    "set.seed(12345)\n",
    "epsilon <- rnorm(103)\n",
    "y <- rep(0, 103)\n",
    "for (i in 4:103) {\n",
    "    y[i] <- 2.3 + epsilon[i] + 1.3 * epsilon[i - 1] + 0.1 * epsilon[i - 2] - 3.6 * epsilon[i - 3]\n",
    "}"
   ]
  },
  {
   "cell_type": "markdown",
   "metadata": {},
   "source": [
    "Asi luciría esta serie de tiempo:"
   ]
  },
  {
   "cell_type": "code",
   "execution_count": 148,
   "metadata": {},
   "outputs": [
    {
     "data": {
      "image/png": "[encoded data removed]",
      "text/plain": [
       "plot without title"
      ]
     },
     "metadata": {},
     "output_type": "display_data"
    }
   ],
   "source": [
    "ma3_datos <- data.frame(t = 1:100, y = y[4:103])\n",
    "g <- ggplot(data = ma3_datos, aes(x = t, y = y))\n",
    "g + geom_line()"
   ]
  },
  {
   "cell_type": "markdown",
   "metadata": {},
   "source": [
    "Y así luciría la ACF:"
   ]
  },
  {
   "cell_type": "code",
   "execution_count": 149,
   "metadata": {},
   "outputs": [
    {
     "data": {
      "image/png": "[encoded data removed]",
      "text/plain": [
       "Plot with title \"ACF MA(3)\""
      ]
     },
     "metadata": {},
     "output_type": "display_data"
    }
   ],
   "source": [
    "acf(ma3_datos$y, lag.max = 20, main = \"ACF MA(3)\")"
   ]
  },
  {
   "cell_type": "markdown",
   "metadata": {},
   "source": [
    "Si bien parece que la primero autocorrelación es 0, la segunda y la tercera son distintas de 0. Autocorrelaciones mayores son iguales a 0."
   ]
  },
  {
   "cell_type": "markdown",
   "metadata": {},
   "source": [
    "### 3.7 Modelo MA($\\infty$)"
   ]
  },
  {
   "cell_type": "markdown",
   "metadata": {},
   "source": [
    "El proceso MA($\\infty$) es:\n",
    "\n",
    "$$Y_t = \\mu + \\sum^\\infty_{j = 0}\\psi_j\\epsilon_{t - j} = \\mu + \\psi_0 \\epsilon_t + \\psi_1 \\epsilon_{t - 1} + \\psi_2 \\epsilon_{t - 2} + \\dots $$\n",
    "\n",
    "Este proceso es estacionario siempre y cuando se cumpla que:\n",
    "\n",
    "$$\\sum^\\infty_{j = 0}|\\psi_j| < \\infty$$\n",
    "\n",
    "es decir, que los coeficientes del proceso MA($\\infty$) sean sumables en términos absolutos.\n",
    "\n",
    "La utilidad de este proceso se encuentra en el Teorema de descomposición de Wold, que dice que cualquier serie de tiempo estacionaria con media 0 puede se representada de la siguiente forma:\n",
    "\n",
    "$$Y_t = \\sum^\\infty_{j = 0}\\psi_j \\epsilon_{t - j} + \\kappa_t$$\n",
    "\n",
    "donde $\\psi_0 = 1$ y $\\sum^\\infty_{j = 0}\\psi^2_j < \\infty$ (esto implica que $\\sum^\\infty_{j = 0}|\\psi_j| < \\infty$). El proceso $\\epsilon_t$ es ruido blanco y es el resultado del error en el pronóstico de $Y_t$:\n",
    "\n",
    "$$ \\epsilon_t = Y_t - \\hat{E}(Y_t|Y_{t - 1}, Y_{t - 2}, \\dots) $$\n",
    "\n",
    "El valos de $\\kappa_t$ no está correlacionado con $\\epsilon_{t - j}$ para ningún $j$; sin embargo, $\\kappa_t$ puede ser pronosticado con buena exactitud a través de una función lineal de valores pasados de $Y$:\n",
    "\n",
    "$$ \\kappa_t = \\hat{E}(\\kappa_t|Y_{t - 1}, Y_{t - 2}, \\dots) $$\n",
    "\n",
    "Veremos que todos los modelos ARMA cumplen con la representación de Wold."
   ]
  },
  {
   "cell_type": "markdown",
   "metadata": {},
   "source": [
    "### 3.8 Modelo AR(1)\n",
    "\n",
    "Consideremos el siguiente proceso AR(1):\n",
    "\n",
    "$$Y_t = c + \\phi Y_{t - 1} + \\epsilon_t$$\n",
    "\n",
    "donde $\\epsilon_t$ es un proceso ruido blanco. Este modelo nos hace recuerdo a la ecuación en diferencia de primer orden $y_t = \\phi y_{t - 1} + w_t$ donde se dijo que la solución es estable si $|\\phi| < 1$. Esta misma condición garantiza para el caso del modelo AR(1) la estacionariedad. Podemos reescribir este proceso como:\n",
    "\n",
    "$$(1 - \\phi L)Y_t = c + \\epsilon_t$$\n",
    "\n",
    "si se cumple que $|\\phi| < 1$ entonces podemos dividir el proceso por $(1 - \\phi L)$:\n",
    "\n",
    "$$Y_t = \\frac{c}{1 - \\phi} + \\sum^\\infty_{j = 0}\\phi^j \\epsilon_{t - j}$$\n",
    "\n",
    "como podemos ver el proceso AR(1) puede ser representado por un proceso MA($\\infty$). Adicionalmente si $|\\phi| < 1$, entonces $\\sum^\\infty_{j = 0}|\\phi|^j < \\infty$ lo cual garantiza la estacionariedad de proceso AR(1)."
   ]
  },
  {
   "cell_type": "markdown",
   "metadata": {},
   "source": [
    "Los momentos del modelo AR(1) estacionario son:\n",
    "\n",
    "1. $E[Y_t] = \\frac{c}{1 - \\phi}$\n",
    "2. $\\gamma_0 = \\frac{\\sigma^2}{1 - \\phi^2}$\n",
    "3. $\\gamma_j = \\left(\\frac{\\phi^j}{1 - \\phi^2}\\right)\\sigma^2$\n",
    "4. $\\rho_j = \\phi^j$\n",
    "\n",
    "Entonces la caracteristica de la ACF de un proceso AR(1) es que tiende a 0 a medida que $j \\to \\infty$. Adicionalmente, la PACF debería mostrar la autocorrelación parcial al primer rezago distinta de 0 y las demas iguales a 0. Revisaremos todo esto con un ejemplo.\n",
    "\n",
    "Sea el siguiente proceso AR(1):\n",
    "\n",
    "$$ Y_t = 1.3 - 0.6 Y_{t - 1} + \\epsilon_t $$\n",
    "\n",
    "donde $\\epsilon_t$ es ruido blanco gaussiano. Podemos observar que se cumple que $|-0.6| < 1$; por lo tanto el proceso es estacionario."
   ]
  },
  {
   "cell_type": "code",
   "execution_count": 150,
   "metadata": {},
   "outputs": [],
   "source": [
    "set.seed(12345)\n",
    "epsilon <- rnorm(500)\n",
    "y <- rep(0, 500)\n",
    "y[1] <- 1\n",
    "for (i in 2:500) {\n",
    "    y[i] <- 1.3 - 0.8 * y[i - 1] + epsilon[i]\n",
    "}"
   ]
  },
  {
   "cell_type": "markdown",
   "metadata": {},
   "source": [
    "La serie de tiempo luciría como:"
   ]
  },
  {
   "cell_type": "code",
   "execution_count": 151,
   "metadata": {},
   "outputs": [
    {
     "data": {
      "image/png": "[encoded data removed]",
      "text/plain": [
       "plot without title"
      ]
     },
     "metadata": {},
     "output_type": "display_data"
    }
   ],
   "source": [
    "ar1_datos <- data.frame(t = 1:100, y = y[401:500])\n",
    "g <- ggplot(data = ar1_datos, aes(x = t, y = y))\n",
    "g + geom_line()"
   ]
  },
  {
   "cell_type": "markdown",
   "metadata": {},
   "source": [
    "Las ACF y PACF lucirian asi:"
   ]
  },
  {
   "cell_type": "code",
   "execution_count": 152,
   "metadata": {},
   "outputs": [
    {
     "data": {
      "image/png": "[encoded data removed]",
      "text/plain": [
       "Plot with title \"ACF AR(1)\""
      ]
     },
     "metadata": {},
     "output_type": "display_data"
    }
   ],
   "source": [
    "acf(ar1_datos$y, lag.max = 20, main = \"ACF AR(1)\")"
   ]
  },
  {
   "cell_type": "code",
   "execution_count": 153,
   "metadata": {},
   "outputs": [
    {
     "data": {
      "image/png": "[encoded data removed]",
      "text/plain": [
       "Plot with title \"PACF AR(1)\""
      ]
     },
     "metadata": {},
     "output_type": "display_data"
    }
   ],
   "source": [
    "pacf(ar1_datos$y, lag.max = 20, main = \"PACF AR(1)\")"
   ]
  },
  {
   "cell_type": "markdown",
   "metadata": {},
   "source": [
    "Como puede observarse, las ACF va decayendo gradualmente a medida que los rezagos aumentan y en el caso de la PACF solamente la primera autocorrelación parcial es distinta de 0 como se esperaba."
   ]
  },
  {
   "cell_type": "markdown",
   "metadata": {},
   "source": [
    "### 3.9 Modelo AR(p)\n",
    "\n",
    "El proceso AR(p) viene dado por:\n",
    "\n",
    "$$Y_t = c + \\phi_1 Y_{t - 1} + \\phi_2 Y_{t - 2} + \\dots + \\phi_p Y_{t - p} + \\epsilon_t$$\n",
    "\n",
    "que puede ser reescrito de la siguiente forma:\n",
    "\n",
    "$$(1 - \\phi_1 L - \\phi_2 L^2 - \\dots - \\phi_p L^p) Y_t = c + \\epsilon_t$$\n",
    "\n",
    "de acuerdo a lo expuesto en las ecuaciones en diferencias de orden p, llamamos a $(1 - \\phi_1 z - \\phi_2 z^2 - \\dots - \\phi_p z^p)$ el polinomio característico y dijimos que la solución es estable si las raíces de este polinomio están fuera del círculo unitario. De igual forma, en el caso del proceso AR(p), éste es estacionario si las raices del polinomio característico están fuera del círculo unitario. Si se cumple esto, entonces podemos dividir el proceso AR(p) por $(1 - \\phi_1 L - \\phi_2 L^2 - \\dots - \\phi_p L^p)$ con lo que obtenemos un proceso MA($\\infty$):\n",
    "\n",
    "$$Y_t = \\frac{c}{1 - \\phi_1 - \\phi_2 - \\dots - \\phi_p} + \\sum^\\infty_{j = 0}\\psi_j \\epsilon_{t - j}$$\n",
    "\n",
    "si las raices del polinomio característico están fuera del círculo unitario, entonces $\\sum^\\infty_{j = 0}|\\psi_j| < \\infty$ por lo que el proceso es estacionario.\n",
    "\n",
    "Los momentos del proceso AR(p) son:\n",
    "\n",
    "1. $E[Y_t] = \\frac{c}{1 - \\phi_1 - \\phi_2 - \\dots - \\phi_p}$\n",
    "2. $\\gamma_0 = \\phi_1 \\gamma_1 + \\phi_2 \\gamma_2 + \\dots + \\phi_p \\gamma_p + \\sigma^2$\n",
    "3. $\\gamma_j = \\phi_1 \\gamma_{j - 1} + \\phi_2 \\gamma_{j - 2} + \\dots + \\phi_p \\gamma_{j - p}$ para $j = 1, 2, \\dots$\n",
    "4. $\\rho_j = \\phi_1 \\rho_{j - 1} + \\phi_2 \\rho_{j - 2} + \\dots + \\phi_p \\rho_{j - p}$ para $j = 1, 2, \\dots$.\n",
    "\n",
    "A las ecuaciones que representan $\\rho_j$ se las conoce como las ecuaciones *Yule - Walker*.\n",
    "\n",
    "En cuanto a la PACF, nos mostraría que las autocorrelaciones parciales hasta el rezago p son distintas de cero y mayores que el rezago p son iguales a 0. Veremos todo esto con un proceso AR(2).\n",
    "\n",
    "Sea el siguiente proceso AR(2):\n",
    "\n",
    "$$Y_t = 1.1 Y_{t - 1} - 0.18 Y_{t - 2} + \\epsilon_t$$\n",
    "\n",
    "Primero verificaremos si el proceso es estacionario con las raices del polinomio característico $1 - 1.1z + 0.18z^2$."
   ]
  },
  {
   "cell_type": "code",
   "execution_count": 154,
   "metadata": {},
   "outputs": [
    {
     "data": {
      "text/html": [
       "<ol class=list-inline>\n",
       "\t<li>1.11111111111111+0i</li>\n",
       "\t<li>5-0i</li>\n",
       "</ol>\n"
      ],
      "text/latex": [
       "\\begin{enumerate*}\n",
       "\\item 1.11111111111111+0i\n",
       "\\item 5-0i\n",
       "\\end{enumerate*}\n"
      ],
      "text/markdown": [
       "1. 1.11111111111111+0i\n",
       "2. 5-0i\n",
       "\n",
       "\n"
      ],
      "text/plain": [
       "[1] 1.111111+0i 5.000000-0i"
      ]
     },
     "metadata": {},
     "output_type": "display_data"
    }
   ],
   "source": [
    "polyroot(c(1, -1.1, 0.18))"
   ]
  },
  {
   "cell_type": "markdown",
   "metadata": {},
   "source": [
    "Entonces ambas raíces están fuera del círculo unitario por lo que el proceso AR(2) es estacionario."
   ]
  },
  {
   "cell_type": "code",
   "execution_count": 155,
   "metadata": {},
   "outputs": [],
   "source": [
    "set.seed(12345)\n",
    "epsilon <- rnorm(500)\n",
    "y <- rep(0, 500)\n",
    "y[1] <- 1; y[2] <- 2\n",
    "for (i in 3:500) {\n",
    "    y[i] <- 1.1 * y[i - 1] - 0.18 * y[i - 2] + epsilon[i]\n",
    "}"
   ]
  },
  {
   "cell_type": "markdown",
   "metadata": {},
   "source": [
    "El proceso AR(2) luciría así:"
   ]
  },
  {
   "cell_type": "code",
   "execution_count": 156,
   "metadata": {},
   "outputs": [
    {
     "data": {
      "image/png": "[encoded data removed]",
      "text/plain": [
       "plot without title"
      ]
     },
     "metadata": {},
     "output_type": "display_data"
    }
   ],
   "source": [
    "ar2_datos <- data.frame(t = 1:100, y = y[401:500])\n",
    "g <- ggplot(data = ar2_datos, aes(x = t, y = y))\n",
    "g + geom_line()"
   ]
  },
  {
   "cell_type": "markdown",
   "metadata": {},
   "source": [
    "La PACF luciría así:"
   ]
  },
  {
   "cell_type": "code",
   "execution_count": 157,
   "metadata": {},
   "outputs": [
    {
     "data": {
      "image/png": "[encoded data removed]",
      "text/plain": [
       "Plot with title \"PACF AR(2)\""
      ]
     },
     "metadata": {},
     "output_type": "display_data"
    }
   ],
   "source": [
    "pacf(ar2_datos$y, lag.max = 20, main = \"PACF AR(2)\")"
   ]
  },
  {
   "cell_type": "markdown",
   "metadata": {},
   "source": [
    "Como puede observarse, las dos primeras autocorrelaciones parciales son distintas de 0."
   ]
  },
  {
   "cell_type": "markdown",
   "metadata": {},
   "source": [
    "### 3.10 Modelo ARMA(p, q)"
   ]
  },
  {
   "cell_type": "markdown",
   "metadata": {},
   "source": [
    "El proceso ARMA(p, q) viene dado por:\n",
    "\n",
    "$$ Y_t = c + \\phi_1 Y_{t - 1} + \\phi_2 Y_{t - 2} + \\dots + \\phi_p Y_{t - p} + \\epsilon_t + \\theta_1 \\epsilon_{t - 1} + \\theta_2 \\epsilon_{t - 2} + \\dots + \\theta_q \\epsilon_{t - q} $$\n",
    "\n",
    "que tambien puede ser reescrito como:\n",
    "\n",
    "$$(1 - \\phi_1 L - \\phi_2 L^2 - \\dots - \\phi_p L^p)Y_t = c + (1 + \\theta_1 L + \\theta_2 L + \\dots + \\theta_q L^q)\\epsilon_t$$\n",
    "\n",
    "Si las raíces del polinomio característico $(1 - \\phi_1 z - \\phi_2 z^2 - \\dots - \\phi_p z^p)$ están fuera del círculo unitario; entonces el proceso ARMA(p, q) es estacionario. Nótese que la estacionariedad depende únicamente del componente AR y no así del MA. \n",
    "\n",
    "Si se cumple la estacionariedad, entonces podemos dividir el proceso ARMA(p, q) descrito entre $(1 - \\phi_1 L - \\phi_2 L^2 - \\dots - \\phi_p L^p)$ y obtenemos un proceso MA($\\infty$):\n",
    "\n",
    "$$Y_t = \\frac{c}{1 - \\phi_1 - \\phi_2 - \\dots - \\phi_p} + \\sum^\\infty_{j = 0}\\psi_j \\epsilon_{t - j}$$\n",
    "\n",
    "Si las raíces del polinomio carácterístico están fuera del círculo unitario, entonces $\\sum^\\infty_{j = 0}|\\psi_j| < \\infty$ por lo que el proceso es estacionario."
   ]
  },
  {
   "cell_type": "markdown",
   "metadata": {},
   "source": [
    "En el caso de la ACF, las autocorrelaciones serán distintas de 0 hasta el rezago q del componente MA(q) y en el caso de las autocorrelaciondes parciales, éstas serán distintas de 0 hasta el rezago p del componente AR(p). Ilustremos todo esto con un proceso ARMA(1, 2).\n"
   ]
  },
  {
   "cell_type": "markdown",
   "metadata": {},
   "source": [
    "Sea el proceso ARMA(1, 2):\n",
    "\n",
    "$$Y_t = 0.8 Y_{t - 1} + \\epsilon_t + 1.4 \\epsilon_{t - 1} - 0.9 \\epsilon_{t - 2}$$\n",
    "\n",
    "como $|0.8| < 1$ entonces el proceso ARMA(1, 2) es estacionario."
   ]
  },
  {
   "cell_type": "code",
   "execution_count": 158,
   "metadata": {},
   "outputs": [],
   "source": [
    "set.seed(12345)\n",
    "epsilon <- rnorm(500)\n",
    "y <- rep(0, 500)\n",
    "y[1] <- 1; y[2] <- 2\n",
    "for (i in 3:500) {\n",
    "    y[i] <- 0.8 * y[i - 1] + epsilon[i] + 1.4 * epsilon[i - 1] - 0.9 * epsilon[i - 2]\n",
    "}"
   ]
  },
  {
   "cell_type": "markdown",
   "metadata": {},
   "source": [
    "El proceso ARMA(1, 2) luciría así:"
   ]
  },
  {
   "cell_type": "code",
   "execution_count": 159,
   "metadata": {},
   "outputs": [
    {
     "data": {
      "image/png": "[encoded data removed]",
      "text/plain": [
       "plot without title"
      ]
     },
     "metadata": {},
     "output_type": "display_data"
    }
   ],
   "source": [
    "arma12_datos <- data.frame(t = 1:100, y = y[401:500])\n",
    "g <- ggplot(data = arma12_datos, aes(x = t, y = y))\n",
    "g + geom_line()"
   ]
  },
  {
   "cell_type": "markdown",
   "metadata": {},
   "source": [
    "Las ACF y PACF lucirían asi:"
   ]
  },
  {
   "cell_type": "code",
   "execution_count": 160,
   "metadata": {},
   "outputs": [
    {
     "data": {
      "image/png": "[encoded data removed]",
      "text/plain": [
       "Plot with title \"ACF ARMA(1, 2)\""
      ]
     },
     "metadata": {},
     "output_type": "display_data"
    }
   ],
   "source": [
    "acf(arma12_datos$y, lag.max = 20, main = \"ACF ARMA(1, 2)\")"
   ]
  },
  {
   "cell_type": "code",
   "execution_count": 161,
   "metadata": {},
   "outputs": [
    {
     "data": {
      "image/png": "[encoded data removed]",
      "text/plain": [
       "Plot with title \"PACF ARMA(1, 2)\""
      ]
     },
     "metadata": {},
     "output_type": "display_data"
    }
   ],
   "source": [
    "pacf(arma12_datos$y, lag.max = 20, main = \"PACF ARMA(1, 2)\")"
   ]
  },
  {
   "cell_type": "markdown",
   "metadata": {},
   "source": [
    "La ACF señala que el proceso pude ser de orden MA(2) o mayor. En el caso de la PACF, ésta señala que el proceso puede ser AR(1) o AR(3). En conjunto, ambas gráficas señalan que uno de los procesos a considerar en las opciones es el ARMA(1, 2)."
   ]
  },
  {
   "cell_type": "markdown",
   "metadata": {},
   "source": [
    "### 3.11 Función Generadora de Autocovarianzas"
   ]
  },
  {
   "cell_type": "markdown",
   "metadata": {},
   "source": [
    "Para todos los procesos estacionarios descritos anteriormente hemos calculado sus respectivas secuencias de autocovarianzas $\\{\\gamma_j\\}^\\infty_{j = -\\infty}$. Si esta secuencia se sumable en términos absolutos; entonces una manera de resumir todas estas autocovarianzas es através de una función que se la conoce como la **Función Generadora de Autocovarianzas**:\n",
    "\n",
    "$$g_Y(z) = \\sum^\\infty_{j = -\\infty}\\gamma_j z^j$$\n",
    "\n",
    "donde $z$ es un escalar que generalmente es complejo, particularmente uno que se encuentra en el círculo unitario. Asi:\n",
    "\n",
    "$$z = \\cos(\\omega) - i \\sin(\\omega) = e^{-i \\omega}$$\n",
    "\n",
    "donde $i = \\sqrt{- 1}$ y $\\omega$ es el ángulo que hace $z$ con el eje real. Si reemplazamos este valor de $z$ en la **Función Generadora de Autocovarianzas** y la dividimos por $2\\pi$, obtenemos lo que se conoce como el *espectro poblacional* de Y:\n",
    "\n",
    "$$s_Y(\\omega) = \\frac{1}{2\\pi}g_Y(e^{-i \\omega}) = \\frac{1}{2\\pi}\\sum^\\infty_{j = -\\infty}\\gamma_je^{-i \\omega}$$\n",
    "\n",
    "Esto lo veremos más a detalle cuando veamos el Capítulo de Análisis Espectral.\n",
    "\n",
    "Ahora bien, considerando el proceso MA(1), vimos que sus autocovarianzas vienen dadas por $\\gamma_1 = \\gamma_{-1} = \\theta \\sigma^2$ y $\\gamma_0 = (1 + \\theta^2)\\sigma^2$. Reeemplazando estos valores en la **Función Generadora de Autocovarianzas** tenemos:\n",
    "\n",
    "$$g_Y(z) = (\\theta \\sigma^2)z^{-1} + ((1 + \\theta^2)\\sigma^2)z^{0} + (\\theta \\sigma^2)z^{1}$$\n",
    "\n",
    "lo cual puede reescribirse como:\n",
    "\n",
    "$$g_Y(z) = \\sigma^2(1 + \\theta z)(1 + \\theta z^{-1}) $$\n",
    "\n",
    "En forma general, para el proceso MA(q), la **Función Generadora de Autocovarianzas** vendría dada por:\n",
    "\n",
    "$$g_Y(z) = \\sigma^2(1 + \\theta_1 z + \\theta_2 z^{2} + \\dots + \\theta_q z^{q})(1 + \\theta_1 z^{-1} + \\theta_2 z^{-2} + \\dots + \\theta_q z^{-q})$$\n",
    "\n",
    "Si se desarrolla esta expresión, se obtienne todas las autocovarianzas del proceso MA(q). De igual forma, para el proceso AR(1) se tiene:\n",
    "\n",
    "$$g_Y(z) = \\frac{\\sigma^2}{(1 - \\phi z)(1 - \\phi z^{- 1})}$$\n",
    "\n",
    "Para el proceso AR(p) sería:\n",
    "\n",
    "$$g_Y(z) = \\frac{\\sigma^2}{(1 - \\phi_1 z - \\phi_2 z ^2 - \\dots - \\phi_p z^p)(1 - \\phi_1 z^{-1} - \\phi_2 z^{-2} - \\dots - \\phi_p z^{-p})}$$\n",
    "\n",
    "Finalmente para un proceso ARMA(p, q):\n",
    "\n",
    "$$g_Y(z) = \\frac{\\sigma^2 (1 + \\theta_1 z + \\theta_2 z^{2} + \\dots + \\theta_q z^{q})(1 + \\theta_1 z^{-1} + \\theta_2 z^{-2} + \\dots + \\theta_q z^{-q})}{(1 - \\phi_1 z - \\phi_2 z ^2 - \\dots - \\phi_p z^p)(1 - \\phi_1 z^{-1} - \\phi_2 z^{-2} - \\dots - \\phi_p z^{-p})} $$\n"
   ]
  },
  {
   "cell_type": "markdown",
   "metadata": {},
   "source": [
    "### 3.12 Invertibilidad"
   ]
  },
  {
   "cell_type": "markdown",
   "metadata": {},
   "source": [
    "Sea el proceso MA(1):\n",
    "\n",
    "$$Y_t - \\mu = (1 + \\theta L)\\epsilon_t$$\n",
    "\n",
    "si se cumple que $|\\theta| < 1$ entonces podemos dividir todo el proceso por $(1 + \\theta L)$, con lo que obtenemos un proceso AR($\\infty$):\n",
    "\n",
    "$$(Y_t - \\mu) - \\theta(Y_{t - 1} - \\mu) + \\theta^2(Y_{t - 2} - \\mu) - \\theta^3(Y_{t - 3} - \\mu) + \\dots = (1 - \\theta L + \\theta^2 L^2 - \\theta^3 L^3 + \\dots)(Y_t - \\mu) = \\epsilon_t$$\n",
    "\n",
    "En este caso decimos que el proceso MA(1) es invertible.\n",
    "\n",
    "Ahora bien, sea el proceso MA(1):\n",
    "\n",
    "$$\\tilde{Y}_t - \\mu = (1 + \\tilde{\\theta} L)\\tilde{\\epsilon}_t$$\n",
    "\n"
   ]
  },
  {
   "cell_type": "markdown",
   "metadata": {},
   "source": [
    "su función generadora de autocovarianzas vendría dada por:\n",
    "\n",
    "$$g_Y(z) = \\tilde{\\sigma}^2(1 + \\tilde{\\theta} z)(1 + \\tilde{\\theta} z^{-1})$$\n",
    "\n",
    "el cual puede reescribirse como:\n",
    "\n",
    "$$g_Y(z) = (\\tilde{\\sigma}^2 \\tilde{\\theta}^2)(1 + \\tilde{\\theta}^{-1}z)(1 + \\tilde{\\theta}^{-1}z^{-1})$$\n",
    "\n",
    "si $\\theta = \\tilde{\\theta}^{-1}$ y $\\sigma^2 =\\tilde{\\sigma}^2\\tilde{\\theta}^2$, entonces el proceso inicial MA(1) y este nuevo proceso tienen idénticos momentos. \n",
    "\n",
    "Esto quiere decir que si tenemos un proceso MA(1) no invertible con $\\tilde{\\theta} > 1$; podemos transformarlo en un proceso invertible con idénticos momentos si utilizamos $\\tilde{\\theta}^{-1}$. Veamos un ejemplo:"
   ]
  },
  {
   "cell_type": "markdown",
   "metadata": {},
   "source": [
    "Sea el proceso MA(1) no invertible:\n",
    "\n",
    "$$Y_t = \\epsilon_t + 1.5 \\epsilon_{t -1}$$\n",
    "\n",
    "Obtengamos su ACF:"
   ]
  },
  {
   "cell_type": "code",
   "execution_count": 162,
   "metadata": {},
   "outputs": [
    {
     "data": {
      "image/png": "[encoded data removed]",
      "text/plain": [
       "Plot with title \"ACF MA(1) no invertible\""
      ]
     },
     "metadata": {},
     "output_type": "display_data"
    }
   ],
   "source": [
    "set.seed(12345)\n",
    "theta <- 1.5\n",
    "epsilon <- rnorm(101)\n",
    "y <- rep(0, 101)\n",
    "for (i in 2:101) {\n",
    "    y[i] <- epsilon[i] + theta * epsilon[i - 1]\n",
    "}\n",
    "acf(y[2:101], lag.max = 20, main = \"ACF MA(1) no invertible\")"
   ]
  },
  {
   "cell_type": "markdown",
   "metadata": {},
   "source": [
    "Ahora transformemos el proceso en uno invertible y veamos si ACF:"
   ]
  },
  {
   "cell_type": "code",
   "execution_count": 163,
   "metadata": {},
   "outputs": [
    {
     "data": {
      "image/png": "[encoded data removed]",
      "text/plain": [
       "Plot with title \"ACF MA(1) Invertible\""
      ]
     },
     "metadata": {},
     "output_type": "display_data"
    }
   ],
   "source": [
    "epsilon_n <- rnorm(101, sd = 1 / theta)\n",
    "y_n <- rep(0, 101)\n",
    "for (i in 2:101) {\n",
    "    y_n[i] <- epsilon_n[i] + (1 / theta) * epsilon_n[i - 1]\n",
    "}\n",
    "acf(y_n[2:101], lag.max = 20, main = \"ACF MA(1) Invertible\")"
   ]
  },
  {
   "cell_type": "markdown",
   "metadata": {},
   "source": [
    "En ambos casos, se obtiene una primera autocorrelaciín de aproximadamente 0.4. Las restantes autocorrelaciones son 0."
   ]
  },
  {
   "cell_type": "markdown",
   "metadata": {},
   "source": [
    "Pero ¿cuál es el problema en tener un proceso MA(1) no invertible? Bueno en el caso de que sea invertible vimos que:\n",
    "\n",
    "$$\\epsilon_t = (Y_t - \\mu) - \\theta(Y_{t - 1} - \\mu) + \\theta^2(Y_{t - 2} - \\mu) - \\theta^3(Y_{t - 3} - \\mu) + \\dots$$\n",
    "\n",
    "Esto nos dice que podemos obtener el proceso ruido blanco $\\epsilon_t$ con el valor actual y pasado de $Y$. Sin embargo, si el proceso $MA(1)$ es no invertible:\n",
    "\n",
    "$$\\tilde{\\epsilon}_t = \\theta(Y_{t + 1} - \\mu) - \\theta^2(Y_{t + 2} - \\mu) + \\theta^3(Y_{t + 3} - \\mu) - \\dots$$\n",
    "\n",
    "Es decir que para obtener el proceso ruido blanco $\\epsilon_t$, necesitamos todos los valores futuros de $Y$. Algo que desconocemos totalmente."
   ]
  },
  {
   "cell_type": "markdown",
   "metadata": {},
   "source": [
    "En el caso de un modelo MA(q):\n",
    "\n",
    "$$ Y_t - \\mu = (1 + \\theta_1 L + \\theta_2 L^2 + \\dots + \\theta_q L^q)\\epsilon_t $$\n",
    "\n",
    "las raices del polinomio característico $1 + \\theta_1 z + \\theta_2 z^2 + \\dots + \\theta_q z^q$ deben estar fuera del círculo unitario para que sea invertible. En el caso que alguna de las raíces esté dentro del circulo unitario, descomponemos el polinomio de la siguiente forma:\n",
    "\n",
    "$$1 + \\theta_1 L + \\theta_2 L^2 + \\dots + \\theta_q L^q = (1 - \\lambda_1 L)(1 - \\lambda_2 L) \\dots (1 - \\lambda_q L)$$\n",
    "\n",
    "donde $\\lambda_i$ para $i = 1, \\dots, q$ están dentro del círculo unitario si el proceso MA(q) es invertible. En caso que algunos $\\lambda_i$ estén fuera del círculo unitario se los sustituye con su inversa $\\lambda^{-1}_i$ para que el proceso MA(q) sea invertible."
   ]
  },
  {
   "cell_type": "markdown",
   "metadata": {},
   "source": [
    "### 3.13 Estimación de los modelos ARMA"
   ]
  },
  {
   "cell_type": "markdown",
   "metadata": {},
   "source": [
    "Sea el modelo ARMA:\n",
    "\n",
    "$$Y_t = c + \\phi_1 Y_{t - 1} + \\phi_2 Y_{t - 2} + \\dots + \\phi_p Y_{t - p} + \\epsilon_t + \\theta_1 \\epsilon_{t - 1} + \\theta_2 \\epsilon_{t - 2} + \\dots + \\theta_q \\epsilon_{t - q}$$"
   ]
  },
  {
   "cell_type": "markdown",
   "metadata": {},
   "source": [
    "Hasta el momento hemos trabajado con parámetros $\\Theta = [c, \\phi_1, \\phi_2, \\dots, \\phi_p, \\theta_1, \\theta_2, \\dots, \\theta_q, \\sigma^2]$ conocidos. Ahora corresponde definir métodos que nos permitan obtener estos parámetros en base a los datos que analizamos $y_1, y_2, \\dots, y_T$. Para definimos primero la probabilidad conjunta de haber observado estos datos en base a los parámetros dados.\n",
    "\n",
    "$$f_{Y_1, Y_2, \\dots, Y_T}(y_1, y_2, \\dots, y_T; \\Theta)$$\n",
    "\n",
    "donde $f(.)$ es la función de densidad conjunta de las variables aleatorias $Y_1, Y_2, \\dots, Y_T$. El método que utilizaremos es el de máxima verosimilitud y lo que busca es hallar el conjunto de parámetros $\\Theta$ tal que la probabilidad conjunta definida sea la máxima.\n",
    "\n",
    "Entonces el método de máxima verosimilitud conlleva dos etapas:\n",
    "\n",
    "1. Construir la función de verosimilitud.\n",
    "2. Maximizar esta función."
   ]
  },
  {
   "cell_type": "markdown",
   "metadata": {},
   "source": [
    "Empezaremos con el modelo AR(1):\n",
    "\n",
    "$$ Y_t = c + \\phi Y_{t - 1} + \\epsilon_t$$\n",
    "\n",
    "donde asumiremos que $\\epsilon_t$ es ruido blanco gaussiano. Por lo tanto $Y_t$ es gaussiano. Empezemos asumiendo que $y_1$ ya está dado (en realidad si lo está porque está en nuestros datos) entonces:\n",
    "\n",
    "$$(Y_2 | Y_1 = y_1) \\sim N((c + \\theta y_1), \\sigma^2)$$\n",
    "\n",
    "lo que significa que:\n",
    "\n",
    "$$f_{Y_2|Y_1}(y_2|y_1; \\theta) = \\frac{1}{\\sqrt{2 \\pi \\sigma^2}}\\exp\\left[\\frac{-(y_2 - c - \\phi y_1)^2}{2\\sigma^2}\\right]$$"
   ]
  },
  {
   "cell_type": "markdown",
   "metadata": {},
   "source": [
    "Podemos hacer lo mismo con $y_3$ considerando como dados $y_2$ y $y_1$.\n",
    "\n",
    "$$f_{Y_3|Y_2, Y_1}(y_3|y_2, y_1; \\theta) = f_{Y_3|Y_2}(y_3|y_2; \\theta) = \\frac{1}{\\sqrt{2 \\pi \\sigma^2}}\\exp\\left[\\frac{-(y_3 - c - \\phi y_2)^2}{2\\sigma^2}\\right]$$\n",
    "\n",
    "entonces la densidad conjunta condicional en haber observadi $y_1$ es:\n",
    "\n",
    "$$f_{Y_3, Y_2|Y_1}(y_3, y_2|y_1; \\theta) =  f_{Y_3|Y_2}(y_3|y_2; \\theta) \\times f_{Y_2|Y_1}(y_2|y_1; \\theta)$$\n",
    "\n",
    "asi en términos generales la densidad conjunta condicionada en haber observado $y_1$ está dada por:\n",
    "\n",
    "$$f_{Y_T, Y_{T - 1}, \\dots, Y_2|Y_1}(y_T, y_{T - 1}, \\dots, y_2|y_1; \\Theta) = \\prod^T_{t = 2}f_{Y_t|Y_{t - 1}}(y_t|y_{t - 1}; \\Theta) $$"
   ]
  },
  {
   "cell_type": "markdown",
   "metadata": {},
   "source": [
    "Aplicando logaritmos:\n",
    "\n",
    "$$\\log f_{Y_T, Y_{T - 1}, \\dots, Y_2 | Y_1}(y_T, y_{T - 1}, \\dots, y_2 | y_1; \\Theta) = -\\left(\\frac{T - 1}{2}\\right)\\log(2 \\pi) - \\left(\\frac{T - 1}{2}\\right)\\log(\\sigma^2) - \\sum^T_{t = 2}\\left[\\frac{(y_t - c - \\phi y_{t - 1})^2}{2 \\sigma^2}\\right]$$"
   ]
  },
  {
   "cell_type": "markdown",
   "metadata": {},
   "source": [
    "Esta es la función de verosimilitud que se busca maximizar. Pero esto equivale a minimizar el termino $\\sum^T_{t = 2}(y_t - c - \\phi y_{t - 1})^2$ que se lo efectúa al aplicar el método de mínimos cuadrados ordinarios. Entonces, la estimación de los parámetros $\\Theta$ del modelo AR(1) se reducen a la aplicación de mínimos cuadrados ordinarios, donde $\\hat{\\sigma}^2$ es el promedio de los residuos al cuadrado de la estimación por MCO."
   ]
  },
  {
   "cell_type": "markdown",
   "metadata": {},
   "source": [
    "En el caso del modelo AR(p):\n",
    "\n",
    "$$Y_t = c + \\phi_1 Y_{t - 1} + \\phi_2 Y_{t - 2} + \\dots + \\phi_p Y_{t - p} + \\epsilon_t$$\n",
    "\n",
    "nuevamente asumimos que $\\epsilon_t$ es ruido blanco gaussiano y por ende $Y_t$ es gaussiano. Consideremos que las primeras $p$ observaciones son dadas. Entonces la densidad conjunta condicional sería:\n",
    "\n",
    "$$f_{Y_T, Y_{T - 1}, \\dots, Y_{p + 1} | Y_p, Y_{p - 1}, \\dots, Y_1}(y_T, y_{T - 1}, \\dots, y_{p + 1} | y_p, y_{p - 1}, \\dots, y_1; \\Theta) = \\prod^T_{t = p + 1}f_{Y_t | Y_{t - 1}, Y_{t - 2}, \\dots, Y_{t - p}}(y_t | y_{t - 1}, y_{t - 2}, \\dots, y_{t - p}; \\Theta)$$\n",
    "\n",
    "Aplicando logaritmos se obtiene:\n",
    "\n",
    "$$\\log f_{Y_T, Y_{T - 1}, \\dots, Y_{p + 1} | Y_p, Y_{p - 1}, \\dots, Y_1}(y_T, y_{T - 1}, \\dots, y_{p + 1} | y_p, y_{p - 1}, \\dots, y_1; \\Theta) = -\\left(\\frac{T - p}{2}\\right)\\log(2 \\pi) - \\left(\\frac{T - p}{2}\\right)\\log(\\sigma^2) - \\sum^T_{t = p + 1}\\frac{(y_t - c - \\phi_1 y_{t - 1} - \\phi_2 y_{t - 2} - \\dots - \\phi_p y_{t - p})^2}{2 \\sigma^2}$$ \n",
    "\n",
    "Esta es la función de verosimilitud que hay que maximizar, pero ello equivale a minimizar $\\sum^T_{t = p + 1} (y_t - c - \\phi_1 y_{t - 1} - \\phi_2 y_{t - 2} - \\dots - \\phi_p y_{t - p})^2$ por lo que para estimar los parámetros del modelo AR(p) aplicamos MCO considerando las primeras $p$ observaciones como dadas. $\\hat{\\sigma}^2$ sería el promedio de los residuos cuadráticos resultantes de aplicar MCO."
   ]
  },
  {
   "cell_type": "markdown",
   "metadata": {},
   "source": [
    "Para ejemplificar consideremos al modelo AR(1):\n",
    "\n",
    "$$Y_t = 1.5 + 0.8 Y_{t - 1} + \\epsilon_t$$"
   ]
  },
  {
   "cell_type": "code",
   "execution_count": 164,
   "metadata": {},
   "outputs": [
    {
     "data": {
      "text/plain": [
       "\n",
       "Call:\n",
       "arima(x = y[401:500], order = c(1, 0, 0), include.mean = FALSE, method = \"CSS\")\n",
       "\n",
       "Coefficients:\n",
       "         ar1\n",
       "      0.8765\n",
       "s.e.  0.0493\n",
       "\n",
       "sigma^2 estimated as 0.7651:  part log likelihood = -128.51"
      ]
     },
     "metadata": {},
     "output_type": "display_data"
    }
   ],
   "source": [
    "set.seed(12345)\n",
    "epsilon <- rnorm(500)\n",
    "y <- rep(0, 500)\n",
    "y[1] <- 1\n",
    "for (i in 2:500) {\n",
    "    y[i] <- 0.8*y[i - 1] + epsilon[i]\n",
    "}\n",
    "ar1_mod <- arima(y[401:500], order = c(1, 0, 0), method = \"CSS\", include.mean = FALSE)\n",
    "ar1_mod"
   ]
  },
  {
   "cell_type": "markdown",
   "metadata": {},
   "source": [
    "Como podemos ver, nuestra estimación es cercana a lo definido. "
   ]
  },
  {
   "cell_type": "markdown",
   "metadata": {},
   "source": [
    "Ahora analizaremos el caso del modelo MA(1):\n",
    "\n",
    "$$Y_t = \\mu + \\epsilon_t + \\theta \\epsilon_{t - 1}$$\n",
    "\n",
    "Supongamos que tenemos dado que: $\\epsilon_0 = 0$ y como tenemos los datos $y_1, y_2, \\dots, y_T$ y si asumimos que contamos con los parámetros $\\mu$ y $\\theta$, podemos obtener $\\epsilon_t$ para $t = 1, 2, \\dots, T$.\n",
    "\n",
    "$$\\epsilon_t = y_t - \\mu - \\theta \\epsilon_{t - 1}$$\n",
    "\n",
    "La función de verosimilitud condicional viene dada por:\n",
    "\n",
    "$$\\log f_{Y_T, Y_{T - 1}, \\dots, Y_1| \\epsilon_0 = 0}(y_T, y_{T - 1}, \\dots, y_1 | \\epsilon_0 = 0 ; \\Theta) = -\\frac{T}{2}\\log(2\\pi) - \\frac{T}{2}\\log(\\sigma^2) - \\sum^T_{t = 1}\\frac{\\epsilon^2_t}{2 \\sigma^2}$$\n",
    "\n",
    "como no conocemos los parámetros del modelo $\\Theta$ tampoco conocemos los $\\epsilon_t$ por lo que no podemos emplear el método MCO acá y tenemos que recurrir a maximización de la función de verosimilitud presentada. \n",
    "\n",
    "Habíamos mencionado que si $|\\theta| < 1$; entonces el proceso MA(1) es invertible. En este caso como contamos con un número finito de datos podemos expresar $\\epsilon_t$ como:\n",
    "\n",
    "$$\\epsilon_t = (y_t - \\mu) - \\theta(y_{t - 1} - \\mu) + \\theta^2(y_{t - 2} - \\mu) - \\dots + (-1)^{t - 1}\\theta^{t - 1}(y_1 - \\mu) + (-1)^t\\theta^t \\epsilon_0$$\n",
    "\n",
    "Esto quiere decir que si el proceso es invertible entonces el efecto de haber definido $\\epsilon_0 = 0$ desaparece; sin embargo, si el proceso no es invertible entonces el valor inicial definido tiene mucha influencia en los $\\epsilon_t$ estimados. Por ello, lo ideal es que el proceso MA(1) sea invertible."
   ]
  },
  {
   "cell_type": "markdown",
   "metadata": {},
   "source": [
    "Ahora analizamos el caso de un modelo MA(q):\n",
    "\n",
    "$$Y_t = \\mu + \\epsilon_t + \\theta_1 \\epsilon_{t - 1} + \\theta_2 \\epsilon_{t - 2} + \\dots + \\theta_q \\epsilon_{t - q}$$\n",
    "\n",
    "Partimos del supusto que conocemos $q$ valores $\\epsilon_0 = \\epsilon_{-1} = \\epsilon_{-2} = \\dots = \\epsilon_{-q + 1} = 0$. Entonces podemos obtener los $T$ $\\epsilon_t$ con la siguiente relación (obviamente si conocemos los parámetros también):\n",
    "\n",
    "$$\\epsilon_t = y_t - \\mu - \\theta_1 \\epsilon_{t - 1} - \\theta_2 \\epsilon_{t - 2} - \\dots - \\theta_q \\epsilon_{t - q}$$\n",
    "\n",
    "La función de verosimilitud condicional vendría dada por:\n",
    "\n",
    "$$\\log f_{Y_T, Y_{T - 1}, \\dots, Y_1 | \\epsilon_0 = \\epsilon_{-1} = \\dots =\\epsilon_{-q + 1} = 0}(y_T, y_{T - 1}, \\dots, y_1 | \\epsilon_0 = \\epsilon_{-1} = \\dots =\\epsilon_{-q + 1} = 0 ; \\Theta) = -\\frac{T}{2}\\log(2 \\pi) - \\frac{T}{2}\\log(\\sigma^2) - \\sum^T_{t = 1}\\frac{\\epsilon^2_t}{2\\sigma^2}$$\n",
    "\n",
    "Nuevamente, no puede aplicarse MCO y es necesaria la maximización de esta función. Ests método es confiable si el proceso MA(q) es invertible."
   ]
  },
  {
   "cell_type": "markdown",
   "metadata": {},
   "source": [
    "Ejemplificaremos con el siguiente proceso MA(1):\n",
    "\n",
    "$$Y_t = \\epsilon_t + 0.7\\epsilon_{t - 1}$$\n"
   ]
  },
  {
   "cell_type": "code",
   "execution_count": 165,
   "metadata": {},
   "outputs": [
    {
     "data": {
      "text/plain": [
       "\n",
       "Call:\n",
       "arima(x = y[2:101], order = c(0, 0, 1), include.mean = FALSE, method = \"ML\")\n",
       "\n",
       "Coefficients:\n",
       "         ma1\n",
       "      0.7580\n",
       "s.e.  0.0815\n",
       "\n",
       "sigma^2 estimated as 5.121:  log likelihood = -223.98,  aic = 449.97"
      ]
     },
     "metadata": {},
     "output_type": "display_data"
    }
   ],
   "source": [
    "set.seed(12345)\n",
    "epsilon <- rnorm(101, sd = 2)\n",
    "y <- rep(0, 101)\n",
    "for (i in 2:101) {\n",
    "    y[i] <- epsilon[i] + 0.7 * epsilon[i - 1] \n",
    "}\n",
    "ma1_mod <- arima(y[2:101], order = c(0, 0, 1), method = \"ML\", include.mean = FALSE)\n",
    "ma1_mod"
   ]
  },
  {
   "cell_type": "markdown",
   "metadata": {},
   "source": [
    "El resultado es muy cercano al valor especificado."
   ]
  },
  {
   "cell_type": "markdown",
   "metadata": {},
   "source": [
    "Ahora consideremos un modelo ARMA(p, q):\n",
    "\n",
    "$$Y_t = c + \\phi_1 Y_{t - 1} + \\phi_2 Y_{t - 2} + \\dots + \\phi_p Y_{t - p} + \\epsilon_t + \\theta_1 \\epsilon_{t - 1} + \\theta_2 \\epsilon_{t - 2} + \\dots + \\theta_q \\epsilon_{t - q}$$\n",
    "\n",
    "Consideramos las primeras $p$ observaciones como dadas y asumimos que $\\epsilon_p = \\epsilon_{p - 1} = \\dots = \\epsilon_{p - q + 1} = 0$. Con esta información podemos construir los $\\epsilon_t$ empezando de $t = p + 1$.\n",
    "\n",
    "$$\\epsilon_t = y_t - c - \\phi_1 y_{t - 1} - \\phi_2 y_{t - 2} - \\dots - \\phi_p Y_{t - p} - \\theta_1 \\epsilon_{t - 1} - \\theta_2 \\epsilon_{t - 2} - \\dots - \\theta_q \\epsilon_{t - q}$$\n",
    "\n",
    "donde la función de verosimilitud condicional viene dada:\n",
    "\n",
    "$$\\log f_{Y_T, Y_{T - 1}, \\dots, Y_{p + 1}| Y_p, Y_{p - 1}, \\dots, Y_1, \\epsilon_p = \\epsilon_{p - 1} = \\dots = \\epsilon_{p - q + 1} = 0}(y_T, y_{T - 1}, \\dots, y_{p + 1} | y_p, y_{p - 1}, \\dots, y_1, \\epsilon_p = \\epsilon_{p - 1} = \\dots = \\epsilon_{p - q + 1} = 0) = -\\frac{T - p}{2}\\log(2 \\pi) - \\frac{T - p}{2}\\log(\\sigma^2) - \\sum^T_{t = p + 1}\\frac{\\epsilon^2_t}{2 \\sigma^2}$$\n",
    "\n",
    "Tal función debe maximizarse para obtener los parámetros. Este procedimiento es adecuado si el componente MA(q) es invertible."
   ]
  },
  {
   "cell_type": "markdown",
   "metadata": {},
   "source": [
    "Consideremos el siguiente proceso ARMA(1, 1):\n",
    "\n",
    "$$Y_t = 0.6 Y_{t - 1} + \\epsilon_t + 0.3 \\epsilon_{t - 1}$$"
   ]
  },
  {
   "cell_type": "code",
   "execution_count": 166,
   "metadata": {},
   "outputs": [
    {
     "data": {
      "text/plain": [
       "\n",
       "Call:\n",
       "arima(x = y[401:500], order = c(1, 0, 1), include.mean = FALSE, method = \"CSS-ML\")\n",
       "\n",
       "Coefficients:\n",
       "         ar1     ma1\n",
       "      0.6220  0.4991\n",
       "s.e.  0.0957  0.1234\n",
       "\n",
       "sigma^2 estimated as 2.965:  log likelihood = -196.89,  aic = 397.78"
      ]
     },
     "metadata": {},
     "output_type": "display_data"
    }
   ],
   "source": [
    "set.seed(12345)\n",
    "epsilon <- rnorm(500, sd = 2)\n",
    "y <- rep(0, 500)\n",
    "y[1] <- 1\n",
    "for (i in 2:500) {\n",
    "    y[i] <- 0.6 * y[i - 1] + epsilon[i] + 0.3 * epsilon[i - 1]\n",
    "}\n",
    "arma11_mod <- arima(y[401:500], order = c(1, 0, 1), method = \"CSS-ML\", include.mean = FALSE)\n",
    "arma11_mod"
   ]
  },
  {
   "cell_type": "markdown",
   "metadata": {},
   "source": [
    "La estimación nos da un valor muy cercano para el componente AR pero un poco alejado para el componente MA."
   ]
  },
  {
   "cell_type": "markdown",
   "metadata": {},
   "source": [
    "### 3.14 Diagnóstico"
   ]
  },
  {
   "cell_type": "markdown",
   "metadata": {},
   "source": [
    "Una vez estimado nuestro modelo ARMA preferido debemos verificar que los residuos sean ruido blanco; es decir que todas las autocorrelaciones sean 0. Empezamos la verificación con el gráfico ACF:"
   ]
  },
  {
   "cell_type": "code",
   "execution_count": 167,
   "metadata": {},
   "outputs": [
    {
     "data": {
      "image/png": "[encoded data removed]",
      "text/plain": [
       "Plot with title \"ACF de los residuos del modelo ARMA(1, 1)\""
      ]
     },
     "metadata": {},
     "output_type": "display_data"
    }
   ],
   "source": [
    "acf(arma11_mod$residuals, lag.max = 30, main = \"ACF de los residuos del modelo ARMA(1, 1)\")"
   ]
  },
  {
   "cell_type": "markdown",
   "metadata": {},
   "source": [
    "Existen tambien las llamadas pruebas de [Portmanteau](https://es.wikipedia.org/wiki/Prueba_de_Ljung-Box) que verifican si la autocorrelaciones en conjunto son 0 o distintas de 0."
   ]
  },
  {
   "cell_type": "code",
   "execution_count": 168,
   "metadata": {},
   "outputs": [
    {
     "name": "stdout",
     "output_type": "stream",
     "text": [
      "[1] 0.7169749\n",
      "[1] 0.7684731\n",
      "[1] 0.9604969\n",
      "[1] 0.9950085\n"
     ]
    }
   ],
   "source": [
    "for (i in c(1, 5, 10, 20)) {\n",
    "    p_test <- Box.test(arma11_mod$residuals, lag = i, type = \"Box-Pierce\")\n",
    "    print(p_test$p.value)\n",
    "}"
   ]
  },
  {
   "cell_type": "code",
   "execution_count": 169,
   "metadata": {},
   "outputs": [
    {
     "name": "stdout",
     "output_type": "stream",
     "text": [
      "[1] 0.7129058\n",
      "[1] 0.7454958\n",
      "[1] 0.9485406\n",
      "[1] 0.987908\n"
     ]
    }
   ],
   "source": [
    "for (i in c(1, 5, 10 , 20)) {\n",
    "    p_test <- Box.test(arma11_mod$residuals, lag = i, type = \"Ljung-Box\")\n",
    "    print(p_test$p.value)\n",
    "}"
   ]
  },
  {
   "cell_type": "markdown",
   "metadata": {},
   "source": [
    "Por lo tanto concluimos que los residuos son ruido blanco."
   ]
  },
  {
   "cell_type": "markdown",
   "metadata": {},
   "source": [
    "### 3.15 Pronóstico"
   ]
  },
  {
   "cell_type": "markdown",
   "metadata": {},
   "source": [
    "Sea el modelo MA(1):\n",
    "\n",
    "$$Y_t = \\mu + \\epsilon_t + \\theta \\epsilon_{t - 1}$$\n",
    "\n",
    "Los pronósticos del modelo MA(1) tiene la siguiente propiedad:\n",
    "\n",
    "- Más allá de 1 periodo hacia adelante, el pronóstico es solamente la media del proceso $\\mu$.\n",
    "\n",
    "Ilustremos esto con un ejemplo. Sea el proceso MA(1):\n",
    "\n",
    "$$Y_t = \\epsilon_t + 0.75\\epsilon_{t - 1}$$"
   ]
  },
  {
   "cell_type": "code",
   "execution_count": 170,
   "metadata": {},
   "outputs": [
    {
     "name": "stdout",
     "output_type": "stream",
     "text": [
      "List of 2\n",
      " $ pred: Time-Series [1:10] from 101 to 110: 0.0894 0 0 0 0 ...\n",
      " $ se  : Time-Series [1:10] from 101 to 110: 1.13 1.46 1.46 1.46 1.46 ...\n"
     ]
    }
   ],
   "source": [
    "set.seed(12345)\n",
    "epsilon <- rnorm(101)\n",
    "y <- rep(0, 101)\n",
    "for (i in 2:101) {\n",
    "    y[i] <- epsilon[i] + 0.75 * epsilon[i - 1]\n",
    "}\n",
    "ma1_mod <- arima(y[2:101], order = c(0, 0, 1), include.mean = FALSE, method = \"ML\")\n",
    "ma1_for <- predict(ma1_mod, n.ahead = 10)\n",
    "str(ma1_for)"
   ]
  },
  {
   "cell_type": "markdown",
   "metadata": {},
   "source": [
    "Como puede observarse, a partir del segundo periodo en adelante el pronóstico es la media del proceso que es 0. "
   ]
  },
  {
   "cell_type": "markdown",
   "metadata": {},
   "source": [
    "Ahora analicemos el modelo MA(q):\n",
    "\n",
    "$$Y_t = \\mu + \\epsilon_t + \\theta_1 \\epsilon_{t - 1} + \\theta_2 \\epsilon_{t - 2} + \\dots + \\theta_q \\epsilon_{t - q}$$\n",
    "\n",
    "La propiedad del pronóstico del modelo MA(q) es:\n",
    "\n",
    "- Después de $q$ periodos hacia adelante el pronóstico es sólo la media $\\mu$ del proceso.\n",
    "\n",
    "Ilustremos esto con un modelo MA(2):\n",
    "\n",
    "$$Y_t = \\epsilon_t + 0.8 \\epsilon_{t - 1} - 0.1 \\epsilon_{t - 2}$$\n",
    "\n",
    "Primero debemos asegurarnos que este proceso es invertible:"
   ]
  },
  {
   "cell_type": "code",
   "execution_count": 171,
   "metadata": {},
   "outputs": [
    {
     "data": {
      "text/html": [
       "<ol class=list-inline>\n",
       "\t<li>-1.09901951359278+0i</li>\n",
       "\t<li>9.09901951359278-0i</li>\n",
       "</ol>\n"
      ],
      "text/latex": [
       "\\begin{enumerate*}\n",
       "\\item -1.09901951359278+0i\n",
       "\\item 9.09901951359278-0i\n",
       "\\end{enumerate*}\n"
      ],
      "text/markdown": [
       "1. -1.09901951359278+0i\n",
       "2. 9.09901951359278-0i\n",
       "\n",
       "\n"
      ],
      "text/plain": [
       "[1] -1.09902+0i  9.09902-0i"
      ]
     },
     "metadata": {},
     "output_type": "display_data"
    }
   ],
   "source": [
    "polyroot(c(1, 0.8, -0.1))"
   ]
  },
  {
   "cell_type": "markdown",
   "metadata": {},
   "source": [
    "El proceso es invertible."
   ]
  },
  {
   "cell_type": "code",
   "execution_count": 172,
   "metadata": {},
   "outputs": [
    {
     "name": "stdout",
     "output_type": "stream",
     "text": [
      "List of 2\n",
      " $ pred: Time-Series [1:10] from 101 to 110: -0.793 0.126 0 0 0 ...\n",
      " $ se  : Time-Series [1:10] from 101 to 110: 1.11 1.46 1.47 1.47 1.47 ...\n"
     ]
    }
   ],
   "source": [
    "set.seed(12345)\n",
    "epsilon <- rnorm(102)\n",
    "y <- rep(0, 102)\n",
    "for (i in 3:102) {\n",
    "    y[i] <- epsilon[i] + 0.8 * epsilon[i - 1] - 0.1 * epsilon[i - 2]\n",
    "}\n",
    "ma2_mod <- arima(y[3:102], order = c(0, 0, 2), include.mean = FALSE, method = \"ML\")\n",
    "ma2_for <- predict(ma2_mod, n.ahead = 10)\n",
    "str(ma2_for)"
   ]
  },
  {
   "cell_type": "markdown",
   "metadata": {},
   "source": [
    "Como mencionamos, después de 2 periodos adelante el pronóstico es solamente la media del proceso que es 0."
   ]
  },
  {
   "cell_type": "markdown",
   "metadata": {},
   "source": [
    "Ahora analizamos el caso de un modelo AR(1):\n",
    "\n",
    "$$Y_t = c + \\phi Y_{t - 1} + \\epsilon_t$$\n",
    "\n",
    "La propiedad de los pronósticos con modelos AR(1) es que éstos convergen a la media del proceso $\\mu = \\frac{c}{1 - \\theta}$ a medida que aumentan los periodos de tiempo.\n",
    "\n",
    "Ilustremos esto con un ejemplo. Sea el proceso AR(1):\n",
    "\n",
    "$$Y_t = 0.85Y_{t - 1} + \\epsilon_t$$"
   ]
  },
  {
   "cell_type": "code",
   "execution_count": 173,
   "metadata": {},
   "outputs": [
    {
     "data": {
      "image/png": "[encoded data removed]",
      "text/plain": [
       "plot without title"
      ]
     },
     "metadata": {},
     "output_type": "display_data"
    }
   ],
   "source": [
    "set.seed(12345)\n",
    "epsilon <- rnorm(500)\n",
    "y <- rep(0, 500)\n",
    "y[1] <- 1\n",
    "for (i in 2:500) {\n",
    "    y[i] <- 0.85 * y[i - 1] + epsilon[i]\n",
    "}\n",
    "ar1_mod <- arima(y[401:500], order = c(1, 0, 0), method = \"CSS\", include.mean = FALSE)\n",
    "ar1_for <- predict(ar1_mod, n.ahead = 50)\n",
    "ar1for_datos <- data.frame(t = 1:50, pred = as.numeric(ar1_for$pred))\n",
    "g <- ggplot(data = ar1for_datos, aes(x = t, y = pred))\n",
    "g + geom_line() + labs(x = \"Horizonte de Pronóstico\", y = \"Pronóstico\")"
   ]
  },
  {
   "cell_type": "markdown",
   "metadata": {},
   "source": [
    "Como podemos observar el pronóstico converge a la media del proceso que es 0.\n",
    "\n",
    "Ahora veamos el caso del modelo AR(p):\n",
    "\n",
    "$$Y_t = c + \\phi_1 Y_{t - 1} + \\phi_2 Y_{t - 2} + \\dots + \\phi_p Y_{t - p}$$\n",
    "\n",
    "Al igual que en el caso del modelo AR(1), en el modelo AR(p) el pronóstico converge a la media del proceso $\\mu = \\frac{c}{1 - \\phi_1 - \\phi_2 - \\dots - \\phi_p}$ a medida que avanzamos en el horizonte de pronóstico.\n",
    "\n",
    "Ilustremos esto con un modelo AR(2):\n",
    "\n",
    "$$Y_t = 1.1 Y_{t - 1} - 0.18 Y_{t - 2} + \\epsilon_t$$\n",
    "\n",
    "Este modelo ya lo vimos anteriormente y verificamos que sea estacionario."
   ]
  },
  {
   "cell_type": "code",
   "execution_count": 174,
   "metadata": {},
   "outputs": [
    {
     "data": {
      "image/png": "[encoded data removed]",
      "text/plain": [
       "plot without title"
      ]
     },
     "metadata": {},
     "output_type": "display_data"
    }
   ],
   "source": [
    "set.seed(12345)\n",
    "epsilon <- rnorm(500)\n",
    "y <- rep(0, 500)\n",
    "y[1] <- 1; y[2] <- 2\n",
    "for (i in 3:500) {\n",
    "    y[i] <- 1.1 * y[i - 1] - 0.18 * y[i - 2] + epsilon[i]\n",
    "}\n",
    "ar2_mod <- arima(y[401:500], order = c(2, 0, 0), method = \"CSS\", include.mean = FALSE)\n",
    "ar2_for <- predict(ar2_mod, n.ahead = 50)\n",
    "ar2for_datos <- data.frame(t = 1:50, pred = as.numeric(ar2_for$pred))\n",
    "g <- ggplot(data = ar2for_datos, aes(x = t, y = pred))\n",
    "g + geom_line() + labs(x = \"Horizonte de Pronóstico\", y = \"Pronóstico\")"
   ]
  },
  {
   "cell_type": "markdown",
   "metadata": {},
   "source": [
    "Como se puede observar, el pronóstico se aproxima a la media del proceso que es 0.\n",
    "\n",
    "Finalmente consideremos el modelo ARMA(p, q):\n",
    "\n",
    "$$Y_t = c + \\phi_1 Y_{t - 1} + \\phi_2 Y_{t - 2} + \\dots + \\phi_p Y_{t - p} + \\epsilon_t + \\theta_1 \\epsilon_{t - 1} + \\theta_2 \\epsilon_{t - 2} + \\dots + \\theta_q \\epsilon_{t - q}$$\n",
    "\n",
    "La propiedad de los pronósticos con este modelo es que convergen hacia la media del proceso $\\mu = \\frac{c}{1 - \\phi_1 - \\phi_2 - \\dots - \\phi_p}$ despues de $q$ periodos en el horizonte de pronóstico.\n",
    "\n",
    "Ilustremos esto con un modelo ARMA(1, 1):\n",
    "\n",
    "$$Y_t = 0.55 Y_{t - 1} + \\epsilon_t - 0.95 \\epsilon_{t - 1}$$\n",
    "\n"
   ]
  },
  {
   "cell_type": "code",
   "execution_count": 175,
   "metadata": {},
   "outputs": [
    {
     "data": {
      "image/png": "[encoded data removed]",
      "text/plain": [
       "plot without title"
      ]
     },
     "metadata": {},
     "output_type": "display_data"
    }
   ],
   "source": [
    "set.seed(12345)\n",
    "epsilon <- rnorm(500)\n",
    "y <- rep(0, 500)\n",
    "y[1] <- 1\n",
    "for (i in 2:500) {\n",
    "    y[i] <- 0.55 * y[i - 1] + epsilon[i] - 0.95 * epsilon[i - 1]\n",
    "}\n",
    "arma11_mod <- arima(y[401:500], order = c(1, 0, 1), include.mean = FALSE, method = \"ML\")\n",
    "arma11_for <- predict(arma11_mod, n.ahead = 50)\n",
    "arma11for_datos <- data.frame(t = 1:50, pred = as.numeric(arma11_for$pred))\n",
    "g <- ggplot(data = arma11for_datos, aes(x = t, y = pred))\n",
    "g + geom_line() + labs(x = \"Horizonte de Pronóstico\", y = \"Pronóstico\")"
   ]
  },
  {
   "cell_type": "markdown",
   "metadata": {},
   "source": [
    "Como puede observarse, el pronóstico converge a la media del proceso que es 0 después de 1 periodo hacia adelante.\n",
    "\n",
    "Finalmente para concluir esta sección, mostraremos una medida para evaluar el desempeño de un pronóstico. se la conoce como la *raíz del error cuadrático medio* o RMSE, que se define como:\n",
    "\n",
    "$$RMSE = \\sqrt{\\frac{\\sum^h_{j = 1}(y_{t + j} - y^*_{t + j})^2}{h}}$$\n",
    "\n",
    "donde $y^*_{t + j}$ es el pronóstico efectuado, $y_{t + j}$ es el valor observado y $h$ es el horizonte de pronóstico (número de periodos de pronóstico). \n",
    "\n",
    "Para ejemplificar consideremos un modelo ARMA(1,1):\n",
    "\n",
    "$$Y_t = 1.2 + 0.5 Y_{t - 1} + \\epsilon_t + 0.8 \\epsilon_{t - 1}$$"
   ]
  },
  {
   "cell_type": "code",
   "execution_count": 176,
   "metadata": {},
   "outputs": [
    {
     "name": "stdout",
     "output_type": "stream",
     "text": [
      "[1] \"El RMSE del modelo ARMA(1,1) es 2.47297056508468\"\n"
     ]
    }
   ],
   "source": [
    "set.seed(12345)\n",
    "epsilon <- rnorm(510)\n",
    "y <- rep(0, 510)\n",
    "y[1] <- 1\n",
    "for (i in 2:510) {\n",
    "    y[i] <- 1.2 + 0.5 * y[i - 1] + epsilon[i] + 0.8 * epsilon[i - 1]\n",
    "}\n",
    "arma11_mod <- arima(y[401:500], order = c(1, 0, 1), method = \"ML\")\n",
    "h <- 10\n",
    "arma11_for <- predict(arma11_mod, n.ahead = h)\n",
    "RMSE_arma11 <- sqrt(mean((y[501:510] - as.numeric(arma11_for$pred))^2))\n",
    "print(paste(\"El RMSE del modelo ARMA(1,1) es\", RMSE_arma11))\n"
   ]
  },
  {
   "cell_type": "markdown",
   "metadata": {},
   "source": [
    "### 3.16 Selección del orden de ARMA(p, q)"
   ]
  },
  {
   "cell_type": "markdown",
   "metadata": {},
   "source": [
    "Hemos visto que la ACF y la PACF son útiles para determinar el orden del proceso ARMA(p, q); sin embargo, éstas nos pueden dar mucahs alternativas de posibles modelos. ¿Cómo escoger el orden p y q más adecuados? La respuesta es empleando el criterio de Akaike y el criterio de Schwartz.\n",
    "\n",
    "$$AIC = 2k - 2\\log(\\hat{L})$$\n",
    "$$BIC = k\\log(T) - 2\\log(\\hat{L})$$\n",
    "\n",
    "donde $\\hat{L}$ es el valor de la función de verosimilitud al ser maximizada, $k$ es el número de parámetros y $T$ es el tamaño de la muestra. Se escoge el modelo con los valores AIC y BIC mínimos. Ambos criterios benefician modelos con un buen ajuste pero existe una penalización por el incremento en los parámetros a estimar. Generalmente, el criterio BIC da modelos más parsimoniosos; es decir, modelos con menos parámetros."
   ]
  },
  {
   "cell_type": "code",
   "execution_count": 177,
   "metadata": {},
   "outputs": [
    {
     "data": {
      "text/html": [
       "265.144814142395"
      ],
      "text/latex": [
       "265.144814142395"
      ],
      "text/markdown": [
       "265.144814142395"
      ],
      "text/plain": [
       "[1] 265.1448"
      ]
     },
     "metadata": {},
     "output_type": "display_data"
    }
   ],
   "source": [
    "AIC(arma11_mod)"
   ]
  },
  {
   "cell_type": "code",
   "execution_count": 178,
   "metadata": {},
   "outputs": [
    {
     "data": {
      "text/html": [
       "275.565494886348"
      ],
      "text/latex": [
       "275.565494886348"
      ],
      "text/markdown": [
       "275.565494886348"
      ],
      "text/plain": [
       "[1] 275.5655"
      ]
     },
     "metadata": {},
     "output_type": "display_data"
    }
   ],
   "source": [
    "BIC(arma11_mod)"
   ]
  },
  {
   "cell_type": "markdown",
   "metadata": {},
   "source": [
    "### 3.17 Caso de Estudio - Proyección a tres meses de la inflación mensual en Bolivia"
   ]
  },
  {
   "cell_type": "markdown",
   "metadata": {},
   "source": [
    "Utilizaremos todo lo visto en este capítulo para hacer un pronóstico de corto plazo (ideal uso de los modelos ARMA) de la inflación mensual de Bolivia. Empezaremos descargando los datos:"
   ]
  },
  {
   "cell_type": "code",
   "execution_count": 179,
   "metadata": {},
   "outputs": [],
   "source": [
    "url <- \"https://nube.ine.gob.bo/index.php/s/UonLRDITXiVjHf0/download\"\n",
    "if (!file.exists(\"./Datos/IPC.xlsx\")) {\n",
    "    download.file(url, destfile = \"./Datos/IPC.xlsx\", mode = \"wb\")\n",
    "}"
   ]
  },
  {
   "cell_type": "markdown",
   "metadata": {},
   "source": [
    "Los datos son mensuales desde 1937 hasta 2020. Seleccionaremos un periodo de estabilidad económica para hacer el análisis 2007 - 2019. Nuestro objetivo es pronosticar los niveles mensuales de inflación para el primer trimestre de 2019, con datos hasta diciembre de 2018. Empezamos leyendo sólo los datos que vamos a necesitar: "
   ]
  },
  {
   "cell_type": "code",
   "execution_count": 180,
   "metadata": {},
   "outputs": [
    {
     "data": {
      "text/html": [
       "<table>\n",
       "<thead><tr><th scope=col>2007</th><th scope=col>2008</th><th scope=col>2009</th><th scope=col>2010</th><th scope=col>2011</th><th scope=col>2012</th><th scope=col>2013</th><th scope=col>2014</th><th scope=col>2015</th><th scope=col>2016</th><th scope=col>2017</th><th scope=col>2018</th><th scope=col>2019</th><th scope=col>Mes</th></tr></thead>\n",
       "<tbody>\n",
       "\t<tr><td>2.6765572  </td><td>0.4580674  </td><td>-0.2013813 </td><td>0.6183445  </td><td>0.5319574  </td><td>0.3831583  </td><td> 0.61161722</td><td> 0.73459008</td><td>0.60619358 </td><td>0.03343438 </td><td> 0.75122617</td><td> 0.04157434</td><td> 0.22673896</td><td> 7         </td></tr>\n",
       "\t<tr><td>1.5906492  </td><td>0.6534413  </td><td> 0.6239945 </td><td>1.0566908  </td><td>0.3792444  </td><td>0.3540718  </td><td> 1.33857482</td><td> 0.06392583</td><td>0.20068945 </td><td>0.12665089 </td><td> 0.79063856</td><td> 0.17209292</td><td> 0.50156833</td><td> 8         </td></tr>\n",
       "\t<tr><td>0.1897392  </td><td>0.8809587  </td><td> 0.1114317 </td><td>0.7657854  </td><td>0.3043685  </td><td>0.3726044  </td><td> 1.35968877</td><td>-0.37559019</td><td>0.46960284 </td><td>0.44890764 </td><td> 0.80197922</td><td>-0.08621872</td><td>-0.08143468</td><td> 9         </td></tr>\n",
       "\t<tr><td>1.2467436  </td><td>0.1775514  </td><td> 0.3178302 </td><td>1.2239936  </td><td>0.4731726  </td><td>0.3817033  </td><td> 0.73316127</td><td> 0.09701627</td><td>0.33244358 </td><td>0.36693526 </td><td>-0.21422961</td><td> 0.17610829</td><td> 0.44985057</td><td>10         </td></tr>\n",
       "\t<tr><td>1.2279378  </td><td>0.1317570  </td><td>-0.1935546 </td><td>1.1144138  </td><td>0.3228558  </td><td>0.4746112  </td><td>-0.03078452</td><td> 0.70963967</td><td>0.05294214 </td><td>0.41552613 </td><td> 0.07775933</td><td> 0.25959070</td><td> 1.11485620</td><td>11         </td></tr>\n",
       "\t<tr><td>0.6319240  </td><td>0.4273941  </td><td> 0.2337439 </td><td>1.7647827  </td><td>0.4900627  </td><td>0.5340692  </td><td> 0.08198952</td><td> 0.83728987</td><td>0.16598571 </td><td>0.28870763 </td><td> 0.33690561</td><td> 0.34606844</td><td>-1.53959797</td><td>12         </td></tr>\n",
       "</tbody>\n",
       "</table>\n"
      ],
      "text/latex": [
       "\\begin{tabular}{r|llllllllllllll}\n",
       " 2007 & 2008 & 2009 & 2010 & 2011 & 2012 & 2013 & 2014 & 2015 & 2016 & 2017 & 2018 & 2019 & Mes\\\\\n",
       "\\hline\n",
       "\t 2.6765572   & 0.4580674   & -0.2013813  & 0.6183445   & 0.5319574   & 0.3831583   &  0.61161722 &  0.73459008 & 0.60619358  & 0.03343438  &  0.75122617 &  0.04157434 &  0.22673896 &  7         \\\\\n",
       "\t 1.5906492   & 0.6534413   &  0.6239945  & 1.0566908   & 0.3792444   & 0.3540718   &  1.33857482 &  0.06392583 & 0.20068945  & 0.12665089  &  0.79063856 &  0.17209292 &  0.50156833 &  8         \\\\\n",
       "\t 0.1897392   & 0.8809587   &  0.1114317  & 0.7657854   & 0.3043685   & 0.3726044   &  1.35968877 & -0.37559019 & 0.46960284  & 0.44890764  &  0.80197922 & -0.08621872 & -0.08143468 &  9         \\\\\n",
       "\t 1.2467436   & 0.1775514   &  0.3178302  & 1.2239936   & 0.4731726   & 0.3817033   &  0.73316127 &  0.09701627 & 0.33244358  & 0.36693526  & -0.21422961 &  0.17610829 &  0.44985057 & 10         \\\\\n",
       "\t 1.2279378   & 0.1317570   & -0.1935546  & 1.1144138   & 0.3228558   & 0.4746112   & -0.03078452 &  0.70963967 & 0.05294214  & 0.41552613  &  0.07775933 &  0.25959070 &  1.11485620 & 11         \\\\\n",
       "\t 0.6319240   & 0.4273941   &  0.2337439  & 1.7647827   & 0.4900627   & 0.5340692   &  0.08198952 &  0.83728987 & 0.16598571  & 0.28870763  &  0.33690561 &  0.34606844 & -1.53959797 & 12         \\\\\n",
       "\\end{tabular}\n"
      ],
      "text/markdown": [
       "\n",
       "| 2007 | 2008 | 2009 | 2010 | 2011 | 2012 | 2013 | 2014 | 2015 | 2016 | 2017 | 2018 | 2019 | Mes |\n",
       "|---|---|---|---|---|---|---|---|---|---|---|---|---|---|\n",
       "| 2.6765572   | 0.4580674   | -0.2013813  | 0.6183445   | 0.5319574   | 0.3831583   |  0.61161722 |  0.73459008 | 0.60619358  | 0.03343438  |  0.75122617 |  0.04157434 |  0.22673896 |  7          |\n",
       "| 1.5906492   | 0.6534413   |  0.6239945  | 1.0566908   | 0.3792444   | 0.3540718   |  1.33857482 |  0.06392583 | 0.20068945  | 0.12665089  |  0.79063856 |  0.17209292 |  0.50156833 |  8          |\n",
       "| 0.1897392   | 0.8809587   |  0.1114317  | 0.7657854   | 0.3043685   | 0.3726044   |  1.35968877 | -0.37559019 | 0.46960284  | 0.44890764  |  0.80197922 | -0.08621872 | -0.08143468 |  9          |\n",
       "| 1.2467436   | 0.1775514   |  0.3178302  | 1.2239936   | 0.4731726   | 0.3817033   |  0.73316127 |  0.09701627 | 0.33244358  | 0.36693526  | -0.21422961 |  0.17610829 |  0.44985057 | 10          |\n",
       "| 1.2279378   | 0.1317570   | -0.1935546  | 1.1144138   | 0.3228558   | 0.4746112   | -0.03078452 |  0.70963967 | 0.05294214  | 0.41552613  |  0.07775933 |  0.25959070 |  1.11485620 | 11          |\n",
       "| 0.6319240   | 0.4273941   |  0.2337439  | 1.7647827   | 0.4900627   | 0.5340692   |  0.08198952 |  0.83728987 | 0.16598571  | 0.28870763  |  0.33690561 |  0.34606844 | -1.53959797 | 12          |\n",
       "\n"
      ],
      "text/plain": [
       "  2007      2008      2009       2010      2011      2012      2013       \n",
       "1 2.6765572 0.4580674 -0.2013813 0.6183445 0.5319574 0.3831583  0.61161722\n",
       "2 1.5906492 0.6534413  0.6239945 1.0566908 0.3792444 0.3540718  1.33857482\n",
       "3 0.1897392 0.8809587  0.1114317 0.7657854 0.3043685 0.3726044  1.35968877\n",
       "4 1.2467436 0.1775514  0.3178302 1.2239936 0.4731726 0.3817033  0.73316127\n",
       "5 1.2279378 0.1317570 -0.1935546 1.1144138 0.3228558 0.4746112 -0.03078452\n",
       "6 0.6319240 0.4273941  0.2337439 1.7647827 0.4900627 0.5340692  0.08198952\n",
       "  2014        2015       2016       2017        2018        2019        Mes\n",
       "1  0.73459008 0.60619358 0.03343438  0.75122617  0.04157434  0.22673896  7 \n",
       "2  0.06392583 0.20068945 0.12665089  0.79063856  0.17209292  0.50156833  8 \n",
       "3 -0.37559019 0.46960284 0.44890764  0.80197922 -0.08621872 -0.08143468  9 \n",
       "4  0.09701627 0.33244358 0.36693526 -0.21422961  0.17610829  0.44985057 10 \n",
       "5  0.70963967 0.05294214 0.41552613  0.07775933  0.25959070  1.11485620 11 \n",
       "6  0.83728987 0.16598571 0.28870763  0.33690561  0.34606844 -1.53959797 12 "
      ]
     },
     "metadata": {},
     "output_type": "display_data"
    }
   ],
   "source": [
    "datos <- read_xlsx(\"./Datos/IPC.xlsx\", sheet = 3, range = \"BT5:CF17\")\n",
    "datos$Mes <- 1:12\n",
    "tail(datos)"
   ]
  },
  {
   "cell_type": "code",
   "execution_count": 181,
   "metadata": {},
   "outputs": [],
   "source": [
    "library(tidyr)"
   ]
  },
  {
   "cell_type": "code",
   "execution_count": 182,
   "metadata": {},
   "outputs": [
    {
     "data": {
      "text/html": [
       "<table>\n",
       "<thead><tr><th scope=col>Mes</th><th scope=col>Fecha</th><th scope=col>IPC</th></tr></thead>\n",
       "<tbody>\n",
       "\t<tr><td>1        </td><td>2007     </td><td>1.4345386</td></tr>\n",
       "\t<tr><td>1        </td><td>2008     </td><td>1.0903747</td></tr>\n",
       "\t<tr><td>1        </td><td>2009     </td><td>0.3596747</td></tr>\n",
       "\t<tr><td>1        </td><td>2010     </td><td>0.1701759</td></tr>\n",
       "\t<tr><td>1        </td><td>2011     </td><td>1.2926353</td></tr>\n",
       "\t<tr><td>1        </td><td>2012     </td><td>0.3007289</td></tr>\n",
       "</tbody>\n",
       "</table>\n"
      ],
      "text/latex": [
       "\\begin{tabular}{r|lll}\n",
       " Mes & Fecha & IPC\\\\\n",
       "\\hline\n",
       "\t 1         & 2007      & 1.4345386\\\\\n",
       "\t 1         & 2008      & 1.0903747\\\\\n",
       "\t 1         & 2009      & 0.3596747\\\\\n",
       "\t 1         & 2010      & 0.1701759\\\\\n",
       "\t 1         & 2011      & 1.2926353\\\\\n",
       "\t 1         & 2012      & 0.3007289\\\\\n",
       "\\end{tabular}\n"
      ],
      "text/markdown": [
       "\n",
       "| Mes | Fecha | IPC |\n",
       "|---|---|---|\n",
       "| 1         | 2007      | 1.4345386 |\n",
       "| 1         | 2008      | 1.0903747 |\n",
       "| 1         | 2009      | 0.3596747 |\n",
       "| 1         | 2010      | 0.1701759 |\n",
       "| 1         | 2011      | 1.2926353 |\n",
       "| 1         | 2012      | 0.3007289 |\n",
       "\n"
      ],
      "text/plain": [
       "  Mes Fecha IPC      \n",
       "1 1   2007  1.4345386\n",
       "2 1   2008  1.0903747\n",
       "3 1   2009  0.3596747\n",
       "4 1   2010  0.1701759\n",
       "5 1   2011  1.2926353\n",
       "6 1   2012  0.3007289"
      ]
     },
     "metadata": {},
     "output_type": "display_data"
    }
   ],
   "source": [
    "datos_long <- pivot_longer(datos, cols = !Mes, names_to = \"Fecha\", values_to = \"IPC\")\n",
    "head(datos_long)"
   ]
  },
  {
   "cell_type": "code",
   "execution_count": 195,
   "metadata": {},
   "outputs": [],
   "source": [
    "datos_n <- data.frame(Fecha = rep(0, nrow(datos_long)), IPC = rep(0, nrow(datos_long)))\n",
    "fecha <- seq(as.Date(\"01/01/2007\", \"%d/%m/%Y\"), as.Date(\"01/12/2019\", \"%d/%m/%Y\"), by = \"month\")\n",
    "datos_n$Fecha <- fecha\n",
    "years <- c(2007, 2008, 2009, 2010, 2011, 2012, 2013, 2014, 2015, 2016, 2017, 2018, 2019)\n",
    "for (i in 1:13) {\n",
    "    datos_n[(1 + 12 * (i - 1)):(12 * i), \"IPC\"] <- datos_long[which(datos_long$Fecha == years[i]), \"IPC\"] \n",
    "}\n"
   ]
  },
  {
   "cell_type": "code",
   "execution_count": 199,
   "metadata": {},
   "outputs": [
    {
     "data": {
      "text/html": [
       "<table>\n",
       "<thead><tr><th></th><th scope=col>Fecha</th><th scope=col>IPC</th></tr></thead>\n",
       "<tbody>\n",
       "\t<tr><th scope=row>143</th><td>2018-11-01 </td><td> 0.25959070</td></tr>\n",
       "\t<tr><th scope=row>144</th><td>2018-12-01 </td><td> 0.34606844</td></tr>\n",
       "\t<tr><th scope=row>145</th><td>2019-01-01 </td><td> 0.22627512</td></tr>\n",
       "\t<tr><th scope=row>146</th><td>2019-02-01 </td><td>-0.15241018</td></tr>\n",
       "\t<tr><th scope=row>147</th><td>2019-03-01 </td><td>-0.01703759</td></tr>\n",
       "\t<tr><th scope=row>148</th><td>2019-04-01 </td><td> 0.14016510</td></tr>\n",
       "\t<tr><th scope=row>149</th><td>2019-05-01 </td><td> 0.45557053</td></tr>\n",
       "\t<tr><th scope=row>150</th><td>2019-06-01 </td><td> 0.15613749</td></tr>\n",
       "\t<tr><th scope=row>151</th><td>2019-07-01 </td><td> 0.22673896</td></tr>\n",
       "\t<tr><th scope=row>152</th><td>2019-08-01 </td><td> 0.50156833</td></tr>\n",
       "\t<tr><th scope=row>153</th><td>2019-09-01 </td><td>-0.08143468</td></tr>\n",
       "\t<tr><th scope=row>154</th><td>2019-10-01 </td><td> 0.44985057</td></tr>\n",
       "\t<tr><th scope=row>155</th><td>2019-11-01 </td><td> 1.11485620</td></tr>\n",
       "\t<tr><th scope=row>156</th><td>2019-12-01 </td><td>-1.53959797</td></tr>\n",
       "</tbody>\n",
       "</table>\n"
      ],
      "text/latex": [
       "\\begin{tabular}{r|ll}\n",
       "  & Fecha & IPC\\\\\n",
       "\\hline\n",
       "\t143 & 2018-11-01  &  0.25959070\\\\\n",
       "\t144 & 2018-12-01  &  0.34606844\\\\\n",
       "\t145 & 2019-01-01  &  0.22627512\\\\\n",
       "\t146 & 2019-02-01  & -0.15241018\\\\\n",
       "\t147 & 2019-03-01  & -0.01703759\\\\\n",
       "\t148 & 2019-04-01  &  0.14016510\\\\\n",
       "\t149 & 2019-05-01  &  0.45557053\\\\\n",
       "\t150 & 2019-06-01  &  0.15613749\\\\\n",
       "\t151 & 2019-07-01  &  0.22673896\\\\\n",
       "\t152 & 2019-08-01  &  0.50156833\\\\\n",
       "\t153 & 2019-09-01  & -0.08143468\\\\\n",
       "\t154 & 2019-10-01  &  0.44985057\\\\\n",
       "\t155 & 2019-11-01  &  1.11485620\\\\\n",
       "\t156 & 2019-12-01  & -1.53959797\\\\\n",
       "\\end{tabular}\n"
      ],
      "text/markdown": [
       "\n",
       "| <!--/--> | Fecha | IPC |\n",
       "|---|---|---|\n",
       "| 143 | 2018-11-01  |  0.25959070 |\n",
       "| 144 | 2018-12-01  |  0.34606844 |\n",
       "| 145 | 2019-01-01  |  0.22627512 |\n",
       "| 146 | 2019-02-01  | -0.15241018 |\n",
       "| 147 | 2019-03-01  | -0.01703759 |\n",
       "| 148 | 2019-04-01  |  0.14016510 |\n",
       "| 149 | 2019-05-01  |  0.45557053 |\n",
       "| 150 | 2019-06-01  |  0.15613749 |\n",
       "| 151 | 2019-07-01  |  0.22673896 |\n",
       "| 152 | 2019-08-01  |  0.50156833 |\n",
       "| 153 | 2019-09-01  | -0.08143468 |\n",
       "| 154 | 2019-10-01  |  0.44985057 |\n",
       "| 155 | 2019-11-01  |  1.11485620 |\n",
       "| 156 | 2019-12-01  | -1.53959797 |\n",
       "\n"
      ],
      "text/plain": [
       "    Fecha      IPC        \n",
       "143 2018-11-01  0.25959070\n",
       "144 2018-12-01  0.34606844\n",
       "145 2019-01-01  0.22627512\n",
       "146 2019-02-01 -0.15241018\n",
       "147 2019-03-01 -0.01703759\n",
       "148 2019-04-01  0.14016510\n",
       "149 2019-05-01  0.45557053\n",
       "150 2019-06-01  0.15613749\n",
       "151 2019-07-01  0.22673896\n",
       "152 2019-08-01  0.50156833\n",
       "153 2019-09-01 -0.08143468\n",
       "154 2019-10-01  0.44985057\n",
       "155 2019-11-01  1.11485620\n",
       "156 2019-12-01 -1.53959797"
      ]
     },
     "metadata": {},
     "output_type": "display_data"
    }
   ],
   "source": [
    "tail(datos_n, 14)"
   ]
  },
  {
   "cell_type": "markdown",
   "metadata": {},
   "source": [
    "Esta sería el análisis de estacionalidad y tendencia de la inflación mensual:"
   ]
  },
  {
   "cell_type": "code",
   "execution_count": 201,
   "metadata": {},
   "outputs": [
    {
     "data": {
      "image/png": "[encoded data removed]",
      "text/plain": [
       "plot without title"
      ]
     },
     "metadata": {},
     "output_type": "display_data"
    }
   ],
   "source": [
    "infl <- ts(datos_n$IPC[1:144], start = c(2007, 1), end = c(2018, 12), frequency = 12)\n",
    "infl_decomp <- stl(infl, s.window = 15, t.window = 15, s.degree = 1, t.degree = 1)\n",
    "plot(infl_decomp)"
   ]
  },
  {
   "cell_type": "markdown",
   "metadata": {},
   "source": [
    "Pasamos a modelar la tendencia con un polinomio de grado 4:"
   ]
  },
  {
   "cell_type": "code",
   "execution_count": 205,
   "metadata": {},
   "outputs": [
    {
     "data": {
      "text/plain": [
       "\n",
       "Call:\n",
       "lm(formula = IPC ~ t + t2 + t3 + t4, data = datos_n[1:144, ])\n",
       "\n",
       "Residuals:\n",
       "     Min       1Q   Median       3Q      Max \n",
       "-1.33449 -0.26887 -0.08403  0.19307  1.89530 \n",
       "\n",
       "Coefficients:\n",
       "              Estimate Std. Error t value Pr(>|t|)    \n",
       "(Intercept)  1.276e+00  2.172e-01   5.877 2.95e-08 ***\n",
       "t           -5.420e-02  2.060e-02  -2.631  0.00947 ** \n",
       "t2           1.201e-03  5.749e-04   2.088  0.03859 *  \n",
       "t3          -1.068e-05  5.948e-06  -1.795  0.07483 .  \n",
       "t4           3.186e-08  2.035e-08   1.566  0.11971    \n",
       "---\n",
       "Signif. codes:  0 '***' 0.001 '**' 0.01 '*' 0.05 '.' 0.1 ' ' 1\n",
       "\n",
       "Residual standard error: 0.4997 on 139 degrees of freedom\n",
       "Multiple R-squared:  0.1575,\tAdjusted R-squared:  0.1332 \n",
       "F-statistic: 6.495 on 4 and 139 DF,  p-value: 8.037e-05\n"
      ]
     },
     "metadata": {},
     "output_type": "display_data"
    }
   ],
   "source": [
    "n <- nrow(datos_n)\n",
    "datos_n$t <- 1:n\n",
    "datos_n$t2 <- datos_n$t^2\n",
    "datos_n$t3 <- datos_n$t^3\n",
    "datos_n$t4 <- datos_n$t^4\n",
    "m_mod <- lm(IPC ~ t + t2 + t3 + t4, data = datos_n[1:144,])\n",
    "summary(m_mod)"
   ]
  },
  {
   "cell_type": "code",
   "execution_count": 207,
   "metadata": {},
   "outputs": [
    {
     "data": {
      "image/png": "[encoded data removed]",
      "text/plain": [
       "plot without title"
      ]
     },
     "metadata": {},
     "output_type": "display_data"
    }
   ],
   "source": [
    "datos_n$m <- c(predict(m_mod), rep(0, 12))\n",
    "g <- ggplot(data = datos_n[1:144,], aes(x = Fecha, y = m))\n",
    "g + geom_line()"
   ]
  },
  {
   "cell_type": "markdown",
   "metadata": {},
   "source": [
    "Ahora estimamos el componente estacional:"
   ]
  },
  {
   "cell_type": "code",
   "execution_count": 211,
   "metadata": {},
   "outputs": [
    {
     "data": {
      "image/png": "[encoded data removed]",
      "text/plain": [
       "plot without title"
      ]
     },
     "metadata": {},
     "output_type": "display_data"
    }
   ],
   "source": [
    "datos_n$infl_nt <- datos_n$IPC - datos_n$m\n",
    "period_infl <- periodogram(datos_n$infl_nt[1:144])"
   ]
  },
  {
   "cell_type": "code",
   "execution_count": 214,
   "metadata": {},
   "outputs": [
    {
     "data": {
      "text/html": [
       "<table>\n",
       "<thead><tr><th scope=col>freq</th><th scope=col>spec</th></tr></thead>\n",
       "<tbody>\n",
       "\t<tr><td>0.006944444 </td><td>0.0005839561</td></tr>\n",
       "\t<tr><td>0.013888889 </td><td>0.2500827457</td></tr>\n",
       "\t<tr><td>0.020833333 </td><td>0.8104092716</td></tr>\n",
       "\t<tr><td>0.027777778 </td><td>4.4877444513</td></tr>\n",
       "\t<tr><td>0.034722222 </td><td>3.0381207181</td></tr>\n",
       "\t<tr><td>0.041666667 </td><td>0.3892588307</td></tr>\n",
       "\t<tr><td>0.048611111 </td><td>0.2260166028</td></tr>\n",
       "\t<tr><td>0.055555556 </td><td>0.5080610065</td></tr>\n",
       "\t<tr><td>0.062500000 </td><td>1.6326434264</td></tr>\n",
       "\t<tr><td>0.069444444 </td><td>0.2888832997</td></tr>\n",
       "\t<tr><td>0.076388889 </td><td>0.3088816154</td></tr>\n",
       "\t<tr><td>0.083333333 </td><td>1.3508999507</td></tr>\n",
       "\t<tr><td>0.090277778 </td><td>0.0593960436</td></tr>\n",
       "\t<tr><td>0.097222222 </td><td>0.6711729068</td></tr>\n",
       "\t<tr><td>0.104166667 </td><td>0.0112874345</td></tr>\n",
       "\t<tr><td>0.111111111 </td><td>0.2397539604</td></tr>\n",
       "\t<tr><td>0.118055556 </td><td>0.0936030631</td></tr>\n",
       "\t<tr><td>0.125000000 </td><td>3.7159823429</td></tr>\n",
       "\t<tr><td>0.131944444 </td><td>0.9828940798</td></tr>\n",
       "\t<tr><td>0.138888889 </td><td>0.2125828142</td></tr>\n",
       "\t<tr><td>0.145833333 </td><td>0.3873267327</td></tr>\n",
       "\t<tr><td>0.152777778 </td><td>0.0218415400</td></tr>\n",
       "\t<tr><td>0.159722222 </td><td>0.2934918163</td></tr>\n",
       "\t<tr><td>0.166666667 </td><td>2.6214004146</td></tr>\n",
       "\t<tr><td>0.173611111 </td><td>0.0071388723</td></tr>\n",
       "\t<tr><td>0.180555556 </td><td>0.6956819213</td></tr>\n",
       "\t<tr><td>0.187500000 </td><td>1.0657168191</td></tr>\n",
       "\t<tr><td>0.194444444 </td><td>0.5815129302</td></tr>\n",
       "\t<tr><td>0.201388889 </td><td>0.1183945554</td></tr>\n",
       "\t<tr><td>0.208333333 </td><td>0.0454795539</td></tr>\n",
       "</tbody>\n",
       "</table>\n"
      ],
      "text/latex": [
       "\\begin{tabular}{r|ll}\n",
       " freq & spec\\\\\n",
       "\\hline\n",
       "\t 0.006944444  & 0.0005839561\\\\\n",
       "\t 0.013888889  & 0.2500827457\\\\\n",
       "\t 0.020833333  & 0.8104092716\\\\\n",
       "\t 0.027777778  & 4.4877444513\\\\\n",
       "\t 0.034722222  & 3.0381207181\\\\\n",
       "\t 0.041666667  & 0.3892588307\\\\\n",
       "\t 0.048611111  & 0.2260166028\\\\\n",
       "\t 0.055555556  & 0.5080610065\\\\\n",
       "\t 0.062500000  & 1.6326434264\\\\\n",
       "\t 0.069444444  & 0.2888832997\\\\\n",
       "\t 0.076388889  & 0.3088816154\\\\\n",
       "\t 0.083333333  & 1.3508999507\\\\\n",
       "\t 0.090277778  & 0.0593960436\\\\\n",
       "\t 0.097222222  & 0.6711729068\\\\\n",
       "\t 0.104166667  & 0.0112874345\\\\\n",
       "\t 0.111111111  & 0.2397539604\\\\\n",
       "\t 0.118055556  & 0.0936030631\\\\\n",
       "\t 0.125000000  & 3.7159823429\\\\\n",
       "\t 0.131944444  & 0.9828940798\\\\\n",
       "\t 0.138888889  & 0.2125828142\\\\\n",
       "\t 0.145833333  & 0.3873267327\\\\\n",
       "\t 0.152777778  & 0.0218415400\\\\\n",
       "\t 0.159722222  & 0.2934918163\\\\\n",
       "\t 0.166666667  & 2.6214004146\\\\\n",
       "\t 0.173611111  & 0.0071388723\\\\\n",
       "\t 0.180555556  & 0.6956819213\\\\\n",
       "\t 0.187500000  & 1.0657168191\\\\\n",
       "\t 0.194444444  & 0.5815129302\\\\\n",
       "\t 0.201388889  & 0.1183945554\\\\\n",
       "\t 0.208333333  & 0.0454795539\\\\\n",
       "\\end{tabular}\n"
      ],
      "text/markdown": [
       "\n",
       "| freq | spec |\n",
       "|---|---|\n",
       "| 0.006944444  | 0.0005839561 |\n",
       "| 0.013888889  | 0.2500827457 |\n",
       "| 0.020833333  | 0.8104092716 |\n",
       "| 0.027777778  | 4.4877444513 |\n",
       "| 0.034722222  | 3.0381207181 |\n",
       "| 0.041666667  | 0.3892588307 |\n",
       "| 0.048611111  | 0.2260166028 |\n",
       "| 0.055555556  | 0.5080610065 |\n",
       "| 0.062500000  | 1.6326434264 |\n",
       "| 0.069444444  | 0.2888832997 |\n",
       "| 0.076388889  | 0.3088816154 |\n",
       "| 0.083333333  | 1.3508999507 |\n",
       "| 0.090277778  | 0.0593960436 |\n",
       "| 0.097222222  | 0.6711729068 |\n",
       "| 0.104166667  | 0.0112874345 |\n",
       "| 0.111111111  | 0.2397539604 |\n",
       "| 0.118055556  | 0.0936030631 |\n",
       "| 0.125000000  | 3.7159823429 |\n",
       "| 0.131944444  | 0.9828940798 |\n",
       "| 0.138888889  | 0.2125828142 |\n",
       "| 0.145833333  | 0.3873267327 |\n",
       "| 0.152777778  | 0.0218415400 |\n",
       "| 0.159722222  | 0.2934918163 |\n",
       "| 0.166666667  | 2.6214004146 |\n",
       "| 0.173611111  | 0.0071388723 |\n",
       "| 0.180555556  | 0.6956819213 |\n",
       "| 0.187500000  | 1.0657168191 |\n",
       "| 0.194444444  | 0.5815129302 |\n",
       "| 0.201388889  | 0.1183945554 |\n",
       "| 0.208333333  | 0.0454795539 |\n",
       "\n"
      ],
      "text/plain": [
       "   freq        spec        \n",
       "1  0.006944444 0.0005839561\n",
       "2  0.013888889 0.2500827457\n",
       "3  0.020833333 0.8104092716\n",
       "4  0.027777778 4.4877444513\n",
       "5  0.034722222 3.0381207181\n",
       "6  0.041666667 0.3892588307\n",
       "7  0.048611111 0.2260166028\n",
       "8  0.055555556 0.5080610065\n",
       "9  0.062500000 1.6326434264\n",
       "10 0.069444444 0.2888832997\n",
       "11 0.076388889 0.3088816154\n",
       "12 0.083333333 1.3508999507\n",
       "13 0.090277778 0.0593960436\n",
       "14 0.097222222 0.6711729068\n",
       "15 0.104166667 0.0112874345\n",
       "16 0.111111111 0.2397539604\n",
       "17 0.118055556 0.0936030631\n",
       "18 0.125000000 3.7159823429\n",
       "19 0.131944444 0.9828940798\n",
       "20 0.138888889 0.2125828142\n",
       "21 0.145833333 0.3873267327\n",
       "22 0.152777778 0.0218415400\n",
       "23 0.159722222 0.2934918163\n",
       "24 0.166666667 2.6214004146\n",
       "25 0.173611111 0.0071388723\n",
       "26 0.180555556 0.6956819213\n",
       "27 0.187500000 1.0657168191\n",
       "28 0.194444444 0.5815129302\n",
       "29 0.201388889 0.1183945554\n",
       "30 0.208333333 0.0454795539"
      ]
     },
     "metadata": {},
     "output_type": "display_data"
    }
   ],
   "source": [
    "period_datos <- data.frame(freq = period_infl$freq, spec = period_infl$spec)\n",
    "head(period_datos, 30)"
   ]
  },
  {
   "cell_type": "code",
   "execution_count": 216,
   "metadata": {},
   "outputs": [
    {
     "data": {
      "text/html": [
       "<ol class=list-inline>\n",
       "\t<li>4.032</li>\n",
       "\t<li>18</li>\n",
       "\t<li>24.048</li>\n",
       "</ol>\n"
      ],
      "text/latex": [
       "\\begin{enumerate*}\n",
       "\\item 4.032\n",
       "\\item 18\n",
       "\\item 24.048\n",
       "\\end{enumerate*}\n"
      ],
      "text/markdown": [
       "1. 4.032\n",
       "2. 18\n",
       "3. 24.048\n",
       "\n",
       "\n"
      ],
      "text/plain": [
       "[1]  4.032 18.000 24.048"
      ]
     },
     "metadata": {},
     "output_type": "display_data"
    }
   ],
   "source": [
    "omega_j <- c(0.028, 0.125, 0.167)\n",
    "144 * omega_j"
   ]
  },
  {
   "cell_type": "code",
   "execution_count": 218,
   "metadata": {},
   "outputs": [],
   "source": [
    "m <- ncol(datos_n)\n",
    "for (i in 1:length(omega_j)) {\n",
    "     datos_n[, m + i] <- cos(2*pi*omega_j[i]*datos_n$t)\n",
    "}"
   ]
  },
  {
   "cell_type": "code",
   "execution_count": 222,
   "metadata": {},
   "outputs": [],
   "source": [
    "colnames(datos_n)[9:11] <- paste(\"W\", 1:3, sep =\"\")"
   ]
  },
  {
   "cell_type": "code",
   "execution_count": 223,
   "metadata": {},
   "outputs": [],
   "source": [
    "m <- ncol(datos_n)\n",
    "for (i in 1:length(omega_j)) {\n",
    "    datos_n[, m + i] <- sin(2*pi*omega_j[i]*datos_n$t)\n",
    "}"
   ]
  },
  {
   "cell_type": "code",
   "execution_count": 226,
   "metadata": {},
   "outputs": [],
   "source": [
    "colnames(datos_n)[12:14] <- paste(\"Z\", 1:3, sep = \"\")"
   ]
  },
  {
   "cell_type": "code",
   "execution_count": 229,
   "metadata": {},
   "outputs": [
    {
     "data": {
      "text/plain": [
       "\n",
       "Call:\n",
       "lm(formula = infl_nt ~ W1 + W2 + W3 + Z1 + Z2 + Z3, data = datos_n[1:144, \n",
       "    ])\n",
       "\n",
       "Residuals:\n",
       "     Min       1Q   Median       3Q      Max \n",
       "-0.97713 -0.29278  0.00003  0.24709  1.50946 \n",
       "\n",
       "Coefficients:\n",
       "              Estimate Std. Error t value Pr(>|t|)    \n",
       "(Intercept)  0.0007136  0.0347710   0.021 0.983655    \n",
       "W1          -0.1687321  0.0489937  -3.444 0.000761 ***\n",
       "W2           0.2255849  0.0491723   4.588    1e-05 ***\n",
       "W3           0.0522635  0.0491598   1.063 0.289591    \n",
       "Z1           0.1878291  0.0493532   3.806 0.000212 ***\n",
       "Z2          -0.0083712  0.0491718  -0.170 0.865069    \n",
       "Z3           0.1820794  0.0491850   3.702 0.000309 ***\n",
       "---\n",
       "Signif. codes:  0 '***' 0.001 '**' 0.01 '*' 0.05 '.' 0.1 ' ' 1\n",
       "\n",
       "Residual standard error: 0.4172 on 137 degrees of freedom\n",
       "Multiple R-squared:  0.3128,\tAdjusted R-squared:  0.2827 \n",
       "F-statistic: 10.39 on 6 and 137 DF,  p-value: 1.765e-09\n"
      ]
     },
     "metadata": {},
     "output_type": "display_data"
    }
   ],
   "source": [
    "s_mod <- lm(infl_nt ~ W1 + W2 + W3 + Z1 + Z2 + Z3, data = datos_n[1:144,])\n",
    "summary(s_mod)"
   ]
  },
  {
   "cell_type": "code",
   "execution_count": 231,
   "metadata": {},
   "outputs": [],
   "source": [
    "datos_n$s <- c(predict(s_mod), rep(0, 12))"
   ]
  },
  {
   "cell_type": "code",
   "execution_count": 232,
   "metadata": {},
   "outputs": [
    {
     "data": {
      "image/png": "[encoded data removed]",
      "text/plain": [
       "plot without title"
      ]
     },
     "metadata": {},
     "output_type": "display_data"
    }
   ],
   "source": [
    "g <- ggplot(data = datos_n[1:144,], aes(x = Fecha, y = s))\n",
    "g + geom_line()"
   ]
  },
  {
   "cell_type": "code",
   "execution_count": 234,
   "metadata": {},
   "outputs": [],
   "source": [
    "datos_n$infl_ntns <- datos_n$infl_nt - datos_n$s"
   ]
  },
  {
   "cell_type": "markdown",
   "metadata": {},
   "source": [
    "Ahora que ya tenemos la serie sin tendencia y sin estacionalidad procedemos a modelarla a través del enfoque ARMA. En primer lugar analizamos la ACF y PACF:"
   ]
  },
  {
   "cell_type": "code",
   "execution_count": 235,
   "metadata": {},
   "outputs": [
    {
     "data": {
      "image/png": "[encoded data removed]",
      "text/plain": [
       "Plot with title \"ACF Inflación Mensual\""
      ]
     },
     "metadata": {},
     "output_type": "display_data"
    }
   ],
   "source": [
    "acf(datos_n$infl_ntns[1:144], lag.max = 20, main = \"ACF Inflación Mensual\")"
   ]
  },
  {
   "cell_type": "code",
   "execution_count": 236,
   "metadata": {},
   "outputs": [
    {
     "data": {
      "image/png": "[encoded data removed]",
      "text/plain": [
       "Plot with title \"PACF Inflación Mensual\""
      ]
     },
     "metadata": {},
     "output_type": "display_data"
    }
   ],
   "source": [
    "pacf(datos_n$infl_ntns[1:144], lag.max = 20, main = \"PACF Inflación Mensual\")"
   ]
  },
  {
   "cell_type": "markdown",
   "metadata": {},
   "source": [
    "Los modelos candidatos son: AR(1), AR(8), AR(13), MA(8), ARMA(1, 8), ARMA(8, 8), ARMA(13, 8). Utilizaremos los criterios de Akaike y Schwartz para escoger el modelo más idóneo:\n"
   ]
  },
  {
   "cell_type": "code",
   "execution_count": 240,
   "metadata": {},
   "outputs": [
    {
     "name": "stdout",
     "output_type": "stream",
     "text": [
      "[1] \"ARMA(0,0) con un AIC de 153.72824345639\"\n",
      "[1] \"ARMA(0,0) con un BIC de 159.667870055542\"\n",
      "[1] \"ARMA(1,0) con un AIC de 140.49186931247\"\n",
      "[1] \"ARMA(1,0) con un BIC de 149.401309211198\"\n",
      "[1] \"ARMA(8,0) con un AIC de 133.738176262601\"\n",
      "[1] \"ARMA(8,0) con un BIC de 163.436309258361\"\n",
      "[1] \"ARMA(13,0) con un AIC de 132.322114128155\"\n",
      "[1] \"ARMA(13,0) con un BIC de 176.869313621795\"\n",
      "[1] \"ARMA(0,8) con un AIC de 135.974488092168\"\n",
      "[1] \"ARMA(0,8) con un BIC de 165.672621087928\"\n",
      "[1] \"ARMA(1,8) con un AIC de 125.51243182983\"\n",
      "[1] \"ARMA(1,8) con un BIC de 158.180378125166\"\n"
     ]
    },
    {
     "name": "stderr",
     "output_type": "stream",
     "text": [
      "Warning message in stats::arima(x = x, order = order, seasonal = seasonal, xreg = xreg, :\n",
      "\"possible convergence problem: optim gave code = 1\""
     ]
    },
    {
     "name": "stdout",
     "output_type": "stream",
     "text": [
      "[1] \"ARMA(8,8) con un AIC de 119.058380712235\"\n",
      "[1] \"ARMA(8,8) con un BIC de 172.515020104603\"\n",
      "[1] \"ARMA(13,8) con un AIC de 119.731251595908\"\n",
      "[1] \"ARMA(13,8) con un BIC de 188.036957486156\"\n"
     ]
    }
   ],
   "source": [
    "for (j in c(0, 8)) {\n",
    "    for (i in c(0, 1, 8, 13)) {\n",
    "        arma_mod <- arima(datos_n$infl_ntns[1:144], order = c(i, 0, j), method = \"ML\")\n",
    "        AIC_val <- AIC(arma_mod)\n",
    "        BIC_val <- BIC(arma_mod)\n",
    "        res_1 <- paste(\"ARMA(\", i, \",\", j, \") con un AIC de \", AIC_val, sep = \"\")\n",
    "        res_2 <- paste(\"ARMA(\", i, \",\", j, \") con un BIC de \", BIC_val, sep = \"\")\n",
    "        print(res_1)\n",
    "        print(res_2)\n",
    "    }\n",
    "}"
   ]
  },
  {
   "cell_type": "markdown",
   "metadata": {},
   "source": [
    "Guiandonos por el criterio BIC, considerariamos la opción de un AR(1)."
   ]
  },
  {
   "cell_type": "code",
   "execution_count": 241,
   "metadata": {},
   "outputs": [],
   "source": [
    "ar1_mod <- arima(datos_n$infl_ntns[1:144], order = c(1, 0, 0), method = \"CSS\")"
   ]
  },
  {
   "cell_type": "markdown",
   "metadata": {},
   "source": [
    "Ahora construimos los pronósticos:"
   ]
  },
  {
   "cell_type": "code",
   "execution_count": 246,
   "metadata": {},
   "outputs": [],
   "source": [
    "ar1_for <- predict(ar1_mod, n.ahead = 3)"
   ]
  },
  {
   "cell_type": "code",
   "execution_count": 248,
   "metadata": {},
   "outputs": [],
   "source": [
    "datos_n$ar1_for <- c(rep(0, 144), ar1_for$pred, rep(0, 9))"
   ]
  },
  {
   "cell_type": "code",
   "execution_count": 249,
   "metadata": {},
   "outputs": [],
   "source": [
    "s_for <- predict(s_mod, newdata = datos_n[145:147,])"
   ]
  },
  {
   "cell_type": "code",
   "execution_count": 251,
   "metadata": {},
   "outputs": [],
   "source": [
    "m_for <- predict(m_mod, newdata = datos_n[145:147,])"
   ]
  },
  {
   "cell_type": "code",
   "execution_count": 252,
   "metadata": {},
   "outputs": [],
   "source": [
    "datos_n$s_for <- c(rep(0, 144), s_for, rep(0, 9))\n",
    "datos_n$m_for <- c(rep(0, 144), m_for, rep(0, 9))"
   ]
  },
  {
   "cell_type": "code",
   "execution_count": 253,
   "metadata": {},
   "outputs": [
    {
     "data": {
      "text/html": [
       "<table>\n",
       "<thead><tr><th scope=col>Fecha</th><th scope=col>Infl_Obs</th><th scope=col>Infl_For</th></tr></thead>\n",
       "<tbody>\n",
       "\t<tr><td>2019-01-01 </td><td> 0.22627512</td><td> 0.43916817</td></tr>\n",
       "\t<tr><td>2019-02-01 </td><td>-0.15241018</td><td> 0.23499976</td></tr>\n",
       "\t<tr><td>2019-03-01 </td><td>-0.01703759</td><td>-0.05319906</td></tr>\n",
       "</tbody>\n",
       "</table>\n"
      ],
      "text/latex": [
       "\\begin{tabular}{r|lll}\n",
       " Fecha & Infl\\_Obs & Infl\\_For\\\\\n",
       "\\hline\n",
       "\t 2019-01-01  &  0.22627512 &  0.43916817\\\\\n",
       "\t 2019-02-01  & -0.15241018 &  0.23499976\\\\\n",
       "\t 2019-03-01  & -0.01703759 & -0.05319906\\\\\n",
       "\\end{tabular}\n"
      ],
      "text/markdown": [
       "\n",
       "| Fecha | Infl_Obs | Infl_For |\n",
       "|---|---|---|\n",
       "| 2019-01-01  |  0.22627512 |  0.43916817 |\n",
       "| 2019-02-01  | -0.15241018 |  0.23499976 |\n",
       "| 2019-03-01  | -0.01703759 | -0.05319906 |\n",
       "\n"
      ],
      "text/plain": [
       "  Fecha      Infl_Obs    Infl_For   \n",
       "1 2019-01-01  0.22627512  0.43916817\n",
       "2 2019-02-01 -0.15241018  0.23499976\n",
       "3 2019-03-01 -0.01703759 -0.05319906"
      ]
     },
     "metadata": {},
     "output_type": "display_data"
    }
   ],
   "source": [
    "datos_n$infl_for <- datos_n$ar1_for + datos_n$s_for + datos_n$m_for\n",
    "datos_for <- data.frame(Fecha = datos_n$Fecha[145:147], Infl_Obs = datos_n$IPC[145:147], Infl_For = datos_n$infl_for[145:147])\n",
    "head(datos_for)"
   ]
  },
  {
   "cell_type": "code",
   "execution_count": 255,
   "metadata": {},
   "outputs": [
    {
     "data": {
      "text/html": [
       "0.256071322687444"
      ],
      "text/latex": [
       "0.256071322687444"
      ],
      "text/markdown": [
       "0.256071322687444"
      ],
      "text/plain": [
       "[1] 0.2560713"
      ]
     },
     "metadata": {},
     "output_type": "display_data"
    }
   ],
   "source": [
    "rmse_infl <- sqrt(mean((datos_for$Infl_Obs - datos_for$Infl_For)^2))\n",
    "rmse_infl"
   ]
  },
  {
   "cell_type": "code",
   "execution_count": null,
   "metadata": {},
   "outputs": [],
   "source": []
  }
 ],
 "metadata": {
  "kernelspec": {
   "display_name": "R",
   "language": "R",
   "name": "ir"
  },
  "language_info": {
   "codemirror_mode": "r",
   "file_extension": ".r",
   "mimetype": "text/x-r-source",
   "name": "R",
   "pygments_lexer": "r",
   "version": "3.6.1"
  }
 },
 "nbformat": 4,
 "nbformat_minor": 4
}
