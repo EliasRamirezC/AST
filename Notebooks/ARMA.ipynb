{
 "cells": [
  {
   "cell_type": "markdown",
   "metadata": {},
   "source": [
    "# Modelos ARMA\n",
    "\n",
    "Antes de comenzar la lección es importante verificar que nuestro directorio de trabajo sea el indicado."
   ]
  },
  {
   "cell_type": "code",
   "execution_count": 1,
   "metadata": {},
   "outputs": [
    {
     "data": {
      "text/html": [
       "'C:/Users/oscar/OneDrive/Escritorio/AST'"
      ],
      "text/latex": [
       "'C:/Users/oscar/OneDrive/Escritorio/AST'"
      ],
      "text/markdown": [
       "'C:/Users/oscar/OneDrive/Escritorio/AST'"
      ],
      "text/plain": [
       "[1] \"C:/Users/oscar/OneDrive/Escritorio/AST\""
      ]
     },
     "metadata": {},
     "output_type": "display_data"
    }
   ],
   "source": [
    "setwd(\"..\")\n",
    "getwd()"
   ]
  },
  {
   "cell_type": "markdown",
   "metadata": {},
   "source": [
    "Este curso trata sobre las herramientas econométricas utilizadas para el análisis de series de tiempo.\n",
    "\n",
    "¿Qué es una serie de tiempo? Pues formalmente es la realización de un proceso estocástico que no es más que una sucesión de variables aleatorias indexadas al tiempo. En términos un poco más informales diríamos que una serie de tiempo es una variable indexada al tiempo simplemente.\n",
    "\n",
    "Como ejemplo podemos considerar la serie de tiempo del PIB anual de Bolivia."
   ]
  },
  {
   "cell_type": "code",
   "execution_count": 3,
   "metadata": {},
   "outputs": [],
   "source": [
    "# Descargar datos del PIB Anual del INE\n",
    "if (!(file.exists(\"./Datos/PIB.xlsx\"))){\n",
    "        url1 <- \"https://www.ine.gob.bo/index.php/descarga/491/pib-segun-actividad-economica/46183/bolivia-producto-interno-bruto-a-precios-constantes-segun-actividad-economica-1988-2019.xlsx\"\n",
    "        download.file(url1, destfile = \"./Datos/PIB.xlsx\", mode = \"wb\")\n",
    "}"
   ]
  },
  {
   "cell_type": "code",
   "execution_count": 4,
   "metadata": {},
   "outputs": [
    {
     "name": "stderr",
     "output_type": "stream",
     "text": [
      "Warning message:\n",
      "\"package 'ggplot2' was built under R version 3.6.3\"Warning message:\n",
      "\"package 'readxl' was built under R version 3.6.3\""
     ]
    }
   ],
   "source": [
    "# Instalar el conjunto de paquetes tidyverse\n",
    "# install.packages(\"tidyverse\")\n",
    "# Se procede a cargar los paquetes\n",
    "library(ggplot2)\n",
    "library(readxl)"
   ]
  },
  {
   "cell_type": "code",
   "execution_count": 5,
   "metadata": {},
   "outputs": [
    {
     "name": "stderr",
     "output_type": "stream",
     "text": [
      "New names:\n",
      "* `` -> ...1\n",
      "* `` -> ...2\n",
      "* `` -> ...3\n",
      "* `` -> ...4\n",
      "* `` -> ...5\n",
      "* ...\n"
     ]
    },
    {
     "data": {
      "text/html": [
       "<table>\n",
       "<thead><tr><th scope=col>Fecha</th><th scope=col>PIB</th></tr></thead>\n",
       "<tbody>\n",
       "\t<tr><td>    1988</td><td>14219987</td></tr>\n",
       "\t<tr><td>    1989</td><td>14758943</td></tr>\n",
       "\t<tr><td>    1990</td><td>15443136</td></tr>\n",
       "\t<tr><td>    1991</td><td>16256453</td></tr>\n",
       "\t<tr><td>    1992</td><td>16524115</td></tr>\n",
       "\t<tr><td>    1993</td><td>17229578</td></tr>\n",
       "</tbody>\n",
       "</table>\n"
      ],
      "text/latex": [
       "\\begin{tabular}{r|ll}\n",
       " Fecha & PIB\\\\\n",
       "\\hline\n",
       "\t     1988 & 14219987\\\\\n",
       "\t     1989 & 14758943\\\\\n",
       "\t     1990 & 15443136\\\\\n",
       "\t     1991 & 16256453\\\\\n",
       "\t     1992 & 16524115\\\\\n",
       "\t     1993 & 17229578\\\\\n",
       "\\end{tabular}\n"
      ],
      "text/markdown": [
       "\n",
       "| Fecha | PIB |\n",
       "|---|---|\n",
       "|     1988 | 14219987 |\n",
       "|     1989 | 14758943 |\n",
       "|     1990 | 15443136 |\n",
       "|     1991 | 16256453 |\n",
       "|     1992 | 16524115 |\n",
       "|     1993 | 17229578 |\n",
       "\n"
      ],
      "text/plain": [
       "  Fecha    PIB     \n",
       "1     1988 14219987\n",
       "2     1989 14758943\n",
       "3     1990 15443136\n",
       "4     1991 16256453\n",
       "5     1992 16524115\n",
       "6     1993 17229578"
      ]
     },
     "metadata": {},
     "output_type": "display_data"
    }
   ],
   "source": [
    "pib_raw <- read_xlsx(\"./Datos/PIB.xlsx\", sheet = 1, range = \"B10:AG11\", col_names = FALSE)\n",
    "pib_raw <- as.data.frame(t(pib_raw), stringAsFactors = FALSE)\n",
    "rownames(pib_raw) <- NULL\n",
    "colnames(pib_raw) <- c(\"Fecha\", \"PIB\")\n",
    "head(pib_raw)"
   ]
  },
  {
   "cell_type": "code",
   "execution_count": 6,
   "metadata": {},
   "outputs": [
    {
     "data": {
      "text/html": [
       "<table>\n",
       "<thead><tr><th></th><th scope=col>Fecha</th><th scope=col>PIB</th></tr></thead>\n",
       "<tbody>\n",
       "\t<tr><th scope=row>27</th><td>    2014          </td><td>40588156          </td></tr>\n",
       "\t<tr><th scope=row>28</th><td>    2015          </td><td>42559599          </td></tr>\n",
       "\t<tr><th scope=row>29</th><td>    2016          </td><td>44374306          </td></tr>\n",
       "\t<tr><th scope=row>30</th><td>2017(p)           </td><td>46235899.827093497</td></tr>\n",
       "\t<tr><th scope=row>31</th><td>2018(p)           </td><td>48188730.162800297</td></tr>\n",
       "\t<tr><th scope=row>32</th><td>2019(p)           </td><td>49256932.52842477 </td></tr>\n",
       "</tbody>\n",
       "</table>\n"
      ],
      "text/latex": [
       "\\begin{tabular}{r|ll}\n",
       "  & Fecha & PIB\\\\\n",
       "\\hline\n",
       "\t27 &     2014           & 40588156          \\\\\n",
       "\t28 &     2015           & 42559599          \\\\\n",
       "\t29 &     2016           & 44374306          \\\\\n",
       "\t30 & 2017(p)            & 46235899.827093497\\\\\n",
       "\t31 & 2018(p)            & 48188730.162800297\\\\\n",
       "\t32 & 2019(p)            & 49256932.52842477 \\\\\n",
       "\\end{tabular}\n"
      ],
      "text/markdown": [
       "\n",
       "| <!--/--> | Fecha | PIB |\n",
       "|---|---|---|\n",
       "| 27 |     2014           | 40588156           |\n",
       "| 28 |     2015           | 42559599           |\n",
       "| 29 |     2016           | 44374306           |\n",
       "| 30 | 2017(p)            | 46235899.827093497 |\n",
       "| 31 | 2018(p)            | 48188730.162800297 |\n",
       "| 32 | 2019(p)            | 49256932.52842477  |\n",
       "\n"
      ],
      "text/plain": [
       "   Fecha    PIB               \n",
       "27     2014 40588156          \n",
       "28     2015 42559599          \n",
       "29     2016 44374306          \n",
       "30 2017(p)  46235899.827093497\n",
       "31 2018(p)  48188730.162800297\n",
       "32 2019(p)  49256932.52842477 "
      ]
     },
     "metadata": {},
     "output_type": "display_data"
    }
   ],
   "source": [
    "tail(pib_raw)"
   ]
  },
  {
   "cell_type": "code",
   "execution_count": 7,
   "metadata": {},
   "outputs": [
    {
     "data": {
      "image/png": "[encoded data removed]",
      "text/plain": [
       "plot without title"
      ]
     },
     "metadata": {},
     "output_type": "display_data"
    }
   ],
   "source": [
    "# Procedemos a graficar el PIB Anual de Bolivia\n",
    "fecha <- seq(as.Date(\"01/01/1988\", \"%d/%m/%Y\"), as.Date(\"01/01/2019\", \"%d/%m/%Y\"), by = \"year\")\n",
    "pib_raw$Fecha <- fecha\n",
    "g <- ggplot(data = pib_raw, aes(x = Fecha, y = as.numeric(as.character(PIB))))\n",
    "g + geom_line() + labs(title = \"Evolución PIB Anual Bolivia\", x = \"Años\", y = \"PIB Anual\")"
   ]
  },
  {
   "cell_type": "markdown",
   "metadata": {},
   "source": [
    "Este es un ejemplo de una serie de tiempo. Antes de comenzar a estudiar las herramientas del análisis de las series de tiempo es importante conocer la matemática básica necesaria para el entendimiento de las series de tiempo.\n",
    "\n",
    "Esta herramienta básica son las ecuaciones en diferencia."
   ]
  },
  {
   "cell_type": "markdown",
   "metadata": {},
   "source": [
    "## 1. Ecuaciones en diferencia \n",
    "\n",
    "Una ecuación en diferencia no es más que una relacion dinámica de una variable determinística o aleatoria. Empezemos con el modelo determinístico. Sea $y_t$ una serie de tiempo que presenta la siguiente relación:\n",
    "\n",
    "$$y_t = \\phi y_{t - 1} + w_t$$"
   ]
  },
  {
   "cell_type": "markdown",
   "metadata": {},
   "source": [
    "Esta es una **ecuación en diferencia de primer orden**. Necesitamos saber tres cosas:\n",
    "- ¿Cuál es su solución?\n",
    "- ¿Cuál es la condición de estabilidad?\n",
    "- ¿Cuál es el impacto de una variación de $w_t$ en $y_{t + j}$ a medida que $j \\to \\infty$?"
   ]
  },
  {
   "cell_type": "markdown",
   "metadata": {},
   "source": [
    "Supongamos que conocemos el valor de $y_{t - 1}$ y conocemos los valores de $w_t$ de t a $j$. Entonces recursivamente podemos obtener los valores de $y_{t + j}$ de $j = 0$ a $j = \\infty$. Entonces:\n",
    "\n",
    "$$y_{t + 1} = \\phi y_t + w_{t + 1} = \\phi^2 y_{t - 1} + \\phi w_t + w_{t + 1}$$\n",
    "$$y_{t + 2} = \\phi y_{t + 1} + w_{t + 2} = \\phi^3 y_{t - 1} + \\phi^2 w_t + \\phi w_{t + 1} + w_{t + 2}$$\n",
    "$$\\vdots$$\n",
    "$$y_{t + j} = \\phi^{j + 1} y_{t - 1} + \\phi^j w_t + \\phi^{j - 1} w_{t + 1} + \\dots + w_{t + j}$$\n",
    "\n",
    "Esta última ecuación seria la solucion de la **ecuación en diferencia de primer orden**."
   ]
  },
  {
   "cell_type": "markdown",
   "metadata": {},
   "source": [
    "Veamos ahora el caso de una **ecuación en diferencia de orden p**.\n",
    "\n",
    "$$y_t = \\phi_1 y_{t - 1} + \\phi_2 y_{t - 2} + \\dots + \\phi_p y_{t - p} + w_t$$\n",
    "\n",
    "podemos expresar esta ecuación en forma matricial considerando:\n",
    "\n",
    "$$ Y_t = \\left[\\begin{array}{c}y_t \\\\\n",
    "                               y_{t - 1} \\\\\n",
    "                               \\vdots \\\\\n",
    "                               y_{t - p + 1}\\end{array}\\right]$$\n",
    "\n",
    "$$ F = \\left[\\begin{array}{cccc}\\phi_1 & \\phi_2 & \\dots & \\phi_p \\\\\n",
    "                                1 & 0 & \\dots & 0 \\\\\n",
    "                                0 & 1 & \\dots & 0 \\\\\n",
    "                                \\vdots & \\vdots & \\dots & \\vdots \\\\\n",
    "                                0 & 0 & \\dots & 0\\end{array}\\right]$$\n",
    "\n",
    "$$ v_t = \\left[\\begin{array}{c}w_t \\\\\n",
    "                               0 \\\\ \n",
    "                               0 \\\\\n",
    "                               \\vdots \\\\\n",
    "                               0\\end{array}\\right] $$\n",
    "                               \n",
    "Con esto, la **ecuación en diferencias de orden p** quedaría reescrita como una **ecuación en diferencias de primer orden**:\n",
    "\n",
    "$$ Y_t = F Y_{t - 1} + v_t $$\n",
    "\n",
    "La solución a esta ecuación vendría dada por:\n",
    "\n",
    "$$ Y_{t + j} = F^{j + 1} Y_{t - 1} + F^j v_t + F^{j - 1}v_{t + 1} + \\dots + v_{t + j} $$\n",
    "                           "
   ]
  },
  {
   "cell_type": "markdown",
   "metadata": {},
   "source": [
    "En el caso de la condición de estabilidad podemos ver que para el caso de la **ecuación en diferencia de primer order** es suficiente que $|\\phi| < 1$ para que la solución sea estable. Otros valores generarían una solución explosiva a medida que $j \\to \\infty$."
   ]
  },
  {
   "cell_type": "markdown",
   "metadata": {},
   "source": [
    "Para el caso de las **ecuaciones en diferencia de orden p** es necesario un poco más de análisis para establecer las condiciones de estabilidad. Hemos visto que estas ecuaciones pueden representarse como una **ecuación en diferencias de primer orden** en forma matricial, la solución de la **ecuación en diferencias de orden p** vendría dada por:\n",
    "\n",
    "$$ y_{t + j} = f_{11}^{(j + 1)} y_{t - 1} + f_{12}^{(j + 1)} y_{t - 2} + \\dots + f_{1p}^{(j + 1)} y_{t - p} + f_{11}^{(j)} w_t + f_{11}^{(j - 1)} w_{t + 1} + \\dots + w_{t + j} $$ "
   ]
  },
  {
   "cell_type": "markdown",
   "metadata": {},
   "source": [
    "Entonces la estabilidad de la **ecuación en diferencias de orden p** depende de los elementos $f_{1i}^{(j)}$ de la matriz $F^j$ a medida que $j \\to \\infty$.\n",
    "\n",
    "Si la matriz F posee $p$ distintos autovalores, para simplificar el análisis podemos descomponer la matriz $F$ de la siguiente forma:\n",
    "\n",
    "$$ F = T \\Lambda T^{-1} $$\n",
    "\n",
    "donde $\\Lambda$ es una matriz diagonal de distintos autovalores $\\lambda_i$:\n",
    "\n",
    "$$ \\left[\\begin{array}{ccccc} \\lambda_1 & 0 & 0 & \\dots & 0 \\\\\n",
    "                              0 & \\lambda_2 & 0 & \\dots & 0 \\\\\n",
    "                              \\vdots & \\vdots & \\vdots & \\dots & \\vdots \\\\\n",
    "                              0 & 0 & 0 & \\dots & \\lambda_p \\end{array}\\right] $$\n",
    "                              \n",
    "y $T$ es una matriz con cada vector columna siendo un autovector de la matriz $F$ con esto podemos reescribir:\n",
    "\n",
    "$$ F^j = T \\Lambda^j T^{-1} $$\n",
    "\n",
    "dado que los autovalores de una matriz pueden ser reales o imaginarios, a raíz de esta última relación podemos concluir que la **ecuación en diferencias de orden p** es estable si todos los autovalores de la matriz $F$ estan **dentro del [círculo unitario](https://en.wikipedia.org/wiki/Complex_number).**\n",
    "\n",
    "Puede verse Hamilton(1994) para comprobar que los autovalores de la matriz $F$ satisfacen la ecuación polinómica:\n",
    "\n",
    "$$ \\lambda^p - \\phi_1 \\lambda^{p - 1} - \\phi_2 \\lambda^{p - 2} - \\dots - \\phi_{p - 1} \\lambda - \\phi_p = 0 $$"
   ]
  },
  {
   "cell_type": "markdown",
   "metadata": {},
   "source": [
    "Finalmente, ¿cuál es la respuesta de $y_{t + j}$ ante una variación exógena de $w_t$? Esto se conoce como **impulso - respuesta**.\n",
    "\n",
    "Para el caso de la **ecuación en diferencia de primer orden** es sencillo responder esta pregunta:\n",
    "\n",
    "$$ \\frac{\\partial y_{t + j}}{\\partial w_t} = \\phi^j $$\n",
    "\n",
    "Podemos verificar que si se cumple la condicion de estabilidad, la respuesta se desvanece en el tiempo."
   ]
  },
  {
   "cell_type": "code",
   "execution_count": 8,
   "metadata": {},
   "outputs": [
    {
     "data": {
      "image/png": "[encoded data removed]",
      "text/plain": [
       "plot without title"
      ]
     },
     "metadata": {},
     "output_type": "display_data"
    }
   ],
   "source": [
    "phi <- 0.8\n",
    "j <- 1:100\n",
    "x <- phi ^ j\n",
    "datos <- data.frame(Periodo = j, Respuesta = x)\n",
    "g <- ggplot(data = datos, aes(x = Periodo, y = Respuesta))\n",
    "g + geom_line()"
   ]
  },
  {
   "cell_type": "code",
   "execution_count": 9,
   "metadata": {},
   "outputs": [
    {
     "data": {
      "image/png": "[encoded data removed]",
      "text/plain": [
       "plot without title"
      ]
     },
     "metadata": {},
     "output_type": "display_data"
    }
   ],
   "source": [
    "phi <- -0.8\n",
    "j <- 1:100\n",
    "x <- phi ^ j\n",
    "datos <- data.frame(Periodo = j, Respuesta = x)\n",
    "g <- ggplot(data = datos, aes(x = Periodo, y = Respuesta))\n",
    "g + geom_line()"
   ]
  },
  {
   "cell_type": "markdown",
   "metadata": {},
   "source": [
    "Analogamente para el caso de las **ecuaciones en diferencias de orden p**, la función impulso - respuesta viene dada por:\n",
    "\n",
    "$$ \\frac{\\partial y_{t + j}}{\\partial w_t} = f_{11}^{(j)} $$\n",
    "\n",
    "es el primer elemento de la matriz $F^j$. En Hamilton(1994) puede verse que:\n",
    "\n",
    "$$ \\frac{\\partial y_{t + j}}{\\partial w_t} = c_1 \\lambda_1^j + c_2 \\lambda_2^j + \\dots + c_p \\lambda_p^j $$\n",
    "\n",
    "donde $c_i = \\frac{\\lambda_i^{p - 1}}{\\prod_{k = 1, k \\neq i}^{p}(\\lambda_i - \\lambda_k)}$.\n",
    "\n",
    "Si todos los autovalores están dentro del círculo unitario, la solución es estable y la función impulso - respuesta tiende a desvanecerse en el tiempo."
   ]
  },
  {
   "cell_type": "markdown",
   "metadata": {},
   "source": [
    "## 2. Operadores de rezago\n",
    "\n",
    "Un operador solamente transforma una serie de tiempo en otra serie de tiempo. En este caso particular, el operador de rezago, como su nombre lo dice, transforma una serie de tiempo en su pasado inmediato, el periodo anterior. Es decir:\n",
    "\n",
    "$$ Lx_t = x_{t - 1} $$"
   ]
  },
  {
   "cell_type": "markdown",
   "metadata": {},
   "source": [
    "Podemos utilizar el operador de rezago para hallar la solución de una ecuación en diferencia. Tomemos el caso de la siguiente **ecuación en diferencias de primer orden**:\n",
    "\n",
    "$$ y_{t + j} = \\phi y_{t + j - 1} + w_{t + j} $$\n",
    "\n",
    "podemos reescribir la ecuación como:\n",
    "\n",
    "$$ (1 - \\phi L)y_{t + j} = w_{t + j} $$\n",
    "\n",
    "teniendo en cuenta que contamos con la informacion de $y_{t - 1}$ y de todos los $w_{t + j}$ para $j = 0, 1, \\dots$. Podemos multiplicar ambos lados de la ecuación por $(1 + \\phi L + \\phi^2 L^2 + \\dots + \\phi^j L^j)$. Entonces:\n",
    "\n",
    "$$ (1 - \\phi^{j + 1} L^{j + 1})y_{t + j} = (1 + \\phi L + \\phi^2 L^2 + \\dots + \\phi^j L^j)w_{t + j} $$\n",
    "\n",
    "$$ y_{t + j} = \\phi^{j + 1}y_{t - 1} + \\phi^j w_t + \\phi^{j - 1}w_{t + 1} + \\dots + w_{t + j} $$\n",
    "\n",
    "que es la misma solución obtenida en la sección anterior para el caso de una **ecuación en diferencia de primer orden**."
   ]
  },
  {
   "cell_type": "markdown",
   "metadata": {},
   "source": [
    "Los operadores de rezago no solo son útiles para hallar soluciones a ecuaciones en diferencia sino tambien para determinar la estabilidad de las mismas.\n",
    "\n",
    "Tomemos el caso de la **ecuación en diferencias de orden p**:\n",
    "\n",
    "$$ y_t = \\phi_1 y_{t - 1} + \\phi_2 y_{t - 2} + \\dots + \\phi_p y_{t - p} + w_{t} $$\n",
    "\n",
    "podemos reescribir la ecuación como:\n",
    "\n",
    "$$ (1 - \\phi_1 L - \\phi_2 L^2 - \\dots - \\phi_p L^p) y_t = w_t $$\n",
    "\n",
    "El término en la izquierda puede ser reescrito como:\n",
    "\n",
    "$$ (1 - \\phi_1 z - \\phi_2 z^2 - \\dots - \\phi_p z^p) = (1 - \\lambda_1 z)(1 - \\lambda_2 z) \\dots (1 - \\lambda_p z) $$\n",
    "\n",
    "Este polinomio se lo conoce como **el polinomio característico** y las raíces del mismo son $z_i = \\lambda^{-1}_i$. Es decir, son la inversa de los autovalores de la matriz $F$ vista en la sección anterior. \n",
    "\n",
    "Concluímos en la sección anterior que la estabilidad de una **ecuación en diferencia de orden p** era garantizada si todos los autovalores de la matriz $F$ están dentro del círculo unitario. Con el uso de los operadores de rezago, concluimos que la estabilidad está garantizada si todas las raíces del **polinomio característico** están fuera del círculo unitario.\n",
    "\n",
    "Cualquier afirmación es equivalente."
   ]
  },
  {
   "cell_type": "markdown",
   "metadata": {},
   "source": [
    "## 3. Modelos Estacionarios ARMA"
   ]
  },
  {
   "cell_type": "code",
   "execution_count": null,
   "metadata": {},
   "outputs": [],
   "source": []
  }
 ],
 "metadata": {
  "kernelspec": {
   "display_name": "R",
   "language": "R",
   "name": "ir"
  },
  "language_info": {
   "codemirror_mode": "r",
   "file_extension": ".r",
   "mimetype": "text/x-r-source",
   "name": "R",
   "pygments_lexer": "r",
   "version": "3.6.1"
  }
 },
 "nbformat": 4,
 "nbformat_minor": 4
}
