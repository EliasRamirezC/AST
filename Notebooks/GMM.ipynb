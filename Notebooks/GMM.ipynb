{
 "cells": [
  {
   "cell_type": "markdown",
   "metadata": {},
   "source": [
    "# 4. Estimación Generalizada de Momentos (GMM)"
   ]
  },
  {
   "cell_type": "markdown",
   "metadata": {},
   "source": [
    "El supuesto principal de MCO es que $E[\\mathbf{x}_t \\epsilon_t] = 0$. Si no se cumple este supuesto las estimaciones de los coeficientes del modelo no son consistentes. Un regresor que satisface esta restricción es conocido como **regresor exógeno**; en cambio, uno que no la satisface se le conoce como **regresor endógeno**. Veremos que el método de estimación GMM es una forma de lidiar con este problema de endogeineidad de los regresores."
   ]
  },
  {
   "cell_type": "markdown",
   "metadata": {},
   "source": [
    "### 4.1 Sesgo de endogeneidad. El ejemplo de Oferta y Demanda"
   ]
  },
  {
   "cell_type": "markdown",
   "metadata": {},
   "source": [
    "Supongamos que deseamos modelar la curva de oferta y demanda del mercado de soya boliviano donde:\n",
    "\n",
    "$$q^d_t = \\alpha_0 + \\alpha_1 p_t + u_t$$\n",
    "$$q^s_t = \\beta_0 + \\beta_1 p_t + \\nu_t$$\n",
    "$$q^d_t = q^s_t \\text{ condición de equilibrio de mercado}$$"
   ]
  },
  {
   "cell_type": "markdown",
   "metadata": {},
   "source": [
    "donde $p_t$ es el precio internacional de la soya, $u_t$ son los factores que desplazan la curva de demanda por ejemplo el gusto por la soya, $\\nu_t$ son los factores que desplazan la curva de oferta por ejemplo la cantidad de terrenos disponibles para cultivo de soya. Se asume que $E(u_t) = 0$ y $E(\\nu_t) = 0$ y que $Cov(u_t, \\nu_t) = 0$. Considerando el equilibrio de mercado $q_t = q^d_t = q^s_t$ podemos reescribir las ecuaciones como:"
   ]
  },
  {
   "cell_type": "markdown",
   "metadata": {},
   "source": [
    "$$q_t = \\alpha_0 + \\alpha_1 p_t + u_t$$\n",
    "$$q_t = \\beta_0 + \\beta_1 p_t + \\nu_t$$\n",
    "\n",
    "Podemos tratar este modelo como un sistema de dos ecuaciones y dos incógnitas $(p_t, q_t)$ y obtener sus valores:"
   ]
  },
  {
   "cell_type": "markdown",
   "metadata": {},
   "source": [
    "$$p_t = \\frac{\\beta_0 - \\alpha_0}{\\alpha_1 - \\beta_1} + \\frac{\\nu_t - u_t}{\\alpha_1 - \\beta_1}$$\n",
    "$$q_t = \\frac{\\alpha_1 \\beta_0 - \\alpha_0 \\beta_1}{\\alpha_1 - \\beta_1} + \\frac{\\alpha_1 \\nu_t - \\beta_1 u_t}{\\alpha_1 - \\beta_1}$$"
   ]
  },
  {
   "cell_type": "markdown",
   "metadata": {},
   "source": [
    "Entonces el precio de la soya $p_t$ es función de los dos términos errores. Podemos calcular $Cov(p_t, u_t)$ y $Cov(p_t, \\nu_t)$:\n",
    "\n",
    "$$Cov(p_t, u_t) = -\\frac{Var(u_t)}{\\alpha_1 - \\beta_1} \\text{,  } Cov(p_t, \\nu_t) = \\frac{Var(\\nu_t)}{\\alpha_1 - \\beta_1}$$\n",
    "\n",
    "Como se puede observar, $p_t$ está correlacionada con ambos terminos errores (salvo que tanto $Var(u_t)$ y $Var(\\nu_t)$ sean 0) por lo que $p_t$ es un regresor endógeno. \n",
    "\n",
    "El estimador MCO de $\\alpha_1$ sería:\n",
    "\n",
    "$$\\hat{\\alpha}_{1T} = \\frac{Cov(p_T, q_T)}{Var(p_T)}$$\n",
    "\n",
    "entonces:\n",
    "\n",
    "$$plim_{T \\to \\infty} \\hat{\\alpha}_{1T} = \\alpha_1 + \\frac{Cov(p_t, u_t)}{Var(p_t)}$$\n",
    "\n",
    "De igual forma para el estimador MCO de $\\beta_1$:\n",
    "\n",
    "$$plim_{T \\to \\infty} \\hat{\\beta}_{1T} = \\beta_1 + \\frac{Cov(p_t, \\nu_t)}{Var(p_t)}$$\n",
    "\n",
    "Por más que se incremente el tamaño de la muestra para estimar estos coeficientes, ambos estimadores son sesgados. Este sesgo se lo conoce como **sesgo de simultaneidad**.\n",
    "\n",
    "La razón por la que no podemos estimar consistentemente ni la curva de oferta ni la de demanda es porque no sabemos si los cambios en $(p_t, q_t)$ se deben a un desplazamiento de la curva de oferta o a la curva de demanda. Esto sugiere que es posible estimar la curva de demanda (y de igual forma la curva de oferta) si algunos de los factores que mueven la curva de oferta (o la de demanda) son observables. Supongamos que la variable que mueve la curva de oferta $\\nu_t$ se descompone en un factor observable $x_t$ y un factor no observable $\\zeta_t$ que no está correlacionado con $x_t$. "
   ]
  },
  {
   "cell_type": "markdown",
   "metadata": {},
   "source": [
    "$$q_t = \\beta_0 + \\beta_1 p_t + \\beta_2 x_t + \\zeta_t$$\n",
    "\n",
    "Ahora consideremos que $Cov(x_t, u_t) = 0$; puede considerarse $x_t$ la cantidad de terrenos disponibles para el cultivo de soya que no está correlacionada con factores que mueven la curva de demanda de soya como por ejemplo el gusto por la soya. Si se cumple esto, es posible extraer un componente del precio $p_t$ que esté correlacionado con la disponibilidad de terrenos y no con $u_t$. Entonces podemos estimar una curva de demanda con la cantidad de soya consumida y este componente del precio internacional de la soya.\n",
    "\n",
    "Cuando una variable exógena (es decir que no esta relacionada con el término error) está relacionada con la variable endógena que consideramos en un modelo dado; se dice que esa variable es un **instrumento válido** para la variable endógena que analizamos. En este caso, la cantidad de terrenos disponibles para el cultivo de soya $x_t$ sería un instrumento válido para el precio internacional de la soya $p_t$ en la curva de demanda. Podemos ver esto más claramente si resolvemos el sistema de ecuaciones para $(p_t, q_t)$ con la nueva curva de oferta definida:\n",
    "\n",
    "$$p_t = \\frac{\\beta_0 - \\alpha_0}{\\alpha_1 - \\beta_1} + \\frac{\\beta_2}{\\alpha_1 - \\beta_1}x_t + \\frac{\\zeta_t - u_t}{\\alpha_1 - \\beta_1}$$\n",
    "$$q_t = \\frac{\\alpha_1\\beta_0 - \\alpha_0\\beta_1}{\\alpha_1 - \\beta_!} + \\frac{\\alpha_1 \\beta_2}{\\alpha_1 - \\beta_1}x_t + \\frac{\\alpha_1 \\zeta_t - \\beta_1 u_t}{\\alpha_1 - \\beta_1}$$"
   ]
  },
  {
   "cell_type": "markdown",
   "metadata": {},
   "source": [
    "Ya que $Cov(x_t, \\zeta_t) = 0$ y $Cov(x_t, u_t) = 0$ se obtiene que:\n",
    "\n",
    "$$Cov(x_t, p_t) = \\frac{\\beta_2}{\\alpha_1 - \\beta_1}Var(x_t) \\neq 0$$\n",
    "\n",
    "Entonces $x_t$ es un instrumento válido. Con esta información, podemos estimar $\\alpha_1$ de manera consistente con el siguiente estimador:\n",
    "\n",
    "$$\\hat{\\alpha}_{1T} = \\frac{Cov(x_t, q_t)}{Cov(x_t, p_t)}$$\n",
    "\n",
    "Este estimador se lo conoce como el **estimador de variables instrumentales** IV. Otra alternativa de estimador es el estimador de Mínimos Cuadrados en 2 etapas donde primero se efectúa la regresión de $p_t$ en $x_t$ y se obtiene el componente relacionado con $x_t$ pero no relacionado con $u_t$; llamémoslo $\\hat{p}_t$. Luego, se estima la ecuación de demanda con las variables $q_t$ y $\\hat{p}_t$. En el caso de un sólo instrumento, el estimador IV coincide con el estimador 2SLS. En el caso de que haya más instrumentos, se utiliza sólo el estimado 2SLS. "
   ]
  },
  {
   "cell_type": "markdown",
   "metadata": {},
   "source": [
    "### 4.2 Más ejemplos"
   ]
  },
  {
   "cell_type": "markdown",
   "metadata": {},
   "source": [
    "Supongamos que se releva información de una muestra aleatoria de individuos (hombres y mujeres) de las principales capitales de Bolivia. Se pretende estudiar el efecto de los años de educación de los individuos en sus ingresos. La hipótesis es que a mayor años de educación, los individuos tienen mayores ingresos. Se plantea el siguiente modelo:\n",
    "\n",
    "$$Y_i = \\alpha_0 + \\alpha_1 S_i + u_i$$\n",
    "\n",
    "donde $Y_i$ es el nivel de ingresos del individuo $i$ y $S_i$ son los años de educación del individuo $i$. La hipótesis es que $\\alpha_1 > 0$. \n",
    "\n",
    "Una variable que no es observable es la habilidad del individuo $A_i$. Individuos con mayor habilidad pueden tener mayores ingresos y tambien individuos con mayor habilidad pueden optar por un mayor tiempo de educación. Entonces bajo este planteamiento, no se satisface el requisito de $Cov(S_i, u_i) = 0$ que requiere MCO. Es necesario encontrar un instrumento válido $x_i$ donde $Cov(x_i, u_i) = 0$ y $Cov(S_i, x_i) \\neq 0$. Una opción podría ser por ejemplo los años de educación del padre."
   ]
  },
  {
   "cell_type": "markdown",
   "metadata": {},
   "source": [
    "Otro ejemplo tiene relación con las variables medidas con error. Supongamos que nos planteamos la hipótesis que las personas consumen una fracción constante de sus ingresos. Es decir:\n",
    "\n",
    "$$C^*_i = k Y^*_i \\text{ donde 0 < k < 1}$$ "
   ]
  },
  {
   "cell_type": "markdown",
   "metadata": {},
   "source": [
    "Efectuamos la muestra aleatoria de individuos y recolectamos información sobre sus gastos de consumo y sus ingresos en el mes. Sin embargo, sabemos que las personas no dan un dato exacto de sus gastos de consumo y de sus ingresos por lo que consideramos que estas variables están medidas con error. Sean los valores observados $C_i$ y $Y_i$; entonces:\n",
    "\n",
    "$$C_i = C^*_i + c_i \\text{ y } Y_i = Y^*_i + y_i$$\n",
    "\n",
    "donde $c_i$ y $y_i$ son los errores de medición y no están correlacionados entre ellos ni con los valores teóricos de consumo e ingreso $C^*_i$ y $Y^*_i$. Nos planteamos el siguiente modelo:\n",
    "\n",
    "$$C_i = kY_i + u_i \\text{ donde } u_i = c_i - ky_i$$\n",
    "\n",
    "Se puede concluir que:\n",
    "\n",
    "$$E(Y_i u_i) = -kE(y^2_i) < 0$$\n",
    "\n",
    "por lo que $Y_i$ es una variable endógena en el modelo y no puede aplicarse MCO."
   ]
  },
  {
   "cell_type": "markdown",
   "metadata": {},
   "source": [
    "### 4.3 La formulación general"
   ]
  },
  {
   "cell_type": "markdown",
   "metadata": {},
   "source": [
    "Se consideran los siguientes supuestos:\n",
    "\n",
    "1. **Linearidad** La ecuación a estimar es lineal:\n",
    "$$ y_t = \\mathbf{z}'_t\\mathbf{\\delta} + \\epsilon_t \\text{ para } t = 1, 2, \\dots, T$$\n",
    "donde $\\mathbf{z}_t$ es un vector de dimensión $L$ y lo mismo $\\mathbf{\\delta}$. $\\epsilon_t$ es el término error.\n",
    "\n",
    "2. **Estacionariedad ergódica** Sea $\\mathbf{x}_t$ un vector de dimensión $K$ de instrumentos. El proceso conjunto $\\{y_t, \\mathbf{z}_t, \\mathbf{x}_t\\}$ es ergódico estacionario.\n",
    "\n",
    "3. **Condición de ortogonalidad** Todas las variables consideradas en el vector $\\mathbf{x}_t$ son exógenas ya que son ortogonales al término error. Es decir $E(x_{tk}\\epsilon_t) = 0$ para todo $t$ y $k = 1, 2, \\dots, K$. Esto puede ser expresado como:\n",
    "$$E[\\mathbf{x}_t(y_t - \\mathbf{z}'_t\\mathbf{\\delta})] = \\mathbf{0} \\text{ o } E(\\mathbf{g}_t) = \\mathbf{0}$$\n",
    "\n",
    "4. **Condición de rango para la identificación** La matrix $K \\times L$ $E(\\mathbf{x}_t\\mathbf{z}'_t)$ es de rango columna completa; es decir su rango es igual a $L$. Esta es una condicion necesaria para identificar el vector de coeficientes $\\mathbf{\\delta}$.\n",
    "Adicionalmente a la condición de rango para la identificación; está la **condición de orden** que nos dice que el números de instrumentos debe ser igual o mayor al número de regresores. Si $K > L$ se dice que el modelo está **sobreidentificado**. Si $K = L$ se dice que el modelo está **exactamente identificado**. En ambos casos la condición de rango debe cumplirse. \n",
    "\n",
    "5. **$\\mathbf{g}_t$ es una martingala en diferencias con segundos momentos finitos** Esto es necesario para aplicar el Teorema de Límite Central para martingalas en diferencia. Podemos relajar este supuesto permitiendo correlación serial en $\\mathbf{g}_t$ como lo hicimos en el capítulo anterior. "
   ]
  },
  {
   "cell_type": "markdown",
   "metadata": {},
   "source": [
    "### 4.4 Definición del Estimador Generalizado de Momentos (GMM)"
   ]
  },
  {
   "cell_type": "markdown",
   "metadata": {},
   "source": [
    "De acuerdo a las condiciones de ortogonalidad, se considera que los momentos derivados de ellas tienen que ser 0. El **método de momentos** busca aquellos parámetros $\\mathbf{\\delta}$ tal que $E[\\mathbf{g}_t(\\mathbf{\\delta})] = 0$.\n",
    "Podemos definir el estimador de $E[\\mathbf{g}_t(\\mathbf{\\delta})] = 0$ como:\n",
    " \n",
    "$$\\mathbf{g}_T(\\mathbf{\\tilde{\\delta}}_T) = \\frac{1}{T}\\sum^T_{t = 1}\\mathbf{g}_t(\\mathbf{\\tilde{\\delta}}_T)$$\n",
    "\n",
    "Desarrollando:\n",
    "\n",
    "$$\\mathbf{g}_T(\\mathbf{\\tilde{\\delta}}_T) = \\frac{1}{T}\\sum^T_{t = 1}\\mathbf{x}_t y_t - (\\frac{1}{T}\\sum^T_{t = 1}\\mathbf{x}_t\\mathbf{z}'_t)\\mathbf{\\tilde{\\delta}}_T = 0$$\n",
    "\n",
    "Luego se tiene que:\n",
    "\n",
    "$$\\mathbf{S}_{XZ}\\mathbf{\\tilde{\\delta}}_T = \\mathbf{s}_{XY}$$\n",
    "\n",
    "Si $K = L$, entonces $\\mathbf{S}_{XZ}$ es una matriz cuadrada e invertible por lo que el sistema de $K$ ecuaciones con $L$ incógnitas tiene una solución:\n",
    "\n",
    "$$\\mathbf{\\tilde{\\delta}}_{T, IV} = \\mathbf{S}^{-1}_{XZ}\\mathbf{s}_{XY}$$\n",
    "\n",
    "Más aun, si $\\mathbf{z}_t = \\mathbf{x}_t$ entonces este estimador se reduce a MCO. ¿Qué sucede si $K > L$? Bueno en ese caso el sistema de ecuaciones no tiene solución pero podemos hallar un vector de coeficientes $\\mathbf{\\tilde{\\delta}}$ que satisfaga en lo más posible todas las ecuaciones. Para ello definimos una matriz simétrica y positiva definida $\\mathbf{W}$ que posee un estimador consistente $\\mathbf{\\hat{W}}_T$. El **estimador generalizado de momentos GMM** se define como:\n",
    "\n",
    "$$\\mathbf{\\hat{\\delta}}_T(\\mathbf{\\hat{W}}_T) = argmin_{\\mathbf{\\tilde{\\delta}}_T} J(\\mathbf{\\tilde{\\delta}}_T, \\mathbf{\\hat{W}}_T)$$\n",
    "\n",
    "donde:\n",
    "\n",
    "$$J(\\mathbf{\\tilde{\\delta}}_T, \\mathbf{\\hat{W}}_T) = T\\mathbf{g}_T(\\mathbf{\\tilde{\\delta}}_T)'\\mathbf{\\hat{W}}_T\\mathbf{g}_T(\\mathbf{\\tilde{\\delta}}_T)$$\n"
   ]
  },
  {
   "cell_type": "markdown",
   "metadata": {},
   "source": [
    "En el caso específico del modelo lineal que estamos tratando, el estimador GMM sería:\n",
    "\n",
    "$$\\mathbf{\\hat{\\delta}}_{T, GMM}(\\mathbf{\\hat{W}}) = (\\mathbf{S}'_{XZ}\\mathbf{\\hat{W}}\\mathbf{S}_{XZ})^{-1}\\mathbf{S}'_{XZ}\\mathbf{\\hat{W}}\\mathbf{s}_{XY}$$"
   ]
  },
  {
   "cell_type": "markdown",
   "metadata": {},
   "source": [
    "### 4.5 Propiedades asintóticas del estimador GMM"
   ]
  },
  {
   "cell_type": "markdown",
   "metadata": {},
   "source": [
    "El esimador GMM tiene las siguientes propiedades asintóticas:\n",
    "\n",
    "1. **Consistencia** El estimador GMM es consistente es decir $\\mathbf{\\hat{\\delta}}_T(\\mathbf{\\hat{W}})_T \\stackrel{p}\\to \\mathbf{\\delta}$.\n",
    "\n",
    "2. **Normalidad asintótica** Se cumple que:\n",
    "$$\\sqrt{T}(\\mathbf{\\hat{\\delta}}_T(\\mathbf{\\hat{W}})_T - \\mathbf{\\delta}) \\stackrel{d}\\to N(\\mathbf{0}, Avar(\\mathbf{\\hat{\\delta}}_T(\\mathbf{\\hat{W}})_T))$$\n",
    "donde:\n",
    "$$Avar(\\mathbf{\\hat{\\delta}}_T(\\mathbf{\\hat{W}})_T) = (\\mathbf{\\Sigma}'_{XZ}\\mathbf{W}\\mathbf{\\Sigma}_{XZ})^{-1}\\mathbf{\\Sigma'_{XZ}}\\mathbf{W}\\mathbf{S}\\mathbf{W}\\mathbf{\\Sigma}_{XZ}(\\mathbf{\\Sigma}'_{XZ}\\mathbf{W}\\mathbf{\\Sigma}_{XZ})^{-1}$$ \n",
    "\n",
    "3. **Estimación consistente de $Avar(\\mathbf{\\hat{\\delta}})_T(\\mathbf{\\hat{W}}_T)$** Asumiendo que se cuenta con un estimador consistente de $\\mathbf{S}$ que llamaremos $\\mathbf{\\hat{S}}$; el estimador consistente de $Avar(\\mathbf{\\hat{\\delta}})_T(\\mathbf{\\hat{W}}_T)$ sería:\n",
    "$$\\hat{Avar(\\mathbf{\\hat{\\delta}}_T(\\mathbf{\\hat{W}}_T))} = (\\mathbf{S}'_{XZ}\\mathbf{\\hat{W}}_T \\mathbf{S}_{XZ})^{-1}\\mathbf{S}'_{XZ}\\mathbf{\\hat{W}}_T\\mathbf{\\hat{S}}\\mathbf{\\hat{W}}_T\\mathbf{S}_{XZ}(\\mathbf{S}'_{XZ}\\mathbf{\\hat{W}}_T\\mathbf{S}_{XZ})^{-1}$$\n",
    "Esta expresión un poco larga de la varianza asintótica del estimador GMM se reduce cuando veamos cómo escoger óptimamente $\\mathbf{W}$.\n"
   ]
  },
  {
   "cell_type": "markdown",
   "metadata": {},
   "source": [
    "La estimación consistente de la varianza del error sería:\n",
    "\n",
    "$$\\frac{1}{T}\\sum^T_{t = 1}e^2_t \\stackrel{p}\\to E(\\epsilon^2_t)$$"
   ]
  },
  {
   "cell_type": "markdown",
   "metadata": {},
   "source": [
    "Las pruebas de hipótesis lineales se efectuarían de la siguiente forma:\n",
    "\n",
    "1. Bajo la hipótesis nula $H_0: \\delta_l = \\bar{\\delta}_l$\n",
    "$$t_{lT} = \\frac{\\sqrt{T}(\\hat{\\delta}_{lT}(\\mathbf{\\hat{W}}_T) - \\bar{\\delta}_l)}{\\sqrt{\\hat{Avar(\\mathbf{\\hat{\\delta}}_T(\\mathbf{\\hat{W}}_T))_{ll}}}}\\stackrel{d}\\to N(0, 1)$$\n",
    "\n",
    "2. Bajo la hipótesis nula $H_0: \\mathbf{R}\\mathbf{\\delta} = \\mathbf{r}$ donde $j$ es el número de restricciones (la dimensión de $\\mathbf{r}$); entonces:\n",
    "$$W_T = T(\\mathbf{R}\\mathbf{\\hat{\\delta}}_T(\\mathbf{\\hat{W}}_T) - \\mathbf{r})'[\\mathbf{R}\\hat{Avar(\\mathbf{\\hat{\\delta}}_T(\\mathbf{\\hat{W}}_T))}\\mathbf{R}']^{-1}(\\mathbf{R}\\mathbf{\\hat{\\delta}}_T(\\mathbf{\\hat{W}}_T) - \\mathbf{r}) \\stackrel{d}\\to \\chi^2(j)$$"
   ]
  },
  {
   "cell_type": "markdown",
   "metadata": {},
   "source": [
    "La prueba de hipótesis no lineal sería:\n",
    "\n",
    "1. Bajo la hipótesis nula $H_0: \\mathbf{a}(\\mathbf{\\delta}) = \\mathbf{0}$ donde $\\mathbf{A(\\delta)}$ es la matriz $j \\times L$ de primeras derivadas y $j$ es la dimensión de $\\mathbf{a(.)}$; entonces:\n",
    "$$W_t = T\\mathbf{a(\\hat{\\delta}_T(\\hat{W}_T))}'[\\mathbf{A(\\hat{\\delta}_T(\\hat{W}_T))}\\hat{Avar(\\mathbf{\\hat{\\delta}_T(\\hat{W}_T)})}\\mathbf{A(\\hat{\\delta}_T(\\hat{W}_T))}']^{-1}\\mathbf{a(\\hat{\\delta}_T(\\hat{W}_T))} \\stackrel{d}\\to \\chi^2(j)$$\n"
   ]
  },
  {
   "cell_type": "markdown",
   "metadata": {},
   "source": [
    "Con respecto a la estimación consistente de $\\mathbf{S}$ consideramos el siguiente supuesto que $E[(x_{tk}z_{tl})^2]$ existe y est finoto para todo $k = 1, 2, \\dots, K$ y todo $l = 1, 2, \\dots, L$. El estimador sería:\n",
    "\n",
    "$$\\mathbf{\\hat{S}} = \\frac{1}{T}\\sum^T_{t = 1}e^2_t\\mathbf{x}_t\\mathbf{x}'_t$$\n",
    "\n",
    "También se puede relajar el supuesto de no correlación serial en $\\mathbf{g}_t$ y el estimador consistente de $\\mathbf{S}$ sería:\n",
    "\n",
    "$$\\mathbf{\\hat{S}} = \\sum^\\infty_{j = -\\infty}\\mathbf{\\hat{\\Gamma}}_j$$\n",
    "\n",
    "Puede ser estimado en base a kerneles o usando el estimador VARHAC."
   ]
  },
  {
   "cell_type": "markdown",
   "metadata": {},
   "source": [
    "Finalmente se considera la eleción óptima de $\\mathbf{\\hat{W}}_T = \\mathbf{\\hat{S}}^{-1}$ con lo cual la varianza del estimador GMM alcanza un límite inferior:\n",
    "\n",
    "$$\\hat{Avar(\\mathbf{\\hat{\\delta}_T(\\hat(S)^{-1})})} = (\\mathbf{S_{XZ}\\hat{S}^{-1}S_{XZ}})^{-1}$$\n",
    "\n",
    "El procedimiento para esta estimación eficiente GMM sería en dos etapas:\n",
    "\n",
    "1. Escoger una matriz positiva definida y simétrica $\\mathbf{\\hat{W}}$ para realizar la estimación GMM. Posibles elecciones son la matriz identidd $mathbf{I}$ o la matriz $\\mathbf{S}^{-1}_{XX}$. Bajo esta última se obtiene el estimador 2SLS. Con los resultados obtenidos, estimar $\\mathbf{\\hat{S}}^{-1}$.\n",
    "\n",
    "2. Con esa estimación volver a estimar el modelo por GMM usando $\\mathbf{\\hat{W}} = \\mathbf{\\hat{S}}^{-1}$. Los resultados es el estimador eficiente GMM."
   ]
  },
  {
   "cell_type": "markdown",
   "metadata": {},
   "source": [
    "### 4.6 Prueba de hipótesis sobre las restricciones de sobreidentificación"
   ]
  },
  {
   "cell_type": "markdown",
   "metadata": {},
   "source": [
    "Si el modelo está exactamente identificado $K = L$; entonces podemos aplicar el estimador IV $\\mathbf{\\hat{\\delta}}_{T, IV}$ donde la distancia que definimos para el estimador GMM:\n",
    "\n",
    "$$J(\\mathbf{\\tilde{\\delta}}_T, \\mathbf{\\hat{W}}_T) = T\\bar{\\mathbf{g}}_T(\\mathbf{\\tilde{\\delta}}_T)'\\mathbf{\\hat{W}}_T \\bar{\\mathbf{g}}_T(\\mathbf{\\tilde{\\delta}}_T)$$\n",
    "\n",
    "es exactamente 0. Sin embargo, si tenemos un modelo sobreidentificado $K > L$ esta distancia no es 0, pero nos gustaría que esté lo más cercana a 0. Afortunadamente, si empleamos el estimador eficiente GMM entonces esta distancia bajo la hipótesis nula de que es 0 sigue una distribución $\\chi^2$ con $K - L$ grados de libertad. \n",
    "\n",
    "$$J(\\mathbf{\\hat{\\delta}}_T(\\mathbf{\\hat{S}}^{-1}), \\mathbf{\\hat{S}}^{-1}) = T\\mathbf{\\bar{g}}_T(\\mathbf{\\hat{\\delta}}_T(\\mathbf{\\hat{S}}^{-1}))'\\mathbf{\\hat{S}}^{-1}\\mathbf{\\bar{g}}_T(\\mathbf{\\hat{\\delta}}_T(\\mathbf{\\hat{S}}^{-1})) \\stackrel{d}\\to \\chi^2(K - L)$$\n",
    "\n",
    "Esta es una prueba que nos permite evaluar la exogeneidad de los instrumentos que estamos utilizando en nuestro modelo."
   ]
  },
  {
   "cell_type": "markdown",
   "metadata": {},
   "source": [
    "Si consideramos que de los $K$ instrumentos incluidos en nuestro modelo; $K_1 > L$ cumplen con el supuesto de exogeneidad y $K - K_1$ no cumplen entonces podemos calcular el siguiente estadístico bajo la hipótesis nula que todos los instrumentos cumplen con el supuesto de exogeneidad:\n",
    "\n",
    "$$C_T = J_T - J_{1T} \\stackrel{d}\\to \\chi^2(K - K_1)$$ "
   ]
  },
  {
   "cell_type": "markdown",
   "metadata": {},
   "source": [
    "### 3.7 Implicaciones del supuesto de varianza condicional homoscedástica"
   ]
  },
  {
   "cell_type": "markdown",
   "metadata": {},
   "source": [
    "Al igual que en la derivación de las propiedades del estimador MCO, para el caso del estimador GMM no utilizamos el supuesto de varianza condicional homoscedástica. Si incluimos este supuesto:\n",
    "\n",
    "$$E(\\epsilon^2_t | \\mathbf{x}_t) = \\sigma^2$$\n",
    "\n",
    "Entonces el estimador eficiente GMM se convierte en el estimador 2SLS."
   ]
  },
  {
   "cell_type": "markdown",
   "metadata": {},
   "source": [
    "### 3.8 Aplicación Retornos de Educación"
   ]
  },
  {
   "cell_type": "markdown",
   "metadata": {},
   "source": [
    "Es muy estudiado el tema de la relación de los salarios con los años de educación. La hipótesis es que a más años de educación un individuo debería percebir un mayor salario. Podemos observar los datos de una encuesta de hogares del año 1969 y ver la relación del logaritmo de salarios de cada individuo con respecto a sus años de educación:"
   ]
  },
  {
   "cell_type": "code",
   "execution_count": 4,
   "metadata": {},
   "outputs": [],
   "source": [
    "if (!file.exists(\"./Datos/wage.xls\")) {\n",
    "    url <- \"http://fhayashi.fc2web.com/hayashi%20econometrics/ch3/grilic.xls\"\n",
    "    download.file(url, destfile = \"./Datos/wage.xls\", mode = \"wb\")\n",
    "}"
   ]
  },
  {
   "cell_type": "code",
   "execution_count": 5,
   "metadata": {},
   "outputs": [],
   "source": [
    "library(readxl)"
   ]
  },
  {
   "cell_type": "code",
   "execution_count": 6,
   "metadata": {},
   "outputs": [],
   "source": [
    "datos <- read_xls(\"./Datos/wage.xls\", sheet = 1, range = \"A1:T759\")"
   ]
  },
  {
   "cell_type": "code",
   "execution_count": 8,
   "metadata": {},
   "outputs": [
    {
     "data": {
      "text/html": [
       "<table>\n",
       "<caption>A tibble: 6 × 20</caption>\n",
       "<thead>\n",
       "\t<tr><th scope=col>RNS</th><th scope=col>RNS80</th><th scope=col>MRT</th><th scope=col>MRT80</th><th scope=col>SMSA</th><th scope=col>SMSA80</th><th scope=col>MED</th><th scope=col>IQ</th><th scope=col>KWW</th><th scope=col>YEAR</th><th scope=col>AGE</th><th scope=col>AGE80</th><th scope=col>S</th><th scope=col>S80</th><th scope=col>EXPR</th><th scope=col>EXPR80</th><th scope=col>TENURE</th><th scope=col>TENURE80</th><th scope=col>LW</th><th scope=col>LW80</th></tr>\n",
       "\t<tr><th scope=col>&lt;dbl&gt;</th><th scope=col>&lt;dbl&gt;</th><th scope=col>&lt;dbl&gt;</th><th scope=col>&lt;dbl&gt;</th><th scope=col>&lt;dbl&gt;</th><th scope=col>&lt;dbl&gt;</th><th scope=col>&lt;dbl&gt;</th><th scope=col>&lt;dbl&gt;</th><th scope=col>&lt;dbl&gt;</th><th scope=col>&lt;dbl&gt;</th><th scope=col>&lt;dbl&gt;</th><th scope=col>&lt;dbl&gt;</th><th scope=col>&lt;dbl&gt;</th><th scope=col>&lt;dbl&gt;</th><th scope=col>&lt;dbl&gt;</th><th scope=col>&lt;dbl&gt;</th><th scope=col>&lt;dbl&gt;</th><th scope=col>&lt;dbl&gt;</th><th scope=col>&lt;dbl&gt;</th><th scope=col>&lt;dbl&gt;</th></tr>\n",
       "</thead>\n",
       "<tbody>\n",
       "\t<tr><td>1</td><td>1</td><td>1</td><td>1</td><td>0</td><td>0</td><td>12</td><td> 82</td><td>27</td><td>73</td><td>24</td><td>32</td><td>12</td><td>12</td><td>2.817</td><td> 8.733</td><td>0</td><td> 2</td><td>5.687</td><td>6.175</td></tr>\n",
       "\t<tr><td>1</td><td>1</td><td>1</td><td>1</td><td>1</td><td>1</td><td> 8</td><td>113</td><td>45</td><td>71</td><td>26</td><td>35</td><td>16</td><td>16</td><td>0.000</td><td> 8.205</td><td>1</td><td>10</td><td>6.023</td><td>7.274</td></tr>\n",
       "\t<tr><td>1</td><td>1</td><td>1</td><td>1</td><td>0</td><td>0</td><td> 7</td><td> 93</td><td>39</td><td>67</td><td>22</td><td>35</td><td>12</td><td>12</td><td>0.692</td><td>10.737</td><td>1</td><td> 3</td><td>5.176</td><td>6.469</td></tr>\n",
       "\t<tr><td>1</td><td>1</td><td>1</td><td>1</td><td>0</td><td>0</td><td>12</td><td>101</td><td>38</td><td>73</td><td>25</td><td>33</td><td>12</td><td>12</td><td>4.828</td><td>10.589</td><td>0</td><td> 5</td><td>5.784</td><td>6.467</td></tr>\n",
       "\t<tr><td>1</td><td>1</td><td>1</td><td>1</td><td>0</td><td>0</td><td> 7</td><td>100</td><td>33</td><td>73</td><td>23</td><td>31</td><td>12</td><td>12</td><td>2.489</td><td> 9.004</td><td>2</td><td> 3</td><td>5.628</td><td>6.168</td></tr>\n",
       "\t<tr><td>1</td><td>1</td><td>1</td><td>1</td><td>1</td><td>1</td><td> 8</td><td>102</td><td>32</td><td>68</td><td>19</td><td>31</td><td>12</td><td>13</td><td>0.277</td><td> 9.834</td><td>1</td><td> 3</td><td>5.075</td><td>7.092</td></tr>\n",
       "</tbody>\n",
       "</table>\n"
      ],
      "text/latex": [
       "A tibble: 6 × 20\n",
       "\\begin{tabular}{llllllllllllllllllll}\n",
       " RNS & RNS80 & MRT & MRT80 & SMSA & SMSA80 & MED & IQ & KWW & YEAR & AGE & AGE80 & S & S80 & EXPR & EXPR80 & TENURE & TENURE80 & LW & LW80\\\\\n",
       " <dbl> & <dbl> & <dbl> & <dbl> & <dbl> & <dbl> & <dbl> & <dbl> & <dbl> & <dbl> & <dbl> & <dbl> & <dbl> & <dbl> & <dbl> & <dbl> & <dbl> & <dbl> & <dbl> & <dbl>\\\\\n",
       "\\hline\n",
       "\t 1 & 1 & 1 & 1 & 0 & 0 & 12 &  82 & 27 & 73 & 24 & 32 & 12 & 12 & 2.817 &  8.733 & 0 &  2 & 5.687 & 6.175\\\\\n",
       "\t 1 & 1 & 1 & 1 & 1 & 1 &  8 & 113 & 45 & 71 & 26 & 35 & 16 & 16 & 0.000 &  8.205 & 1 & 10 & 6.023 & 7.274\\\\\n",
       "\t 1 & 1 & 1 & 1 & 0 & 0 &  7 &  93 & 39 & 67 & 22 & 35 & 12 & 12 & 0.692 & 10.737 & 1 &  3 & 5.176 & 6.469\\\\\n",
       "\t 1 & 1 & 1 & 1 & 0 & 0 & 12 & 101 & 38 & 73 & 25 & 33 & 12 & 12 & 4.828 & 10.589 & 0 &  5 & 5.784 & 6.467\\\\\n",
       "\t 1 & 1 & 1 & 1 & 0 & 0 &  7 & 100 & 33 & 73 & 23 & 31 & 12 & 12 & 2.489 &  9.004 & 2 &  3 & 5.628 & 6.168\\\\\n",
       "\t 1 & 1 & 1 & 1 & 1 & 1 &  8 & 102 & 32 & 68 & 19 & 31 & 12 & 13 & 0.277 &  9.834 & 1 &  3 & 5.075 & 7.092\\\\\n",
       "\\end{tabular}\n"
      ],
      "text/markdown": [
       "\n",
       "A tibble: 6 × 20\n",
       "\n",
       "| RNS &lt;dbl&gt; | RNS80 &lt;dbl&gt; | MRT &lt;dbl&gt; | MRT80 &lt;dbl&gt; | SMSA &lt;dbl&gt; | SMSA80 &lt;dbl&gt; | MED &lt;dbl&gt; | IQ &lt;dbl&gt; | KWW &lt;dbl&gt; | YEAR &lt;dbl&gt; | AGE &lt;dbl&gt; | AGE80 &lt;dbl&gt; | S &lt;dbl&gt; | S80 &lt;dbl&gt; | EXPR &lt;dbl&gt; | EXPR80 &lt;dbl&gt; | TENURE &lt;dbl&gt; | TENURE80 &lt;dbl&gt; | LW &lt;dbl&gt; | LW80 &lt;dbl&gt; |\n",
       "|---|---|---|---|---|---|---|---|---|---|---|---|---|---|---|---|---|---|---|---|\n",
       "| 1 | 1 | 1 | 1 | 0 | 0 | 12 |  82 | 27 | 73 | 24 | 32 | 12 | 12 | 2.817 |  8.733 | 0 |  2 | 5.687 | 6.175 |\n",
       "| 1 | 1 | 1 | 1 | 1 | 1 |  8 | 113 | 45 | 71 | 26 | 35 | 16 | 16 | 0.000 |  8.205 | 1 | 10 | 6.023 | 7.274 |\n",
       "| 1 | 1 | 1 | 1 | 0 | 0 |  7 |  93 | 39 | 67 | 22 | 35 | 12 | 12 | 0.692 | 10.737 | 1 |  3 | 5.176 | 6.469 |\n",
       "| 1 | 1 | 1 | 1 | 0 | 0 | 12 | 101 | 38 | 73 | 25 | 33 | 12 | 12 | 4.828 | 10.589 | 0 |  5 | 5.784 | 6.467 |\n",
       "| 1 | 1 | 1 | 1 | 0 | 0 |  7 | 100 | 33 | 73 | 23 | 31 | 12 | 12 | 2.489 |  9.004 | 2 |  3 | 5.628 | 6.168 |\n",
       "| 1 | 1 | 1 | 1 | 1 | 1 |  8 | 102 | 32 | 68 | 19 | 31 | 12 | 13 | 0.277 |  9.834 | 1 |  3 | 5.075 | 7.092 |\n",
       "\n"
      ],
      "text/plain": [
       "  RNS RNS80 MRT MRT80 SMSA SMSA80 MED IQ  KWW YEAR AGE AGE80 S  S80 EXPR \n",
       "1 1   1     1   1     0    0      12   82 27  73   24  32    12 12  2.817\n",
       "2 1   1     1   1     1    1       8  113 45  71   26  35    16 16  0.000\n",
       "3 1   1     1   1     0    0       7   93 39  67   22  35    12 12  0.692\n",
       "4 1   1     1   1     0    0      12  101 38  73   25  33    12 12  4.828\n",
       "5 1   1     1   1     0    0       7  100 33  73   23  31    12 12  2.489\n",
       "6 1   1     1   1     1    1       8  102 32  68   19  31    12 13  0.277\n",
       "  EXPR80 TENURE TENURE80 LW    LW80 \n",
       "1  8.733 0       2       5.687 6.175\n",
       "2  8.205 1      10       6.023 7.274\n",
       "3 10.737 1       3       5.176 6.469\n",
       "4 10.589 0       5       5.784 6.467\n",
       "5  9.004 2       3       5.628 6.168\n",
       "6  9.834 1       3       5.075 7.092"
      ]
     },
     "metadata": {},
     "output_type": "display_data"
    }
   ],
   "source": [
    "tail(datos)"
   ]
  },
  {
   "cell_type": "code",
   "execution_count": 9,
   "metadata": {},
   "outputs": [],
   "source": [
    "library(ggplot2)"
   ]
  },
  {
   "cell_type": "code",
   "execution_count": 10,
   "metadata": {},
   "outputs": [
    {
     "name": "stderr",
     "output_type": "stream",
     "text": [
      "`geom_smooth()` using formula 'y ~ x'\n",
      "\n"
     ]
    },
    {
     "data": {
      "image/png": "[encoded data removed]",
      "text/plain": [
       "plot without title"
      ]
     },
     "metadata": {
      "image/png": {
       "height": 420,
       "width": 420
      }
     },
     "output_type": "display_data"
    }
   ],
   "source": [
    "g <- ggplot(data = datos, aes(x = S, y = LW))\n",
    "g + geom_point() + stat_smooth(method = \"lm\", colour = \"red\")"
   ]
  },
  {
   "cell_type": "markdown",
   "metadata": {},
   "source": [
    "Planteamos el siguiente modelo:\n",
    "\n",
    "$$LW_i = \\alpha_0 + \\alpha_1 S_i + \\alpha_2 AGE_i + \\alpha_3 AGE^2_i + \\alpha_4 EXPR_i + \\alpha_5 A_i + \\epsilon_i$$"
   ]
  },
  {
   "cell_type": "markdown",
   "metadata": {},
   "source": [
    "donde $LW_i$ es el logaritmo de los salarios de cada individuo, $S_i$ son los años de educación, $AGE_i$ es la edad del individuo, $EXPR_i$ son los años de experiencia del individuo y $A_i$ es la habilidad del individuo. Lamentablemente no observamos la habilidad $A_i$ del individuo por lo que la omitimos y estimamos el modelo por MCO."
   ]
  },
  {
   "cell_type": "code",
   "execution_count": 13,
   "metadata": {},
   "outputs": [
    {
     "name": "stderr",
     "output_type": "stream",
     "text": [
      "Warning message:\n",
      "\"package 'gmm' was built under R version 4.0.3\"\n",
      "Loading required package: sandwich\n",
      "\n"
     ]
    }
   ],
   "source": [
    "# install.packages(\"gmm\")\n",
    "library(gmm)"
   ]
  },
  {
   "cell_type": "code",
   "execution_count": 14,
   "metadata": {},
   "outputs": [],
   "source": [
    "datos$AGE2 <- datos$AGE^2"
   ]
  },
  {
   "cell_type": "code",
   "execution_count": 15,
   "metadata": {},
   "outputs": [],
   "source": [
    "ols_mod <- gmm(LW ~ S + AGE + AGE2 + EXPR, ~ S + AGE + AGE2 + EXPR, data = datos)"
   ]
  },
  {
   "cell_type": "code",
   "execution_count": 16,
   "metadata": {},
   "outputs": [
    {
     "data": {
      "text/plain": [
       "\n",
       "Call:\n",
       "gmm(g = LW ~ S + AGE + AGE2 + EXPR, x = ~S + AGE + AGE2 + EXPR, \n",
       "    data = datos)\n",
       "\n",
       "\n",
       "Method:  twoStep \n",
       "\n",
       "Kernel:  Quadratic Spectral\n",
       "\n",
       "Coefficients:\n",
       "             Estimate     Std. Error   t value      Pr(>|t|)   \n",
       "(Intercept)   4.8285e+00   5.2669e-01   9.1678e+00   4.8277e-20\n",
       "S             6.7839e-02   7.8044e-03   8.6925e+00   3.5463e-18\n",
       "AGE          -5.7344e-02   4.9480e-02  -1.1589e+00   2.4649e-01\n",
       "AGE2          2.4511e-03   1.0962e-03   2.2360e+00   2.5350e-02\n",
       "EXPR          6.0603e-03   7.4528e-03   8.1315e-01   4.1613e-01\n",
       "\n",
       "J-Test: degrees of freedom is 0 \n",
       "                J-test               P-value            \n",
       "Test E(g)=0:    3.4581213140989e-21  *******            \n"
      ]
     },
     "metadata": {},
     "output_type": "display_data"
    }
   ],
   "source": [
    "summary(ols_mod)"
   ]
  },
  {
   "cell_type": "markdown",
   "metadata": {},
   "source": [
    "Obtenemos que por año de educación adicional incrementamos el salario en un 6,8%. Sin embargo, existe la teoría que argumenta que los individuos utilizan su educación como señal a los empleadores de la habilidad que poseen. En otras palabras, $Cov(S_i, A_i) \\neq 0$ por lo que al no haber incluido esta variable en la regresión ha generado un sesgo en mis estimaciones. Supongamos que contamos con una variables *proxy* de habilidad que es el $IQ_i$ y la incluimos en la regresión:"
   ]
  },
  {
   "cell_type": "code",
   "execution_count": 17,
   "metadata": {},
   "outputs": [
    {
     "data": {
      "text/plain": [
       "\n",
       "Call:\n",
       "gmm(g = LW ~ S + AGE + AGE2 + EXPR + IQ, x = ~S + AGE + AGE2 + \n",
       "    EXPR + IQ, data = datos)\n",
       "\n",
       "\n",
       "Method:  twoStep \n",
       "\n",
       "Kernel:  Quadratic Spectral\n",
       "\n",
       "Coefficients:\n",
       "             Estimate     Std. Error   t value      Pr(>|t|)   \n",
       "(Intercept)   4.4186e+00   5.2693e-01   8.3855e+00   5.0513e-17\n",
       "S             5.2577e-02   8.2875e-03   6.3442e+00   2.2362e-10\n",
       "AGE          -4.6383e-02   4.8938e-02  -9.4780e-01   3.4323e-01\n",
       "AGE2          2.2352e-03   1.0825e-03   2.0649e+00   3.8935e-02\n",
       "EXPR          6.3878e-03   7.3365e-03   8.7069e-01   3.8392e-01\n",
       "IQ            4.6172e-03   1.0954e-03   4.2151e+00   2.4968e-05\n",
       "\n",
       "J-Test: degrees of freedom is 0 \n",
       "                J-test                P-value             \n",
       "Test E(g)=0:    4.16265886345753e-21  *******             \n"
      ]
     },
     "metadata": {},
     "output_type": "display_data"
    }
   ],
   "source": [
    "ols_mod2 <- gmm(LW ~ S + AGE + AGE2 + EXPR + IQ, ~ S + AGE + AGE2 + EXPR + IQ, data = datos)\n",
    "summary(ols_mod2)"
   ]
  },
  {
   "cell_type": "markdown",
   "metadata": {},
   "source": [
    "Nuestra nueva estimación arroja un retorno por educación del 5,2%. Es muy probable que haya habido una relación directa con habilidad y años de educación y nuestra primera estimación estaba inflada. Sin embargo, aún tenemos problemas. Es muy probable que nuestra medida de habilidad sea imperfecta:\n",
    "\n",
    "$$IQ_i = \\phi + A_i + \\eta_i$$\n",
    "\n",
    "Es decir tenemos una variable medida con error. Si introducimos $IQ_i$ en la regresión y estimamos por MCO los resultados serán sesgados. Por fortuna, contamos con el resultado de otro test $KWW_i$ que podemos usar como un instrumento: "
   ]
  },
  {
   "cell_type": "code",
   "execution_count": 18,
   "metadata": {},
   "outputs": [
    {
     "data": {
      "text/plain": [
       "\n",
       "Call:\n",
       "gmm(g = LW ~ S + AGE + AGE2 + EXPR + IQ, x = ~S + AGE + AGE2 + \n",
       "    EXPR + KWW, data = datos)\n",
       "\n",
       "\n",
       "Method:  twoStep \n",
       "\n",
       "Kernel:  Quadratic Spectral\n",
       "\n",
       "Coefficients:\n",
       "             Estimate     Std. Error   t value      Pr(>|t|)   \n",
       "(Intercept)   4.3782e+00   6.9471e-01   6.3022e+00   2.9340e-10\n",
       "S             5.1075e-02   1.7622e-02   2.8984e+00   3.7506e-03\n",
       "AGE          -4.5305e-02   5.0647e-02  -8.9452e-01   3.7104e-01\n",
       "AGE2          2.2139e-03   1.1114e-03   1.9919e+00   4.6377e-02\n",
       "EXPR          6.4200e-03   7.3266e-03   8.7626e-01   3.8089e-01\n",
       "IQ            5.0717e-03   4.8738e-03   1.0406e+00   2.9806e-01\n",
       "\n",
       "J-Test: degrees of freedom is 0 \n",
       "                J-test                P-value             \n",
       "Test E(g)=0:    4.07286788970114e-21  *******             \n"
      ]
     },
     "metadata": {},
     "output_type": "display_data"
    }
   ],
   "source": [
    "iv_mod <- gmm(LW ~ S + AGE + AGE2 + EXPR + IQ, ~ S + AGE + AGE2 + EXPR + KWW, data = datos)\n",
    "summary(iv_mod)"
   ]
  },
  {
   "cell_type": "markdown",
   "metadata": {},
   "source": [
    "Nuestro retorno por educación disminuye en algo a 5,1%. Podemos ver que sucedería si contamos además con la educación de la madre como instrumento:"
   ]
  },
  {
   "cell_type": "code",
   "execution_count": 20,
   "metadata": {},
   "outputs": [
    {
     "data": {
      "text/plain": [
       "\n",
       "Call:\n",
       "gmm(g = LW ~ S + AGE + AGE2 + EXPR + IQ, x = ~S + AGE + AGE2 + \n",
       "    EXPR + KWW + MED, data = datos)\n",
       "\n",
       "\n",
       "Method:  twoStep \n",
       "\n",
       "Kernel:  Quadratic Spectral(with bw =  0.81809 )\n",
       "\n",
       "Coefficients:\n",
       "             Estimate     Std. Error   t value      Pr(>|t|)   \n",
       "(Intercept)   3.9992e+00   6.6536e-01   6.0106e+00   1.8484e-09\n",
       "S             3.8412e-02   1.6282e-02   2.3592e+00   1.8313e-02\n",
       "AGE          -3.0276e-02   5.0515e-02  -5.9935e-01   5.4894e-01\n",
       "AGE2          1.9089e-03   1.1107e-03   1.7187e+00   8.5671e-02\n",
       "EXPR          5.7805e-03   7.4020e-03   7.8093e-01   4.3484e-01\n",
       "IQ            8.6356e-03   4.5050e-03   1.9169e+00   5.5255e-02\n",
       "\n",
       "J-Test: degrees of freedom is 1 \n",
       "                J-test    P-value \n",
       "Test E(g)=0:    3.114857  0.077581\n",
       "\n",
       "Initial values of the coefficients\n",
       " (Intercept)            S          AGE         AGE2         EXPR           IQ \n",
       " 4.125998973  0.041684578 -0.038560802  0.002081085  0.006621527  0.007912530 \n"
      ]
     },
     "metadata": {},
     "output_type": "display_data"
    }
   ],
   "source": [
    "gmm_mod <- gmm(LW ~ S + AGE + AGE2+ EXPR + IQ, ~ S + AGE + AGE2 + EXPR + KWW + MED, data = datos)\n",
    "summary(gmm_mod)"
   ]
  },
  {
   "cell_type": "markdown",
   "metadata": {},
   "source": [
    "El retorno por educación esta en 3,8%."
   ]
  },
  {
   "cell_type": "code",
   "execution_count": null,
   "metadata": {},
   "outputs": [],
   "source": []
  }
 ],
 "metadata": {
  "kernelspec": {
   "display_name": "R",
   "language": "R",
   "name": "ir"
  },
  "language_info": {
   "codemirror_mode": "r",
   "file_extension": ".r",
   "mimetype": "text/x-r-source",
   "name": "R",
   "pygments_lexer": "r",
   "version": "4.0.2"
  }
 },
 "nbformat": 4,
 "nbformat_minor": 4
}
