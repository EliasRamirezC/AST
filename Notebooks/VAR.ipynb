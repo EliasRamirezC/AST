{
 "cells": [
  {
   "cell_type": "markdown",
   "metadata": {},
   "source": [
    "# 5. Vectores Autoregresivos VAR"
   ]
  },
  {
   "cell_type": "markdown",
   "metadata": {},
   "source": [
    "Habíamos definido el proceso AR(p) como:\n",
    "\n",
    "$$y_t = c + \\phi_1 y_{t - 1} + \\phi_2 y_{t - 2} + \\dots + \\phi_p y_{t - p} + \\epsilon_t$$\n",
    "\n",
    "donde $\\{\\epsilon_t\\}$ es una proceso ruido blanco con $E(\\epsilon_t) = 0$ y $E(\\epsilon^2_t) = \\sigma^2$ además de no estar correlacionado serialmente.\n",
    "\n",
    "Podemos generalizar esta idea considerando un proceso autoregresivo vectorial VAR(p) donde $\\mathbf{y}_t$ es un conjunto de $n$ variables cuyo proceso conjunto deseamos analizar. Podemos expresar el modelo VAR(p) como:\n",
    "\n",
    "$$\\mathbf{y}_t = \\mathbf{c} + \\mathbf{\\Phi}_1\\mathbf{y}_{t - 1} + \\mathbf{\\Phi}_2 \\mathbf{y}_{t - 2} + \\dots + \\mathbf{\\Phi}_p \\mathbf{y}_{t - p} + \\mathbf{\\epsilon}_t$$"
   ]
  },
  {
   "cell_type": "markdown",
   "metadata": {},
   "source": [
    "donde $\\mathbf{c}$ es un vector de $n$ constantes, $\\mathbf{\\Phi}_j$ para $j = 1, 2, \\dots, p$ es una matriz $n \\times n$ de coeficientes y $\\mathbf{\\epsilon}_t$ es un proceso vectorial generalización de un proceso ruido blanco donde:\n",
    "\n",
    "$$E(\\mathbf{\\epsilon}_t) = \\mathbf{0}$$\n",
    "$$E(\\mathbf{\\epsilon}_t\\mathbf{\\epsilon}'_\\tau) = \\left\\{\\begin{array}{l} \\mathbf{\\Omega} \\text{ para } t = \\tau \\\\\n",
    "\\mathbf{0} \\text{ de lo contrario } \\end{array}\\right.$$"
   ]
  },
  {
   "cell_type": "markdown",
   "metadata": {},
   "source": [
    "Podemos reescribir el modelo VAR(p) como:\n",
    "\n",
    "$$[\\mathbf{I}_n - \\mathbf{\\Phi}_1 L - \\mathbf{\\Phi}_2 L^2 - \\dots - \\mathbf{\\Phi}_p L^p]\\mathbf{y}_t = \\mathbf{c} + \\mathbf{\\epsilon}_t$$"
   ]
  },
  {
   "cell_type": "markdown",
   "metadata": {},
   "source": [
    "Una pregunta que nos interesa saber de un proceso VAR(p) es bajo qué condiciones es estacionario. Podemos considerar el polinomio característico:\n",
    "\n",
    "$$det(\\mathbf{I}_n - \\mathbf{\\Phi}_1 z - \\mathbf{\\Phi}_2 z^2 - \\dots - \\mathbf{\\Phi}_p z^p) = 0$$\n",
    "\n",
    "Entonces similar al caso del modelo AR(p), el modelo VAR(p) es estacionario si las raíces del determinante están fuera del círculo unitario. Los momentos del proceso estacionario son:\n",
    "\n",
    "$$E[\\mathbf{y}_t] = \\mathbf{\\mu} = [\\mathbf{I}_n - \\mathbf{\\Phi}_1 - \\mathbf{\\Phi}_2 - \\dots - \\mathbf{\\Phi}_p]^{-1} \\mathbf{c}$$\n",
    "$$E[(\\mathbf{y}_t - \\mathbf{\\mu})(\\mathbf{y}_{t - j} - \\mathbf{\\mu})'] = \\mathbf{\\Gamma}_j = \\left\\{\\begin{array}{l} \\mathbf{\\Phi}_1 \\mathbf{\\Gamma}_{j - 1} + \\mathbf{\\Phi}_2 \\mathbf{\\Gamma}_{j - 2} + \\dots + \\mathbf{\\Phi}_p \\mathbf{\\Gamma}_{j - p} \\text{ para } j = 1, 2 , \\dots  \\\\\n",
    "\\mathbf{\\Phi}_1 \\mathbf{\\Gamma}_1 + \\mathbf{\\Phi}_2 \\mathbf{\\Gamma}_2 + \\dots + \\mathbf{\\Phi}_p \\mathbf{\\Gamma}_p + \\mathbf{\\Omega}\\end{array}\\right.$$\n",
    "\n",
    "Una propiedad de los procesos VAR(p) estacionarios es:\n",
    "\n",
    "$$\\mathbf{\\Gamma}'_j = \\mathbf{\\Gamma}_{-j}$$"
   ]
  },
  {
   "cell_type": "markdown",
   "metadata": {},
   "source": [
    "Adicionalmente podemos expresar el modelo VAR(p) como un modelo VAR(1) de la siguiente forma:\n",
    "\n",
    "$$\\mathbf{\\xi}_t = \\mathbf{F}\\mathbf{\\xi}_{t - 1} + \\mathbf{v}_t$$\n",
    "\n",
    "donde:\n",
    "\n",
    "$$\\mathbf{\\xi}_t = \\left[\\begin{array}{c}\\mathbf{y}_t - \\mathbf{\\mu} \\\\\n",
    "                                          \\mathbf{y}_{t - 1} - \\mathbf{\\mu} \\\\\n",
    "                                          \\vdots \\\\\n",
    "                                          \\mathbf{y}_{t - p + 1} - \\mathbf{\\mu}\\end{array}\\right]$$\n",
    "                                        \n",
    "$$\\mathbf{F} = \\left[\\begin{array}{cccccc} \\mathbf{\\Phi}_1 & \\mathbf{\\Phi}_2 & \\mathbf{\\Phi}_3 & \\dots & \\mathbf{\\Phi}_{p - 1} & \\mathbf{\\Phi}_p \\\\\n",
    "\\mathbf{I}_n & \\mathbf{0} & \\mathbf{0} & \\dots & \\mathbf{0} & \\mathbf{0} \\\\\n",
    "\\mathbf{0} & \\mathbf{I}_n & \\mathbf{0} & \\dots & \\mathbf{0} & \\mathbf{0} \\\\\n",
    "\\vdots & \\vdots & \\vdots & \\ddots & \\vdots & \\vdots \\\\\n",
    "\\mathbf{0} & \\mathbf{0} & \\mathbf{0} & \\dots & \\mathbf{I}_n & \\mathbf{0}\\end{array}\\right]$$\n",
    "\n",
    "$$\\mathbf{v}_t = \\left[\\begin{array}{c}\\mathbf{\\epsilon}_t \\\\\n",
    "                                       \\mathbf{0} \\\\\n",
    "                                       \\vdots \\\\\n",
    "                                       \\mathbf{0}\\end{array}\\right]$$"
   ]
  },
  {
   "cell_type": "markdown",
   "metadata": {},
   "source": [
    "Esto implica que:\n",
    "\n",
    "$$\\mathbf{\\xi}_{t + s} = \\mathbf{v}_{t + s} + \\mathbf{F}\\mathbf{v}_{t + s - 1} + \\mathbf{F}\\mathbf{v}_{t + s - 2} + \\dots + \\mathbf{F}^{s - 1}\\mathbf{v}_{t + 1} + \\mathbf{F}^s \\mathbf{\\xi}_t$$\n",
    "\n",
    "Para que el proceso VAR(p) sea estacionario, los autovalores de la matriz $\\mathbf{F}$ deben estar dentro del círculo unitario o ser menores a 1 en módulo.\n",
    "\n",
    "Con esta representación también podemos calcular las matrices de autocovarianzas:\n",
    "\n",
    "$$\\mathbf{\\Sigma} = E(\\mathbf{\\xi}_t \\mathbf{\\xi}'_t) = \\left[\\begin{array}{cccc}\\mathbf{\\Gamma}_0 & \\mathbf{\\Gamma}_1 & \\dots & \\mathbf{\\Gamma}_{p - 1} \\\\\n",
    "\\mathbf{\\Gamma}'_1 & \\mathbf{\\Gamma}_0 & \\dots & \\mathbf{\\Gamma}_{p - 2} \\\\\n",
    "\\vdots & \\vdots & \\ddots & \\vdots \\\\\n",
    "\\mathbf{\\Gamma}'_{p - 1} & \\mathbf{\\Gamma}'_{p - 2} & \\dots & \\mathbf{\\Gamma}_0\\end{array}\\right]$$\n",
    "\n",
    "Las matrices de autocovarianza se calcularían recursivamente con:\n",
    "\n",
    "$$\\mathbf{\\Sigma}_j = F \\mathbf{\\Sigma}_{j - 1}$$\n",
    "\n",
    "donde la matriz de autocovarianzas $\\mathbf{\\Gamma}_j$ vendría dada por las primeras $n$ filas y $n$ columnas de $\\mathbf{\\Sigma}_j$."
   ]
  },
  {
   "cell_type": "markdown",
   "metadata": {},
   "source": [
    "Podemos ilustrar la condición de estacionariedad con un ejemplo. Sea el modelo VAR(1):\n",
    "\n",
    "$$y_{1t} = 0.5 y_{1, t - 1} + 0.3 y_{2, t - 1} + \\epsilon_{1t}$$\n",
    "$$y_{2t} = 0.02 y_{1, t - 1} + 0.8 y_{2, t - 1} + \\epsilon_{2t}$$\n",
    "\n",
    "Procedemos a simularlo:"
   ]
  },
  {
   "cell_type": "code",
   "execution_count": 1,
   "metadata": {},
   "outputs": [],
   "source": [
    "library(MASS)"
   ]
  },
  {
   "cell_type": "code",
   "execution_count": 3,
   "metadata": {},
   "outputs": [],
   "source": [
    "# install.packages(\"vars\")\n",
    "library(vars)"
   ]
  },
  {
   "cell_type": "code",
   "execution_count": 22,
   "metadata": {},
   "outputs": [],
   "source": [
    "set.seed(12345)\n",
    "Sigma <- matrix(c(1, 0.3, 0.3, 1), nrow = 2, ncol = 2, byrow = TRUE)\n",
    "epsilon <- mvrnorm(500, mu = c(0, 0), Sigma = Sigma)\n",
    "y <- matrix(rep(0, 1000), ncol = 2, nrow = 500)\n",
    "y[1,] <- c(1, 1)\n",
    "for (i in 2:500) {\n",
    "    y[i, 1] <- 0.5 * y[(i - 1), 1] + 0.3 * y[(i - 1), 2] + epsilon[(i - 1), 1] \n",
    "    y[i, 2] <- 0.02 * y[(i - 1), 1] + 0.8 * y[(i - 1), 2] + epsilon[(i - 1), 2]\n",
    "}"
   ]
  },
  {
   "cell_type": "markdown",
   "metadata": {},
   "source": [
    "Procedemos a estimar el modelo VAR(1):"
   ]
  },
  {
   "cell_type": "code",
   "execution_count": 23,
   "metadata": {},
   "outputs": [
    {
     "data": {
      "image/png": "[encoded data removed]",
      "text/plain": [
       "plot without title"
      ]
     },
     "metadata": {
      "image/png": {
       "height": 420,
       "width": 420
      }
     },
     "output_type": "display_data"
    }
   ],
   "source": [
    "datos <- data.frame(t = 1:100, y1 = y[401:500, 1], y2 = y[401:500, 2])\n",
    "library(ggplot2)\n",
    "g <- ggplot(data = datos, aes(x = t))\n",
    "g + geom_line(aes(y = y1)) + geom_line(aes(y = y2), colour = \"red\")"
   ]
  },
  {
   "cell_type": "code",
   "execution_count": 26,
   "metadata": {},
   "outputs": [
    {
     "data": {
      "text/plain": [
       "\n",
       "VAR Estimation Results:\n",
       "========================= \n",
       "Endogenous variables: y1, y2 \n",
       "Deterministic variables: none \n",
       "Sample size: 99 \n",
       "Log Likelihood: -256.708 \n",
       "Roots of the characteristic polynomial:\n",
       "0.8557 0.6241\n",
       "Call:\n",
       "VAR(y = datos[, 2:3], p = 1, type = \"none\")\n",
       "\n",
       "\n",
       "Estimation results for equation y1: \n",
       "=================================== \n",
       "y1 = y1.l1 + y2.l1 \n",
       "\n",
       "      Estimate Std. Error t value Pr(>|t|)    \n",
       "y1.l1  0.63118    0.07528   8.385 4.06e-13 ***\n",
       "y2.l1  0.26651    0.07752   3.438 0.000865 ***\n",
       "---\n",
       "Signif. codes:  0 '***' 0.001 '**' 0.01 '*' 0.05 '.' 0.1 ' ' 1\n",
       "\n",
       "\n",
       "Residual standard error: 0.9521 on 97 degrees of freedom\n",
       "Multiple R-Squared: 0.6635,\tAdjusted R-squared: 0.6566 \n",
       "F-statistic: 95.63 on 2 and 97 DF,  p-value: < 2.2e-16 \n",
       "\n",
       "\n",
       "Estimation results for equation y2: \n",
       "=================================== \n",
       "y2 = y1.l1 + y2.l1 \n",
       "\n",
       "      Estimate Std. Error t value Pr(>|t|)    \n",
       "y1.l1 0.005929   0.068303   0.087    0.931    \n",
       "y2.l1 0.848670   0.070337  12.066   <2e-16 ***\n",
       "---\n",
       "Signif. codes:  0 '***' 0.001 '**' 0.01 '*' 0.05 '.' 0.1 ' ' 1\n",
       "\n",
       "\n",
       "Residual standard error: 0.8639 on 97 degrees of freedom\n",
       "Multiple R-Squared: 0.7108,\tAdjusted R-squared: 0.7048 \n",
       "F-statistic: 119.2 on 2 and 97 DF,  p-value: < 2.2e-16 \n",
       "\n",
       "\n",
       "\n",
       "Covariance matrix of residuals:\n",
       "       y1     y2\n",
       "y1 0.8979 0.2072\n",
       "y2 0.2072 0.7309\n",
       "\n",
       "Correlation matrix of residuals:\n",
       "       y1     y2\n",
       "y1 1.0000 0.2557\n",
       "y2 0.2557 1.0000\n",
       "\n"
      ]
     },
     "metadata": {},
     "output_type": "display_data"
    }
   ],
   "source": [
    "var_mod <- VAR(y = datos[, 2:3], p = 1, type = \"none\")\n",
    "summary(var_mod)"
   ]
  },
  {
   "cell_type": "code",
   "execution_count": 27,
   "metadata": {},
   "outputs": [
    {
     "data": {
      "text/html": [
       "<style>\n",
       ".list-inline {list-style: none; margin:0; padding: 0}\n",
       ".list-inline>li {display: inline-block}\n",
       ".list-inline>li:not(:last-child)::after {content: \"\\00b7\"; padding: 0 .5ex}\n",
       "</style>\n",
       "<ol class=list-inline><li>0.855707535076516</li><li>0.624144446610299</li></ol>\n"
      ],
      "text/latex": [
       "\\begin{enumerate*}\n",
       "\\item 0.855707535076516\n",
       "\\item 0.624144446610299\n",
       "\\end{enumerate*}\n"
      ],
      "text/markdown": [
       "1. 0.855707535076516\n",
       "2. 0.624144446610299\n",
       "\n",
       "\n"
      ],
      "text/plain": [
       "[1] 0.8557075 0.6241444"
      ]
     },
     "metadata": {},
     "output_type": "display_data"
    }
   ],
   "source": [
    "roots(var_mod)"
   ]
  },
  {
   "cell_type": "markdown",
   "metadata": {},
   "source": [
    "Como podemos ver, el proceso VAR(1) propuesto es estacionario porque los autovalores de la matriz $F$ están dentro del círculo unitario o son menores a 1 en módulo. Esto es lo mismo a que las raíces del polinomio característico estén fuera del círculo unitario."
   ]
  },
  {
   "cell_type": "markdown",
   "metadata": {},
   "source": [
    "### 5.1 Procesos VMA(q)"
   ]
  },
  {
   "cell_type": "markdown",
   "metadata": {},
   "source": [
    "Un proceso de vectorial de medias móviles de orden q VMA(q) viene dado por:\n",
    "\n",
    "$$\\mathbf{y}_t = \\mathbf{\\mu} + \\mathbf{\\epsilon}_t + \\mathbf{\\Theta}_1 \\mathbf{\\epsilon}_{t - 1} + \\mathbf{\\Theta}_2 \\mathbf{\\epsilon}_{t - 2} + \\dots + \\mathbf{\\Theta}_q \\mathbf{\\epsilon}_{t - q}$$"
   ]
  },
  {
   "cell_type": "markdown",
   "metadata": {},
   "source": [
    "donde $\\mathbf{\\epsilon}_t$ es un proceso vectorial ruido blanco. Este proceso es estacionario y posee los siguientes momentos:\n",
    "\n",
    "$$E[\\mathbf{y}_t] = \\mathbf{\\mu}$$\n",
    "\n",
    "$$\\mathbf{\\Gamma}_0 = \\mathbf{\\Omega} + \\mathbf{\\Theta}_1 \\mathbf{\\Omega} \\mathbf{\\Theta}'_1 + \\mathbf{\\Theta}_2 \\mathbf{\\Omega} \\mathbf{\\Theta}'_2 + \\dots + \\mathbf{\\Theta}_q \\mathbf{\\Omega} \\mathbf{\\Theta}'_q$$\n",
    "\n",
    "$$\\mathbf{\\Gamma}_j = \\left\\{\\begin{array}{l}\\mathbf{\\Theta}_j \\mathbf{\\Omega} + \\mathbf{\\Theta}_{j + 1} \\mathbf{\\Omega} \\mathbf{\\Theta}'_1 + \\mathbf{\\Theta}'_{j + 2} \\mathbf{\\Omega} \\mathbf{\\Theta}'_2 + \\dots + \\mathbf{\\Theta}_q \\mathbf{\\Omega} \\mathbf{\\Theta}'_{q - j} \\text{ para } j = 1, 2, \\dots, q \\\\\n",
    "\\mathbf{\\Omega}\\mathbf{\\Theta}'_{-j} + \\mathbf{\\Theta}_1 \\mathbf{\\Omega} \\mathbf{\\Theta}_{-j + 1} + \\mathbf{\\Theta}_2 \\mathbf{\\Omega}\\mathbf{\\Theta}'_{-j+2} + \\dots + \\mathbf{\\Theta}_{q + j}\\mathbf{\\Omega}\\mathbf{\\Theta}'_q \\text{ para } j = -1, -2, \\dots, -q \\\\\n",
    "\\mathbf{0}\\end{array}\\right.$$\n",
    "\n",
    "donde $\\mathbf{\\Theta}_0 = \\mathbf{I}_n$. Todo proceso VMA(q) es estacionario.\n"
   ]
  },
  {
   "cell_type": "markdown",
   "metadata": {},
   "source": [
    "### 5.2 Procesos VMA($\\infty$)"
   ]
  },
  {
   "cell_type": "markdown",
   "metadata": {},
   "source": [
    "El proceso VMA($\\infty$) está descrito como:\n",
    "\n",
    "$$\\mathbf{y}_t = \\mathbf{\\mu} + \\mathbf{\\epsilon}_t + \\mathbf{\\Psi}_1 \\mathbf{\\epsilon}_{t - 1} + \\mathbf{\\Psi}_2 \\mathbf{\\epsilon}_{t - 2} + \\dots = \\mathbf{\\mu} + \\sum^\\infty_{k = 0}\\mathbf{\\Psi}_k \\mathbf{\\epsilon}_{t - k}$$\n",
    "\n",
    "donde $\\mathbf{\\Psi}_0 = \\mathbf{I}_n$. Este proceso es estacionario si la secuencia de matrices $\\{\\mathbf{\\Psi}_s\\}^\\infty_{s = 0}$ es sumable en términos absolutos lo que equivale a decir que cada uno de los elementos de estas matrices forma una secuencia que es sumable en términos absolutos es decir:\n",
    "\n",
    "$$\\sum^\\infty_{s = 0}|\\psi^{(s)}_{ij}| < \\infty \\text{ para } i = 1, 2, \\dots, n \\text{ y } j = 1, 2, \\dots, n$$\n",
    "\n",
    "La utilidad del proceso VMA($\\infty$) es que podemos representar cualquier proceso vectorial estacionario como la suma de un componente VMA($\\infty$) y un componente vectorial determinístico. Todos los modelos VARMA(p, q) son procesos vectoriales estacionarios entonces tienen una representacion VMA($\\infty$). "
   ]
  },
  {
   "cell_type": "markdown",
   "metadata": {},
   "source": [
    "### 5.3 Procesos VARMA(p, q)"
   ]
  },
  {
   "cell_type": "markdown",
   "metadata": {},
   "source": [
    "Los procesos VARMA(p, q) se denotan como:\n",
    "\n",
    "$$\\mathbf{y}_t = \\mathbf{c} + \\mathbf{\\Phi}_1 \\mathbf{y}_{t - 1} + \\mathbf{\\Phi}_2 \\mathbf{y}_{t - 2} + \\dots + \\mathbf{\\Phi}_p \\mathbf{y}_{t - p} + \\mathbf{\\epsilon}_t + \\mathbf{\\Theta}_1\\mathbf{\\epsilon}_{t - 1} + \\mathbf{\\Theta}_2 \\mathbf{\\epsilon}_{t - 2} + \\dots + \\mathbf{\\Theta}_q \\mathbf{\\epsilon}_{t - q}$$"
   ]
  },
  {
   "cell_type": "markdown",
   "metadata": {},
   "source": [
    "Este proceso es estacionario si las raíces del determinante $det(\\mathbf{I}_n - \\mathbf{\\Phi}_1 z - \\mathbf{\\Phi}_2 z^2 - \\dots - \\mathbf{\\Phi}_p z^p) = 0$ están fuera del círculo unitario o son mayor a 1 en módulo."
   ]
  },
  {
   "cell_type": "markdown",
   "metadata": {},
   "source": [
    "### 5.4 Teorema de límite Central para procesos vectoriales estacionarios y ergódicos"
   ]
  },
  {
   "cell_type": "markdown",
   "metadata": {},
   "source": [
    "Si el proceso vectorial $\\{\\mathbf{y}_t\\}$ es estacionario es estacionario y ergódico entonces posee una representación VMA($\\infty$) por lo cual se cumple que:\n",
    "\n",
    "$$\\sqrt{T}(\\mathbf{\\bar{y}}_T - \\mathbf{\\mu}) \\stackrel{d}\\to N(\\mathbf{0}, \\sum^\\infty_{j = -\\infty}\\mathbf{\\Gamma}_j)$$\n",
    "\n",
    "donde: \n",
    "\n",
    "$$\\mathbf{\\bar{y}}_T = \\frac{1}{T}\\sum^T_{t = 1}\\mathbf{y}_t$$\n",
    "\n",
    "y además se tiene que $\\mathbf{\\bar{y}}_T \\stackrel{p}\\to \\mathbf{\\mu}$. La matriz de covarianzas $\\sum^\\infty_{j = -\\infty}\\mathbf{\\Gamma}_j$ puede ser calculada a través de alguno de los métodos que vimos en el capítulo de MCO como VARHAC o los estimadores en base a kerneles. \n",
    "\n",
    "Podemos ilustrar esto con un ejemplo; sea el siguiente proceso VAR(1) estacionario:"
   ]
  },
  {
   "cell_type": "markdown",
   "metadata": {},
   "source": [
    "$$ y_{1t} = -0.7 + 0.7 y_{1, t - 1} + 0.2 y_{2, t - 1} + \\epsilon_{1t} $$\n",
    "$$ y_{2t} = 1.3 + 0.2 y_{1, t - 1} + 0.7 y_{2, t - 1} + \\epsilon_{2t} $$"
   ]
  },
  {
   "cell_type": "code",
   "execution_count": 1,
   "metadata": {},
   "outputs": [],
   "source": [
    "library(MASS)"
   ]
  },
  {
   "cell_type": "code",
   "execution_count": 3,
   "metadata": {},
   "outputs": [],
   "source": [
    "set.seed(12345)\n",
    "Sigma <- matrix(c(1, 0.5, 0.5, 1), nrow = 2, ncol = 2, byrow = TRUE)\n",
    "epsilon <- mvrnorm(500, mu = c(0, 0), Sigma = Sigma)\n",
    "y <- matrix(rep(0, 1000), nrow = 500, ncol = 2)\n",
    "y[1, ] <- c(1, 1)\n",
    "for (i in 2:500) {\n",
    "    y[i, 1] <- -0.7 + 0.7 * y[(i - 1), 1] + 0.2 * y[(i - 1), 2] + epsilon[i, 1]\n",
    "    y[i, 2] <- 1.3 + 0.2 * y[(i - 1), 1] + 0.7 * y[(i - 1), 2] + epsilon[i, 2]\n",
    "}"
   ]
  },
  {
   "cell_type": "code",
   "execution_count": 4,
   "metadata": {},
   "outputs": [
    {
     "data": {
      "text/html": [
       "<table>\n",
       "<caption>A matrix: 2 × 1 of type dbl</caption>\n",
       "<tbody>\n",
       "\t<tr><td>1</td></tr>\n",
       "\t<tr><td>5</td></tr>\n",
       "</tbody>\n",
       "</table>\n"
      ],
      "text/latex": [
       "A matrix: 2 × 1 of type dbl\n",
       "\\begin{tabular}{l}\n",
       "\t 1\\\\\n",
       "\t 5\\\\\n",
       "\\end{tabular}\n"
      ],
      "text/markdown": [
       "\n",
       "A matrix: 2 × 1 of type dbl\n",
       "\n",
       "| 1 |\n",
       "| 5 |\n",
       "\n"
      ],
      "text/plain": [
       "     [,1]\n",
       "[1,] 1   \n",
       "[2,] 5   "
      ]
     },
     "metadata": {},
     "output_type": "display_data"
    }
   ],
   "source": [
    "Phi <- matrix(c(0.7, 0.2, 0.2, 0.7), nrow = 2, ncol = 2, byrow = TRUE)\n",
    "const <- matrix(c(-0.7, 1.3), nrow = 2, ncol = 1, byrow = TRUE)\n",
    "solve(diag(2) - Phi) %*% const"
   ]
  },
  {
   "cell_type": "code",
   "execution_count": 7,
   "metadata": {},
   "outputs": [
    {
     "data": {
      "text/html": [
       "<style>\n",
       ".list-inline {list-style: none; margin:0; padding: 0}\n",
       ".list-inline>li {display: inline-block}\n",
       ".list-inline>li:not(:last-child)::after {content: \"\\00b7\"; padding: 0 .5ex}\n",
       "</style>\n",
       "<ol class=list-inline><li>1.08696501820302</li><li>4.69062655771472</li></ol>\n"
      ],
      "text/latex": [
       "\\begin{enumerate*}\n",
       "\\item 1.08696501820302\n",
       "\\item 4.69062655771472\n",
       "\\end{enumerate*}\n"
      ],
      "text/markdown": [
       "1. 1.08696501820302\n",
       "2. 4.69062655771472\n",
       "\n",
       "\n"
      ],
      "text/plain": [
       "[1] 1.086965 4.690627"
      ]
     },
     "metadata": {},
     "output_type": "display_data"
    }
   ],
   "source": [
    "colMeans(y[401:500, ])"
   ]
  },
  {
   "cell_type": "markdown",
   "metadata": {},
   "source": [
    "Se cumple que la media muestral es un estimador consistente de la media poblacional."
   ]
  },
  {
   "cell_type": "markdown",
   "metadata": {},
   "source": [
    "### 5.5 Estimación de los modelos VAR(p) por máxima verosimilitud"
   ]
  },
  {
   "cell_type": "markdown",
   "metadata": {},
   "source": [
    "Podemos asumir que el proceso $\\{\\mathbf{y}_t\\}$ está governado por un proceso VAR(p) gausiano representado por:\n",
    "\n",
    "$$\\mathbf{y}_t = \\mathbf{c} + \\mathbf{\\Phi}_1 \\mathbf{y}_{t - 1} + \\mathbf{\\Phi}_2 \\mathbf{y}_{t - 2} + \\dots + \\mathbf{\\Phi}_p \\mathbf{y}_{t - p} + \\mathbf{\\epsilon}_t$$\n",
    "\n",
    "donde $\\mathbf{\\epsilon}_t \\text{ es i.i.d }\\sim N(\\mathbf{0}, \\mathbf{\\Omega})$. Supongamos que observamos es proceso por $T + p$ periodos entonces nuestro objetivo es construir la función de densidad conjunta condicional en los primeros $p$ valores del proceso:\n",
    "\n",
    "$$f_{\\mathbf{Y_t, Y_{t - 1}, \\dots, Y_1}|\\mathbf{Y_0, Y_{-1}, \\dots, Y_{-p + 1}}}(\\mathbf{y_{T}, y_{T - 1}, \\dots, y_1}|\\mathbf{y_0, y_{-1}, \\dots, y_{-p + 1}}; \\mathbf{\\Theta})$$"
   ]
  },
  {
   "cell_type": "markdown",
   "metadata": {},
   "source": [
    "Podemos utilizar la siguiente notación:\n",
    "\n",
    "$$ \\mathbf{x}_t = \\left[\\begin{array}{c} 1 \\\\\n",
    "                                         \\mathbf{y}_{t - 1} \\\\\n",
    "                                         \\mathbf{y}_{t - 2} \\\\\n",
    "                                         \\vdots \\\\\n",
    "                                         \\mathbf{y}_{t - p}\\end{array}\\right]$$\n",
    "                                         \n",
    "$$\\mathbf{\\Pi}' = \\left[\\begin{array}{ccccc}\\mathbf{c} & \\mathbf{\\Phi}_1 & \\mathbf{\\Phi}_2 & \\dots & \\mathbf{\\Phi}_p \\end{array}\\right]$$"
   ]
  },
  {
   "cell_type": "markdown",
   "metadata": {},
   "source": [
    "Bajo esta nueva notación podemos escribir la función de densidad condicional como:\n",
    "\n",
    "$$\\mathbf{y}_t|\\mathbf{y_{t - 1}, y_{t - 2}, \\dots, y_{- p + 1}} \\sim N(\\mathbf{\\Pi'x_t}, \\mathbf{\\Omega})$$\n",
    "\n",
    "que es equivalente a:\n",
    "\n",
    "$$f_{\\mathbf{Y}_t|\\mathbf{Y_{t - 1}, Y_{t - 2}, \\dots, Y_{-p + 1}}}(\\mathbf{y}_t|\\mathbf{y_{t - 1}, y_{t - 2}, \\dots, y_{-p + 1}}; \\mathbf{\\Theta}) = (2\\pi)^{-n/2}|\\mathbf{\\Omega}^{-1}|^{-1/2}exp[(-1/2)(\\mathbf{y_t - \\Pi´x_t})'\\mathbf{\\Omega}^{-1}(\\mathbf{y_t - \\Pi'x_t})]$$"
   ]
  },
  {
   "cell_type": "markdown",
   "metadata": {},
   "source": [
    "La función de densidad conjunta condicional en las primeras $p$ observaciones sería:\n",
    "\n",
    "$$f_{\\mathbf{Y_T, Y_{T - 1}, \\dots, Y_1}|Y_0, Y_{-1}, \\dots, Y_{-p + 1}}(\\mathbf{y_T, y_{T - 1}, \\dots, y_1}|\\mathbf{y_0, y_{-1}, \\dots, y_{-p + 1}}; \\mathbf{\\Theta}) = \\prod^T_{t = 1}f_{\\mathbf{Y}_t|\\mathbf{Y_{t - 1}, Y_{t - 2}, \\dots, Y_{-p + 1}}}(\\mathbf{y}_t|\\mathbf{y_{t - 1}, y_{t - 2}, \\dots, y_{-p + 1}}; \\mathbf{\\Theta})$$\n",
    "\n",
    "Aplicando logaritmos obtenemos la función de verosimilitud en logaritmos:\n",
    "\n",
    "$$\\log f_{\\mathbf{Y_T, Y_{T - 1}, \\dots, Y_1}|Y_0, Y_{-1}, \\dots, Y_{-p + 1}}(\\mathbf{y_T, y_{T - 1}, \\dots, y_1}|\\mathbf{y_0, y_{-1}, \\dots, y_{-p + 1}}; \\mathbf{\\Theta}) = -(Tn/2)\\log(2\\pi) + (T/2)\\log|\\mathbf{\\Omega}^{-1}| - (1/2)\\sum^T_{t = 1}\\left[(\\mathbf{y_t - \\Pi'x_t})\\mathbf{\\Omega}^{-1}(\\mathbf{y_t - \\Pi'x_t})\\right]$$"
   ]
  },
  {
   "cell_type": "markdown",
   "metadata": {},
   "source": [
    "Los estimadores MLE son:\n",
    "\n",
    "$$\\mathbf{\\hat{\\Pi}}' = \\left[\\sum^T_{t = 1}\\mathbf{y_t x'_t}\\right]\\left[\\sum^T_{t = 1}\\mathbf{x_t x'_t}\\right]^{-1}$$\n",
    "\n",
    "$$\\mathbf{\\hat{\\Omega}} = \\frac{1}{T}\\sum^T_{t = 1}\\mathbf{\\hat{\\epsilon}_t \\hat{\\epsilon}'_t}$$\n",
    "\n",
    "Estos estimadores MLE resultan ser los estimadores MCO donde se aplica MCO ecuación por ecuación en el modelo VAR(p)."
   ]
  },
  {
   "cell_type": "markdown",
   "metadata": {},
   "source": [
    "La utilidad de la función de verosimilitud es que nos permite hacer una prueba para ver el número de rezagos a incluir en la estimación del modelo VAR(p). Sea $p_1$ el número de rezagos de un posible modelo VAR($p_1$) que estamos considerando y sea $p_0$ la otra opción. Consideremos que $p_1 > p_0$. Entonces la prueba que realizamos es:\n",
    "\n",
    "$$T(\\mathcal{L}_{1, T} - \\mathcal{L}_{0, T}) = T(\\log|\\mathbf{\\hat{\\Omega}}_{0, T}| - \\log|\\mathbf{\\hat{\\Omega}}_{1, T}|) \\sim \\chi^2(n^2(p_1 - p_0))$$"
   ]
  },
  {
   "cell_type": "markdown",
   "metadata": {},
   "source": [
    "Sims(1980) propuso la siguiente modificación para corregir el sesgo de muestras pequeñas:\n",
    "\n",
    "$$(T - k)(\\mathcal{L}_{1,T} - \\mathcal{L}_{0, T})$$\n",
    "\n",
    "donde $k$ es el número de parámetros estimados por ecuación del modelo VAR($p_1$)."
   ]
  },
  {
   "cell_type": "markdown",
   "metadata": {},
   "source": [
    "Podemos ilustrar esto con el siguiente modelo VAR(1):\n",
    "\n",
    "$$y_{1t} = 1.3 + 0.3 y_{1, t - 1} + 0.5 y_{2, t - 1} + \\epsilon_{1t}$$\n",
    "$$y_{2t} = 0.4 + 0.5 y_{1, t - 1} + 0.3 y_{2, t - 1} + \\epsilon_{2t}$$"
   ]
  },
  {
   "cell_type": "code",
   "execution_count": 1,
   "metadata": {},
   "outputs": [
    {
     "name": "stderr",
     "output_type": "stream",
     "text": [
      "Loading required package: strucchange\n",
      "\n",
      "Loading required package: zoo\n",
      "\n",
      "\n",
      "Attaching package: 'zoo'\n",
      "\n",
      "\n",
      "The following objects are masked from 'package:base':\n",
      "\n",
      "    as.Date, as.Date.numeric\n",
      "\n",
      "\n",
      "Loading required package: sandwich\n",
      "\n",
      "Loading required package: urca\n",
      "\n",
      "Loading required package: lmtest\n",
      "\n"
     ]
    }
   ],
   "source": [
    "library(MASS)\n",
    "library(vars)"
   ]
  },
  {
   "cell_type": "code",
   "execution_count": 2,
   "metadata": {},
   "outputs": [],
   "source": [
    "set.seed(12345)\n",
    "Sigma <- matrix(c(1, 0.5, 0.5, 1), nrow = 2, ncol = 2, byrow = TRUE)\n",
    "epsilon <- mvrnorm(500, mu = c(0, 0), Sigma = Sigma)\n",
    "y <- matrix(rep(0, 1000), nrow = 500, ncol = 2)\n",
    "y[1, ] <- c(1, 1)\n",
    "for (i in 2:500) {\n",
    "    y[i, 1] <- 1.3 + 0.3 * y[(i - 1), 1] + 0.5 * y[(i - 1), 2] + epsilon[i, 1]\n",
    "    y[i, 2] <- 0.4 + 0.5 * y[(i - 1), 1] + 0.3 * y[(i - 1), 2] + epsilon[i, 2]\n",
    "}"
   ]
  },
  {
   "cell_type": "code",
   "execution_count": 3,
   "metadata": {},
   "outputs": [],
   "source": [
    "datos <- data.frame(y1 = y[401:500, 1], y2 = y[401:500, 2])"
   ]
  },
  {
   "cell_type": "code",
   "execution_count": 5,
   "metadata": {},
   "outputs": [],
   "source": [
    "var2_mod <- VAR(y = datos, p = 2)\n",
    "var1_mod <- VAR(y = datos, p = 1)"
   ]
  },
  {
   "cell_type": "code",
   "execution_count": 7,
   "metadata": {},
   "outputs": [],
   "source": [
    "l_test <- (100 - 5) * (logLik(var2_mod) - logLik(var1_mod))"
   ]
  },
  {
   "cell_type": "code",
   "execution_count": 8,
   "metadata": {},
   "outputs": [
    {
     "data": {
      "text/plain": [
       "'log Lik.' 3.588388e-173 (df=10)"
      ]
     },
     "metadata": {},
     "output_type": "display_data"
    }
   ],
   "source": [
    "pchisq(l_test, df = 2^2 * (2 - 1), lower.tail = FALSE)"
   ]
  },
  {
   "cell_type": "markdown",
   "metadata": {},
   "source": [
    "### 5.6 Propiedades asintóticas del estimador MCO para el modelo VAR(p)"
   ]
  },
  {
   "cell_type": "markdown",
   "metadata": {},
   "source": [
    "Como hemos visto la estimación de los modelos VAR(p) puede ralizarse a través de MCO. Si el VAR(p) propuesto es estacionario entonces puede generalizarse esta estimación cuando los errores no son gausianos. Tenemos el vector de coeficientes $\\mathbf{\\hat{\\pi}}_T$:\n",
    "\n",
    "$$\\mathbf{\\hat{\\pi}}_T = \\left[\\begin{array}{c}\\mathbf{\\hat{\\pi}}_{1, T} \\\\\n",
    "                                               \\mathbf{\\hat{\\pi}}_{2, T} \\\\\n",
    "                                               \\vdots \\\\\n",
    "                                               \\mathbf{\\hat{\\pi}}_{n, T}\\end{array}\\right]$$\n",
    "                                               \n",
    "donde:\n",
    "\n",
    "$$\\mathbf{\\hat{\\pi}}_{i, T} = \\left[\\sum^T_{t = 1}\\mathbf{x_t x'_t}\\right]^{-1} \\left[\\sum^T_{t = 1}\\mathbf{x_t}y_{it} \\right]$$\n",
    "\n",
    "y:\n",
    "\n",
    "$$\\mathbf{\\hat{\\Omega}}_T = \\frac{1}{T}\\sum^T_{t = 1}\\mathbf{\\hat{\\epsilon}_t \\hat{\\epsilon}'_t}$$"
   ]
  },
  {
   "cell_type": "markdown",
   "metadata": {},
   "source": [
    "Se cumple lo siguiente para esta estimación por MCO:\n",
    "\n",
    "1. $\\frac{1}{T} \\sum^T_{t = 1} \\mathbf{x_t x'_t} \\stackrel{p}\\to \\mathbf{Q}$ donde $\\mathbf{Q} = E(\\mathbf{x_t x'_t})$.\n",
    "2. $\\mathbf{\\hat{\\pi}}_T \\stackrel{p}\\to \\mathbf{\\pi}$\n",
    "3. $\\mathbf{\\hat{\\Omega}}_T \\stackrel{p}\\to \\mathbf{\\Omega}$\n",
    "4. $\\sqrt{T}(\\mathbf{\\hat{\\pi}}_T - \\mathbf{\\pi}) \\stackrel{d}\\to N(\\mathbf{0}, \\mathbf{\\Omega} \\otimes \\mathbf{Q}^{-1})$\n",
    "\n",
    "El símbolo $\\otimes$ representa [el producto de Kronecker.](https://es.wikipedia.org/wiki/Producto_de_Kronecker#:~:text=En%20matem%C3%A1ticas%2C%20se%20llama%20producto%20de%20Kronecker%2C%20denotado,bloque.%20Es%20un%20caso%20especial%20del%20producto%20tensorial.)"
   ]
  },
  {
   "cell_type": "markdown",
   "metadata": {},
   "source": [
    "El modelo VAR(p) es homoscedástico (puede verse el libro de Hamilton(1994)) por lo que puede aplicarse las usuales pruebas t y F. Adicionalmente podemos definir el estadístico de walt $W_T$ para restricciones entre los coeficientes de las ecuaciones que conforman el VAR(p). Bajo la hipótesis nula que $H_0: \\mathbf{R\\pi} = \\mathbf{r}$, el estadístico $W_T$ se define como:\n",
    "\n",
    "$$W_T= T(\\mathbf{R\\hat{\\pi}_T}- \\mathbf{r})'(\\mathbf{R}(\\mathbf{\\hat{\\Omega}}_T \\otimes \\mathbf{Q}^{-1}_T)\\mathbf{R}')^{-1}(\\mathbf{R\\hat{\\pi}_T} - \\mathbf{r}) \\stackrel{d}\\to \\chi^2(m)$$\n",
    "\n",
    "donde $m$ son el número de restricciones consideradas."
   ]
  },
  {
   "cell_type": "markdown",
   "metadata": {},
   "source": [
    "### 5.7 Proyecciones con modelos VAR(p)"
   ]
  },
  {
   "cell_type": "markdown",
   "metadata": {},
   "source": [
    "La propiedad central de las proyecciones de los modelos VAR(p) estacionarios es que éstas convergen gradualmente a la media del proceso $\\mathbf{\\mu}$. Esto lo podemos ilustrar con el siguiente modelo VAR(1)."
   ]
  },
  {
   "cell_type": "markdown",
   "metadata": {},
   "source": [
    "$$y_{1t} = 2.4 + 0.2 y_{1, t - 1} + 0.1 y_{2, t - 1} + \\epsilon_{1t}$$\n",
    "$$y_{2t} = 0.5 + 0.1 y_{1, t - 1} + 0.2 y_{2, t - 1} + \\epsilon_{2t}$$"
   ]
  },
  {
   "cell_type": "code",
   "execution_count": 10,
   "metadata": {},
   "outputs": [],
   "source": [
    "set.seed(12345)\n",
    "Sigma <- matrix(c(1, 0.3, 0.3, 1), nrow = 2, ncol = 2, byrow = TRUE)\n",
    "epsilon <- mvrnorm(500, mu = c(0, 0), Sigma = Sigma)\n",
    "y <- matrix(rep(0, 1000), nrow = 500, ncol = 2)\n",
    "y[1, ] <- c(1, 1)\n",
    "for (i in 2:500) {\n",
    "    y[i, 1] <- 2.4 + 0.2 * y[(i - 1), 1] + 0.1 * y[(i - 1), 2] + epsilon[i, 1]\n",
    "    y[i, 2] <- 0.5 + 0.1 * y[(i - 1), 1] + 0.2 * y[(i - 1), 2] + epsilon[i, 2]\n",
    "}"
   ]
  },
  {
   "cell_type": "code",
   "execution_count": 11,
   "metadata": {},
   "outputs": [],
   "source": [
    "datos <- data.frame(y1 = y[401:500, 1], y2 = y[401:500, 2])"
   ]
  },
  {
   "cell_type": "code",
   "execution_count": 12,
   "metadata": {},
   "outputs": [],
   "source": [
    "var1_mod <- VAR(datos, p = 1)"
   ]
  },
  {
   "cell_type": "code",
   "execution_count": 13,
   "metadata": {},
   "outputs": [
    {
     "data": {
      "text/plain": [
       "\n",
       "VAR Estimation Results:\n",
       "========================= \n",
       "Endogenous variables: y1, y2 \n",
       "Deterministic variables: const \n",
       "Sample size: 99 \n",
       "Log Likelihood: -254.183 \n",
       "Roots of the characteristic polynomial:\n",
       "0.415 0.2271\n",
       "Call:\n",
       "VAR(y = datos, p = 1)\n",
       "\n",
       "\n",
       "Estimation results for equation y1: \n",
       "=================================== \n",
       "y1 = y1.l1 + y2.l1 + const \n",
       "\n",
       "      Estimate Std. Error t value Pr(>|t|)    \n",
       "y1.l1  0.35092    0.10015   3.504 0.000698 ***\n",
       "y2.l1  0.05264    0.11236   0.468 0.640507    \n",
       "const  2.02483    0.31890   6.349 7.17e-09 ***\n",
       "---\n",
       "Signif. codes:  0 '***' 0.001 '**' 0.01 '*' 0.05 '.' 0.1 ' ' 1\n",
       "\n",
       "\n",
       "Residual standard error: 0.9572 on 96 degrees of freedom\n",
       "Multiple R-Squared: 0.1361,\tAdjusted R-squared: 0.1181 \n",
       "F-statistic: 7.559 on 2 and 96 DF,  p-value: 0.0008942 \n",
       "\n",
       "\n",
       "Estimation results for equation y2: \n",
       "=================================== \n",
       "y2 = y1.l1 + y2.l1 + const \n",
       "\n",
       "      Estimate Std. Error t value Pr(>|t|)   \n",
       "y1.l1  0.15076    0.08883   1.697  0.09291 . \n",
       "y2.l1  0.29121    0.09966   2.922  0.00434 **\n",
       "const  0.10542    0.28285   0.373  0.71018   \n",
       "---\n",
       "Signif. codes:  0 '***' 0.001 '**' 0.01 '*' 0.05 '.' 0.1 ' ' 1\n",
       "\n",
       "\n",
       "Residual standard error: 0.849 on 96 degrees of freedom\n",
       "Multiple R-Squared: 0.1451,\tAdjusted R-squared: 0.1273 \n",
       "F-statistic: 8.148 on 2 and 96 DF,  p-value: 0.0005389 \n",
       "\n",
       "\n",
       "\n",
       "Covariance matrix of residuals:\n",
       "       y1     y2\n",
       "y1 0.9163 0.2029\n",
       "y2 0.2029 0.7208\n",
       "\n",
       "Correlation matrix of residuals:\n",
       "       y1     y2\n",
       "y1 1.0000 0.2496\n",
       "y2 0.2496 1.0000\n",
       "\n"
      ]
     },
     "metadata": {},
     "output_type": "display_data"
    }
   ],
   "source": [
    "summary(var1_mod)"
   ]
  },
  {
   "cell_type": "code",
   "execution_count": 14,
   "metadata": {},
   "outputs": [],
   "source": [
    "var1_for <- predict(var1_mod, n.ahead = 50)"
   ]
  },
  {
   "cell_type": "code",
   "execution_count": 16,
   "metadata": {},
   "outputs": [
    {
     "data": {
      "text/html": [
       "<table>\n",
       "<caption>A matrix: 50 × 4 of type dbl</caption>\n",
       "<thead>\n",
       "\t<tr><th scope=col>fcst</th><th scope=col>lower</th><th scope=col>upper</th><th scope=col>CI</th></tr>\n",
       "</thead>\n",
       "<tbody>\n",
       "\t<tr><td>3.000316</td><td>1.124203</td><td>4.876430</td><td>1.876113</td></tr>\n",
       "\t<tr><td>3.116156</td><td>1.118727</td><td>5.113585</td><td>1.997429</td></tr>\n",
       "\t<tr><td>3.158917</td><td>1.143905</td><td>5.173929</td><td>2.015012</td></tr>\n",
       "\t<tr><td>3.175456</td><td>1.157643</td><td>5.193270</td><td>2.017814</td></tr>\n",
       "\t<tr><td>3.182046</td><td>1.163769</td><td>5.200324</td><td>2.018278</td></tr>\n",
       "\t<tr><td>3.184719</td><td>1.166363</td><td>5.203075</td><td>2.018356</td></tr>\n",
       "\t<tr><td>3.185814</td><td>1.167445</td><td>5.204184</td><td>2.018369</td></tr>\n",
       "\t<tr><td>3.186266</td><td>1.167894</td><td>5.204637</td><td>2.018372</td></tr>\n",
       "\t<tr><td>3.186452</td><td>1.168080</td><td>5.204824</td><td>2.018372</td></tr>\n",
       "\t<tr><td>3.186529</td><td>1.168157</td><td>5.204901</td><td>2.018372</td></tr>\n",
       "\t<tr><td>3.186561</td><td>1.168189</td><td>5.204933</td><td>2.018372</td></tr>\n",
       "\t<tr><td>3.186575</td><td>1.168203</td><td>5.204947</td><td>2.018372</td></tr>\n",
       "\t<tr><td>3.186580</td><td>1.168208</td><td>5.204952</td><td>2.018372</td></tr>\n",
       "\t<tr><td>3.186582</td><td>1.168210</td><td>5.204955</td><td>2.018372</td></tr>\n",
       "\t<tr><td>3.186583</td><td>1.168211</td><td>5.204955</td><td>2.018372</td></tr>\n",
       "\t<tr><td>3.186584</td><td>1.168212</td><td>5.204956</td><td>2.018372</td></tr>\n",
       "\t<tr><td>3.186584</td><td>1.168212</td><td>5.204956</td><td>2.018372</td></tr>\n",
       "\t<tr><td>3.186584</td><td>1.168212</td><td>5.204956</td><td>2.018372</td></tr>\n",
       "\t<tr><td>3.186584</td><td>1.168212</td><td>5.204956</td><td>2.018372</td></tr>\n",
       "\t<tr><td>3.186584</td><td>1.168212</td><td>5.204956</td><td>2.018372</td></tr>\n",
       "\t<tr><td>3.186584</td><td>1.168212</td><td>5.204956</td><td>2.018372</td></tr>\n",
       "\t<tr><td>3.186584</td><td>1.168212</td><td>5.204956</td><td>2.018372</td></tr>\n",
       "\t<tr><td>3.186584</td><td>1.168212</td><td>5.204956</td><td>2.018372</td></tr>\n",
       "\t<tr><td>3.186584</td><td>1.168212</td><td>5.204956</td><td>2.018372</td></tr>\n",
       "\t<tr><td>3.186584</td><td>1.168212</td><td>5.204956</td><td>2.018372</td></tr>\n",
       "\t<tr><td>3.186584</td><td>1.168212</td><td>5.204956</td><td>2.018372</td></tr>\n",
       "\t<tr><td>3.186584</td><td>1.168212</td><td>5.204956</td><td>2.018372</td></tr>\n",
       "\t<tr><td>3.186584</td><td>1.168212</td><td>5.204956</td><td>2.018372</td></tr>\n",
       "\t<tr><td>3.186584</td><td>1.168212</td><td>5.204956</td><td>2.018372</td></tr>\n",
       "\t<tr><td>3.186584</td><td>1.168212</td><td>5.204956</td><td>2.018372</td></tr>\n",
       "\t<tr><td>3.186584</td><td>1.168212</td><td>5.204956</td><td>2.018372</td></tr>\n",
       "\t<tr><td>3.186584</td><td>1.168212</td><td>5.204956</td><td>2.018372</td></tr>\n",
       "\t<tr><td>3.186584</td><td>1.168212</td><td>5.204956</td><td>2.018372</td></tr>\n",
       "\t<tr><td>3.186584</td><td>1.168212</td><td>5.204956</td><td>2.018372</td></tr>\n",
       "\t<tr><td>3.186584</td><td>1.168212</td><td>5.204956</td><td>2.018372</td></tr>\n",
       "\t<tr><td>3.186584</td><td>1.168212</td><td>5.204956</td><td>2.018372</td></tr>\n",
       "\t<tr><td>3.186584</td><td>1.168212</td><td>5.204956</td><td>2.018372</td></tr>\n",
       "\t<tr><td>3.186584</td><td>1.168212</td><td>5.204956</td><td>2.018372</td></tr>\n",
       "\t<tr><td>3.186584</td><td>1.168212</td><td>5.204956</td><td>2.018372</td></tr>\n",
       "\t<tr><td>3.186584</td><td>1.168212</td><td>5.204956</td><td>2.018372</td></tr>\n",
       "\t<tr><td>3.186584</td><td>1.168212</td><td>5.204956</td><td>2.018372</td></tr>\n",
       "\t<tr><td>3.186584</td><td>1.168212</td><td>5.204956</td><td>2.018372</td></tr>\n",
       "\t<tr><td>3.186584</td><td>1.168212</td><td>5.204956</td><td>2.018372</td></tr>\n",
       "\t<tr><td>3.186584</td><td>1.168212</td><td>5.204956</td><td>2.018372</td></tr>\n",
       "\t<tr><td>3.186584</td><td>1.168212</td><td>5.204956</td><td>2.018372</td></tr>\n",
       "\t<tr><td>3.186584</td><td>1.168212</td><td>5.204956</td><td>2.018372</td></tr>\n",
       "\t<tr><td>3.186584</td><td>1.168212</td><td>5.204956</td><td>2.018372</td></tr>\n",
       "\t<tr><td>3.186584</td><td>1.168212</td><td>5.204956</td><td>2.018372</td></tr>\n",
       "\t<tr><td>3.186584</td><td>1.168212</td><td>5.204956</td><td>2.018372</td></tr>\n",
       "\t<tr><td>3.186584</td><td>1.168212</td><td>5.204956</td><td>2.018372</td></tr>\n",
       "</tbody>\n",
       "</table>\n"
      ],
      "text/latex": [
       "A matrix: 50 × 4 of type dbl\n",
       "\\begin{tabular}{llll}\n",
       " fcst & lower & upper & CI\\\\\n",
       "\\hline\n",
       "\t 3.000316 & 1.124203 & 4.876430 & 1.876113\\\\\n",
       "\t 3.116156 & 1.118727 & 5.113585 & 1.997429\\\\\n",
       "\t 3.158917 & 1.143905 & 5.173929 & 2.015012\\\\\n",
       "\t 3.175456 & 1.157643 & 5.193270 & 2.017814\\\\\n",
       "\t 3.182046 & 1.163769 & 5.200324 & 2.018278\\\\\n",
       "\t 3.184719 & 1.166363 & 5.203075 & 2.018356\\\\\n",
       "\t 3.185814 & 1.167445 & 5.204184 & 2.018369\\\\\n",
       "\t 3.186266 & 1.167894 & 5.204637 & 2.018372\\\\\n",
       "\t 3.186452 & 1.168080 & 5.204824 & 2.018372\\\\\n",
       "\t 3.186529 & 1.168157 & 5.204901 & 2.018372\\\\\n",
       "\t 3.186561 & 1.168189 & 5.204933 & 2.018372\\\\\n",
       "\t 3.186575 & 1.168203 & 5.204947 & 2.018372\\\\\n",
       "\t 3.186580 & 1.168208 & 5.204952 & 2.018372\\\\\n",
       "\t 3.186582 & 1.168210 & 5.204955 & 2.018372\\\\\n",
       "\t 3.186583 & 1.168211 & 5.204955 & 2.018372\\\\\n",
       "\t 3.186584 & 1.168212 & 5.204956 & 2.018372\\\\\n",
       "\t 3.186584 & 1.168212 & 5.204956 & 2.018372\\\\\n",
       "\t 3.186584 & 1.168212 & 5.204956 & 2.018372\\\\\n",
       "\t 3.186584 & 1.168212 & 5.204956 & 2.018372\\\\\n",
       "\t 3.186584 & 1.168212 & 5.204956 & 2.018372\\\\\n",
       "\t 3.186584 & 1.168212 & 5.204956 & 2.018372\\\\\n",
       "\t 3.186584 & 1.168212 & 5.204956 & 2.018372\\\\\n",
       "\t 3.186584 & 1.168212 & 5.204956 & 2.018372\\\\\n",
       "\t 3.186584 & 1.168212 & 5.204956 & 2.018372\\\\\n",
       "\t 3.186584 & 1.168212 & 5.204956 & 2.018372\\\\\n",
       "\t 3.186584 & 1.168212 & 5.204956 & 2.018372\\\\\n",
       "\t 3.186584 & 1.168212 & 5.204956 & 2.018372\\\\\n",
       "\t 3.186584 & 1.168212 & 5.204956 & 2.018372\\\\\n",
       "\t 3.186584 & 1.168212 & 5.204956 & 2.018372\\\\\n",
       "\t 3.186584 & 1.168212 & 5.204956 & 2.018372\\\\\n",
       "\t 3.186584 & 1.168212 & 5.204956 & 2.018372\\\\\n",
       "\t 3.186584 & 1.168212 & 5.204956 & 2.018372\\\\\n",
       "\t 3.186584 & 1.168212 & 5.204956 & 2.018372\\\\\n",
       "\t 3.186584 & 1.168212 & 5.204956 & 2.018372\\\\\n",
       "\t 3.186584 & 1.168212 & 5.204956 & 2.018372\\\\\n",
       "\t 3.186584 & 1.168212 & 5.204956 & 2.018372\\\\\n",
       "\t 3.186584 & 1.168212 & 5.204956 & 2.018372\\\\\n",
       "\t 3.186584 & 1.168212 & 5.204956 & 2.018372\\\\\n",
       "\t 3.186584 & 1.168212 & 5.204956 & 2.018372\\\\\n",
       "\t 3.186584 & 1.168212 & 5.204956 & 2.018372\\\\\n",
       "\t 3.186584 & 1.168212 & 5.204956 & 2.018372\\\\\n",
       "\t 3.186584 & 1.168212 & 5.204956 & 2.018372\\\\\n",
       "\t 3.186584 & 1.168212 & 5.204956 & 2.018372\\\\\n",
       "\t 3.186584 & 1.168212 & 5.204956 & 2.018372\\\\\n",
       "\t 3.186584 & 1.168212 & 5.204956 & 2.018372\\\\\n",
       "\t 3.186584 & 1.168212 & 5.204956 & 2.018372\\\\\n",
       "\t 3.186584 & 1.168212 & 5.204956 & 2.018372\\\\\n",
       "\t 3.186584 & 1.168212 & 5.204956 & 2.018372\\\\\n",
       "\t 3.186584 & 1.168212 & 5.204956 & 2.018372\\\\\n",
       "\t 3.186584 & 1.168212 & 5.204956 & 2.018372\\\\\n",
       "\\end{tabular}\n"
      ],
      "text/markdown": [
       "\n",
       "A matrix: 50 × 4 of type dbl\n",
       "\n",
       "| fcst | lower | upper | CI |\n",
       "|---|---|---|---|\n",
       "| 3.000316 | 1.124203 | 4.876430 | 1.876113 |\n",
       "| 3.116156 | 1.118727 | 5.113585 | 1.997429 |\n",
       "| 3.158917 | 1.143905 | 5.173929 | 2.015012 |\n",
       "| 3.175456 | 1.157643 | 5.193270 | 2.017814 |\n",
       "| 3.182046 | 1.163769 | 5.200324 | 2.018278 |\n",
       "| 3.184719 | 1.166363 | 5.203075 | 2.018356 |\n",
       "| 3.185814 | 1.167445 | 5.204184 | 2.018369 |\n",
       "| 3.186266 | 1.167894 | 5.204637 | 2.018372 |\n",
       "| 3.186452 | 1.168080 | 5.204824 | 2.018372 |\n",
       "| 3.186529 | 1.168157 | 5.204901 | 2.018372 |\n",
       "| 3.186561 | 1.168189 | 5.204933 | 2.018372 |\n",
       "| 3.186575 | 1.168203 | 5.204947 | 2.018372 |\n",
       "| 3.186580 | 1.168208 | 5.204952 | 2.018372 |\n",
       "| 3.186582 | 1.168210 | 5.204955 | 2.018372 |\n",
       "| 3.186583 | 1.168211 | 5.204955 | 2.018372 |\n",
       "| 3.186584 | 1.168212 | 5.204956 | 2.018372 |\n",
       "| 3.186584 | 1.168212 | 5.204956 | 2.018372 |\n",
       "| 3.186584 | 1.168212 | 5.204956 | 2.018372 |\n",
       "| 3.186584 | 1.168212 | 5.204956 | 2.018372 |\n",
       "| 3.186584 | 1.168212 | 5.204956 | 2.018372 |\n",
       "| 3.186584 | 1.168212 | 5.204956 | 2.018372 |\n",
       "| 3.186584 | 1.168212 | 5.204956 | 2.018372 |\n",
       "| 3.186584 | 1.168212 | 5.204956 | 2.018372 |\n",
       "| 3.186584 | 1.168212 | 5.204956 | 2.018372 |\n",
       "| 3.186584 | 1.168212 | 5.204956 | 2.018372 |\n",
       "| 3.186584 | 1.168212 | 5.204956 | 2.018372 |\n",
       "| 3.186584 | 1.168212 | 5.204956 | 2.018372 |\n",
       "| 3.186584 | 1.168212 | 5.204956 | 2.018372 |\n",
       "| 3.186584 | 1.168212 | 5.204956 | 2.018372 |\n",
       "| 3.186584 | 1.168212 | 5.204956 | 2.018372 |\n",
       "| 3.186584 | 1.168212 | 5.204956 | 2.018372 |\n",
       "| 3.186584 | 1.168212 | 5.204956 | 2.018372 |\n",
       "| 3.186584 | 1.168212 | 5.204956 | 2.018372 |\n",
       "| 3.186584 | 1.168212 | 5.204956 | 2.018372 |\n",
       "| 3.186584 | 1.168212 | 5.204956 | 2.018372 |\n",
       "| 3.186584 | 1.168212 | 5.204956 | 2.018372 |\n",
       "| 3.186584 | 1.168212 | 5.204956 | 2.018372 |\n",
       "| 3.186584 | 1.168212 | 5.204956 | 2.018372 |\n",
       "| 3.186584 | 1.168212 | 5.204956 | 2.018372 |\n",
       "| 3.186584 | 1.168212 | 5.204956 | 2.018372 |\n",
       "| 3.186584 | 1.168212 | 5.204956 | 2.018372 |\n",
       "| 3.186584 | 1.168212 | 5.204956 | 2.018372 |\n",
       "| 3.186584 | 1.168212 | 5.204956 | 2.018372 |\n",
       "| 3.186584 | 1.168212 | 5.204956 | 2.018372 |\n",
       "| 3.186584 | 1.168212 | 5.204956 | 2.018372 |\n",
       "| 3.186584 | 1.168212 | 5.204956 | 2.018372 |\n",
       "| 3.186584 | 1.168212 | 5.204956 | 2.018372 |\n",
       "| 3.186584 | 1.168212 | 5.204956 | 2.018372 |\n",
       "| 3.186584 | 1.168212 | 5.204956 | 2.018372 |\n",
       "| 3.186584 | 1.168212 | 5.204956 | 2.018372 |\n",
       "\n"
      ],
      "text/plain": [
       "      fcst     lower    upper    CI      \n",
       " [1,] 3.000316 1.124203 4.876430 1.876113\n",
       " [2,] 3.116156 1.118727 5.113585 1.997429\n",
       " [3,] 3.158917 1.143905 5.173929 2.015012\n",
       " [4,] 3.175456 1.157643 5.193270 2.017814\n",
       " [5,] 3.182046 1.163769 5.200324 2.018278\n",
       " [6,] 3.184719 1.166363 5.203075 2.018356\n",
       " [7,] 3.185814 1.167445 5.204184 2.018369\n",
       " [8,] 3.186266 1.167894 5.204637 2.018372\n",
       " [9,] 3.186452 1.168080 5.204824 2.018372\n",
       "[10,] 3.186529 1.168157 5.204901 2.018372\n",
       "[11,] 3.186561 1.168189 5.204933 2.018372\n",
       "[12,] 3.186575 1.168203 5.204947 2.018372\n",
       "[13,] 3.186580 1.168208 5.204952 2.018372\n",
       "[14,] 3.186582 1.168210 5.204955 2.018372\n",
       "[15,] 3.186583 1.168211 5.204955 2.018372\n",
       "[16,] 3.186584 1.168212 5.204956 2.018372\n",
       "[17,] 3.186584 1.168212 5.204956 2.018372\n",
       "[18,] 3.186584 1.168212 5.204956 2.018372\n",
       "[19,] 3.186584 1.168212 5.204956 2.018372\n",
       "[20,] 3.186584 1.168212 5.204956 2.018372\n",
       "[21,] 3.186584 1.168212 5.204956 2.018372\n",
       "[22,] 3.186584 1.168212 5.204956 2.018372\n",
       "[23,] 3.186584 1.168212 5.204956 2.018372\n",
       "[24,] 3.186584 1.168212 5.204956 2.018372\n",
       "[25,] 3.186584 1.168212 5.204956 2.018372\n",
       "[26,] 3.186584 1.168212 5.204956 2.018372\n",
       "[27,] 3.186584 1.168212 5.204956 2.018372\n",
       "[28,] 3.186584 1.168212 5.204956 2.018372\n",
       "[29,] 3.186584 1.168212 5.204956 2.018372\n",
       "[30,] 3.186584 1.168212 5.204956 2.018372\n",
       "[31,] 3.186584 1.168212 5.204956 2.018372\n",
       "[32,] 3.186584 1.168212 5.204956 2.018372\n",
       "[33,] 3.186584 1.168212 5.204956 2.018372\n",
       "[34,] 3.186584 1.168212 5.204956 2.018372\n",
       "[35,] 3.186584 1.168212 5.204956 2.018372\n",
       "[36,] 3.186584 1.168212 5.204956 2.018372\n",
       "[37,] 3.186584 1.168212 5.204956 2.018372\n",
       "[38,] 3.186584 1.168212 5.204956 2.018372\n",
       "[39,] 3.186584 1.168212 5.204956 2.018372\n",
       "[40,] 3.186584 1.168212 5.204956 2.018372\n",
       "[41,] 3.186584 1.168212 5.204956 2.018372\n",
       "[42,] 3.186584 1.168212 5.204956 2.018372\n",
       "[43,] 3.186584 1.168212 5.204956 2.018372\n",
       "[44,] 3.186584 1.168212 5.204956 2.018372\n",
       "[45,] 3.186584 1.168212 5.204956 2.018372\n",
       "[46,] 3.186584 1.168212 5.204956 2.018372\n",
       "[47,] 3.186584 1.168212 5.204956 2.018372\n",
       "[48,] 3.186584 1.168212 5.204956 2.018372\n",
       "[49,] 3.186584 1.168212 5.204956 2.018372\n",
       "[50,] 3.186584 1.168212 5.204956 2.018372"
      ]
     },
     "metadata": {},
     "output_type": "display_data"
    }
   ],
   "source": [
    "var1_for$fcst$y1"
   ]
  },
  {
   "cell_type": "code",
   "execution_count": 17,
   "metadata": {},
   "outputs": [
    {
     "data": {
      "text/html": [
       "<table>\n",
       "<caption>A matrix: 50 × 4 of type dbl</caption>\n",
       "<thead>\n",
       "\t<tr><th scope=col>fcst</th><th scope=col>lower</th><th scope=col>upper</th><th scope=col>CI</th></tr>\n",
       "</thead>\n",
       "<tbody>\n",
       "\t<tr><td>0.7303293</td><td>-0.9336667</td><td>2.394325</td><td>1.663996</td></tr>\n",
       "\t<tr><td>0.7704132</td><td>-1.0050056</td><td>2.545832</td><td>1.775419</td></tr>\n",
       "\t<tr><td>0.7995494</td><td>-0.9956950</td><td>2.594794</td><td>1.795244</td></tr>\n",
       "\t<tr><td>0.8144804</td><td>-0.9844771</td><td>2.613438</td><td>1.798958</td></tr>\n",
       "\t<tr><td>0.8213219</td><td>-0.9783147</td><td>2.620959</td><td>1.799637</td></tr>\n",
       "\t<tr><td>0.8243077</td><td>-0.9754502</td><td>2.624066</td><td>1.799758</td></tr>\n",
       "\t<tr><td>0.8255801</td><td>-0.9741991</td><td>2.625359</td><td>1.799779</td></tr>\n",
       "\t<tr><td>0.8261157</td><td>-0.9736672</td><td>2.625899</td><td>1.799783</td></tr>\n",
       "\t<tr><td>0.8263397</td><td>-0.9734438</td><td>2.626123</td><td>1.799784</td></tr>\n",
       "\t<tr><td>0.8264331</td><td>-0.9733506</td><td>2.626217</td><td>1.799784</td></tr>\n",
       "\t<tr><td>0.8264719</td><td>-0.9733118</td><td>2.626256</td><td>1.799784</td></tr>\n",
       "\t<tr><td>0.8264880</td><td>-0.9732957</td><td>2.626272</td><td>1.799784</td></tr>\n",
       "\t<tr><td>0.8264947</td><td>-0.9732890</td><td>2.626278</td><td>1.799784</td></tr>\n",
       "\t<tr><td>0.8264975</td><td>-0.9732862</td><td>2.626281</td><td>1.799784</td></tr>\n",
       "\t<tr><td>0.8264987</td><td>-0.9732850</td><td>2.626282</td><td>1.799784</td></tr>\n",
       "\t<tr><td>0.8264992</td><td>-0.9732845</td><td>2.626283</td><td>1.799784</td></tr>\n",
       "\t<tr><td>0.8264994</td><td>-0.9732843</td><td>2.626283</td><td>1.799784</td></tr>\n",
       "\t<tr><td>0.8264994</td><td>-0.9732843</td><td>2.626283</td><td>1.799784</td></tr>\n",
       "\t<tr><td>0.8264995</td><td>-0.9732842</td><td>2.626283</td><td>1.799784</td></tr>\n",
       "\t<tr><td>0.8264995</td><td>-0.9732842</td><td>2.626283</td><td>1.799784</td></tr>\n",
       "\t<tr><td>0.8264995</td><td>-0.9732842</td><td>2.626283</td><td>1.799784</td></tr>\n",
       "\t<tr><td>0.8264995</td><td>-0.9732842</td><td>2.626283</td><td>1.799784</td></tr>\n",
       "\t<tr><td>0.8264995</td><td>-0.9732842</td><td>2.626283</td><td>1.799784</td></tr>\n",
       "\t<tr><td>0.8264995</td><td>-0.9732842</td><td>2.626283</td><td>1.799784</td></tr>\n",
       "\t<tr><td>0.8264995</td><td>-0.9732842</td><td>2.626283</td><td>1.799784</td></tr>\n",
       "\t<tr><td>0.8264995</td><td>-0.9732842</td><td>2.626283</td><td>1.799784</td></tr>\n",
       "\t<tr><td>0.8264995</td><td>-0.9732842</td><td>2.626283</td><td>1.799784</td></tr>\n",
       "\t<tr><td>0.8264995</td><td>-0.9732842</td><td>2.626283</td><td>1.799784</td></tr>\n",
       "\t<tr><td>0.8264995</td><td>-0.9732842</td><td>2.626283</td><td>1.799784</td></tr>\n",
       "\t<tr><td>0.8264995</td><td>-0.9732842</td><td>2.626283</td><td>1.799784</td></tr>\n",
       "\t<tr><td>0.8264995</td><td>-0.9732842</td><td>2.626283</td><td>1.799784</td></tr>\n",
       "\t<tr><td>0.8264995</td><td>-0.9732842</td><td>2.626283</td><td>1.799784</td></tr>\n",
       "\t<tr><td>0.8264995</td><td>-0.9732842</td><td>2.626283</td><td>1.799784</td></tr>\n",
       "\t<tr><td>0.8264995</td><td>-0.9732842</td><td>2.626283</td><td>1.799784</td></tr>\n",
       "\t<tr><td>0.8264995</td><td>-0.9732842</td><td>2.626283</td><td>1.799784</td></tr>\n",
       "\t<tr><td>0.8264995</td><td>-0.9732842</td><td>2.626283</td><td>1.799784</td></tr>\n",
       "\t<tr><td>0.8264995</td><td>-0.9732842</td><td>2.626283</td><td>1.799784</td></tr>\n",
       "\t<tr><td>0.8264995</td><td>-0.9732842</td><td>2.626283</td><td>1.799784</td></tr>\n",
       "\t<tr><td>0.8264995</td><td>-0.9732842</td><td>2.626283</td><td>1.799784</td></tr>\n",
       "\t<tr><td>0.8264995</td><td>-0.9732842</td><td>2.626283</td><td>1.799784</td></tr>\n",
       "\t<tr><td>0.8264995</td><td>-0.9732842</td><td>2.626283</td><td>1.799784</td></tr>\n",
       "\t<tr><td>0.8264995</td><td>-0.9732842</td><td>2.626283</td><td>1.799784</td></tr>\n",
       "\t<tr><td>0.8264995</td><td>-0.9732842</td><td>2.626283</td><td>1.799784</td></tr>\n",
       "\t<tr><td>0.8264995</td><td>-0.9732842</td><td>2.626283</td><td>1.799784</td></tr>\n",
       "\t<tr><td>0.8264995</td><td>-0.9732842</td><td>2.626283</td><td>1.799784</td></tr>\n",
       "\t<tr><td>0.8264995</td><td>-0.9732842</td><td>2.626283</td><td>1.799784</td></tr>\n",
       "\t<tr><td>0.8264995</td><td>-0.9732842</td><td>2.626283</td><td>1.799784</td></tr>\n",
       "\t<tr><td>0.8264995</td><td>-0.9732842</td><td>2.626283</td><td>1.799784</td></tr>\n",
       "\t<tr><td>0.8264995</td><td>-0.9732842</td><td>2.626283</td><td>1.799784</td></tr>\n",
       "\t<tr><td>0.8264995</td><td>-0.9732842</td><td>2.626283</td><td>1.799784</td></tr>\n",
       "</tbody>\n",
       "</table>\n"
      ],
      "text/latex": [
       "A matrix: 50 × 4 of type dbl\n",
       "\\begin{tabular}{llll}\n",
       " fcst & lower & upper & CI\\\\\n",
       "\\hline\n",
       "\t 0.7303293 & -0.9336667 & 2.394325 & 1.663996\\\\\n",
       "\t 0.7704132 & -1.0050056 & 2.545832 & 1.775419\\\\\n",
       "\t 0.7995494 & -0.9956950 & 2.594794 & 1.795244\\\\\n",
       "\t 0.8144804 & -0.9844771 & 2.613438 & 1.798958\\\\\n",
       "\t 0.8213219 & -0.9783147 & 2.620959 & 1.799637\\\\\n",
       "\t 0.8243077 & -0.9754502 & 2.624066 & 1.799758\\\\\n",
       "\t 0.8255801 & -0.9741991 & 2.625359 & 1.799779\\\\\n",
       "\t 0.8261157 & -0.9736672 & 2.625899 & 1.799783\\\\\n",
       "\t 0.8263397 & -0.9734438 & 2.626123 & 1.799784\\\\\n",
       "\t 0.8264331 & -0.9733506 & 2.626217 & 1.799784\\\\\n",
       "\t 0.8264719 & -0.9733118 & 2.626256 & 1.799784\\\\\n",
       "\t 0.8264880 & -0.9732957 & 2.626272 & 1.799784\\\\\n",
       "\t 0.8264947 & -0.9732890 & 2.626278 & 1.799784\\\\\n",
       "\t 0.8264975 & -0.9732862 & 2.626281 & 1.799784\\\\\n",
       "\t 0.8264987 & -0.9732850 & 2.626282 & 1.799784\\\\\n",
       "\t 0.8264992 & -0.9732845 & 2.626283 & 1.799784\\\\\n",
       "\t 0.8264994 & -0.9732843 & 2.626283 & 1.799784\\\\\n",
       "\t 0.8264994 & -0.9732843 & 2.626283 & 1.799784\\\\\n",
       "\t 0.8264995 & -0.9732842 & 2.626283 & 1.799784\\\\\n",
       "\t 0.8264995 & -0.9732842 & 2.626283 & 1.799784\\\\\n",
       "\t 0.8264995 & -0.9732842 & 2.626283 & 1.799784\\\\\n",
       "\t 0.8264995 & -0.9732842 & 2.626283 & 1.799784\\\\\n",
       "\t 0.8264995 & -0.9732842 & 2.626283 & 1.799784\\\\\n",
       "\t 0.8264995 & -0.9732842 & 2.626283 & 1.799784\\\\\n",
       "\t 0.8264995 & -0.9732842 & 2.626283 & 1.799784\\\\\n",
       "\t 0.8264995 & -0.9732842 & 2.626283 & 1.799784\\\\\n",
       "\t 0.8264995 & -0.9732842 & 2.626283 & 1.799784\\\\\n",
       "\t 0.8264995 & -0.9732842 & 2.626283 & 1.799784\\\\\n",
       "\t 0.8264995 & -0.9732842 & 2.626283 & 1.799784\\\\\n",
       "\t 0.8264995 & -0.9732842 & 2.626283 & 1.799784\\\\\n",
       "\t 0.8264995 & -0.9732842 & 2.626283 & 1.799784\\\\\n",
       "\t 0.8264995 & -0.9732842 & 2.626283 & 1.799784\\\\\n",
       "\t 0.8264995 & -0.9732842 & 2.626283 & 1.799784\\\\\n",
       "\t 0.8264995 & -0.9732842 & 2.626283 & 1.799784\\\\\n",
       "\t 0.8264995 & -0.9732842 & 2.626283 & 1.799784\\\\\n",
       "\t 0.8264995 & -0.9732842 & 2.626283 & 1.799784\\\\\n",
       "\t 0.8264995 & -0.9732842 & 2.626283 & 1.799784\\\\\n",
       "\t 0.8264995 & -0.9732842 & 2.626283 & 1.799784\\\\\n",
       "\t 0.8264995 & -0.9732842 & 2.626283 & 1.799784\\\\\n",
       "\t 0.8264995 & -0.9732842 & 2.626283 & 1.799784\\\\\n",
       "\t 0.8264995 & -0.9732842 & 2.626283 & 1.799784\\\\\n",
       "\t 0.8264995 & -0.9732842 & 2.626283 & 1.799784\\\\\n",
       "\t 0.8264995 & -0.9732842 & 2.626283 & 1.799784\\\\\n",
       "\t 0.8264995 & -0.9732842 & 2.626283 & 1.799784\\\\\n",
       "\t 0.8264995 & -0.9732842 & 2.626283 & 1.799784\\\\\n",
       "\t 0.8264995 & -0.9732842 & 2.626283 & 1.799784\\\\\n",
       "\t 0.8264995 & -0.9732842 & 2.626283 & 1.799784\\\\\n",
       "\t 0.8264995 & -0.9732842 & 2.626283 & 1.799784\\\\\n",
       "\t 0.8264995 & -0.9732842 & 2.626283 & 1.799784\\\\\n",
       "\t 0.8264995 & -0.9732842 & 2.626283 & 1.799784\\\\\n",
       "\\end{tabular}\n"
      ],
      "text/markdown": [
       "\n",
       "A matrix: 50 × 4 of type dbl\n",
       "\n",
       "| fcst | lower | upper | CI |\n",
       "|---|---|---|---|\n",
       "| 0.7303293 | -0.9336667 | 2.394325 | 1.663996 |\n",
       "| 0.7704132 | -1.0050056 | 2.545832 | 1.775419 |\n",
       "| 0.7995494 | -0.9956950 | 2.594794 | 1.795244 |\n",
       "| 0.8144804 | -0.9844771 | 2.613438 | 1.798958 |\n",
       "| 0.8213219 | -0.9783147 | 2.620959 | 1.799637 |\n",
       "| 0.8243077 | -0.9754502 | 2.624066 | 1.799758 |\n",
       "| 0.8255801 | -0.9741991 | 2.625359 | 1.799779 |\n",
       "| 0.8261157 | -0.9736672 | 2.625899 | 1.799783 |\n",
       "| 0.8263397 | -0.9734438 | 2.626123 | 1.799784 |\n",
       "| 0.8264331 | -0.9733506 | 2.626217 | 1.799784 |\n",
       "| 0.8264719 | -0.9733118 | 2.626256 | 1.799784 |\n",
       "| 0.8264880 | -0.9732957 | 2.626272 | 1.799784 |\n",
       "| 0.8264947 | -0.9732890 | 2.626278 | 1.799784 |\n",
       "| 0.8264975 | -0.9732862 | 2.626281 | 1.799784 |\n",
       "| 0.8264987 | -0.9732850 | 2.626282 | 1.799784 |\n",
       "| 0.8264992 | -0.9732845 | 2.626283 | 1.799784 |\n",
       "| 0.8264994 | -0.9732843 | 2.626283 | 1.799784 |\n",
       "| 0.8264994 | -0.9732843 | 2.626283 | 1.799784 |\n",
       "| 0.8264995 | -0.9732842 | 2.626283 | 1.799784 |\n",
       "| 0.8264995 | -0.9732842 | 2.626283 | 1.799784 |\n",
       "| 0.8264995 | -0.9732842 | 2.626283 | 1.799784 |\n",
       "| 0.8264995 | -0.9732842 | 2.626283 | 1.799784 |\n",
       "| 0.8264995 | -0.9732842 | 2.626283 | 1.799784 |\n",
       "| 0.8264995 | -0.9732842 | 2.626283 | 1.799784 |\n",
       "| 0.8264995 | -0.9732842 | 2.626283 | 1.799784 |\n",
       "| 0.8264995 | -0.9732842 | 2.626283 | 1.799784 |\n",
       "| 0.8264995 | -0.9732842 | 2.626283 | 1.799784 |\n",
       "| 0.8264995 | -0.9732842 | 2.626283 | 1.799784 |\n",
       "| 0.8264995 | -0.9732842 | 2.626283 | 1.799784 |\n",
       "| 0.8264995 | -0.9732842 | 2.626283 | 1.799784 |\n",
       "| 0.8264995 | -0.9732842 | 2.626283 | 1.799784 |\n",
       "| 0.8264995 | -0.9732842 | 2.626283 | 1.799784 |\n",
       "| 0.8264995 | -0.9732842 | 2.626283 | 1.799784 |\n",
       "| 0.8264995 | -0.9732842 | 2.626283 | 1.799784 |\n",
       "| 0.8264995 | -0.9732842 | 2.626283 | 1.799784 |\n",
       "| 0.8264995 | -0.9732842 | 2.626283 | 1.799784 |\n",
       "| 0.8264995 | -0.9732842 | 2.626283 | 1.799784 |\n",
       "| 0.8264995 | -0.9732842 | 2.626283 | 1.799784 |\n",
       "| 0.8264995 | -0.9732842 | 2.626283 | 1.799784 |\n",
       "| 0.8264995 | -0.9732842 | 2.626283 | 1.799784 |\n",
       "| 0.8264995 | -0.9732842 | 2.626283 | 1.799784 |\n",
       "| 0.8264995 | -0.9732842 | 2.626283 | 1.799784 |\n",
       "| 0.8264995 | -0.9732842 | 2.626283 | 1.799784 |\n",
       "| 0.8264995 | -0.9732842 | 2.626283 | 1.799784 |\n",
       "| 0.8264995 | -0.9732842 | 2.626283 | 1.799784 |\n",
       "| 0.8264995 | -0.9732842 | 2.626283 | 1.799784 |\n",
       "| 0.8264995 | -0.9732842 | 2.626283 | 1.799784 |\n",
       "| 0.8264995 | -0.9732842 | 2.626283 | 1.799784 |\n",
       "| 0.8264995 | -0.9732842 | 2.626283 | 1.799784 |\n",
       "| 0.8264995 | -0.9732842 | 2.626283 | 1.799784 |\n",
       "\n"
      ],
      "text/plain": [
       "      fcst      lower      upper    CI      \n",
       " [1,] 0.7303293 -0.9336667 2.394325 1.663996\n",
       " [2,] 0.7704132 -1.0050056 2.545832 1.775419\n",
       " [3,] 0.7995494 -0.9956950 2.594794 1.795244\n",
       " [4,] 0.8144804 -0.9844771 2.613438 1.798958\n",
       " [5,] 0.8213219 -0.9783147 2.620959 1.799637\n",
       " [6,] 0.8243077 -0.9754502 2.624066 1.799758\n",
       " [7,] 0.8255801 -0.9741991 2.625359 1.799779\n",
       " [8,] 0.8261157 -0.9736672 2.625899 1.799783\n",
       " [9,] 0.8263397 -0.9734438 2.626123 1.799784\n",
       "[10,] 0.8264331 -0.9733506 2.626217 1.799784\n",
       "[11,] 0.8264719 -0.9733118 2.626256 1.799784\n",
       "[12,] 0.8264880 -0.9732957 2.626272 1.799784\n",
       "[13,] 0.8264947 -0.9732890 2.626278 1.799784\n",
       "[14,] 0.8264975 -0.9732862 2.626281 1.799784\n",
       "[15,] 0.8264987 -0.9732850 2.626282 1.799784\n",
       "[16,] 0.8264992 -0.9732845 2.626283 1.799784\n",
       "[17,] 0.8264994 -0.9732843 2.626283 1.799784\n",
       "[18,] 0.8264994 -0.9732843 2.626283 1.799784\n",
       "[19,] 0.8264995 -0.9732842 2.626283 1.799784\n",
       "[20,] 0.8264995 -0.9732842 2.626283 1.799784\n",
       "[21,] 0.8264995 -0.9732842 2.626283 1.799784\n",
       "[22,] 0.8264995 -0.9732842 2.626283 1.799784\n",
       "[23,] 0.8264995 -0.9732842 2.626283 1.799784\n",
       "[24,] 0.8264995 -0.9732842 2.626283 1.799784\n",
       "[25,] 0.8264995 -0.9732842 2.626283 1.799784\n",
       "[26,] 0.8264995 -0.9732842 2.626283 1.799784\n",
       "[27,] 0.8264995 -0.9732842 2.626283 1.799784\n",
       "[28,] 0.8264995 -0.9732842 2.626283 1.799784\n",
       "[29,] 0.8264995 -0.9732842 2.626283 1.799784\n",
       "[30,] 0.8264995 -0.9732842 2.626283 1.799784\n",
       "[31,] 0.8264995 -0.9732842 2.626283 1.799784\n",
       "[32,] 0.8264995 -0.9732842 2.626283 1.799784\n",
       "[33,] 0.8264995 -0.9732842 2.626283 1.799784\n",
       "[34,] 0.8264995 -0.9732842 2.626283 1.799784\n",
       "[35,] 0.8264995 -0.9732842 2.626283 1.799784\n",
       "[36,] 0.8264995 -0.9732842 2.626283 1.799784\n",
       "[37,] 0.8264995 -0.9732842 2.626283 1.799784\n",
       "[38,] 0.8264995 -0.9732842 2.626283 1.799784\n",
       "[39,] 0.8264995 -0.9732842 2.626283 1.799784\n",
       "[40,] 0.8264995 -0.9732842 2.626283 1.799784\n",
       "[41,] 0.8264995 -0.9732842 2.626283 1.799784\n",
       "[42,] 0.8264995 -0.9732842 2.626283 1.799784\n",
       "[43,] 0.8264995 -0.9732842 2.626283 1.799784\n",
       "[44,] 0.8264995 -0.9732842 2.626283 1.799784\n",
       "[45,] 0.8264995 -0.9732842 2.626283 1.799784\n",
       "[46,] 0.8264995 -0.9732842 2.626283 1.799784\n",
       "[47,] 0.8264995 -0.9732842 2.626283 1.799784\n",
       "[48,] 0.8264995 -0.9732842 2.626283 1.799784\n",
       "[49,] 0.8264995 -0.9732842 2.626283 1.799784\n",
       "[50,] 0.8264995 -0.9732842 2.626283 1.799784"
      ]
     },
     "metadata": {},
     "output_type": "display_data"
    }
   ],
   "source": [
    "var1_for$fcst$y2"
   ]
  },
  {
   "cell_type": "markdown",
   "metadata": {},
   "source": [
    "### 5.8 Causalidad en el sentido de Granger"
   ]
  },
  {
   "cell_type": "markdown",
   "metadata": {},
   "source": [
    "Una pregunta importante en los modelo VAR(p) es si por ejemplo considero dos variables $x_t$ y $y_t$; nos gustaría saber si la varible $y_t$ es útil en pronosticar la variable $x_t$. Si es así afirmamos que la variable $y_t$ causa en el sentido de Granger a la variable. Granger propuso esta afirmación argumentando que si un evento $Y$ causa un evento $X$, entonces el evento $Y$ debe preceder al evento $X$. \n",
    "\n",
    "Formalmente, definiríamos la no causalidad en el sentido de Granger si:\n",
    "\n",
    "$$RMSE[\\hat{E}(x_{t + s}|x_t, x_{t - 1}, \\dots)] = RMSE[\\hat{E}(x_{t + s}|x_t, x_{t - 1}, \\dots, y_t, y_{t - 1}, \\dots)]$$"
   ]
  },
  {
   "cell_type": "markdown",
   "metadata": {},
   "source": [
    "En el caso de un VAR(p) bivariante, esta igualdad se expresaría como:\n",
    "\n",
    "$$\\left[\\begin{array}{c} x_t \\\\\n",
    "                         y_t \\end{array}\\right] = \\left[\\begin{array}{c} c_1 \\\\\n",
    "                                                                         c_2 \\end{array}\\right] + \\left[\\begin{array}{cc} \\phi^{(1)}_{11} & 0 \\\\\n",
    "\\phi^{(1)}_{21} & \\phi^{(1)}_{22}\\end{array}\\right]\\left[\\begin{array}{c} x_{t - 1} \\\\\n",
    "                                                                          y_{t - 1}\\end{array}\\right] + \\left[\\begin{array}{cc} \\phi^{(2)}_{11} & 0 \\\\\n",
    "     \\phi^{(2)}_{21} & \\phi^{(2)}_{22}\\end{array}\\right]\\left[\\begin{array}{c} x_{t - 2} \\\\\n",
    "                                                                               y_{t - 2}\\end{array}\\right] + \\dots + \\left[\n",
    "\\begin{array}{cc} \\phi^{(p)}_{11} & 0 \\\\\n",
    "                  \\phi^{(p)}_{21} & \\phi^{(p)}_{22}\\end{array}\\right]\\left[\\begin{array}{c} x_{t - p} \\\\\n",
    "                                                                                            y_{t - p}\\end{array}\\right] + \\left[\\begin{array}{c} \\epsilon_{1t} \\\\\n",
    "                       \\epsilon_{2t}\\end{array}\\right]$$ "
   ]
  },
  {
   "cell_type": "markdown",
   "metadata": {},
   "source": [
    "Entonces la causalidad de Granger no se verifica en este VAR(p) bivariante si las matrices de los coeficientes son triangulares inferiores.  Específicamente tendríamos para la ecuación de $x_t$:\n",
    "\n",
    "$$x_t = c_1 + \\alpha_1 x_{t - 1} + \\alpha_2 x_{t - 2} + \\dots + \\alpha_p x_{t - p} + \\beta_1 y_{t - 1} + \\beta_2 y_{t - 2} + \\dots + \\beta_p y_{t - p} + \\epsilon_{1t}$$\n",
    "\n",
    "La hipótesis nula de la no causalidad en el sentido de Granger vendría dada por:\n",
    "\n",
    "$$H_0: \\beta_1 = \\beta_2 = \\dots = \\beta_p = 0$$\n",
    "\n",
    "Se calculan el siguiente estadístico:\n",
    "\n",
    "$$S_T = \\frac{T(RSS_0 - RSS_1)}{RSS_1} \\sim \\chi^2(p)$$\n",
    "\n",
    "donde $p$ es el número de rezagos considerados en el VAR(p). Ilustremos todo esto con un modelo VAR(1):"
   ]
  },
  {
   "cell_type": "markdown",
   "metadata": {},
   "source": [
    "$$ y_{1t} = 1.3 + 0.6 y_{1, t - 1} + \\epsilon_{1t}$$\n",
    "$$ y_{2t} = 0.4 + 0.1 y_{1, t - 1} + 0.6 y_{2, t - 1} + \\epsilon_{2t}$$"
   ]
  },
  {
   "cell_type": "code",
   "execution_count": 18,
   "metadata": {},
   "outputs": [],
   "source": [
    "set.seed(12345)\n",
    "Sigma <- matrix(c(1, 0.4, 0.4, 1), nrow = 2, ncol = 2, byrow = TRUE)\n",
    "epsilon <- mvrnorm(500, mu = c(0, 0), Sigma = Sigma)\n",
    "y <- matrix(rep(0, 1000), nrow = 500, ncol = 2)\n",
    "y[1, ] <- c(1, 1)\n",
    "for (i in 2:500) {\n",
    "    y[i, 1] <- 1.3 + 0.6 * y[(i - 1), 1] + epsilon[i, 1]\n",
    "    y[i, 2] <- 0.4 + 0.1 * y[(i - 1), 1] + 0.6 * y[(i - 1), 2] + epsilon[i, 2]\n",
    "}"
   ]
  },
  {
   "cell_type": "code",
   "execution_count": 19,
   "metadata": {},
   "outputs": [],
   "source": [
    "datos <- data.frame(y1 = y[401:500, 1], y2 = y[401:500, 2])"
   ]
  },
  {
   "cell_type": "code",
   "execution_count": 20,
   "metadata": {},
   "outputs": [],
   "source": [
    "var1_mod <- VAR(y = datos, p = 1)"
   ]
  },
  {
   "cell_type": "code",
   "execution_count": 22,
   "metadata": {},
   "outputs": [
    {
     "data": {
      "text/plain": [
       "\n",
       "\tGranger causality H0: y2 do not Granger-cause y1\n",
       "\n",
       "data:  VAR object var1_mod\n",
       "F-Test = 0.10518, df1 = 1, df2 = 192, p-value = 0.7461\n"
      ]
     },
     "metadata": {},
     "output_type": "display_data"
    }
   ],
   "source": [
    "caus_test <- causality(var1_mod, cause = \"y2\")\n",
    "caus_test$Granger"
   ]
  },
  {
   "cell_type": "markdown",
   "metadata": {},
   "source": [
    "### 5.9 Funciones de Impulso Respuesta"
   ]
  },
  {
   "cell_type": "markdown",
   "metadata": {},
   "source": [
    "Hemos visto que el proceso VAR(p) tiene una representación VMA($\\infty$):\n",
    "\n",
    "$$\\mathbf{y}_t = \\mathbf{\\mu} + \\mathbf{\\epsilon}_t + \\mathbf{\\Psi}_1 \\mathbf{\\epsilon}_{t - 1} + \\mathbf{\\Psi}_2 \\mathbf{\\epsilon}_{t - 2} + \\dots$$\n",
    "\n",
    "una pregunta que nos interesa responder es cuál es el efecto en el pronóstico de la i-ésima variable $s$ periodos adelante $y_{i, t + s}$ de un shock en la j-ésima variable. En otras palabras:\n",
    "\n",
    "$$\\frac{\\partial y_{i, t + s}}{\\partial \\epsilon_{jt}} = \\psi^{(s)}_{ij}$$\n",
    "\n",
    "Un gráfico de esta función con respecto a $s$ es lo que se conoce como la **Función Impulso-Respuesta**. Hay dos elementos importantes que hay que considerar antes de graficar esta función:\n",
    "\n",
    "1. Estamos analizando el efecto de un shock de una variable sobre el pronóstico de otra. Por lo tanto, es necesario establecer un ranking de importancia en el pronóstico de la variable que deseamos analizar de las otras variables del modelo VAR(p). Este orden de importancia es clave en el análisis de la función de impulso-respuesta.\n",
    "2. Los shock de la representación VMA($\\infty$) están correlacionados uno con otro. Para tener realmente un efecto aislado es necesario transformar estos shocks interdependientes en shocks totalmente independientes u ortogonalizados. Para ello se aplica usualmente la descomposición de Cholesky a la matriz $\\mathbf{\\hat{\\Omega}}_T$. Al usar esa descomposición, la interpretación de la función de impulso-respuesta se modifica ligeramente ya que representa el efecto en el pronóstico de una variable específica del modelo VAR(p) que estemos analizando, ante un shock de una desviación estándar en la variable que genera el efecto en el pronóstico."
   ]
  },
  {
   "cell_type": "markdown",
   "metadata": {},
   "source": [
    "Ilustremos esto con el siguiente modelo VAR(1):\n",
    "\n",
    "$$y_{1t} = 2.4 + 0.2 y_{1, t - 1} + 0.1 y_{2, t - 1} + \\epsilon_{1t}$$\n",
    "$$y_{2t} = 0.5 + 0.1 y_{2, t - 1} + 0.2 y_{2, t - 1} + \\epsilon_{2t}$$"
   ]
  },
  {
   "cell_type": "code",
   "execution_count": 44,
   "metadata": {},
   "outputs": [],
   "source": [
    "set.seed(12345)\n",
    "Sigma <- matrix(c(1, 0.3, 0.3, 1), nrow = 2, ncol = 2, byrow = TRUE)\n",
    "epsilon <- mvrnorm(500, mu = c(0, 0), Sigma = Sigma)\n",
    "y <- matrix(rep(0, 1000), nrow = 500, ncol = 2)\n",
    "y[1, ] <- c(1, 1)\n",
    "for (i in 2:500) {\n",
    "    y[i, 1] <- 2.4 + 0.2 * y[(i - 1), 1] + 0.1 * y[(i - 1), 2] + epsilon[i, 1]\n",
    "    y[i, 2] <- 0.5 + 0.1 * y[(i - 1), 1] + 0.2 * y[(i - 1), 2] + epsilon[i, 2]\n",
    "}"
   ]
  },
  {
   "cell_type": "code",
   "execution_count": 45,
   "metadata": {},
   "outputs": [],
   "source": [
    "datos <- data.frame(y1 = y[401:500, 1], y2 = y[401:500, 2])"
   ]
  },
  {
   "cell_type": "code",
   "execution_count": 46,
   "metadata": {},
   "outputs": [],
   "source": [
    "var1_mod <- VAR(y = datos, p = 1)"
   ]
  },
  {
   "cell_type": "code",
   "execution_count": 47,
   "metadata": {},
   "outputs": [
    {
     "data": {
      "text/plain": [
       "\n",
       "VAR Estimation Results:\n",
       "========================= \n",
       "Endogenous variables: y1, y2 \n",
       "Deterministic variables: const \n",
       "Sample size: 99 \n",
       "Log Likelihood: -254.183 \n",
       "Roots of the characteristic polynomial:\n",
       "0.415 0.2271\n",
       "Call:\n",
       "VAR(y = datos, p = 1)\n",
       "\n",
       "\n",
       "Estimation results for equation y1: \n",
       "=================================== \n",
       "y1 = y1.l1 + y2.l1 + const \n",
       "\n",
       "      Estimate Std. Error t value Pr(>|t|)    \n",
       "y1.l1  0.35092    0.10015   3.504 0.000698 ***\n",
       "y2.l1  0.05264    0.11236   0.468 0.640507    \n",
       "const  2.02483    0.31890   6.349 7.17e-09 ***\n",
       "---\n",
       "Signif. codes:  0 '***' 0.001 '**' 0.01 '*' 0.05 '.' 0.1 ' ' 1\n",
       "\n",
       "\n",
       "Residual standard error: 0.9572 on 96 degrees of freedom\n",
       "Multiple R-Squared: 0.1361,\tAdjusted R-squared: 0.1181 \n",
       "F-statistic: 7.559 on 2 and 96 DF,  p-value: 0.0008942 \n",
       "\n",
       "\n",
       "Estimation results for equation y2: \n",
       "=================================== \n",
       "y2 = y1.l1 + y2.l1 + const \n",
       "\n",
       "      Estimate Std. Error t value Pr(>|t|)   \n",
       "y1.l1  0.15076    0.08883   1.697  0.09291 . \n",
       "y2.l1  0.29121    0.09966   2.922  0.00434 **\n",
       "const  0.10542    0.28285   0.373  0.71018   \n",
       "---\n",
       "Signif. codes:  0 '***' 0.001 '**' 0.01 '*' 0.05 '.' 0.1 ' ' 1\n",
       "\n",
       "\n",
       "Residual standard error: 0.849 on 96 degrees of freedom\n",
       "Multiple R-Squared: 0.1451,\tAdjusted R-squared: 0.1273 \n",
       "F-statistic: 8.148 on 2 and 96 DF,  p-value: 0.0005389 \n",
       "\n",
       "\n",
       "\n",
       "Covariance matrix of residuals:\n",
       "       y1     y2\n",
       "y1 0.9163 0.2029\n",
       "y2 0.2029 0.7208\n",
       "\n",
       "Correlation matrix of residuals:\n",
       "       y1     y2\n",
       "y1 1.0000 0.2496\n",
       "y2 0.2496 1.0000\n",
       "\n"
      ]
     },
     "metadata": {},
     "output_type": "display_data"
    }
   ],
   "source": [
    "summary(var1_mod)"
   ]
  },
  {
   "cell_type": "code",
   "execution_count": 52,
   "metadata": {},
   "outputs": [],
   "source": [
    "var1_irf <- irf(var1_mod, impulse = c(\"y1\", \"y2\"), response = \"y1\", n.ahead = 20, ortho = TRUE , boot = TRUE)"
   ]
  },
  {
   "cell_type": "code",
   "execution_count": 53,
   "metadata": {},
   "outputs": [
    {
     "data": {
      "image/png": "[encoded data removed]",
      "text/plain": [
       "plot without title"
      ]
     },
     "metadata": {
      "image/png": {
       "height": 420,
       "width": 420
      }
     },
     "output_type": "display_data"
    },
    {
     "data": {
      "image/png": "[encoded data removed]",
      "text/plain": [
       "plot without title"
      ]
     },
     "metadata": {
      "image/png": {
       "height": 420,
       "width": 420
      }
     },
     "output_type": "display_data"
    }
   ],
   "source": [
    "plot(var1_irf)"
   ]
  },
  {
   "cell_type": "markdown",
   "metadata": {},
   "source": [
    "### 5.10 ¿Transformar los datos a series estacionarias o no?"
   ]
  },
  {
   "cell_type": "markdown",
   "metadata": {},
   "source": [
    "Hemos visto que muchas series económicas son no estacionarias. La costumbre en la modelación VAR es transformar las series para que sean estacionarias y recién modelarlas bajo el enfoque VAR.\n",
    "\n",
    "Sin embargo, Sims(1980) cointraindicó esta práctica argumentando que se pierde información valiosa como relaciones a largo plazo al transformar las series. Es preferible emplear las series sin ninguna transformación en el enfoque VAR. \n",
    "\n",
    "Mi sugerencia es seguir las recomendaciones de Sims(1980) y no transformar los datos. Eso si verificar que el modelo VAR estimado sea estacionario y de ahí efectuar el análisis correspondiente (pronóstico o función de impulso-respuesta). Si en caso el modelo VAR estimado no es estacionario, recién ahi proceder a la transformación de los datos."
   ]
  },
  {
   "cell_type": "markdown",
   "metadata": {},
   "source": [
    "### 5.11 Seleccción del rezago p "
   ]
  },
  {
   "cell_type": "markdown",
   "metadata": {},
   "source": [
    "Al igual que en el caso de los modelos ARMA, la selección del rezago adecuado se lo realiza evaluando el valor mínimo de los criterios de Akaike y de Schwartz. El criterio de Schwartz nos da un modelo más parsimonioso. \n",
    "\n",
    "Podemos ilustrar esto con un modelo VAR(1):\n",
    "\n",
    "$$y_{1t} = 2.5 + 0.4 y_{1, t - 1} + 0.2 y_{2, t - 1} + \\epsilon_{1t}$$\n",
    "$$y_{2t} = 1.3 + 0.2 y_{1, t - 1} + 0.4 y_{2, t - 1} + \\epsilon_{2t}$$"
   ]
  },
  {
   "cell_type": "code",
   "execution_count": 54,
   "metadata": {},
   "outputs": [],
   "source": [
    "set.seed(12345)\n",
    "Sigma <- matrix(c(1, 0.4, 0.4, 1), nrow = 2, ncol = 2, byrow = TRUE)\n",
    "epsilon <- mvrnorm(500, mu = c(0, 0), Sigma = Sigma)\n",
    "y <- matrix(rep(0, 1000), nrow = 500, ncol = 2)\n",
    "y[1, ] <- c(1, 1)\n",
    "for (i in 2:500) {\n",
    "    y[i, 1] <- 2.5 + 0.4 * y[(i - 1), 1] + 0.2 * y[(i - 1), 2] + epsilon[i, 1]\n",
    "    y[i, 2] <- 1.3 + 0.2 * y[(i - 1), 1] + 0.4 * y[(i - 1), 2] + epsilon[i, 2]\n",
    "}"
   ]
  },
  {
   "cell_type": "code",
   "execution_count": 55,
   "metadata": {},
   "outputs": [],
   "source": [
    "datos <- data.frame(y1 = y[401:500, 1], y2 = y[401:500, 2])"
   ]
  },
  {
   "cell_type": "code",
   "execution_count": 56,
   "metadata": {},
   "outputs": [
    {
     "data": {
      "text/html": [
       "<table>\n",
       "<caption>A matrix: 4 × 10 of type dbl</caption>\n",
       "<thead>\n",
       "\t<tr><th></th><th scope=col>1</th><th scope=col>2</th><th scope=col>3</th><th scope=col>4</th><th scope=col>5</th><th scope=col>6</th><th scope=col>7</th><th scope=col>8</th><th scope=col>9</th><th scope=col>10</th></tr>\n",
       "</thead>\n",
       "<tbody>\n",
       "\t<tr><th scope=row>AIC(n)</th><td>-0.5013598</td><td>-0.4802645</td><td>-0.42865431</td><td>-0.3598039</td><td>-0.29348129</td><td>-0.283359154</td><td>-0.1973000</td><td>-0.1410544</td><td>-0.07570292</td><td>-0.1345633</td></tr>\n",
       "\t<tr><th scope=row>HQ(n)</th><td>-0.4341552</td><td>-0.3682567</td><td>-0.27184339</td><td>-0.1581899</td><td>-0.04706413</td><td> 0.007861127</td><td> 0.1387234</td><td> 0.2397721</td><td> 0.34992673</td><td> 0.3358695</td></tr>\n",
       "\t<tr><th scope=row>SC(n)</th><td>-0.3347059</td><td>-0.2025079</td><td>-0.03979503</td><td> 0.1401580</td><td> 0.31758330</td><td> 0.438808084</td><td> 0.6359699</td><td> 0.8033181</td><td> 0.97977228</td><td> 1.0320146</td></tr>\n",
       "\t<tr><th scope=row>FPE(n)</th><td> 0.6057364</td><td> 0.6187614</td><td> 0.65179533</td><td> 0.6987498</td><td> 0.74749710</td><td> 0.756320691</td><td> 0.8261142</td><td> 0.8764539</td><td> 0.93912062</td><td> 0.8895414</td></tr>\n",
       "</tbody>\n",
       "</table>\n"
      ],
      "text/latex": [
       "A matrix: 4 × 10 of type dbl\n",
       "\\begin{tabular}{r|llllllllll}\n",
       "  & 1 & 2 & 3 & 4 & 5 & 6 & 7 & 8 & 9 & 10\\\\\n",
       "\\hline\n",
       "\tAIC(n) & -0.5013598 & -0.4802645 & -0.42865431 & -0.3598039 & -0.29348129 & -0.283359154 & -0.1973000 & -0.1410544 & -0.07570292 & -0.1345633\\\\\n",
       "\tHQ(n) & -0.4341552 & -0.3682567 & -0.27184339 & -0.1581899 & -0.04706413 &  0.007861127 &  0.1387234 &  0.2397721 &  0.34992673 &  0.3358695\\\\\n",
       "\tSC(n) & -0.3347059 & -0.2025079 & -0.03979503 &  0.1401580 &  0.31758330 &  0.438808084 &  0.6359699 &  0.8033181 &  0.97977228 &  1.0320146\\\\\n",
       "\tFPE(n) &  0.6057364 &  0.6187614 &  0.65179533 &  0.6987498 &  0.74749710 &  0.756320691 &  0.8261142 &  0.8764539 &  0.93912062 &  0.8895414\\\\\n",
       "\\end{tabular}\n"
      ],
      "text/markdown": [
       "\n",
       "A matrix: 4 × 10 of type dbl\n",
       "\n",
       "| <!--/--> | 1 | 2 | 3 | 4 | 5 | 6 | 7 | 8 | 9 | 10 |\n",
       "|---|---|---|---|---|---|---|---|---|---|---|\n",
       "| AIC(n) | -0.5013598 | -0.4802645 | -0.42865431 | -0.3598039 | -0.29348129 | -0.283359154 | -0.1973000 | -0.1410544 | -0.07570292 | -0.1345633 |\n",
       "| HQ(n) | -0.4341552 | -0.3682567 | -0.27184339 | -0.1581899 | -0.04706413 |  0.007861127 |  0.1387234 |  0.2397721 |  0.34992673 |  0.3358695 |\n",
       "| SC(n) | -0.3347059 | -0.2025079 | -0.03979503 |  0.1401580 |  0.31758330 |  0.438808084 |  0.6359699 |  0.8033181 |  0.97977228 |  1.0320146 |\n",
       "| FPE(n) |  0.6057364 |  0.6187614 |  0.65179533 |  0.6987498 |  0.74749710 |  0.756320691 |  0.8261142 |  0.8764539 |  0.93912062 |  0.8895414 |\n",
       "\n"
      ],
      "text/plain": [
       "       1          2          3           4          5           6           \n",
       "AIC(n) -0.5013598 -0.4802645 -0.42865431 -0.3598039 -0.29348129 -0.283359154\n",
       "HQ(n)  -0.4341552 -0.3682567 -0.27184339 -0.1581899 -0.04706413  0.007861127\n",
       "SC(n)  -0.3347059 -0.2025079 -0.03979503  0.1401580  0.31758330  0.438808084\n",
       "FPE(n)  0.6057364  0.6187614  0.65179533  0.6987498  0.74749710  0.756320691\n",
       "       7          8          9           10        \n",
       "AIC(n) -0.1973000 -0.1410544 -0.07570292 -0.1345633\n",
       "HQ(n)   0.1387234  0.2397721  0.34992673  0.3358695\n",
       "SC(n)   0.6359699  0.8033181  0.97977228  1.0320146\n",
       "FPE(n)  0.8261142  0.8764539  0.93912062  0.8895414"
      ]
     },
     "metadata": {},
     "output_type": "display_data"
    }
   ],
   "source": [
    "crit_res <- VARselect(y = datos, lag.max = 10, type = \"const\")\n",
    "crit_res$criteria"
   ]
  },
  {
   "cell_type": "markdown",
   "metadata": {},
   "source": [
    "### 5.12 Diagnóstico del modelo VAR(p)"
   ]
  },
  {
   "cell_type": "markdown",
   "metadata": {},
   "source": [
    "Una vez estimado el modelo VAR(p), debemos verificar que los residuos sean un semejantes a un proceso vectorial ruido blanco. Existen los test de Portmanteau respectivos y otros tests que pueden revisarse en la documentación del paquete `vars` [aquí](https://cran.r-project.org/web/packages/vars/vars.pdf).\n",
    "\n",
    "Ilustremos esto con el modelo VAR(1) que propusimos en la sección anterior:"
   ]
  },
  {
   "cell_type": "code",
   "execution_count": 57,
   "metadata": {},
   "outputs": [],
   "source": [
    "var1_mod <- VAR(y = datos, p = 1, type = \"const\")"
   ]
  },
  {
   "cell_type": "code",
   "execution_count": 58,
   "metadata": {},
   "outputs": [
    {
     "data": {
      "text/plain": [
       "\n",
       "VAR Estimation Results:\n",
       "========================= \n",
       "Endogenous variables: y1, y2 \n",
       "Deterministic variables: const \n",
       "Sample size: 99 \n",
       "Log Likelihood: -250.286 \n",
       "Roots of the characteristic polynomial:\n",
       "0.7052 0.2915\n",
       "Call:\n",
       "VAR(y = datos, p = 1, type = \"const\")\n",
       "\n",
       "\n",
       "Estimation results for equation y1: \n",
       "=================================== \n",
       "y1 = y1.l1 + y2.l1 + const \n",
       "\n",
       "      Estimate Std. Error t value Pr(>|t|)    \n",
       "y1.l1  0.55039    0.09527   5.777 9.38e-08 ***\n",
       "y2.l1  0.17720    0.10828   1.636 0.105015    \n",
       "const  1.81147    0.45155   4.012 0.000119 ***\n",
       "---\n",
       "Signif. codes:  0 '***' 0.001 '**' 0.01 '*' 0.05 '.' 0.1 ' ' 1\n",
       "\n",
       "\n",
       "Residual standard error: 0.9482 on 96 degrees of freedom\n",
       "Multiple R-Squared: 0.4254,\tAdjusted R-squared: 0.4134 \n",
       "F-statistic: 35.54 on 2 and 96 DF,  p-value: 2.811e-12 \n",
       "\n",
       "\n",
       "Estimation results for equation y2: \n",
       "=================================== \n",
       "y2 = y1.l1 + y2.l1 + const \n",
       "\n",
       "      Estimate Std. Error t value Pr(>|t|)    \n",
       "y1.l1  0.22621    0.08569   2.640  0.00968 ** \n",
       "y2.l1  0.44634    0.09739   4.583 1.38e-05 ***\n",
       "const  0.83049    0.40613   2.045  0.04360 *  \n",
       "---\n",
       "Signif. codes:  0 '***' 0.001 '**' 0.01 '*' 0.05 '.' 0.1 ' ' 1\n",
       "\n",
       "\n",
       "Residual standard error: 0.8529 on 96 degrees of freedom\n",
       "Multiple R-Squared: 0.3982,\tAdjusted R-squared: 0.3857 \n",
       "F-statistic: 31.76 on 2 and 96 DF,  p-value: 2.594e-11 \n",
       "\n",
       "\n",
       "\n",
       "Covariance matrix of residuals:\n",
       "       y1     y2\n",
       "y1 0.8992 0.2858\n",
       "y2 0.2858 0.7274\n",
       "\n",
       "Correlation matrix of residuals:\n",
       "       y1     y2\n",
       "y1 1.0000 0.3533\n",
       "y2 0.3533 1.0000\n",
       "\n"
      ]
     },
     "metadata": {},
     "output_type": "display_data"
    }
   ],
   "source": [
    "summary(var1_mod)"
   ]
  },
  {
   "cell_type": "code",
   "execution_count": 65,
   "metadata": {},
   "outputs": [
    {
     "name": "stdout",
     "output_type": "stream",
     "text": [
      "[1] \"Rezago 3 con p.value de 0.294987060522194\"\n",
      "[1] \"Rezago 5 con p.value de 0.711911663669224\"\n",
      "[1] \"Rezago 10 con p.value de 0.676746628423921\"\n",
      "[1] \"Rezago 15 con p.value de 0.384596025060837\"\n",
      "[1] \"Rezago 20 con p.value de 0.59332906178518\"\n"
     ]
    }
   ],
   "source": [
    "for (i in c(3, 5, 10, 15, 20)) {\n",
    "    ser_test <- serial.test(var1_mod, lags.pt = i, type = \"PT.adjusted\")\n",
    "    res <- paste(\"Rezago \", i, \" con p.value de \", ser_test$serial$p.value, sep = \"\")\n",
    "    print(res)\n",
    "}"
   ]
  },
  {
   "cell_type": "markdown",
   "metadata": {},
   "source": [
    "### 5.11 Caso de estudio: Modelo VAR monetario"
   ]
  },
  {
   "cell_type": "markdown",
   "metadata": {},
   "source": [
    "Analizaremos la aplicación de un modelo VAR(p) a la tasa de desempleo, inflación y tasa de los Fondos Federales de Estados Unidos con una muestra trimestral que va desde 1953 hasta 2006. El objetivo es hacer un pronóstico de la inflación para los tres primeros trimestres de 2006."
   ]
  },
  {
   "cell_type": "code",
   "execution_count": 67,
   "metadata": {},
   "outputs": [],
   "source": [
    "setwd(\"..\")"
   ]
  },
  {
   "cell_type": "code",
   "execution_count": 68,
   "metadata": {},
   "outputs": [],
   "source": [
    "datos <- read.csv(\"./Datos/VAR data.csv\")"
   ]
  },
  {
   "cell_type": "code",
   "execution_count": 70,
   "metadata": {},
   "outputs": [],
   "source": [
    "colnames(datos) <- c(\"Fecha\", \"Infl\", \"UR\", \"IntR\")"
   ]
  },
  {
   "cell_type": "code",
   "execution_count": 71,
   "metadata": {},
   "outputs": [
    {
     "data": {
      "text/html": [
       "<table>\n",
       "<caption>A data.frame: 6 × 4</caption>\n",
       "<thead>\n",
       "\t<tr><th></th><th scope=col>Fecha</th><th scope=col>Infl</th><th scope=col>UR</th><th scope=col>IntR</th></tr>\n",
       "\t<tr><th></th><th scope=col>&lt;chr&gt;</th><th scope=col>&lt;dbl&gt;</th><th scope=col>&lt;dbl&gt;</th><th scope=col>&lt;dbl&gt;</th></tr>\n",
       "</thead>\n",
       "<tbody>\n",
       "\t<tr><th scope=row>1</th><td>3/31/1953 </td><td>1.6851416</td><td>2.9</td><td>1.96</td></tr>\n",
       "\t<tr><th scope=row>2</th><td>6/30/1953 </td><td>1.4489523</td><td>2.7</td><td>2.19</td></tr>\n",
       "\t<tr><th scope=row>3</th><td>9/30/1953 </td><td>1.0120002</td><td>2.6</td><td>2.04</td></tr>\n",
       "\t<tr><th scope=row>4</th><td>12/31/1953</td><td>0.9807703</td><td>3.1</td><td>1.38</td></tr>\n",
       "\t<tr><th scope=row>5</th><td>3/31/1954 </td><td>1.3323790</td><td>4.9</td><td>1.18</td></tr>\n",
       "\t<tr><th scope=row>6</th><td>6/30/1954 </td><td>1.2964184</td><td>5.9</td><td>0.97</td></tr>\n",
       "</tbody>\n",
       "</table>\n"
      ],
      "text/latex": [
       "A data.frame: 6 × 4\n",
       "\\begin{tabular}{r|llll}\n",
       "  & Fecha & Infl & UR & IntR\\\\\n",
       "  & <chr> & <dbl> & <dbl> & <dbl>\\\\\n",
       "\\hline\n",
       "\t1 & 3/31/1953  & 1.6851416 & 2.9 & 1.96\\\\\n",
       "\t2 & 6/30/1953  & 1.4489523 & 2.7 & 2.19\\\\\n",
       "\t3 & 9/30/1953  & 1.0120002 & 2.6 & 2.04\\\\\n",
       "\t4 & 12/31/1953 & 0.9807703 & 3.1 & 1.38\\\\\n",
       "\t5 & 3/31/1954  & 1.3323790 & 4.9 & 1.18\\\\\n",
       "\t6 & 6/30/1954  & 1.2964184 & 5.9 & 0.97\\\\\n",
       "\\end{tabular}\n"
      ],
      "text/markdown": [
       "\n",
       "A data.frame: 6 × 4\n",
       "\n",
       "| <!--/--> | Fecha &lt;chr&gt; | Infl &lt;dbl&gt; | UR &lt;dbl&gt; | IntR &lt;dbl&gt; |\n",
       "|---|---|---|---|---|\n",
       "| 1 | 3/31/1953  | 1.6851416 | 2.9 | 1.96 |\n",
       "| 2 | 6/30/1953  | 1.4489523 | 2.7 | 2.19 |\n",
       "| 3 | 9/30/1953  | 1.0120002 | 2.6 | 2.04 |\n",
       "| 4 | 12/31/1953 | 0.9807703 | 3.1 | 1.38 |\n",
       "| 5 | 3/31/1954  | 1.3323790 | 4.9 | 1.18 |\n",
       "| 6 | 6/30/1954  | 1.2964184 | 5.9 | 0.97 |\n",
       "\n"
      ],
      "text/plain": [
       "  Fecha      Infl      UR  IntR\n",
       "1 3/31/1953  1.6851416 2.9 1.96\n",
       "2 6/30/1953  1.4489523 2.7 2.19\n",
       "3 9/30/1953  1.0120002 2.6 2.04\n",
       "4 12/31/1953 0.9807703 3.1 1.38\n",
       "5 3/31/1954  1.3323790 4.9 1.18\n",
       "6 6/30/1954  1.2964184 5.9 0.97"
      ]
     },
     "metadata": {},
     "output_type": "display_data"
    }
   ],
   "source": [
    "head(datos)"
   ]
  },
  {
   "cell_type": "code",
   "execution_count": 72,
   "metadata": {},
   "outputs": [],
   "source": [
    "library(ggplot2)"
   ]
  },
  {
   "cell_type": "code",
   "execution_count": 73,
   "metadata": {},
   "outputs": [],
   "source": [
    "datos$Fecha <- as.Date(datos$Fecha, \"%m/%d/%Y\")"
   ]
  },
  {
   "cell_type": "code",
   "execution_count": 81,
   "metadata": {},
   "outputs": [
    {
     "data": {
      "text/html": [
       "<table>\n",
       "<caption>A data.frame: 6 × 4</caption>\n",
       "<thead>\n",
       "\t<tr><th></th><th scope=col>Fecha</th><th scope=col>Infl</th><th scope=col>UR</th><th scope=col>IntR</th></tr>\n",
       "\t<tr><th></th><th scope=col>&lt;date&gt;</th><th scope=col>&lt;dbl&gt;</th><th scope=col>&lt;dbl&gt;</th><th scope=col>&lt;dbl&gt;</th></tr>\n",
       "</thead>\n",
       "<tbody>\n",
       "\t<tr><th scope=row>210</th><td>2005-06-30</td><td>2.800168</td><td>5.1</td><td>2.78</td></tr>\n",
       "\t<tr><th scope=row>211</th><td>2005-09-30</td><td>3.093563</td><td>5.0</td><td>3.22</td></tr>\n",
       "\t<tr><th scope=row>212</th><td>2005-12-31</td><td>3.108218</td><td>4.9</td><td>3.71</td></tr>\n",
       "\t<tr><th scope=row>213</th><td>2006-03-31</td><td>3.055810</td><td>4.7</td><td>4.24</td></tr>\n",
       "\t<tr><th scope=row>214</th><td>2006-06-30</td><td>3.275446</td><td>4.7</td><td>4.60</td></tr>\n",
       "\t<tr><th scope=row>215</th><td>2006-09-30</td><td>2.909695</td><td>4.8</td><td>4.95</td></tr>\n",
       "</tbody>\n",
       "</table>\n"
      ],
      "text/latex": [
       "A data.frame: 6 × 4\n",
       "\\begin{tabular}{r|llll}\n",
       "  & Fecha & Infl & UR & IntR\\\\\n",
       "  & <date> & <dbl> & <dbl> & <dbl>\\\\\n",
       "\\hline\n",
       "\t210 & 2005-06-30 & 2.800168 & 5.1 & 2.78\\\\\n",
       "\t211 & 2005-09-30 & 3.093563 & 5.0 & 3.22\\\\\n",
       "\t212 & 2005-12-31 & 3.108218 & 4.9 & 3.71\\\\\n",
       "\t213 & 2006-03-31 & 3.055810 & 4.7 & 4.24\\\\\n",
       "\t214 & 2006-06-30 & 3.275446 & 4.7 & 4.60\\\\\n",
       "\t215 & 2006-09-30 & 2.909695 & 4.8 & 4.95\\\\\n",
       "\\end{tabular}\n"
      ],
      "text/markdown": [
       "\n",
       "A data.frame: 6 × 4\n",
       "\n",
       "| <!--/--> | Fecha &lt;date&gt; | Infl &lt;dbl&gt; | UR &lt;dbl&gt; | IntR &lt;dbl&gt; |\n",
       "|---|---|---|---|---|\n",
       "| 210 | 2005-06-30 | 2.800168 | 5.1 | 2.78 |\n",
       "| 211 | 2005-09-30 | 3.093563 | 5.0 | 3.22 |\n",
       "| 212 | 2005-12-31 | 3.108218 | 4.9 | 3.71 |\n",
       "| 213 | 2006-03-31 | 3.055810 | 4.7 | 4.24 |\n",
       "| 214 | 2006-06-30 | 3.275446 | 4.7 | 4.60 |\n",
       "| 215 | 2006-09-30 | 2.909695 | 4.8 | 4.95 |\n",
       "\n"
      ],
      "text/plain": [
       "    Fecha      Infl     UR  IntR\n",
       "210 2005-06-30 2.800168 5.1 2.78\n",
       "211 2005-09-30 3.093563 5.0 3.22\n",
       "212 2005-12-31 3.108218 4.9 3.71\n",
       "213 2006-03-31 3.055810 4.7 4.24\n",
       "214 2006-06-30 3.275446 4.7 4.60\n",
       "215 2006-09-30 2.909695 4.8 4.95"
      ]
     },
     "metadata": {},
     "output_type": "display_data"
    }
   ],
   "source": [
    "tail(datos)"
   ]
  },
  {
   "cell_type": "code",
   "execution_count": 75,
   "metadata": {},
   "outputs": [
    {
     "data": {
      "image/png": "[encoded data removed]",
      "text/plain": [
       "plot without title"
      ]
     },
     "metadata": {
      "image/png": {
       "height": 420,
       "width": 420
      }
     },
     "output_type": "display_data"
    }
   ],
   "source": [
    "g <- ggplot(data = datos, aes(x = Fecha, y = UR))\n",
    "g + geom_line()"
   ]
  },
  {
   "cell_type": "code",
   "execution_count": 76,
   "metadata": {},
   "outputs": [
    {
     "data": {
      "image/png": "[encoded data removed]",
      "text/plain": [
       "plot without title"
      ]
     },
     "metadata": {
      "image/png": {
       "height": 420,
       "width": 420
      }
     },
     "output_type": "display_data"
    }
   ],
   "source": [
    "g <- ggplot(data = datos, aes(x = Fecha, y = Infl))\n",
    "g + geom_line()"
   ]
  },
  {
   "cell_type": "code",
   "execution_count": 77,
   "metadata": {},
   "outputs": [
    {
     "data": {
      "image/png": "[encoded data removed]",
      "text/plain": [
       "plot without title"
      ]
     },
     "metadata": {
      "image/png": {
       "height": 420,
       "width": 420
      }
     },
     "output_type": "display_data"
    }
   ],
   "source": [
    "g <- ggplot(data = datos, aes(x = Fecha, y = IntR))\n",
    "g + geom_line()"
   ]
  },
  {
   "cell_type": "code",
   "execution_count": 84,
   "metadata": {},
   "outputs": [
    {
     "data": {
      "text/html": [
       "<table>\n",
       "<caption>A matrix: 4 × 10 of type dbl</caption>\n",
       "<thead>\n",
       "\t<tr><th></th><th scope=col>1</th><th scope=col>2</th><th scope=col>3</th><th scope=col>4</th><th scope=col>5</th><th scope=col>6</th><th scope=col>7</th><th scope=col>8</th><th scope=col>9</th><th scope=col>10</th></tr>\n",
       "</thead>\n",
       "<tbody>\n",
       "\t<tr><th scope=row>AIC(n)</th><td>-4.655008660</td><td>-5.183360271</td><td>-5.204411865</td><td>-5.202226627</td><td>-5.313836708</td><td>-5.329861922</td><td>-5.29810960</td><td>-5.257418097</td><td>-5.300448576</td><td>-5.291647592</td></tr>\n",
       "\t<tr><th scope=row>HQ(n)</th><td>-4.575491962</td><td>-5.044206049</td><td>-5.005620118</td><td>-4.943797356</td><td>-4.995769913</td><td>-4.952157603</td><td>-4.86076776</td><td>-4.760438730</td><td>-4.743831684</td><td>-4.675393176</td></tr>\n",
       "\t<tr><th scope=row>SC(n)</th><td>-4.458477906</td><td>-4.839431451</td><td>-4.713084980</td><td>-4.563501676</td><td>-4.527713691</td><td>-4.396340839</td><td>-4.21719045</td><td>-4.029100883</td><td>-3.924733296</td><td>-3.768534246</td></tr>\n",
       "\t<tr><th scope=row>FPE(n)</th><td> 0.009513979</td><td> 0.005609594</td><td> 0.005493615</td><td> 0.005507237</td><td> 0.004927916</td><td> 0.004852852</td><td> 0.00501407</td><td> 0.005228706</td><td> 0.005016315</td><td> 0.005070504</td></tr>\n",
       "</tbody>\n",
       "</table>\n"
      ],
      "text/latex": [
       "A matrix: 4 × 10 of type dbl\n",
       "\\begin{tabular}{r|llllllllll}\n",
       "  & 1 & 2 & 3 & 4 & 5 & 6 & 7 & 8 & 9 & 10\\\\\n",
       "\\hline\n",
       "\tAIC(n) & -4.655008660 & -5.183360271 & -5.204411865 & -5.202226627 & -5.313836708 & -5.329861922 & -5.29810960 & -5.257418097 & -5.300448576 & -5.291647592\\\\\n",
       "\tHQ(n) & -4.575491962 & -5.044206049 & -5.005620118 & -4.943797356 & -4.995769913 & -4.952157603 & -4.86076776 & -4.760438730 & -4.743831684 & -4.675393176\\\\\n",
       "\tSC(n) & -4.458477906 & -4.839431451 & -4.713084980 & -4.563501676 & -4.527713691 & -4.396340839 & -4.21719045 & -4.029100883 & -3.924733296 & -3.768534246\\\\\n",
       "\tFPE(n) &  0.009513979 &  0.005609594 &  0.005493615 &  0.005507237 &  0.004927916 &  0.004852852 &  0.00501407 &  0.005228706 &  0.005016315 &  0.005070504\\\\\n",
       "\\end{tabular}\n"
      ],
      "text/markdown": [
       "\n",
       "A matrix: 4 × 10 of type dbl\n",
       "\n",
       "| <!--/--> | 1 | 2 | 3 | 4 | 5 | 6 | 7 | 8 | 9 | 10 |\n",
       "|---|---|---|---|---|---|---|---|---|---|---|\n",
       "| AIC(n) | -4.655008660 | -5.183360271 | -5.204411865 | -5.202226627 | -5.313836708 | -5.329861922 | -5.29810960 | -5.257418097 | -5.300448576 | -5.291647592 |\n",
       "| HQ(n) | -4.575491962 | -5.044206049 | -5.005620118 | -4.943797356 | -4.995769913 | -4.952157603 | -4.86076776 | -4.760438730 | -4.743831684 | -4.675393176 |\n",
       "| SC(n) | -4.458477906 | -4.839431451 | -4.713084980 | -4.563501676 | -4.527713691 | -4.396340839 | -4.21719045 | -4.029100883 | -3.924733296 | -3.768534246 |\n",
       "| FPE(n) |  0.009513979 |  0.005609594 |  0.005493615 |  0.005507237 |  0.004927916 |  0.004852852 |  0.00501407 |  0.005228706 |  0.005016315 |  0.005070504 |\n",
       "\n"
      ],
      "text/plain": [
       "       1            2            3            4            5           \n",
       "AIC(n) -4.655008660 -5.183360271 -5.204411865 -5.202226627 -5.313836708\n",
       "HQ(n)  -4.575491962 -5.044206049 -5.005620118 -4.943797356 -4.995769913\n",
       "SC(n)  -4.458477906 -4.839431451 -4.713084980 -4.563501676 -4.527713691\n",
       "FPE(n)  0.009513979  0.005609594  0.005493615  0.005507237  0.004927916\n",
       "       6            7           8            9            10          \n",
       "AIC(n) -5.329861922 -5.29810960 -5.257418097 -5.300448576 -5.291647592\n",
       "HQ(n)  -4.952157603 -4.86076776 -4.760438730 -4.743831684 -4.675393176\n",
       "SC(n)  -4.396340839 -4.21719045 -4.029100883 -3.924733296 -3.768534246\n",
       "FPE(n)  0.004852852  0.00501407  0.005228706  0.005016315  0.005070504"
      ]
     },
     "metadata": {},
     "output_type": "display_data"
    }
   ],
   "source": [
    "n <- nrow(datos)\n",
    "y <- datos[1:(n - 3), 2:4]\n",
    "crit_var <- VARselect(y = y, lag.max = 10, type = \"const\")\n",
    "crit_var$criteria"
   ]
  },
  {
   "cell_type": "code",
   "execution_count": 99,
   "metadata": {},
   "outputs": [
    {
     "data": {
      "text/plain": [
       "\n",
       "VAR Estimation Results:\n",
       "========================= \n",
       "Endogenous variables: Infl, UR, IntR \n",
       "Deterministic variables: const \n",
       "Sample size: 206 \n",
       "Log Likelihood: -268.855 \n",
       "Roots of the characteristic polynomial:\n",
       "0.9689 0.9689 0.8223 0.8223 0.8016 0.8016 0.7898 0.7898 0.7735 0.7735 0.7315 0.7315 0.6606 0.6606 0.6078 0.6078 0.5409 0.5409\n",
       "Call:\n",
       "VAR(y = y, p = 6, type = \"const\")\n",
       "\n",
       "\n",
       "Estimation results for equation Infl: \n",
       "===================================== \n",
       "Infl = Infl.l1 + UR.l1 + IntR.l1 + Infl.l2 + UR.l2 + IntR.l2 + Infl.l3 + UR.l3 + IntR.l3 + Infl.l4 + UR.l4 + IntR.l4 + Infl.l5 + UR.l5 + IntR.l5 + Infl.l6 + UR.l6 + IntR.l6 + const \n",
       "\n",
       "         Estimate Std. Error t value Pr(>|t|)    \n",
       "Infl.l1  1.517814   0.072571  20.915  < 2e-16 ***\n",
       "UR.l1   -0.305235   0.075095  -4.065 7.08e-05 ***\n",
       "IntR.l1 -0.037675   0.031037  -1.214 0.226333    \n",
       "Infl.l2 -0.481330   0.127960  -3.762 0.000226 ***\n",
       "UR.l2    0.270501   0.111732   2.421 0.016435 *  \n",
       "IntR.l2  0.036897   0.038804   0.951 0.342900    \n",
       "Infl.l3  0.058628   0.129354   0.453 0.650907    \n",
       "UR.l3    0.033486   0.113146   0.296 0.767590    \n",
       "IntR.l3  0.021248   0.037943   0.560 0.576146    \n",
       "Infl.l4 -0.482904   0.132474  -3.645 0.000346 ***\n",
       "UR.l4   -0.141588   0.110620  -1.280 0.202147    \n",
       "IntR.l4 -0.001114   0.037863  -0.029 0.976559    \n",
       "Infl.l5  0.548077   0.133579   4.103 6.08e-05 ***\n",
       "UR.l5    0.078768   0.109187   0.721 0.471561    \n",
       "IntR.l5 -0.011149   0.037363  -0.298 0.765726    \n",
       "Infl.l6 -0.150424   0.076552  -1.965 0.050895 .  \n",
       "UR.l6    0.016822   0.066306   0.254 0.800001    \n",
       "IntR.l6 -0.018980   0.030044  -0.632 0.528330    \n",
       "const    0.302143   0.116465   2.594 0.010230 *  \n",
       "---\n",
       "Signif. codes:  0 '***' 0.001 '**' 0.01 '*' 0.05 '.' 0.1 ' ' 1\n",
       "\n",
       "\n",
       "Residual standard error: 0.2927 on 187 degrees of freedom\n",
       "Multiple R-Squared: 0.986,\tAdjusted R-squared: 0.9846 \n",
       "F-statistic: 729.7 on 18 and 187 DF,  p-value: < 2.2e-16 \n",
       "\n",
       "\n",
       "Estimation results for equation UR: \n",
       "=================================== \n",
       "UR = Infl.l1 + UR.l1 + IntR.l1 + Infl.l2 + UR.l2 + IntR.l2 + Infl.l3 + UR.l3 + IntR.l3 + Infl.l4 + UR.l4 + IntR.l4 + Infl.l5 + UR.l5 + IntR.l5 + Infl.l6 + UR.l6 + IntR.l6 + const \n",
       "\n",
       "        Estimate Std. Error t value Pr(>|t|)    \n",
       "Infl.l1  0.03111    0.07773   0.400   0.6895    \n",
       "UR.l1    1.25126    0.08044  15.556   <2e-16 ***\n",
       "IntR.l1 -0.01953    0.03324  -0.587   0.5577    \n",
       "Infl.l2  0.06687    0.13706   0.488   0.6262    \n",
       "UR.l2   -0.23987    0.11968  -2.004   0.0465 *  \n",
       "IntR.l2 -0.01545    0.04156  -0.372   0.7105    \n",
       "Infl.l3 -0.17833    0.13855  -1.287   0.1997    \n",
       "UR.l3   -0.14042    0.12119  -1.159   0.2481    \n",
       "IntR.l3  0.08887    0.04064   2.187   0.0300 *  \n",
       "Infl.l4  0.04862    0.14189   0.343   0.7323    \n",
       "UR.l4   -0.07357    0.11849  -0.621   0.5354    \n",
       "IntR.l4 -0.01182    0.04056  -0.291   0.7710    \n",
       "Infl.l5  0.15453    0.14308   1.080   0.2815    \n",
       "UR.l5    0.18353    0.11695   1.569   0.1183    \n",
       "IntR.l5 -0.02974    0.04002  -0.743   0.4583    \n",
       "Infl.l6 -0.09442    0.08200  -1.151   0.2510    \n",
       "UR.l6   -0.06957    0.07102  -0.980   0.3285    \n",
       "IntR.l6  0.01507    0.03218   0.468   0.6401    \n",
       "const    0.26720    0.12475   2.142   0.0335 *  \n",
       "---\n",
       "Signif. codes:  0 '***' 0.001 '**' 0.01 '*' 0.05 '.' 0.1 ' ' 1\n",
       "\n",
       "\n",
       "Residual standard error: 0.3135 on 187 degrees of freedom\n",
       "Multiple R-Squared: 0.9563,\tAdjusted R-squared: 0.9521 \n",
       "F-statistic: 227.3 on 18 and 187 DF,  p-value: < 2.2e-16 \n",
       "\n",
       "\n",
       "Estimation results for equation IntR: \n",
       "===================================== \n",
       "IntR = Infl.l1 + UR.l1 + IntR.l1 + Infl.l2 + UR.l2 + IntR.l2 + Infl.l3 + UR.l3 + IntR.l3 + Infl.l4 + UR.l4 + IntR.l4 + Infl.l5 + UR.l5 + IntR.l5 + Infl.l6 + UR.l6 + IntR.l6 + const \n",
       "\n",
       "         Estimate Std. Error t value Pr(>|t|)    \n",
       "Infl.l1  0.466698   0.184015   2.536 0.012024 *  \n",
       "UR.l1   -0.889406   0.190416  -4.671 5.72e-06 ***\n",
       "IntR.l1  0.759193   0.078700   9.647  < 2e-16 ***\n",
       "Infl.l2 -0.667497   0.324464  -2.057 0.041052 *  \n",
       "UR.l2    0.961252   0.283316   3.393 0.000844 ***\n",
       "IntR.l2 -0.005307   0.098394  -0.054 0.957043    \n",
       "Infl.l3  1.014754   0.327999   3.094 0.002279 ** \n",
       "UR.l3   -0.158975   0.286900  -0.554 0.580164    \n",
       "IntR.l3  0.153703   0.096210   1.598 0.111823    \n",
       "Infl.l4 -1.029043   0.335909  -3.063 0.002511 ** \n",
       "UR.l4    0.140677   0.280495   0.502 0.616586    \n",
       "IntR.l4  0.125735   0.096009   1.310 0.191933    \n",
       "Infl.l5  0.145117   0.338710   0.428 0.668824    \n",
       "UR.l5    0.156241   0.276861   0.564 0.573206    \n",
       "IntR.l5  0.103191   0.094741   1.089 0.277472    \n",
       "Infl.l6  0.178414   0.194109   0.919 0.359205    \n",
       "UR.l6   -0.176196   0.168129  -1.048 0.296000    \n",
       "IntR.l6 -0.243574   0.076182  -3.197 0.001629 ** \n",
       "const   -0.018050   0.295316  -0.061 0.951327    \n",
       "---\n",
       "Signif. codes:  0 '***' 0.001 '**' 0.01 '*' 0.05 '.' 0.1 ' ' 1\n",
       "\n",
       "\n",
       "Residual standard error: 0.7421 on 187 degrees of freedom\n",
       "Multiple R-Squared: 0.9365,\tAdjusted R-squared: 0.9304 \n",
       "F-statistic: 153.3 on 18 and 187 DF,  p-value: < 2.2e-16 \n",
       "\n",
       "\n",
       "\n",
       "Covariance matrix of residuals:\n",
       "         Infl       UR     IntR\n",
       "Infl  0.08565 -0.01060  0.01639\n",
       "UR   -0.01060  0.09827 -0.10441\n",
       "IntR  0.01639 -0.10441  0.55072\n",
       "\n",
       "Correlation matrix of residuals:\n",
       "         Infl      UR     IntR\n",
       "Infl  1.00000 -0.1155  0.07545\n",
       "UR   -0.11551  1.0000 -0.44881\n",
       "IntR  0.07545 -0.4488  1.00000\n",
       "\n"
      ]
     },
     "metadata": {},
     "output_type": "display_data"
    }
   ],
   "source": [
    "var6_mod <- VAR(y = y, p = 6, type = \"const\")\n",
    "summary(var6_mod)"
   ]
  },
  {
   "cell_type": "code",
   "execution_count": 100,
   "metadata": {},
   "outputs": [
    {
     "data": {
      "text/html": [
       "<style>\n",
       ".list-inline {list-style: none; margin:0; padding: 0}\n",
       ".list-inline>li {display: inline-block}\n",
       ".list-inline>li:not(:last-child)::after {content: \"\\00b7\"; padding: 0 .5ex}\n",
       "</style>\n",
       "<ol class=list-inline><li>0.968861094193481</li><li>0.968861094193481</li><li>0.822308331315487</li><li>0.822308331315487</li><li>0.801628865047616</li><li>0.801628865047616</li><li>0.78978560459947</li><li>0.78978560459947</li><li>0.773487391636699</li><li>0.773487391636699</li><li>0.731501598948733</li><li>0.731501598948733</li><li>0.660569353965445</li><li>0.660569353965445</li><li>0.607847311719172</li><li>0.607847311719172</li><li>0.54086835118324</li><li>0.54086835118324</li></ol>\n"
      ],
      "text/latex": [
       "\\begin{enumerate*}\n",
       "\\item 0.968861094193481\n",
       "\\item 0.968861094193481\n",
       "\\item 0.822308331315487\n",
       "\\item 0.822308331315487\n",
       "\\item 0.801628865047616\n",
       "\\item 0.801628865047616\n",
       "\\item 0.78978560459947\n",
       "\\item 0.78978560459947\n",
       "\\item 0.773487391636699\n",
       "\\item 0.773487391636699\n",
       "\\item 0.731501598948733\n",
       "\\item 0.731501598948733\n",
       "\\item 0.660569353965445\n",
       "\\item 0.660569353965445\n",
       "\\item 0.607847311719172\n",
       "\\item 0.607847311719172\n",
       "\\item 0.54086835118324\n",
       "\\item 0.54086835118324\n",
       "\\end{enumerate*}\n"
      ],
      "text/markdown": [
       "1. 0.968861094193481\n",
       "2. 0.968861094193481\n",
       "3. 0.822308331315487\n",
       "4. 0.822308331315487\n",
       "5. 0.801628865047616\n",
       "6. 0.801628865047616\n",
       "7. 0.78978560459947\n",
       "8. 0.78978560459947\n",
       "9. 0.773487391636699\n",
       "10. 0.773487391636699\n",
       "11. 0.731501598948733\n",
       "12. 0.731501598948733\n",
       "13. 0.660569353965445\n",
       "14. 0.660569353965445\n",
       "15. 0.607847311719172\n",
       "16. 0.607847311719172\n",
       "17. 0.54086835118324\n",
       "18. 0.54086835118324\n",
       "\n",
       "\n"
      ],
      "text/plain": [
       " [1] 0.9688611 0.9688611 0.8223083 0.8223083 0.8016289 0.8016289 0.7897856\n",
       " [8] 0.7897856 0.7734874 0.7734874 0.7315016 0.7315016 0.6605694 0.6605694\n",
       "[15] 0.6078473 0.6078473 0.5408684 0.5408684"
      ]
     },
     "metadata": {},
     "output_type": "display_data"
    }
   ],
   "source": [
    "roots(var6_mod)"
   ]
  },
  {
   "cell_type": "markdown",
   "metadata": {},
   "source": [
    "El modelo VAR(6) propuesto es estacionario. Ahora evaluamos que sus residuos se asemejen a un proceso vectorial ruido blanco."
   ]
  },
  {
   "cell_type": "code",
   "execution_count": 101,
   "metadata": {},
   "outputs": [
    {
     "name": "stdout",
     "output_type": "stream",
     "text": [
      "[1] \"Rezago 10 con p.value de 0.000493663275381695\"\n",
      "[1] \"Rezago 15 con p.value de 0.00403158733253561\"\n",
      "[1] \"Rezago 20 con p.value de 0.0844606434612705\"\n"
     ]
    }
   ],
   "source": [
    "for (i in c(10, 15, 20)) {\n",
    "    ser_test <- serial.test(var6_mod, lags.pt = i, type = \"PT.adjusted\")\n",
    "    res <- paste(\"Rezago \", i, \" con p.value de \", ser_test$serial$p.value, sep = \"\")\n",
    "    print(res)\n",
    "}"
   ]
  },
  {
   "cell_type": "code",
   "execution_count": 102,
   "metadata": {},
   "outputs": [
    {
     "data": {
      "image/png": "[encoded data removed]",
      "text/plain": [
       "plot without title"
      ]
     },
     "metadata": {
      "image/png": {
       "height": 420,
       "width": 420
      }
     },
     "output_type": "display_data"
    },
    {
     "data": {
      "image/png": "[encoded data removed]",
      "text/plain": [
       "plot without title"
      ]
     },
     "metadata": {
      "image/png": {
       "height": 420,
       "width": 420
      }
     },
     "output_type": "display_data"
    },
    {
     "data": {
      "image/png": "[encoded data removed]",
      "text/plain": [
       "plot without title"
      ]
     },
     "metadata": {
      "image/png": {
       "height": 420,
       "width": 420
      }
     },
     "output_type": "display_data"
    }
   ],
   "source": [
    "var6_irf <- irf(var6_mod, impulse = c(\"Infl\", \"IntR\", \"UR\"), response = \"Infl\", n.ahead = 20, ortho = TRUE , boot = TRUE)\n",
    "plot(var6_irf)"
   ]
  },
  {
   "cell_type": "code",
   "execution_count": 103,
   "metadata": {},
   "outputs": [
    {
     "data": {
      "text/plain": [
       "\n",
       "\tGranger causality H0: UR IntR do not Granger-cause Infl\n",
       "\n",
       "data:  VAR object var6_mod\n",
       "F-Test = 2.4853, df1 = 12, df2 = 561, p-value = 0.003537\n"
      ]
     },
     "metadata": {},
     "output_type": "display_data"
    }
   ],
   "source": [
    "caus_test <- causality(var6_mod, cause = c(\"IntR\", \"UR\"))\n",
    "caus_test$Granger"
   ]
  },
  {
   "cell_type": "code",
   "execution_count": 105,
   "metadata": {},
   "outputs": [
    {
     "data": {
      "text/html": [
       "<table>\n",
       "<caption>A matrix: 3 × 4 of type dbl</caption>\n",
       "<thead>\n",
       "\t<tr><th scope=col>fcst</th><th scope=col>lower</th><th scope=col>upper</th><th scope=col>CI</th></tr>\n",
       "</thead>\n",
       "<tbody>\n",
       "\t<tr><td>3.291552</td><td>2.717935</td><td>3.865168</td><td>0.5736163</td></tr>\n",
       "\t<tr><td>3.628589</td><td>2.557830</td><td>4.699348</td><td>1.0707593</td></tr>\n",
       "\t<tr><td>3.730870</td><td>2.190628</td><td>5.271112</td><td>1.5402419</td></tr>\n",
       "</tbody>\n",
       "</table>\n"
      ],
      "text/latex": [
       "A matrix: 3 × 4 of type dbl\n",
       "\\begin{tabular}{llll}\n",
       " fcst & lower & upper & CI\\\\\n",
       "\\hline\n",
       "\t 3.291552 & 2.717935 & 3.865168 & 0.5736163\\\\\n",
       "\t 3.628589 & 2.557830 & 4.699348 & 1.0707593\\\\\n",
       "\t 3.730870 & 2.190628 & 5.271112 & 1.5402419\\\\\n",
       "\\end{tabular}\n"
      ],
      "text/markdown": [
       "\n",
       "A matrix: 3 × 4 of type dbl\n",
       "\n",
       "| fcst | lower | upper | CI |\n",
       "|---|---|---|---|\n",
       "| 3.291552 | 2.717935 | 3.865168 | 0.5736163 |\n",
       "| 3.628589 | 2.557830 | 4.699348 | 1.0707593 |\n",
       "| 3.730870 | 2.190628 | 5.271112 | 1.5402419 |\n",
       "\n"
      ],
      "text/plain": [
       "     fcst     lower    upper    CI       \n",
       "[1,] 3.291552 2.717935 3.865168 0.5736163\n",
       "[2,] 3.628589 2.557830 4.699348 1.0707593\n",
       "[3,] 3.730870 2.190628 5.271112 1.5402419"
      ]
     },
     "metadata": {},
     "output_type": "display_data"
    }
   ],
   "source": [
    "var6_for <- predict(var6_mod, n.ahead = 3)\n",
    "var6_for$fcst$Infl"
   ]
  },
  {
   "cell_type": "code",
   "execution_count": 109,
   "metadata": {},
   "outputs": [],
   "source": [
    "eval_for <- data.frame(Fecha = as.Date(c(\"2006-31-03\", \"2006-30-06\", \"2006-30-09\"), \"%Y-%d-%m\"), \n",
    "                       Infl_Obs = datos[(n - 2):n, \"Infl\"], Infl_For = var6_for$fcst$Infl[, 1], \n",
    "                      Infl_ForL = var6_for$fcst$Infl[, 2], Infl_ForU = var6_for$fcst$Infl[, 3])"
   ]
  },
  {
   "cell_type": "code",
   "execution_count": 110,
   "metadata": {},
   "outputs": [
    {
     "data": {
      "text/html": [
       "<table>\n",
       "<caption>A data.frame: 3 × 5</caption>\n",
       "<thead>\n",
       "\t<tr><th scope=col>Fecha</th><th scope=col>Infl_Obs</th><th scope=col>Infl_For</th><th scope=col>Infl_ForL</th><th scope=col>Infl_ForU</th></tr>\n",
       "\t<tr><th scope=col>&lt;date&gt;</th><th scope=col>&lt;dbl&gt;</th><th scope=col>&lt;dbl&gt;</th><th scope=col>&lt;dbl&gt;</th><th scope=col>&lt;dbl&gt;</th></tr>\n",
       "</thead>\n",
       "<tbody>\n",
       "\t<tr><td>2006-03-31</td><td>3.055810</td><td>3.291552</td><td>2.717935</td><td>3.865168</td></tr>\n",
       "\t<tr><td>2006-06-30</td><td>3.275446</td><td>3.628589</td><td>2.557830</td><td>4.699348</td></tr>\n",
       "\t<tr><td>2006-09-30</td><td>2.909695</td><td>3.730870</td><td>2.190628</td><td>5.271112</td></tr>\n",
       "</tbody>\n",
       "</table>\n"
      ],
      "text/latex": [
       "A data.frame: 3 × 5\n",
       "\\begin{tabular}{lllll}\n",
       " Fecha & Infl\\_Obs & Infl\\_For & Infl\\_ForL & Infl\\_ForU\\\\\n",
       " <date> & <dbl> & <dbl> & <dbl> & <dbl>\\\\\n",
       "\\hline\n",
       "\t 2006-03-31 & 3.055810 & 3.291552 & 2.717935 & 3.865168\\\\\n",
       "\t 2006-06-30 & 3.275446 & 3.628589 & 2.557830 & 4.699348\\\\\n",
       "\t 2006-09-30 & 2.909695 & 3.730870 & 2.190628 & 5.271112\\\\\n",
       "\\end{tabular}\n"
      ],
      "text/markdown": [
       "\n",
       "A data.frame: 3 × 5\n",
       "\n",
       "| Fecha &lt;date&gt; | Infl_Obs &lt;dbl&gt; | Infl_For &lt;dbl&gt; | Infl_ForL &lt;dbl&gt; | Infl_ForU &lt;dbl&gt; |\n",
       "|---|---|---|---|---|\n",
       "| 2006-03-31 | 3.055810 | 3.291552 | 2.717935 | 3.865168 |\n",
       "| 2006-06-30 | 3.275446 | 3.628589 | 2.557830 | 4.699348 |\n",
       "| 2006-09-30 | 2.909695 | 3.730870 | 2.190628 | 5.271112 |\n",
       "\n"
      ],
      "text/plain": [
       "  Fecha      Infl_Obs Infl_For Infl_ForL Infl_ForU\n",
       "1 2006-03-31 3.055810 3.291552 2.717935  3.865168 \n",
       "2 2006-06-30 3.275446 3.628589 2.557830  4.699348 \n",
       "3 2006-09-30 2.909695 3.730870 2.190628  5.271112 "
      ]
     },
     "metadata": {},
     "output_type": "display_data"
    }
   ],
   "source": [
    "eval_for"
   ]
  },
  {
   "cell_type": "code",
   "execution_count": 111,
   "metadata": {},
   "outputs": [
    {
     "data": {
      "text/html": [
       "0.533732964750241"
      ],
      "text/latex": [
       "0.533732964750241"
      ],
      "text/markdown": [
       "0.533732964750241"
      ],
      "text/plain": [
       "[1] 0.533733"
      ]
     },
     "metadata": {},
     "output_type": "display_data"
    }
   ],
   "source": [
    "rmse <- sqrt(mean((eval_for$Infl_Obs - eval_for$Infl_For)^2))\n",
    "rmse"
   ]
  },
  {
   "cell_type": "code",
   "execution_count": null,
   "metadata": {},
   "outputs": [],
   "source": []
  }
 ],
 "metadata": {
  "kernelspec": {
   "display_name": "R",
   "language": "R",
   "name": "ir"
  },
  "language_info": {
   "codemirror_mode": "r",
   "file_extension": ".r",
   "mimetype": "text/x-r-source",
   "name": "R",
   "pygments_lexer": "r",
   "version": "4.0.3"
  }
 },
 "nbformat": 4,
 "nbformat_minor": 4
}
