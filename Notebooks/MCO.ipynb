{
 "cells": [
  {
   "cell_type": "markdown",
   "metadata": {},
   "source": [
    "# 3. Teoría de muestras grandes y MCO"
   ]
  },
  {
   "cell_type": "markdown",
   "metadata": {},
   "source": [
    "Hasta el momento hemos tratado modelos de series de tiempo con el fin principal de hacer proyecciones; sin embargo, existe también un importante interés en saber cuál es el efecto de determinada variable sobre otra; por ejemplo, cual es el efecto de una devaluación del tipo de cambio en la inflación; para ello necesitamos modelos más generales de los ya vistos y que nos permitan responder este tipo de preguntas. En este capítulo analizaremos todas las propiedades de la estimación del modelo linear:\n",
    "\n",
    "$$Y_t = \\mathbf{X}_t \\beta + \\epsilon_t$$\n",
    "\n",
    "a través de MCO. $\\mathbf{X}_t$ es un conjunto de variables explicativas que incluye una constante. Antes de tocar este tema; es necesario dar revisión a algunos conceptos de teoría asintótica."
   ]
  },
  {
   "cell_type": "markdown",
   "metadata": {},
   "source": [
    "### 3.1 Teoremas de límites de secuencias de variables aleatorias"
   ]
  },
  {
   "cell_type": "markdown",
   "metadata": {},
   "source": [
    "En esta sección se estudiará el comportamiento al límite de secuencias de variables aleatorias $z_1, z_2, \\dots$. Empecemos con el concepto de convergencia en probabilidad."
   ]
  },
  {
   "cell_type": "markdown",
   "metadata": {},
   "source": [
    "Se dice que una secuencia de variables aleatorias $z_1, z_2, \\dots$ **converge en probabilidad** a una constante $\\alpha$ si, por cada $\\epsilon > 0$,\n",
    "\n",
    "$$\\lim_{t \\to \\infty} Prob(|z_t - \\alpha| > \\epsilon) = 0$$\n",
    "\n",
    "La constante $\\alpha$ es conocida como el **límite en probabilidad** de $z_t$ y se escribe como $plim_{t \\to \\infty} z_t = \\alpha$ o $z_t \\stackrel{p}\\to \\alpha$. Obviamente esta última expresión es idéntica a $z_t - \\alpha \\stackrel{p}\\to 0$.\n",
    "\n",
    "Esta noción de convergencia es fácilmente extendida a vectores aleatorios o matrices aleatorias donde se requiere la convergencia de cada uno de sus elementos."
   ]
  },
  {
   "cell_type": "markdown",
   "metadata": {},
   "source": [
    "Existe también el concepto de **covergencia casi segura** que se define como:\n",
    "\n",
    "$$Prob\\left(\\lim_{t \\to \\infty} z_t = \\alpha\\right) = 1$$\n",
    "\n",
    "Si una secuencia de variables aleatorias converge de forma casi segura, tambien converge en probabilidad."
   ]
  },
  {
   "cell_type": "markdown",
   "metadata": {},
   "source": [
    "Otro concepto de convergencia muy utilizado es el de **convergencia en media cuadrática** que se escribe como $z_t \\stackrel{m.s.}\\to \\alpha$. Se define como:\n",
    "\n",
    "$$\\lim_{t \\to \\infty}E[(z_t - \\alpha)^2] = 0$$\n",
    "\n",
    "La extensión a vectores o matrices es inmediata. La convergencia debe ser de cada elemento que los compone.\n",
    "\n",
    "Hemos hablado hasta ahora que la convergencia era hacia una constante; sin embargo, la convergencia también puede ser hacia una variable aleatoria $z$. Así: $z_t \\stackrel{p}\\to z$, $z_t \\stackrel{p}\\to z$ y $\\stackrel{p}\\to z$."
   ]
  },
  {
   "cell_type": "markdown",
   "metadata": {},
   "source": [
    "Un concepto también importante es el de **covergencia en distribución**. Sea $z_1, z_2, \\dots$ una secuencia de variables aleatorias y sea $F_1, F_2, \\dots$ sus respectivas distribuciones acumulativas. Se dice que una secuencia de variables aleatorias $z_1, z_2, \\dots$ converge en distribución a una variable aleatoria $z$ si la secuencia de distribuciones acumulativas $F_1, F_2, \\dots$ converge a la distribución acumulativa $F$ de $z$ en cada punto de continuidad. Se escribe como $z_t \\stackrel{d}\\to z$. Un resultado importante es que la convergencia en probabilidad implica la convergencia en distribución.\n",
    "\n",
    "Para el caso de vectores aleatorios se dice que $\\mathbf{z}_t \\stackrel{d}\\to \\mathbf{z}$ si la secuencia de distribuciones conjuntas acumulativas converge a la distribución conjunta acumulativa $F$ de $\\mathbf{z}$. Acá no es lo mismo decir que la convergencia en probabilidad implica la convergencia en probabilidad de cada elemento. Un resultado que relaciona la convergencia de vectores aleatorios con la de variables escalares aleatorias es:"
   ]
  },
  {
   "cell_type": "markdown",
   "metadata": {},
   "source": [
    "Para un vector cualquiera $\\mathbf{\\lambda}$, se tiene que:\n",
    "\n",
    "$$\\mathbf{z}_t \\stackrel{d}\\to \\mathbf{z} \\iff \\mathbf{\\lambda}'\\mathbf{z}_t \\stackrel{d}\\to \\mathbf{\\lambda}'\\mathbf{z}$$"
   ]
  },
  {
   "cell_type": "markdown",
   "metadata": {},
   "source": [
    "Un concepto relacionado con la convergencia en distribución es el de la **convergencia en momentos**. Sea $\\alpha_{nt}$ el enésimo momento de la secuencia $z_1, z_2, \\dots$. Entonces:\n",
    "\n",
    "$$z_t \\stackrel{d}\\to z \\Rightarrow \\text{$\\alpha_n$ es el enésimo momento de $z$}$$"
   ]
  },
  {
   "cell_type": "markdown",
   "metadata": {},
   "source": [
    "Por ejemplo, si la varianza de una secuencia de variables aleatorias que convergen en distribución, converge a un número; ese número es la varianza de $z$."
   ]
  },
  {
   "cell_type": "markdown",
   "metadata": {},
   "source": [
    "Existe las siguientes relaciones entre los modos de convergencia:\n",
    "\n",
    "1. $\\mathbf{z}_t \\stackrel{m.s.}\\to \\mathbf{z} \\Rightarrow \\mathbf{z}_t \\stackrel{p}\\to \\mathbf{z}$ \n",
    "2. $\\mathbf{z}_t \\stackrel{a.s.}\\to \\mathbf{z} \\Rightarrow \\mathbf{z}_t \\stackrel{p}\\to \\mathbf{z}$\n",
    "3. $\\mathbf{z}_t \\stackrel{p}\\to \\mathbf{\\alpha} \\iff \\mathbf{z}_t \\stackrel{d}\\to \\mathbf{z}$"
   ]
  },
  {
   "cell_type": "markdown",
   "metadata": {},
   "source": [
    "Hay tres resultados importantes en la teoría de grandes muestras. En la primera contamos con una función vectorial continua $\\mathbf{a(.)}$ que no depende en $t$. Entonces:\n",
    "\n",
    "$$\\mathbf{z}_t \\stackrel{p}\\to \\mathbf{z} \\Rightarrow \\mathbf{a(z_t)} \\stackrel{p}\\to \\mathbf{a(z)}$$\n",
    "\n",
    "Esto quiere decir:\n",
    "\n",
    "$$plim_{t \\to \\infty}\\mathbf{a(z_t)} = \\mathbf{a(}plim_{t \\to \\infty}\\mathbf{z_t)}$$"
   ]
  },
  {
   "cell_type": "markdown",
   "metadata": {},
   "source": [
    "El segundo resultado importante se relaciona con lo siguiente:\n",
    "\n",
    "1. $\\mathbf{x}_t \\stackrel{d}\\to \\mathbf{x}$, $\\mathbf{y}_t \\stackrel{p}\\to \\mathbf{\\alpha} \\Rightarrow \\mathbf{x_t + y_t} \\stackrel{d}\\to \\mathbf{x + \\alpha}$\n",
    "2. $\\mathbf{x}_t \\stackrel{d}\\to \\mathbf{x}$, $\\mathbf{y}_t \\stackrel{p}\\to \\mathbf{0} \\Rightarrow \\mathbf{y'_tx_t} \\stackrel{p}\\to \\mathbf{0}$\n",
    "3. $\\mathbf{x}_t \\stackrel{d}\\to \\mathbf{x}$, $\\mathbf{A}_t \\stackrel{p}\\to \\mathbf{A} \\Rightarrow \\mathbf{A_tx_t} \\stackrel{d}\\to \\mathbf{Ax}$\n",
    "\n",
    "En esto último, si en particular $\\mathbf{x} \\sim N(\\mathbf{0}, \\mathbf{\\Sigma})$ entonces $\\mathbf{A_tx_t} \\stackrel{d}\\to N(\\mathbf{0}, \\mathbf{A \\Sigma A'})$"
   ]
  },
  {
   "cell_type": "markdown",
   "metadata": {},
   "source": [
    "El resultado final se relaciona con el método delta. Supongamos que tenemos una secuencia de vectores aleatorios $\\mathbf{x}_1, \\mathbf{x}_2, \\dots$ donde $\\mathbf{x}_t \\stackrel{p}\\to \\mathbf{\\beta}$ y:\n",
    "\n",
    "$$\\sqrt{t}(\\mathbf{x}_t - \\mathbf{\\beta}) \\stackrel{d}\\to \\mathbf{z}$$\n",
    "\n",
    "Supongamos adicionalmente que existe la función continua y diferenciable $\\mathbf{a(.)}: \\mathbb{R}^K \\to \\mathbb{R}^r$ con las primeras derivadas evaluadas en $\\mathbf{\\beta}$:\n",
    "\n",
    "$$\\mathbf{A(\\beta)} = \\frac{\\delta \\mathbf{a(\\beta)}}{\\delta \\mathbf{\\beta'}}$$\n",
    "\n",
    "entonces:\n",
    "\n",
    "$$\\sqrt{t}[\\mathbf{a(x_t)} - \\mathbf{a(\\beta)}] \\stackrel{d}\\to \\mathbf{A(\\beta)z}$$"
   ]
  },
  {
   "cell_type": "markdown",
   "metadata": {},
   "source": [
    "Podemos ver un estimador como una secuencia de variables aleatorias $\\left\\{\\hat{\\mathbf{\\theta}}_t\\right\\}$ que depende del tamaño de la muestra $t$. Se dice que un estimador es consistente si:\n",
    "\n",
    "$$\\hat{\\mathbf{\\theta}}_t \\stackrel{p}\\to \\mathbf{\\theta}$$"
   ]
  },
  {
   "cell_type": "markdown",
   "metadata": {},
   "source": [
    "Adicionalmente se dice que un estimador es asintóticamente normal si:\n",
    "\n",
    "$$\\sqrt{t}(\\hat{\\mathbf{\\theta}_t} - \\mathbf{\\theta}) \\stackrel{d}\\to N(\\mathbf{0}, \\mathbf{\\Sigma})$$\n",
    "\n",
    "donde $$\\Sigma$$ es la varianza asintótica y se la denota como $Avar(\\hat{\\mathbf{\\theta}}_t)$."
   ]
  },
  {
   "cell_type": "markdown",
   "metadata": {},
   "source": [
    "Dos resultados importantes en la teoría de grandes muestras son: la ley de grandes números y el teorema del límite central."
   ]
  },
  {
   "cell_type": "markdown",
   "metadata": {},
   "source": [
    "En la **ley débil de grandes números** se parte que si:\n",
    "\n",
    "$$\\lim_{t \\to \\infty}E(\\bar{z}_t) = \\mu \\text{ y } \\lim_{t \\to \\infty} Var(\\bar{z}_t) = 0 \\Rightarrow \\bar{z}_t \\stackrel{p}\\to \\mu$$"
   ]
  },
  {
   "cell_type": "markdown",
   "metadata": {},
   "source": [
    "En la **ley fuerte de grandes números** se tiene que si $\\{z_t\\}$ es i.i.d. con $E(z_t) = \\mu$; entonces $\\bar{z}_t \\stackrel{a.s.}\\to \\mu$. Podemos ver un ejemplo de esta ley:"
   ]
  },
  {
   "cell_type": "code",
   "execution_count": 1,
   "metadata": {},
   "outputs": [
    {
     "data": {
      "text/html": [
       "3.16492154764295"
      ],
      "text/latex": [
       "3.16492154764295"
      ],
      "text/markdown": [
       "3.16492154764295"
      ],
      "text/plain": [
       "[1] 3.164922"
      ]
     },
     "metadata": {},
     "output_type": "display_data"
    }
   ],
   "source": [
    "set.seed(12345)\n",
    "z <- rnorm(500, mean = 3, sd = 2)\n",
    "mean(z)"
   ]
  },
  {
   "cell_type": "markdown",
   "metadata": {},
   "source": [
    "Finalmente está el **teorema del Límite Central** de Linderberg-Levy que nos dice que si$\\{\\mathbf{z}_t\\}$ es i.i.d con $E(\\mathbf{z}_t) = \\mathbf{\\mu}$ y $Var(\\mathbf{z}_t} = \\mathbf{\\Sigma}$ entonces:\n",
    "\n",
    "$$\\sqrt{T}(\\bar{\\mathbf{z}}_T - \\mathbf{\\mu}) = \\frac{1}{\\sqrt{T}}\\sum^T_{t = 1}(\\mathbf{z}_t - \\mathbf{\\mu}) \\stackrel{d}\\to N(\\mathbf{0}, \\mathbf{\\Sigma})$$\n",
    "\n",
    "Veamos un ejemplo:"
   ]
  },
  {
   "cell_type": "code",
   "execution_count": 17,
   "metadata": {},
   "outputs": [],
   "source": [
    "mu <- 3\n",
    "sd <- 2\n",
    "T <- 1000\n",
    "x <- rep(0, 1000)\n",
    "for (i in 1:1000) {\n",
    "    z <- rnorm(T, mean = mu, sd = sd)\n",
    "    x[i] <- sqrt(T) * (mean(z) - mu)\n",
    "}"
   ]
  },
  {
   "cell_type": "code",
   "execution_count": 3,
   "metadata": {},
   "outputs": [],
   "source": [
    "library(ggplot2)"
   ]
  },
  {
   "cell_type": "code",
   "execution_count": 22,
   "metadata": {},
   "outputs": [
    {
     "data": {
      "image/png": "[encoded data removed]",
      "text/plain": [
       "plot without title"
      ]
     },
     "metadata": {
      "image/png": {
       "height": 420,
       "width": 420
      }
     },
     "output_type": "display_data"
    }
   ],
   "source": [
    "datos <- data.frame(x = x)\n",
    "g <- ggplot(data = datos, aes(x = x))\n",
    "g + geom_histogram(aes(y = ..density..), breaks = seq(-8, 8, by = 0.1), colour = \"black\", fill = \"white\") +\n",
    "stat_function(fun = dnorm, args = list(mean = 0, sd = 2), colour = \"red\")"
   ]
  },
  {
   "cell_type": "markdown",
   "metadata": {},
   "source": [
    "### 3.2 Conceptos fundamentales en el análisis de series de tiempo"
   ]
  },
  {
   "cell_type": "markdown",
   "metadata": {},
   "source": [
    "Ya hemos visto que un proceso estocástico es una secuencia o sucesión de variables aleatorias indexadas al tiempo y una serie de tiempo es una realización de ese proceso estocástico. \n",
    "\n",
    "Como sólo se cuenta con una realización del proceso estocástico, necesitamos dos propiedades fundamentales para la estimación de los momentos de este proceso estacionario. La primera propiedad es la de **estacionariedad** y se refiere a que la distribución de las variables aleatorias que conforman el proceso estocástico permanezca relativamente constante a medida que nos movemos en el tiempo. La segunda propiedad se relaciona con la **ergodicidad** y ello se refiere a que el proceso no sea muy persistente así la realización observada nos brinda diferente información en cada uno de sus componentes."
   ]
  },
  {
   "cell_type": "markdown",
   "metadata": {},
   "source": [
    "Dentro de la estacionariedad, hemos hablado que existe la estacionariedad fuerte cuando la distribución conjunta de $z_t, z_{t_1}, z_{t_2}, \\dots, z_{t_r}$ depende sólo de $t_1 - t, t_2 - t, t_3 - t, \\dots, t_r - t$ pero no en $t$. Por ejemplo, la distribución conjunta de $(z_1, z_5)$ es la misma que $(z_{12}, z_{16})$. Lo que importa es la posición relativa en la secuencia.\n",
    "\n",
    "Muchas series de tiempo en economía no son estacionarias porque presentan tendencias y estacionalidad. Hemos hablado que es necesario remover estos componentes para obtener una serie de tiempo estacionaria.\n",
    "\n",
    "Un concepta más sobre estacionariedad es el de estacionariedad débil o en el sentido débil. Esto se cumple para el proceso estocástico $\\{z_t\\}$ cuando:\n",
    "\n",
    "- $E(z_t)$ no de pende de $t$.\n",
    "- $\\gamma_j = Cov(z_t, z_{t - j})$ existe y depende sólo de $j$ y no de $t$.\n",
    "\n",
    "Vimos que para un proceso estacionario se cumple que: $\\gamma_j = \\gamma_{-j}$.\n",
    "\n",
    "Uno de los procesos estacionarios fundamentales es el proceso ruido blanco que posee las siguientes propiedades:\n",
    "\n",
    "- $E(z_t) = 0$\n",
    "- $\\gamma_j = Cov(z_t, z_{t - j}) = 0$ para todo $j \\neq 0$."
   ]
  },
  {
   "cell_type": "markdown",
   "metadata": {},
   "source": [
    "Un proceso $\\{z_t\\}$ se considera ergódico si para cualquier función acotada $f: \\mathbb{R}^k \\to \\mathbb{R}$ y $g: \\mathbb{R}^l \\to \\mathbb{R}$, se tiene:\n",
    "\n",
    "$$\\lim_{n \\to \\infty}|E[f(z_t, \\dots, z_{t + k})g(z_{t + n}, \\dots, z_{t + n +l})]| = |E[f(z_t, \\dots, z_{t + k})]E[g(z_{t + n}, \\dots, z_{t + n +l})]$$\n",
    "\n",
    "En otras palabras, un proceso estocástico es ergódico si es asintóticamente independiente; esto quiere decir que dos variables aleatorias ubicadas en extremos de la secuencia son casi independientes. Un proceso que es adicionalmente estacionario será llamado proceso **ergódico estacionario**.\n",
    "\n"
   ]
  },
  {
   "cell_type": "markdown",
   "metadata": {},
   "source": [
    "Con esta propiedad podemos establecer el **Teorema Ergódico** que dice que si un proceso $\\{\\mathbf{z}_t\\}$ es ergódico estacionario con $E(\\mathbf{z}_t) = \\mathbf{\\mu}$. Entonces:\n",
    "\n",
    "$$\\bar{z}_T = \\frac{1}{T}\\sum^T_{t = 1}\\mathbf{z}_t \\stackrel{a.s.}\\to \\mathbf{\\mu}$$\n",
    "\n",
    "Este teorema es una generalización de la ley de grandes números que vimos en la sección anterior donde se requería que el proceso estocástico sea i.i.d. Dentro de este teorema entran los procesos ARMA. Verifiquemos con un ejemplo:"
   ]
  },
  {
   "cell_type": "markdown",
   "metadata": {},
   "source": [
    "$$ Y_t = 1.2 + 0.6 Y_{t - 1} + \\epsilon_t$$"
   ]
  },
  {
   "cell_type": "markdown",
   "metadata": {},
   "source": [
    "Este proceso tiene una media de $\\mu = \\frac{1.2}{0.4} = 3$."
   ]
  },
  {
   "cell_type": "code",
   "execution_count": 1,
   "metadata": {},
   "outputs": [
    {
     "data": {
      "text/html": [
       "3.02332131974133"
      ],
      "text/latex": [
       "3.02332131974133"
      ],
      "text/markdown": [
       "3.02332131974133"
      ],
      "text/plain": [
       "[1] 3.023321"
      ]
     },
     "metadata": {},
     "output_type": "display_data"
    }
   ],
   "source": [
    "set.seed(12345)\n",
    "epsilon <- rnorm(1000)\n",
    "y <- rep(0, 1000)\n",
    "y[1] <- 1\n",
    "for (i in 2:1000) {\n",
    "    y[i] <- 1.2 + 0.6 * y[i - 1] + epsilon[i]\n",
    "}\n",
    "mean(y[501:1000])"
   ]
  },
  {
   "cell_type": "markdown",
   "metadata": {},
   "source": [
    "Existe tambien un teorema de límte central para procesos ergódicos estacionarios. Sea $Y_t$:\n",
    "\n",
    "$$Y_t = \\mu + \\sum^\\infty_{j = 0}\\psi_j \\epsilon_{t - j}$$\n",
    "\n",
    "donde $\\{epsilon_t\\}$ es una secuencia i.i.d de variables aleatorias con $E(\\epsilon^2_t) < \\infty$ y $\\sum^\\infty_{j = 0}|\\psi_j| < \\infty$. Entonces,\n",
    "\n",
    "$$\\sqrt{T}(\\bar{Y}_T - \\mu) \\stackrel{d}\\to N(0, \\sum^\\infty_{j = -\\infty}\\gamma_j)$$"
   ]
  },
  {
   "cell_type": "markdown",
   "metadata": {},
   "source": [
    "Podemos ejemplificar con un proceso ergódico estacionario MA(1):\n",
    "\n",
    "$$Y_t = 1.4 + \\epsilon_t + 0.6 \\epsilon_{t - 1}$$"
   ]
  },
  {
   "cell_type": "markdown",
   "metadata": {},
   "source": [
    "Consideremos que $\\epsilon_t \\sim N(0, 1)$. Tenemos que $\\sum^\\infty_{j = -\\infty}\\gamma_j = \\gamma_{- 1} + \\gamma_0 + \\gamma_1 = 2(0.6)(1) + (1 + 0.6^2)(1) = 2.56$."
   ]
  },
  {
   "cell_type": "code",
   "execution_count": 3,
   "metadata": {},
   "outputs": [],
   "source": [
    "T <- 1000; n <- 1000\n",
    "x <- rep(0, n)\n",
    "for (i in 1:n) {\n",
    "    epsilon <- rnorm(T)\n",
    "    y <- rep(0, T)\n",
    "    for (j in 2:T) {\n",
    "        y[j] <- 1.4 + epsilon[j] + 0.6 * epsilon[j - 1]\n",
    "    }\n",
    "    x[i] <- sqrt(T - 1) * (mean(y[2:T]) - 1.4)\n",
    "}"
   ]
  },
  {
   "cell_type": "code",
   "execution_count": 4,
   "metadata": {},
   "outputs": [],
   "source": [
    "library(ggplot2)"
   ]
  },
  {
   "cell_type": "code",
   "execution_count": 7,
   "metadata": {},
   "outputs": [
    {
     "data": {
      "image/png": "[encoded data removed]",
      "text/plain": [
       "plot without title"
      ]
     },
     "metadata": {
      "image/png": {
       "height": 420,
       "width": 420
      }
     },
     "output_type": "display_data"
    }
   ],
   "source": [
    "datos <- data.frame(x = x)\n",
    "g <- ggplot(data = datos, aes(x = x))\n",
    "g + geom_histogram(aes(y = ..density..), breaks = seq(-6, 6, by = 0.1), colour = \"black\", fill = \"white\") +\n",
    "stat_function(fun = dnorm, args = list(mean = 0, sd = sqrt(2.56)), colour = \"red\")"
   ]
  },
  {
   "cell_type": "markdown",
   "metadata": {},
   "source": [
    "Hay un proceso estocástico muy importante que es la **martingala**.\n",
    "\n",
    "La martingala se define como aquel proceso estocástico $\\{z_t\\}$ donde dado un conjunto infromación $I_{t - 1}$ se tiene que:\n",
    "\n",
    "$$E(z_t | I_{t - 1}) = E_{t - 1}(z_t) = z_{t - 1}$$\n",
    "\n",
    "Derivado de este proceso se tiene otro conocido como **martingala en diferencias** y este proceso $\\{g_t\\}$ tiene la siguiente propiedad:\n",
    "\n",
    "$E_{t - 1}(g_t) = 0$\n",
    "\n",
    "Debido a esto un proceso martingala en diferencias no tiene correlación serial $Cov(g_t, g_{t - j}) = 0$ para todo $j \\neq 0$.\n",
    "\n",
    "Un ejemplo de un proceso martingala en diferencias es el ARCH(1):\n",
    "\n",
    "$$u_t = \\nu_t \\sqrt{(\\zeta + \\alpha u^2_{t - 1})}$$\n",
    "\n",
    "donde se tiene que $E_{t - 1}(u_t) = 0$."
   ]
  },
  {
   "cell_type": "markdown",
   "metadata": {},
   "source": [
    "Existe un teorema de límite central para procesos martingalas en diferencia que es muy importante. \n",
    "\n",
    "Sea $\\{\\mathbf{g}_t\\}$ un proceso martingala en diferencias que es ergódico y estacionario con $E(\\mathbf{g}_t \\mathbf{g}'_t) = \\mathbf{\\Sigma}$ y sea $\\bar{\\mathbf{g}}_T = \\frac{1}{T}\\sum^T_{t = 1}\\mathbf{g}_t$; entonces:\n",
    "\n",
    "$$\\sqrt{T}\\bar{\\mathbf{g}}_T = \\frac{1}{\\sqrt{T}}\\sum^T_{t = 1}\\mathbf{g}_t \\stackrel{d}\\to N(\\mathbf{0}, \\mathbf{\\Sigma})$$"
   ]
  },
  {
   "cell_type": "markdown",
   "metadata": {},
   "source": [
    "Ejemplifiquemos esto con el siguiente proceso ARCH(1):\n",
    "\n",
    "$$u_t = \\nu_t \\sqrt{0.5 + 0.8 u^2_{t - 1}}$$\n",
    "\n",
    "La varianza no condicional viene dada por: $\\frac{0.5}{0.2} = 2.5$."
   ]
  },
  {
   "cell_type": "code",
   "execution_count": 8,
   "metadata": {},
   "outputs": [],
   "source": [
    "T <- 1000; n <- 1000\n",
    "x <- rep(0, n)\n",
    "for (i in 1:n) {\n",
    "    u <- rep(0, T)\n",
    "    u[1] <- rnorm(1); v <- rnorm(T)\n",
    "    for (j in 2:T) {\n",
    "        u[j] <- v[j] * sqrt(0.5 + 0.8 * u[j - 1]^2)\n",
    "    }\n",
    "    x[i] <- sqrt(T - 1) * mean(u[2:T])\n",
    "}"
   ]
  },
  {
   "cell_type": "code",
   "execution_count": 10,
   "metadata": {},
   "outputs": [
    {
     "data": {
      "image/png": "[encoded data removed]",
      "text/plain": [
       "plot without title"
      ]
     },
     "metadata": {
      "image/png": {
       "height": 420,
       "width": 420
      }
     },
     "output_type": "display_data"
    }
   ],
   "source": [
    "datos <- data.frame(x = x)\n",
    "g <- ggplot(data = datos, aes(x = x))\n",
    "g + geom_histogram(aes(y = ..density..), breaks = seq(-6, 6, by = 0.1), colour = \"black\", fill = \"white\") +\n",
    "stat_function(fun = dnorm, args = list(mean = 0, sd = sqrt(2.5)), colour = \"red\")"
   ]
  },
  {
   "cell_type": "markdown",
   "metadata": {},
   "source": [
    "### 3.3 Teoría de grandes muestras en el estimador de MCO"
   ]
  },
  {
   "cell_type": "markdown",
   "metadata": {},
   "source": [
    "Ahora consideramos las propiedades de grandes muestras del estimaor MCO bajo el modelo lineal:\n",
    "\n",
    "$$y_t = \\mathbf{x}'_t \\mathbf{\\beta} + \\epsilon_t \\text{ para } t = 1, 2, \\dots, T$$"
   ]
  },
  {
   "cell_type": "markdown",
   "metadata": {},
   "source": [
    "donde $\\mathbf{x}_t$ es un vector de dimensión $K$ de variables explicativas, $\\mathbf{\\beta}$ es un vector de coeficientes de tamaño $K$ y $\\epsilon_t$ es el término error. El estimador MCO se sustenta en los siguientes supuestos:\n",
    "\n",
    "1. **Linealidad del modelo** \n",
    "2. **Estacionariedad Ergódica**: El proceso estocástico $\\{y_t, x_t\\}$ tiene que ser conjuntamente ergódico estacionario. Por ejemplo, en microeconometría donde se estudian las encuestas de hogares se asume que el proceso $\\{y_i, x_i\\}$ es i.i.d. Nuestro supuesto de estacionariedad ergódica es más general.\n",
    "3. **No relación contemporánea del término error con las variables explicativas**: Este supesto se define como $Cov(x_{tk}, \\epsilon_t) = 0$ para todo $t$ y $k = 1, 2, \\dots, K$. En forma vectorial puede ser escrito como:\n",
    "$$ E[\\mathbf{x}_t \\epsilon_t] = 0 \\text{ o de igual forma } E[\\mathbf{g}_t] = 0 \\text{ donde } \\mathbf{g}_t = \\mathbf{x}_t\\epsilon_t$$\n",
    "Este es el supuesto más importante de MCO y su violación se traduce en estimaciones inconsistentes. Adicionalmente, es posible que el termino error esté relacionado con regresores pasados o futuros por lo que la estimación de modelos AR entra en esta especificación.\n",
    "4. **Condición de rango**: La matrix $K \\times K$ $E(\\mathbf{x}_t \\mathbf{x}'_t)$ es no singular de rango $K$. Esto quiere decir que no existe ninguna relación lineal entre los regresores. Este se lo conoce tambien como el supuesto de no multicolinealidad.\n",
    "5. **$\\mathbf{g}_t$ es una martingala en diferencias con segundos momentos finitos**: Esto implica que la matriz $K \\times K$ $E(\\mathbf{g}_t \\mathbf{g}'_t) = E(\\epsilon^2_t \\mathbf{x}_t \\mathbf{x}'_t) = \\mathbf{S}$ es no singular. Se cumple que:\n",
    "\n",
    "$$\\sqrt{T}\\bar{\\mathbf{g}} \\stackrel{d}\\to N(\\mathbf{0}, \\mathbf{S})$$\n",
    "\n",
    "La estimación de $\\mathbf{S}$ implica el cálculo de cuartos momentos por lo que necesitaremos un supuesto adicional para su estimación consistente. Supongamos por el momento que contamos con un estimador consistente de $\\mathbf{S}$ que es $\\mathbf{\\hat{S}}$; entonces estas son las propiedades del estimador MCO $\\mathbf{b}_T$:\n"
   ]
  },
  {
   "cell_type": "markdown",
   "metadata": {},
   "source": [
    "1. **Consistencia de $\\mathbf{b}_T$**: Con los supuestos 1-4 se cumple que $\\mathbf{b}_T \\stackrel{p}\\to \\mathbf{\\beta}$.\n",
    "2. **Normalidad asintótica de $\\beta_T$**: Se cumple que:\n",
    "$$\\sqrt{T}(\\mathbf{b}_T - \\mathbf{\\beta}) \\stackrel{d}\\to N(\\mathbf{0}, Avar(\\mathbf{b}_T)$$\n",
    "\n",
    "donde:\n",
    "\n",
    "$$Avar(\\mathbf{b}_T) = E(\\mathbf{x}_t \\mathbf{x}'_t)^{-1} \\mathbf{S} E(\\mathbf{x}_t \\mathbf{x}'_t)^{-1}$$\n",
    "\n",
    "Esta es una matriz de varianzas asintóticas robusta a heteroscedasticidad ya que en ningún momento hicimos algun supuesto sobre la varianza condicional $E[\\epsilon^2_t | \\mathbf{x}_t]$.\n",
    "\n",
    "3. **Estimador consistente de $Avar(\\mathbf{b}_T)$**: Contanto con un estimador consistente de $\\mathbf{S}$, nuestro estimador consistente de $Avar(\\mathbf{b}_T)$ es:\n",
    "\n",
    "$$\\hat{Avar(\\mathbf{b}_T)} = \\mathbf{S}^{-1}_{\\mathbf{XX}}\\mathbf{\\hat{S}}\\mathbf{S}^{-1}_{\\mathbf{XX}}$$\n",
    "\n",
    "donde:\n",
    "\n",
    "$$\\mathbf{S}_{\\mathbf{XX}} = \\frac{1}{T}\\sum^T_{t = 1}\\mathbf{x}_t \\mathbf{x}'_t$$\n",
    "\n",
    "Tambien hay un estimador consistente para la varianza del error:\n",
    "\n",
    "$$s^2 = \\frac{1}{T - K}\\sum^T_{t = 1}e^2_t \\stackrel{p}\\to E(\\epsilon^2_t) $$\n",
    "\n",
    "donde $e_t = y_t - \\mathbf{x}'_t \\mathbf{b}_T$."
   ]
  },
  {
   "cell_type": "markdown",
   "metadata": {},
   "source": [
    "### 3.4 Pruebas de Hipótesis"
   ]
  },
  {
   "cell_type": "markdown",
   "metadata": {},
   "source": [
    "Nuevamente asumimos que contamos con un estimados consistente de $\\mathbf{S}$ que es $\\mathbf{\\hat{S}}$. Existen dos tipos de pruebas de hipótesis: Las pruebas de hipótesis lineales y las pruebas de hipótesis no lineales:\n",
    "\n",
    "#### 1. Pruebas de hipótesis lineales"
   ]
  },
  {
   "cell_type": "markdown",
   "metadata": {},
   "source": [
    "Consideramos las hipótesis del tipo $H_0: \\beta_k = \\bar{\\beta}_k$. Para ello recurrimos al siguiente estadístico:\n",
    "\n",
    "$$t_{kT} = \\frac{\\sqrt{T}(b_{kT} - \\bar{\\beta}_k)}{\\sqrt{\\hat{Avar(b_{kT})}}} = \\frac{b_{kT} - \\bar{\\beta}_k}{SE(b_{kT})} \\stackrel{d}\\to N(0, 1)$$"
   ]
  },
  {
   "cell_type": "markdown",
   "metadata": {},
   "source": [
    "donde: \n",
    "\n",
    "$$SE(b_{kT}) = \\sqrt{\\frac{1}{T}\\hat{Avar(b_{kT})}}$$\n",
    "\n",
    "A $SE(b_{kT}$ se lo conoce como el error estándar robusto de $b_{kT}$. Los pasos para esta prueba son:"
   ]
  },
  {
   "cell_type": "markdown",
   "metadata": {},
   "source": [
    "1. Calcular $t_{kT}$.\n",
    "2. Revisar la tabla de $N(0, 1)$ y encontrar el valor crítico para $t_{\\alpha / 2}$ el cual deja $\\alpha / 2$ en la cola superior de la distribución normal estándar.\n",
    "3. Aceptar la hipótesis $H_0$ si $|t_{kT}| < t_{\\alpha / 2}$. De lo contrario rechazar."
   ]
  },
  {
   "cell_type": "markdown",
   "metadata": {},
   "source": [
    "Otro tipo de prueba de hipótesis lineal se define como $H_0: \\mathbf{R}\\mathbf{\\beta} = \\mathbf{r}$ donde $\\mathbf{R}$ es una matriz $j \\times R$ y $j$ es el número de restricciones. Tenemos el siguiente estadístico de Wald:\n",
    "\n",
    "$$ W_T = T(\\mathbf{R}\\mathbf{b}_T - \\mathbf{r})'[\\mathbf{R}(\\hat{Avar(\\mathbf{b}_T)})\\mathbf{R}']^{-1}(\\mathbf{R}\\mathbf{b}_T - \\mathbf{r}) \\stackrel{d}\\to \\chi^2(j)$$\n",
    "\n",
    "Los pasos a seguir en esta prueba son:"
   ]
  },
  {
   "cell_type": "markdown",
   "metadata": {},
   "source": [
    "1. Calcular el estadistico $W_T$.\n",
    "2. Buscar en la tabla de la distribución $\\chi^2(j)$ el valor crítico de $\\chi^2_\\alpha (j)$ que da $\\alpha$ a la cola superior de la distribución $\\chi^2(j)$.\n",
    "3. Si $W_T < \\chi^2_\\alpha (j)$ aceptar $H_0$. De lo contrario rechazar."
   ]
  },
  {
   "cell_type": "markdown",
   "metadata": {},
   "source": [
    "#### 2. Pruebas de hipótesis no lineales"
   ]
  },
  {
   "cell_type": "markdown",
   "metadata": {},
   "source": [
    "Consideremos una hipótesis del tipo $H_0: \\mathbf{a(\\beta)} = \\mathbf{0}$.\n",
    "Acá, $\\mathbf{a(.)}$ es una función con primeras derivadas continuas. Sea $j$ la dimensión de $\\mathbf(a(\\beta))$ entonces la hipótesis nula tiene $j$ restricciones. Sea $\\mathbf{A(\\beta)}$ la matriz $j \\times K$ de primeras derivadas evaluadas en $\\mathbf{\\beta}$. Tenemos entonces el siguiente estadístico de Wald $W_T$:\n",
    "\n",
    "$$W_T = T\\mathbf{a(b_T)}'[\\mathbf{A(b_T)}\\hat{Avar(\\mathbf{b_T})}\\mathbf{A(b_T)}']^{-1}\\mathbf{a(b_T)} \\stackrel{d}\\to \\chi^2(j)$$\n",
    "\n",
    "Se siguen los siguientes pasos:"
   ]
  },
  {
   "cell_type": "markdown",
   "metadata": {},
   "source": [
    "1. Calcular el estadistico $W_T$.\n",
    "2. Buscar en la tabla de la distribución $\\chi^2(j)$ el valor crítico de $\\chi^2_\\alpha (j)$ que da $\\alpha$ a la cola superior de la distribución $\\chi^2(j)$.\n",
    "3. Si $W_T < \\chi^2_\\alpha (j)$ aceptar $H_0$. De lo contrario rechazar."
   ]
  },
  {
   "cell_type": "markdown",
   "metadata": {},
   "source": [
    "### 3.5 Estimación consistente de $\\mathbf{S}$"
   ]
  },
  {
   "cell_type": "markdown",
   "metadata": {},
   "source": [
    "Consideremos el siguinete estimador de $\\mathbf{S}$:\n",
    "\n",
    "$$\\mathbf{\\hat{S}} = \\frac{1}{T}\\sum^T_{t = 1}e^2_t \\mathbf{x}_t \\mathbf{x}'_t$$\n",
    "\n",
    "donde $e_t = y_t - \\mathbf{x}'_t\\mathbf{b}_T$. Si se considera el supuesto que $E[(x_{tk}x_{tj})^2]$ existe y es finito para todo $k, j = 1, 2 \\dots , K$ entonces se cumple que $\\mathbf{\\hat{S}} \\stackrel{d}\\to \\mathbf{S}$."
   ]
  },
  {
   "cell_type": "markdown",
   "metadata": {},
   "source": [
    "Esta estimación es consistente si $\\mathbf{g}_t$ es una martingala en diferencias. En el caso que hubiera correlación serial en $\\mathbf{g}_t$ ya no es pertinente el estimador que definimos ya que $\\mathbf{S}$ es de la forma:\n",
    "\n",
    "$$\\mathbf{S} = \\sum^\\infty_{j = -\\infty}\\mathbf{\\Gamma}_j$$\n",
    "\n",
    "donde:\n",
    "\n",
    "$$\\mathbf{\\Gamma}_j = E(\\mathbf{g}_t\\mathbf{g}_{t - j})$$"
   ]
  },
  {
   "cell_type": "markdown",
   "metadata": {},
   "source": [
    "Un estimador consistente de $\\mathbf{\\Gamma}_j$ sería:\n",
    "\n",
    "$$\\mathbf{\\hat{\\Gamma}}_j = \\frac{1}{T}\\sum^T_{t = j + 1}\\mathbf{\\hat{g}}_t\\mathbf{\\hat{g}}_{t - j}$$"
   ]
  },
  {
   "cell_type": "markdown",
   "metadata": {},
   "source": [
    "Suponiendo que después de $q$ rezagos $\\mathbf{\\hat{\\Gamma}}_j = \\mathbf{0}$ para $j > q$; entonces un estimador consistente de $\\mathbf{S}$ sería:\n",
    "\n",
    "$$\\mathbf{\\hat{S}} = \\sum^q_{j = - q} \\mathbf{\\hat{\\Gamma}}_j$$\n",
    "\n",
    "El problema es que desconocemos $q$ y ello implicaría la estimación de muchos parámetros. Para resolver esto, la literatura ha propuesto los estimadores en base a kerneles (o ponderadores) y estimaciones basadas en vectores autoregresivos VARHAC.\n",
    "\n",
    "En el primer caso tenemos que:\n",
    "\n",
    "$$\\mathbf{\\hat{S}} = \\sum^{T - 1}_{j = -T + 1}k\\left(\\frac{j}{q(T)}\\right)\\mathbf{\\hat{\\Gamma}}_j$$\n",
    "\n",
    "donde $k(.)$ es el kernel o ponderador y $q(T)$ es el ancho de banda. Existen varias opciones de kernel que se utilizan: truncado, Bartlett, Quadratic Spectral, etc.\n",
    "\n",
    "La otra opción de VARHAC es estimar un modelo VAR a $\\mathbf{\\hat{g}}_t$ de $p$ rezagos que se definen bajo el criterio de Schwartz. El estimador $\\mathbf{\\hat{S}}$ vendría dado por:\n",
    "\n",
    "$$\\mathbf{\\hat{S}} = [\\mathbf{I} - \\sum^P_{p = 1}\\mathbf{\\hat{\\Phi}}_p]^{-1}\\mathbf{\\hat{\\Omega}}[\\mathbf{I} - \\sum^P_{p = 1}\\mathbf{\\hat{\\Phi}'}_p]^{-1}$$\n",
    "\n",
    "donde:\n",
    "\n",
    "$$\\mathbf{\\hat{\\Omega}} = \\frac{1}{T}\\sum^T_{t = p_{max}(T) + 1}\\mathbf{\\hat{e}}_t\\mathbf{\\hat{e}'}_t$$"
   ]
  },
  {
   "cell_type": "markdown",
   "metadata": {},
   "source": [
    "### 3.6 Incluyendo el supuesto de homoscedasticidad de los errores"
   ]
  },
  {
   "cell_type": "markdown",
   "metadata": {},
   "source": [
    "Toda la derivación que hemos hecho hasta el momento es robusta ante heteroscedasticidad de los errores, pero si incluimos el supuesto de homoscedasticidad $E[\\epsilon^2_t|\\mathbf{x}_t] = \\sigma^2$ ocurre lo siguiente:\n",
    "\n",
    "1. En las pruebas de hipótesis lineales podemos utilizar las tradicionales pruebas t y F ya conocidas en el modelo clásico de regresión lineal.\n",
    "2. Si conocemos la forma de heteroscedasticidad entonces podemos aplicar la técnica de Mínimos Cuadrados Ponderados que es más eficiente (menor varianza de los estimadores)."
   ]
  },
  {
   "cell_type": "markdown",
   "metadata": {},
   "source": [
    "### 3.7 Diagnóstico de los errores $e_t$ estimados"
   ]
  },
  {
   "cell_type": "markdown",
   "metadata": {},
   "source": [
    "El modelo lineal general a través de MCO concluye que los errores poblacionales $\\epsilon_t$ son una martingala en diferencia por lo que no hay correlación serial alguna. El diagnóstico a efectuar en los errores estimados es verificar la no presencia de correlación serial. Ello se logra con:\n",
    "\n",
    "1. El gráfico ACF de $e_t$.\n",
    "2. Aplicar las pruebas de Portmanteau.\n",
    "\n",
    "En ninguna de las dos pruebas se debería rechazar la hipótesis nula de no autocorrelación."
   ]
  },
  {
   "cell_type": "markdown",
   "metadata": {},
   "source": [
    "### 3.8 Ejemplo Ilustrativo"
   ]
  },
  {
   "cell_type": "markdown",
   "metadata": {},
   "source": [
    "Simularemos un ejemplo considerando dos procesos estacionarios y ergódicos AR(1). Sea el proceso $X_{1t}$:\n",
    "\n",
    "$$X_{1t} = 1.3 + 0.8 X_{1(t - 1)} + \\epsilon_{1t}$$\n",
    "\n",
    "Sea el proceso $X_{2t}$:\n",
    "\n",
    "$$X_{2t} = -1.2 - 0.6 X_{2(t - 1)} + \\epsilon_{2t}$$ \n",
    "\n",
    "Finalmente sea el proceso $Y_t$:\n",
    "\n",
    "$$Y_t = 0.5 + 2.3 X_{1t} + 3.1 X_{2t} + \\epsilon_t$$"
   ]
  },
  {
   "cell_type": "code",
   "execution_count": 1,
   "metadata": {},
   "outputs": [],
   "source": [
    "set.seed(12345)\n",
    "epsilon1 <- rnorm(1000, mean = 0, sd = 2)\n",
    "epsilon2 <- rnorm(1000, mean = 0, sd = 4)\n",
    "x1 <- rep(0, 1000); x2 <- rep(0, 1000)\n",
    "x1[1] <- 1; x2[1] <- -1\n",
    "for (i in 2:1000) {\n",
    "    x1[i] <- 1.3 + 0.8 * x1[i - 1] + epsilon1[i]\n",
    "    x2[i] <- -1.2 - 0.6 * x2[i - 1] + epsilon2[i]\n",
    "}\n",
    "epsilon <- rnorm(500); y <- rep(0, 500)\n",
    "for (i in 1:500) {\n",
    "    y[i] <- 0.5 + 2.3 * x1[500 + i] + 3.1 * x2[500 + i] + epsilon[i]\n",
    "}"
   ]
  },
  {
   "cell_type": "code",
   "execution_count": 2,
   "metadata": {},
   "outputs": [],
   "source": [
    "datos <- data.frame(y = y, x1 = x1[501:1000], x2 = x2[501:1000])"
   ]
  },
  {
   "cell_type": "code",
   "execution_count": 3,
   "metadata": {},
   "outputs": [
    {
     "name": "stderr",
     "output_type": "stream",
     "text": [
      "Loading required package: zoo\n",
      "\n",
      "\n",
      "Attaching package: 'zoo'\n",
      "\n",
      "\n",
      "The following objects are masked from 'package:base':\n",
      "\n",
      "    as.Date, as.Date.numeric\n",
      "\n",
      "\n"
     ]
    }
   ],
   "source": [
    "library(sandwich)\n",
    "library(lmtest)"
   ]
  },
  {
   "cell_type": "code",
   "execution_count": 4,
   "metadata": {},
   "outputs": [],
   "source": [
    "mco_mod <- lm(y ~ x1 + x2, data = datos)"
   ]
  },
  {
   "cell_type": "code",
   "execution_count": 5,
   "metadata": {},
   "outputs": [
    {
     "data": {
      "text/plain": [
       "\n",
       "z test of coefficients:\n",
       "\n",
       "             Estimate Std. Error  z value  Pr(>|z|)    \n",
       "(Intercept) 0.5107957  0.0823170   6.2052 5.462e-10 ***\n",
       "x1          2.2891751  0.0108910 210.1902 < 2.2e-16 ***\n",
       "x2          3.0867405  0.0091483 337.4101 < 2.2e-16 ***\n",
       "---\n",
       "Signif. codes:  0 '***' 0.001 '**' 0.01 '*' 0.05 '.' 0.1 ' ' 1\n"
      ]
     },
     "metadata": {},
     "output_type": "display_data"
    }
   ],
   "source": [
    "coeftest(mco_mod, df = Inf, vcov = vcovHAC(mco_mod))"
   ]
  },
  {
   "cell_type": "code",
   "execution_count": 6,
   "metadata": {},
   "outputs": [
    {
     "data": {
      "image/png": "[encoded data removed]",
      "text/plain": [
       "Plot with title \"ACF Residuos\""
      ]
     },
     "metadata": {
      "image/png": {
       "height": 420,
       "width": 420
      }
     },
     "output_type": "display_data"
    }
   ],
   "source": [
    "acf(mco_mod$residuals, lag.max = 20, main = \"ACF Residuos\")"
   ]
  },
  {
   "cell_type": "code",
   "execution_count": 7,
   "metadata": {},
   "outputs": [
    {
     "name": "stdout",
     "output_type": "stream",
     "text": [
      "[1] 0.1396083\n",
      "[1] 0.09403175\n",
      "[1] 0.06474728\n",
      "[1] 0.03555204\n"
     ]
    }
   ],
   "source": [
    "for (i in c(5, 10, 15, 20)) {\n",
    "    port_test <- Box.test(mco_mod$residuals, lag = i, type = \"Ljung-Box\")\n",
    "    print(port_test$p.value)\n",
    "}"
   ]
  },
  {
   "cell_type": "markdown",
   "metadata": {},
   "source": [
    "### 3.9 Caso de Estudio: Econometría de las Expectativas Racionales"
   ]
  },
  {
   "cell_type": "markdown",
   "metadata": {},
   "source": [
    "En los modelos de expectativas racionales, se asume que los agentes forman sus expectativas sobre una variable económica en específico utilizando toda la información disponible. Estas expectativas no pueden observarse pero pueden estimarse usando la econometría de las expectativas racionales. Esta sección está basada en la parte aplicada del capítulo 2 del libro de Hayashi (2000).\n",
    "\n",
    "Estudiaremos una aplicación de la **hipótesis de mercados eficientes** introducida por Fama (1975). Segun él, los precios de los activos en los mercados financieros reflejan completamente la información disponible. Es una forma de aplicar las expectativas racionales.\n",
    "\n",
    "El mercado que estudió Fama (1975) fue el mercado de T-Bills del Tesoro Americanos de EE.UU. Nos enfocamos en datos mensuales. Se emplearán las siguiente variables en el análisis:\n",
    "\n",
    "- $\\nu_t$ precio de un T-Bill a un mes al comienzo del mes $t$.\n",
    "- $R_t$ tasa de interés nominal de un T-Bill a un mes durante un mes i.e. el retorno nominal del T-Bill en un mes $R_t = \\frac{1 - \\nu_t}{\\nu_t}$, entonces $\\nu_t = \\frac{1}{1 + R_t}$\n",
    "- $P_t$ valor del IPC en el mes $t$.\n",
    "- $\\pi_{t + 1}$ tasa de inflación en el mes $t$ $\\pi_{t + 1} = \\frac{P_{t + 1} - P_t}{P_t}$\n",
    "- $E_t[\\pi_{t + 1}]$ tasa de inflación esperada en el mes $t$. La expectativa se forma al inicio del mes $t$.\n",
    "- $\\eta_{t + 1}$ error en el pronóstico de la inflación $\\eta_{t + 1} = \\pi_{t + 1} - E_t[\\pi_{t + 1}]$\n",
    "- $r_{t + 1}$ tasa real dde interés ex-post en el mes $t$ $r_{t + 1} = \\frac{1 + R_t}{1 + \\pi_{t + 1}} - 1 \\approx R_t - \\pi_{t + 1}$\n",
    "- $E_t[r_{t + 1}]$ tasa de interés real ex-ante $E_t[r_{t + 1}] = \\frac{1 + R_t}{1 + E_t[\\pi_{t + 1}]} - 1 \\approx R_t - E_t[\\pi_{t + 1}]$."
   ]
  },
  {
   "cell_type": "markdown",
   "metadata": {},
   "source": [
    "La hipótesis de mercados eficientes es una hipótesis conjunta que consta de:\n",
    "\n",
    "1. **Expectativa Racionales** Las expectativas inflacionarias son racionales.\n",
    "2. **Tasas de interés real constantes** La tasa real ex-ante de interés es constante: $E_t[r_{t + 1}] = r$\n",
    "\n",
    "Estas hipótesis tienen tres implicaciones:\n",
    "\n",
    "1. $\\eta_{t + 1}$ es un proceso martingal en diferencias.\n",
    "2. La tasa de interés real ex-post tiene una constante y no está correlacionada serialmente. Esto lo podemos ver de lo siguiente:\n",
    "\n",
    "$$r_{t + 1} = R_t - \\pi_{t + 1}$$\n",
    "$$r_{t + 1} = (R_t - E_t[\\pi_{t + 1}]) - (\\pi_{t + 1} - E_t[\\pi_{t + 1}])$$\n",
    "$$r_{t + 1} = E_t[r_{t + 1}] - \\eta_{t + 1}$$\n",
    "$$r_{t + 1} = r - \\eta_{t + 1}$$\n",
    "\n",
    "3. El mejor predictor de la tasa de inflacion $\\pi_{t + 1}$ es la tasa de interés nominal de los T-Bill a un mes $R_t$. En otras palabras:\n",
    "\n",
    "$$\\pi_{t + 1} = -r + R_{t} + \\eta_{t + 1}$$\n",
    "\n",
    "Podemos verificar empíricamente las implicaciones 2 y 3. Empecemos verificando la no correlación serial de la tasa de interés real ex-post."
   ]
  },
  {
   "cell_type": "code",
   "execution_count": 8,
   "metadata": {},
   "outputs": [],
   "source": [
    "setwd(\"C:/Users/oscar/OneDrive/Escritorio/AST\")"
   ]
  },
  {
   "cell_type": "code",
   "execution_count": 9,
   "metadata": {},
   "outputs": [],
   "source": [
    "if (!file.exists(\"./Datos/mishkin.xls\")) {\n",
    "    url <- \"http://fhayashi.fc2web.com/hayashi%20econometrics/ch2/mishkin.xls\"\n",
    "    download.file(url, destfile = \"./Datos/mishkin.xls\", mode = \"wb\")\n",
    "}"
   ]
  },
  {
   "cell_type": "code",
   "execution_count": 10,
   "metadata": {},
   "outputs": [],
   "source": [
    "library(readxl)"
   ]
  },
  {
   "cell_type": "code",
   "execution_count": 11,
   "metadata": {},
   "outputs": [],
   "source": [
    "datos <- read_xls(\"./Datos/mishkin.xls\", sheet = 1, range = \"A1:G492\")"
   ]
  },
  {
   "cell_type": "code",
   "execution_count": 12,
   "metadata": {},
   "outputs": [
    {
     "data": {
      "text/html": [
       "<table>\n",
       "<caption>A tibble: 6 × 7</caption>\n",
       "<thead>\n",
       "\t<tr><th scope=col>YEAR</th><th scope=col>MONTH</th><th scope=col>PAI1</th><th scope=col>PAI3</th><th scope=col>TB1</th><th scope=col>TB3</th><th scope=col>CPI</th></tr>\n",
       "\t<tr><th scope=col>&lt;dbl&gt;</th><th scope=col>&lt;dbl&gt;</th><th scope=col>&lt;dbl&gt;</th><th scope=col>&lt;dbl&gt;</th><th scope=col>&lt;dbl&gt;</th><th scope=col>&lt;dbl&gt;</th><th scope=col>&lt;dbl&gt;</th></tr>\n",
       "</thead>\n",
       "<tbody>\n",
       "\t<tr><td>1950</td><td>2</td><td>-3.552289</td><td>1.129370</td><td>1.100854</td><td>1.129406</td><td>23.5</td></tr>\n",
       "\t<tr><td>1950</td><td>3</td><td> 5.247540</td><td>4.001566</td><td>1.125513</td><td>1.137254</td><td>23.6</td></tr>\n",
       "\t<tr><td>1950</td><td>4</td><td> 1.692860</td><td>4.492160</td><td>1.115715</td><td>1.142319</td><td>23.6</td></tr>\n",
       "\t<tr><td>1950</td><td>5</td><td> 5.064298</td><td>7.817513</td><td>1.146380</td><td>1.177902</td><td>23.7</td></tr>\n",
       "\t<tr><td>1950</td><td>6</td><td> 6.719322</td><td>9.433580</td><td>1.158520</td><td>1.167777</td><td>23.8</td></tr>\n",
       "\t<tr><td>1950</td><td>7</td><td>11.668920</td><td>9.976068</td><td>1.151104</td><td>1.167652</td><td>24.1</td></tr>\n",
       "</tbody>\n",
       "</table>\n"
      ],
      "text/latex": [
       "A tibble: 6 × 7\n",
       "\\begin{tabular}{lllllll}\n",
       " YEAR & MONTH & PAI1 & PAI3 & TB1 & TB3 & CPI\\\\\n",
       " <dbl> & <dbl> & <dbl> & <dbl> & <dbl> & <dbl> & <dbl>\\\\\n",
       "\\hline\n",
       "\t 1950 & 2 & -3.552289 & 1.129370 & 1.100854 & 1.129406 & 23.5\\\\\n",
       "\t 1950 & 3 &  5.247540 & 4.001566 & 1.125513 & 1.137254 & 23.6\\\\\n",
       "\t 1950 & 4 &  1.692860 & 4.492160 & 1.115715 & 1.142319 & 23.6\\\\\n",
       "\t 1950 & 5 &  5.064298 & 7.817513 & 1.146380 & 1.177902 & 23.7\\\\\n",
       "\t 1950 & 6 &  6.719322 & 9.433580 & 1.158520 & 1.167777 & 23.8\\\\\n",
       "\t 1950 & 7 & 11.668920 & 9.976068 & 1.151104 & 1.167652 & 24.1\\\\\n",
       "\\end{tabular}\n"
      ],
      "text/markdown": [
       "\n",
       "A tibble: 6 × 7\n",
       "\n",
       "| YEAR &lt;dbl&gt; | MONTH &lt;dbl&gt; | PAI1 &lt;dbl&gt; | PAI3 &lt;dbl&gt; | TB1 &lt;dbl&gt; | TB3 &lt;dbl&gt; | CPI &lt;dbl&gt; |\n",
       "|---|---|---|---|---|---|---|\n",
       "| 1950 | 2 | -3.552289 | 1.129370 | 1.100854 | 1.129406 | 23.5 |\n",
       "| 1950 | 3 |  5.247540 | 4.001566 | 1.125513 | 1.137254 | 23.6 |\n",
       "| 1950 | 4 |  1.692860 | 4.492160 | 1.115715 | 1.142319 | 23.6 |\n",
       "| 1950 | 5 |  5.064298 | 7.817513 | 1.146380 | 1.177902 | 23.7 |\n",
       "| 1950 | 6 |  6.719322 | 9.433580 | 1.158520 | 1.167777 | 23.8 |\n",
       "| 1950 | 7 | 11.668920 | 9.976068 | 1.151104 | 1.167652 | 24.1 |\n",
       "\n"
      ],
      "text/plain": [
       "  YEAR MONTH PAI1      PAI3     TB1      TB3      CPI \n",
       "1 1950 2     -3.552289 1.129370 1.100854 1.129406 23.5\n",
       "2 1950 3      5.247540 4.001566 1.125513 1.137254 23.6\n",
       "3 1950 4      1.692860 4.492160 1.115715 1.142319 23.6\n",
       "4 1950 5      5.064298 7.817513 1.146380 1.177902 23.7\n",
       "5 1950 6      6.719322 9.433580 1.158520 1.167777 23.8\n",
       "6 1950 7     11.668920 9.976068 1.151104 1.167652 24.1"
      ]
     },
     "metadata": {},
     "output_type": "display_data"
    }
   ],
   "source": [
    "head(datos)"
   ]
  },
  {
   "cell_type": "code",
   "execution_count": 13,
   "metadata": {},
   "outputs": [
    {
     "data": {
      "text/html": [
       "<table>\n",
       "<caption>A tibble: 6 × 7</caption>\n",
       "<thead>\n",
       "\t<tr><th scope=col>YEAR</th><th scope=col>MONTH</th><th scope=col>PAI1</th><th scope=col>PAI3</th><th scope=col>TB1</th><th scope=col>TB3</th><th scope=col>CPI</th></tr>\n",
       "\t<tr><th scope=col>&lt;dbl&gt;</th><th scope=col>&lt;dbl&gt;</th><th scope=col>&lt;dbl&gt;</th><th scope=col>&lt;dbl&gt;</th><th scope=col>&lt;dbl&gt;</th><th scope=col>&lt;dbl&gt;</th><th scope=col>&lt;dbl&gt;</th></tr>\n",
       "</thead>\n",
       "<tbody>\n",
       "\t<tr><td>1990</td><td> 7</td><td> 4.610040</td><td>8.530418</td><td>7.471030</td><td>7.913307</td><td>130.4</td></tr>\n",
       "\t<tr><td>1990</td><td> 8</td><td>10.992540</td><td>9.397943</td><td>7.468623</td><td>7.662047</td><td>131.6</td></tr>\n",
       "\t<tr><td>1990</td><td> 9</td><td> 9.988676</td><td>6.631662</td><td>7.438210</td><td>7.548033</td><td>132.7</td></tr>\n",
       "\t<tr><td>1990</td><td>10</td><td> 7.212614</td><td>3.302103</td><td>7.026882</td><td>7.293367</td><td>133.5</td></tr>\n",
       "\t<tr><td>1990</td><td>11</td><td> 2.693695</td><td>3.282396</td><td>6.626972</td><td>7.264110</td><td>133.8</td></tr>\n",
       "\t<tr><td>1990</td><td>12</td><td> 0.000000</td><td>2.978400</td><td>6.806508</td><td>7.167619</td><td>133.8</td></tr>\n",
       "</tbody>\n",
       "</table>\n"
      ],
      "text/latex": [
       "A tibble: 6 × 7\n",
       "\\begin{tabular}{lllllll}\n",
       " YEAR & MONTH & PAI1 & PAI3 & TB1 & TB3 & CPI\\\\\n",
       " <dbl> & <dbl> & <dbl> & <dbl> & <dbl> & <dbl> & <dbl>\\\\\n",
       "\\hline\n",
       "\t 1990 &  7 &  4.610040 & 8.530418 & 7.471030 & 7.913307 & 130.4\\\\\n",
       "\t 1990 &  8 & 10.992540 & 9.397943 & 7.468623 & 7.662047 & 131.6\\\\\n",
       "\t 1990 &  9 &  9.988676 & 6.631662 & 7.438210 & 7.548033 & 132.7\\\\\n",
       "\t 1990 & 10 &  7.212614 & 3.302103 & 7.026882 & 7.293367 & 133.5\\\\\n",
       "\t 1990 & 11 &  2.693695 & 3.282396 & 6.626972 & 7.264110 & 133.8\\\\\n",
       "\t 1990 & 12 &  0.000000 & 2.978400 & 6.806508 & 7.167619 & 133.8\\\\\n",
       "\\end{tabular}\n"
      ],
      "text/markdown": [
       "\n",
       "A tibble: 6 × 7\n",
       "\n",
       "| YEAR &lt;dbl&gt; | MONTH &lt;dbl&gt; | PAI1 &lt;dbl&gt; | PAI3 &lt;dbl&gt; | TB1 &lt;dbl&gt; | TB3 &lt;dbl&gt; | CPI &lt;dbl&gt; |\n",
       "|---|---|---|---|---|---|---|\n",
       "| 1990 |  7 |  4.610040 | 8.530418 | 7.471030 | 7.913307 | 130.4 |\n",
       "| 1990 |  8 | 10.992540 | 9.397943 | 7.468623 | 7.662047 | 131.6 |\n",
       "| 1990 |  9 |  9.988676 | 6.631662 | 7.438210 | 7.548033 | 132.7 |\n",
       "| 1990 | 10 |  7.212614 | 3.302103 | 7.026882 | 7.293367 | 133.5 |\n",
       "| 1990 | 11 |  2.693695 | 3.282396 | 6.626972 | 7.264110 | 133.8 |\n",
       "| 1990 | 12 |  0.000000 | 2.978400 | 6.806508 | 7.167619 | 133.8 |\n",
       "\n"
      ],
      "text/plain": [
       "  YEAR MONTH PAI1      PAI3     TB1      TB3      CPI  \n",
       "1 1990  7     4.610040 8.530418 7.471030 7.913307 130.4\n",
       "2 1990  8    10.992540 9.397943 7.468623 7.662047 131.6\n",
       "3 1990  9     9.988676 6.631662 7.438210 7.548033 132.7\n",
       "4 1990 10     7.212614 3.302103 7.026882 7.293367 133.5\n",
       "5 1990 11     2.693695 3.282396 6.626972 7.264110 133.8\n",
       "6 1990 12     0.000000 2.978400 6.806508 7.167619 133.8"
      ]
     },
     "metadata": {},
     "output_type": "display_data"
    }
   ],
   "source": [
    "tail(datos)"
   ]
  },
  {
   "cell_type": "code",
   "execution_count": 15,
   "metadata": {},
   "outputs": [],
   "source": [
    "datos$int_post <- (1 + datos$TB1 / 100) / (1 + datos$PAI1 / 100) - 1"
   ]
  },
  {
   "cell_type": "code",
   "execution_count": 35,
   "metadata": {},
   "outputs": [
    {
     "data": {
      "image/png": "[encoded data removed]",
      "text/plain": [
       "Plot with title \"ACF Tasa real de interés ex-post 1953 - 1971\""
      ]
     },
     "metadata": {
      "image/png": {
       "height": 420,
       "width": 420
      }
     },
     "output_type": "display_data"
    }
   ],
   "source": [
    "acf(datos$int_post[36:258], lag.max = 20, main = \"ACF Tasa real de interés ex-post 1953 - 1971\")"
   ]
  },
  {
   "cell_type": "code",
   "execution_count": 34,
   "metadata": {},
   "outputs": [
    {
     "name": "stdout",
     "output_type": "stream",
     "text": [
      "[1] 0.121283\n",
      "[1] 0.1368154\n",
      "[1] 0.113719\n",
      "[1] 0.2212373\n"
     ]
    }
   ],
   "source": [
    "for (i in c(5, 10 , 15 , 20)) {\n",
    "    port_test <- Box.test(datos$int_post[36:258], lag = i, type = \"Ljung-Box\")\n",
    "    print(port_test$p.value)\n",
    "}"
   ]
  },
  {
   "cell_type": "markdown",
   "metadata": {},
   "source": [
    "Entonces la tasa de interés real no está correlacionada serialmente. \n",
    "\n",
    "Para probar la segunda implicancia verificamos que efectivamente los regresores son ortogonales a los errores es decir: $E[\\eta_{t + 1}] = 0$ y $E[R_t \\eta_{t + 1}] = 0$. Asumiendo la estacionariedad conjunta de $\\pi_{t + 1}$ y $R_t$ podemos aplicar MCO."
   ]
  },
  {
   "cell_type": "code",
   "execution_count": 36,
   "metadata": {},
   "outputs": [],
   "source": [
    "mco_mod <- lm(PAI1 ~ TB1, data = datos)"
   ]
  },
  {
   "cell_type": "code",
   "execution_count": 37,
   "metadata": {},
   "outputs": [
    {
     "data": {
      "text/plain": [
       "\n",
       "z test of coefficients:\n",
       "\n",
       "            Estimate Std. Error z value  Pr(>|z|)    \n",
       "(Intercept)  0.86561    0.62197  1.3917     0.164    \n",
       "TB1          0.62832    0.11402  5.5107 3.574e-08 ***\n",
       "---\n",
       "Signif. codes:  0 '***' 0.001 '**' 0.01 '*' 0.05 '.' 0.1 ' ' 1\n"
      ]
     },
     "metadata": {},
     "output_type": "display_data"
    }
   ],
   "source": [
    "coeftest(mco_mod, df = Inf, vcov = vcovHAC(mco_mod))"
   ]
  },
  {
   "cell_type": "markdown",
   "metadata": {},
   "source": [
    "Se cumple casi a cabalidad la segunda implicación."
   ]
  },
  {
   "cell_type": "code",
   "execution_count": null,
   "metadata": {},
   "outputs": [],
   "source": []
  }
 ],
 "metadata": {
  "kernelspec": {
   "display_name": "R",
   "language": "R",
   "name": "ir"
  },
  "language_info": {
   "codemirror_mode": "r",
   "file_extension": ".r",
   "mimetype": "text/x-r-source",
   "name": "R",
   "pygments_lexer": "r",
   "version": "4.0.2"
  }
 },
 "nbformat": 4,
 "nbformat_minor": 4
}
